{
  "nbformat": 4,
  "nbformat_minor": 0,
  "metadata": {
    "colab": {
      "provenance": []
    },
    "kernelspec": {
      "name": "python3",
      "display_name": "Python 3"
    },
    "language_info": {
      "name": "python"
    }
  },
  "cells": [
    {
      "cell_type": "markdown",
      "source": [
        "## Week 1"
      ],
      "metadata": {
        "id": "tM30SiTriqgL"
      }
    },
    {
      "cell_type": "code",
      "execution_count": null,
      "metadata": {
        "id": "izLeun4J3vFY"
      },
      "outputs": [],
      "source": [
        "import nltk # impory NLTK library"
      ]
    },
    {
      "cell_type": "code",
      "source": [
        "nltk.download(\"book\") # Download the NLTK book collection"
      ],
      "metadata": {
        "colab": {
          "base_uri": "https://localhost:8080/"
        },
        "id": "t-1-Ri-O34e6",
        "outputId": "3ea02a97-152d-4c35-b56e-da841f8e7698"
      },
      "execution_count": null,
      "outputs": [
        {
          "output_type": "stream",
          "name": "stderr",
          "text": [
            "[nltk_data] Downloading collection 'book'\n",
            "[nltk_data]    | \n",
            "[nltk_data]    | Downloading package abc to /root/nltk_data...\n",
            "[nltk_data]    |   Unzipping corpora/abc.zip.\n",
            "[nltk_data]    | Downloading package brown to /root/nltk_data...\n",
            "[nltk_data]    |   Unzipping corpora/brown.zip.\n",
            "[nltk_data]    | Downloading package chat80 to /root/nltk_data...\n",
            "[nltk_data]    |   Unzipping corpora/chat80.zip.\n",
            "[nltk_data]    | Downloading package cmudict to /root/nltk_data...\n",
            "[nltk_data]    |   Unzipping corpora/cmudict.zip.\n",
            "[nltk_data]    | Downloading package conll2000 to /root/nltk_data...\n",
            "[nltk_data]    |   Unzipping corpora/conll2000.zip.\n",
            "[nltk_data]    | Downloading package conll2002 to /root/nltk_data...\n",
            "[nltk_data]    |   Unzipping corpora/conll2002.zip.\n",
            "[nltk_data]    | Downloading package dependency_treebank to\n",
            "[nltk_data]    |     /root/nltk_data...\n",
            "[nltk_data]    |   Unzipping corpora/dependency_treebank.zip.\n",
            "[nltk_data]    | Downloading package genesis to /root/nltk_data...\n",
            "[nltk_data]    |   Unzipping corpora/genesis.zip.\n",
            "[nltk_data]    | Downloading package gutenberg to /root/nltk_data...\n",
            "[nltk_data]    |   Unzipping corpora/gutenberg.zip.\n",
            "[nltk_data]    | Downloading package ieer to /root/nltk_data...\n",
            "[nltk_data]    |   Unzipping corpora/ieer.zip.\n",
            "[nltk_data]    | Downloading package inaugural to /root/nltk_data...\n",
            "[nltk_data]    |   Unzipping corpora/inaugural.zip.\n",
            "[nltk_data]    | Downloading package movie_reviews to\n",
            "[nltk_data]    |     /root/nltk_data...\n",
            "[nltk_data]    |   Unzipping corpora/movie_reviews.zip.\n",
            "[nltk_data]    | Downloading package nps_chat to /root/nltk_data...\n",
            "[nltk_data]    |   Unzipping corpora/nps_chat.zip.\n",
            "[nltk_data]    | Downloading package names to /root/nltk_data...\n",
            "[nltk_data]    |   Unzipping corpora/names.zip.\n",
            "[nltk_data]    | Downloading package ppattach to /root/nltk_data...\n",
            "[nltk_data]    |   Unzipping corpora/ppattach.zip.\n",
            "[nltk_data]    | Downloading package reuters to /root/nltk_data...\n",
            "[nltk_data]    | Downloading package senseval to /root/nltk_data...\n",
            "[nltk_data]    |   Unzipping corpora/senseval.zip.\n",
            "[nltk_data]    | Downloading package state_union to /root/nltk_data...\n",
            "[nltk_data]    |   Unzipping corpora/state_union.zip.\n",
            "[nltk_data]    | Downloading package stopwords to /root/nltk_data...\n",
            "[nltk_data]    |   Unzipping corpora/stopwords.zip.\n",
            "[nltk_data]    | Downloading package swadesh to /root/nltk_data...\n",
            "[nltk_data]    |   Unzipping corpora/swadesh.zip.\n",
            "[nltk_data]    | Downloading package timit to /root/nltk_data...\n",
            "[nltk_data]    |   Unzipping corpora/timit.zip.\n",
            "[nltk_data]    | Downloading package treebank to /root/nltk_data...\n",
            "[nltk_data]    |   Unzipping corpora/treebank.zip.\n",
            "[nltk_data]    | Downloading package toolbox to /root/nltk_data...\n",
            "[nltk_data]    |   Unzipping corpora/toolbox.zip.\n",
            "[nltk_data]    | Downloading package udhr to /root/nltk_data...\n",
            "[nltk_data]    |   Unzipping corpora/udhr.zip.\n",
            "[nltk_data]    | Downloading package udhr2 to /root/nltk_data...\n",
            "[nltk_data]    |   Unzipping corpora/udhr2.zip.\n",
            "[nltk_data]    | Downloading package unicode_samples to\n",
            "[nltk_data]    |     /root/nltk_data...\n",
            "[nltk_data]    |   Unzipping corpora/unicode_samples.zip.\n",
            "[nltk_data]    | Downloading package webtext to /root/nltk_data...\n",
            "[nltk_data]    |   Unzipping corpora/webtext.zip.\n",
            "[nltk_data]    | Downloading package wordnet to /root/nltk_data...\n",
            "[nltk_data]    | Downloading package wordnet_ic to /root/nltk_data...\n",
            "[nltk_data]    |   Unzipping corpora/wordnet_ic.zip.\n",
            "[nltk_data]    | Downloading package words to /root/nltk_data...\n",
            "[nltk_data]    |   Unzipping corpora/words.zip.\n",
            "[nltk_data]    | Downloading package maxent_treebank_pos_tagger to\n",
            "[nltk_data]    |     /root/nltk_data...\n",
            "[nltk_data]    |   Unzipping taggers/maxent_treebank_pos_tagger.zip.\n",
            "[nltk_data]    | Downloading package maxent_ne_chunker to\n",
            "[nltk_data]    |     /root/nltk_data...\n",
            "[nltk_data]    |   Unzipping chunkers/maxent_ne_chunker.zip.\n",
            "[nltk_data]    | Downloading package universal_tagset to\n",
            "[nltk_data]    |     /root/nltk_data...\n",
            "[nltk_data]    |   Unzipping taggers/universal_tagset.zip.\n",
            "[nltk_data]    | Downloading package punkt to /root/nltk_data...\n",
            "[nltk_data]    |   Unzipping tokenizers/punkt.zip.\n",
            "[nltk_data]    | Downloading package book_grammars to\n",
            "[nltk_data]    |     /root/nltk_data...\n",
            "[nltk_data]    |   Unzipping grammars/book_grammars.zip.\n",
            "[nltk_data]    | Downloading package city_database to\n",
            "[nltk_data]    |     /root/nltk_data...\n",
            "[nltk_data]    |   Unzipping corpora/city_database.zip.\n",
            "[nltk_data]    | Downloading package tagsets to /root/nltk_data...\n",
            "[nltk_data]    |   Unzipping help/tagsets.zip.\n",
            "[nltk_data]    | Downloading package panlex_swadesh to\n",
            "[nltk_data]    |     /root/nltk_data...\n",
            "[nltk_data]    | Downloading package averaged_perceptron_tagger to\n",
            "[nltk_data]    |     /root/nltk_data...\n",
            "[nltk_data]    |   Unzipping taggers/averaged_perceptron_tagger.zip.\n",
            "[nltk_data]    | \n",
            "[nltk_data]  Done downloading collection book\n"
          ]
        },
        {
          "output_type": "execute_result",
          "data": {
            "text/plain": [
              "True"
            ]
          },
          "metadata": {},
          "execution_count": 2
        }
      ]
    },
    {
      "cell_type": "code",
      "source": [
        "from nltk.book import * # This command imlies \"from NLTK's book module. load all items\"\n",
        "                        # You will see the list of books you downloaded."
      ],
      "metadata": {
        "colab": {
          "base_uri": "https://localhost:8080/"
        },
        "id": "Z3Sq9NCg391H",
        "outputId": "9ec89cfa-84e9-4356-88f9-d4557adc87b4"
      },
      "execution_count": null,
      "outputs": [
        {
          "output_type": "stream",
          "name": "stdout",
          "text": [
            "*** Introductory Examples for the NLTK Book ***\n",
            "Loading text1, ..., text9 and sent1, ..., sent9\n",
            "Type the name of the text or sentence to view it.\n",
            "Type: 'texts()' or 'sents()' to list the materials.\n",
            "text1: Moby Dick by Herman Melville 1851\n",
            "text2: Sense and Sensibility by Jane Austen 1811\n",
            "text3: The Book of Genesis\n",
            "text4: Inaugural Address Corpus\n",
            "text5: Chat Corpus\n",
            "text6: Monty Python and the Holy Grail\n",
            "text7: Wall Street Journal\n",
            "text8: Personals Corpus\n",
            "text9: The Man Who Was Thursday by G . K . Chesterton 1908\n"
          ]
        }
      ]
    },
    {
      "cell_type": "code",
      "source": [
        "text1 # print text1's title"
      ],
      "metadata": {
        "colab": {
          "base_uri": "https://localhost:8080/"
        },
        "id": "Jr6dYJsT4Qz5",
        "outputId": "7a9ffe56-929f-462e-a418-fce7fb26aaa6"
      },
      "execution_count": null,
      "outputs": [
        {
          "output_type": "execute_result",
          "data": {
            "text/plain": [
              "<Text: Moby Dick by Herman Melville 1851>"
            ]
          },
          "metadata": {},
          "execution_count": 4
        }
      ]
    },
    {
      "cell_type": "code",
      "source": [
        "text2 # print text2's title"
      ],
      "metadata": {
        "colab": {
          "base_uri": "https://localhost:8080/"
        },
        "id": "XPX0gUlc4Wbe",
        "outputId": "d393faa6-16f4-4f12-90c0-f4c5f2ebee23"
      },
      "execution_count": null,
      "outputs": [
        {
          "output_type": "execute_result",
          "data": {
            "text/plain": [
              "<Text: Sense and Sensibility by Jane Austen 1811>"
            ]
          },
          "metadata": {},
          "execution_count": 5
        }
      ]
    },
    {
      "cell_type": "code",
      "source": [
        "text1.concordance(\"monstrous\") # Display all occurance of \"monstrous\""
      ],
      "metadata": {
        "colab": {
          "base_uri": "https://localhost:8080/"
        },
        "id": "sSl1GrQ74YK6",
        "outputId": "03933471-9ada-4f86-a52f-8a591f686952"
      },
      "execution_count": null,
      "outputs": [
        {
          "output_type": "stream",
          "name": "stdout",
          "text": [
            "Displaying 11 of 11 matches:\n",
            "ong the former , one was of a most monstrous size . ... This came towards us , \n",
            "ON OF THE PSALMS . \" Touching that monstrous bulk of the whale or ork we have r\n",
            "ll over with a heathenish array of monstrous clubs and spears . Some were thick\n",
            "d as you gazed , and wondered what monstrous cannibal and savage could ever hav\n",
            "that has survived the flood ; most monstrous and most mountainous ! That Himmal\n",
            "they might scout at Moby Dick as a monstrous fable , or still worse and more de\n",
            "th of Radney .'\" CHAPTER 55 Of the Monstrous Pictures of Whales . I shall ere l\n",
            "ing Scenes . In connexion with the monstrous pictures of whales , I am strongly\n",
            "ere to enter upon those still more monstrous stories of them which are to be fo\n",
            "ght have been rummaged out of this monstrous cabinet there is no telling . But \n",
            "of Whale - Bones ; for Whales of a monstrous size are oftentimes cast up dead u\n"
          ]
        }
      ]
    },
    {
      "cell_type": "code",
      "source": [
        "text1.similar(\"monstrous\") # Find similar words with \"monstrous\" in terms of the context in text1."
      ],
      "metadata": {
        "colab": {
          "base_uri": "https://localhost:8080/"
        },
        "id": "OapOmtq94m_r",
        "outputId": "a998cff9-db97-48d7-ac31-2f6992127e66"
      },
      "execution_count": null,
      "outputs": [
        {
          "output_type": "stream",
          "name": "stdout",
          "text": [
            "true contemptible christian abundant few part mean careful puzzled\n",
            "mystifying passing curious loving wise doleful gamesome singular\n",
            "delightfully perilous fearless\n"
          ]
        }
      ]
    },
    {
      "cell_type": "code",
      "source": [
        "text2.common_contexts([\"monstrous\",\"very\"]) # Two words used in similar context in text2"
      ],
      "metadata": {
        "colab": {
          "base_uri": "https://localhost:8080/"
        },
        "id": "Cq65Fsqa5Ddm",
        "outputId": "efe8c685-58cf-42d9-ff62-2c098a8fa6a9"
      },
      "execution_count": null,
      "outputs": [
        {
          "output_type": "stream",
          "name": "stdout",
          "text": [
            "am_glad a_pretty a_lucky is_pretty be_glad\n"
          ]
        }
      ]
    },
    {
      "cell_type": "code",
      "source": [
        "text4.dispersion_plot([\"citizens\", \"democracy\", \"freedom\", \"duties\", \"America\"]) # Plot \"dispersion plot\"\n",
        "# Dispersion plot illustrate an instance of each word on the Y-axis"
      ],
      "metadata": {
        "colab": {
          "base_uri": "https://localhost:8080/",
          "height": 295
        },
        "id": "OHFU_Lke4xod",
        "outputId": "ee3e5959-3d3f-4a0e-9e2a-a6234f47e717"
      },
      "execution_count": null,
      "outputs": [
        {
          "output_type": "display_data",
          "data": {
            "text/plain": [
              "<Figure size 432x288 with 1 Axes>"
            ],
            "image/png": "[encoded data removed]"
          },
          "metadata": {
            "needs_background": "light"
          }
        }
      ]
    },
    {
      "cell_type": "code",
      "source": [
        "# Counting Vocabulary"
      ],
      "metadata": {
        "id": "SY-TjOHj5g8u"
      },
      "execution_count": null,
      "outputs": []
    },
    {
      "cell_type": "code",
      "source": [
        "len(text3) # length of text3"
      ],
      "metadata": {
        "colab": {
          "base_uri": "https://localhost:8080/"
        },
        "id": "mNQZlp7Q5z2m",
        "outputId": "77f72d98-b1ff-4b5a-a24c-a7e6a29c6146"
      },
      "execution_count": null,
      "outputs": [
        {
          "output_type": "execute_result",
          "data": {
            "text/plain": [
              "44764"
            ]
          },
          "metadata": {},
          "execution_count": 11
        }
      ]
    },
    {
      "cell_type": "code",
      "source": [
        "sorted(set(text3)) # set: remove duplicates, soted: sort in ascending order"
      ],
      "metadata": {
        "colab": {
          "base_uri": "https://localhost:8080/"
        },
        "id": "NFxvsFyo537z",
        "outputId": "26470989-fd99-4964-cd82-90b01f41aa9d"
      },
      "execution_count": null,
      "outputs": [
        {
          "output_type": "execute_result",
          "data": {
            "text/plain": [
              "['!',\n",
              " \"'\",\n",
              " '(',\n",
              " ')',\n",
              " ',',\n",
              " ',)',\n",
              " '.',\n",
              " '.)',\n",
              " ':',\n",
              " ';',\n",
              " ';)',\n",
              " '?',\n",
              " '?)',\n",
              " 'A',\n",
              " 'Abel',\n",
              " 'Abelmizraim',\n",
              " 'Abidah',\n",
              " 'Abide',\n",
              " 'Abimael',\n",
              " 'Abimelech',\n",
              " 'Abr',\n",
              " 'Abrah',\n",
              " 'Abraham',\n",
              " 'Abram',\n",
              " 'Accad',\n",
              " 'Achbor',\n",
              " 'Adah',\n",
              " 'Adam',\n",
              " 'Adbeel',\n",
              " 'Admah',\n",
              " 'Adullamite',\n",
              " 'After',\n",
              " 'Aholibamah',\n",
              " 'Ahuzzath',\n",
              " 'Ajah',\n",
              " 'Akan',\n",
              " 'All',\n",
              " 'Allonbachuth',\n",
              " 'Almighty',\n",
              " 'Almodad',\n",
              " 'Also',\n",
              " 'Alvah',\n",
              " 'Alvan',\n",
              " 'Am',\n",
              " 'Amal',\n",
              " 'Amalek',\n",
              " 'Amalekites',\n",
              " 'Ammon',\n",
              " 'Amorite',\n",
              " 'Amorites',\n",
              " 'Amraphel',\n",
              " 'An',\n",
              " 'Anah',\n",
              " 'Anamim',\n",
              " 'And',\n",
              " 'Aner',\n",
              " 'Angel',\n",
              " 'Appoint',\n",
              " 'Aram',\n",
              " 'Aran',\n",
              " 'Ararat',\n",
              " 'Arbah',\n",
              " 'Ard',\n",
              " 'Are',\n",
              " 'Areli',\n",
              " 'Arioch',\n",
              " 'Arise',\n",
              " 'Arkite',\n",
              " 'Arodi',\n",
              " 'Arphaxad',\n",
              " 'Art',\n",
              " 'Arvadite',\n",
              " 'As',\n",
              " 'Asenath',\n",
              " 'Ashbel',\n",
              " 'Asher',\n",
              " 'Ashkenaz',\n",
              " 'Ashteroth',\n",
              " 'Ask',\n",
              " 'Asshur',\n",
              " 'Asshurim',\n",
              " 'Assyr',\n",
              " 'Assyria',\n",
              " 'At',\n",
              " 'Atad',\n",
              " 'Avith',\n",
              " 'Baalhanan',\n",
              " 'Babel',\n",
              " 'Bashemath',\n",
              " 'Be',\n",
              " 'Because',\n",
              " 'Becher',\n",
              " 'Bedad',\n",
              " 'Beeri',\n",
              " 'Beerlahairoi',\n",
              " 'Beersheba',\n",
              " 'Behold',\n",
              " 'Bela',\n",
              " 'Belah',\n",
              " 'Benam',\n",
              " 'Benjamin',\n",
              " 'Beno',\n",
              " 'Beor',\n",
              " 'Bera',\n",
              " 'Bered',\n",
              " 'Beriah',\n",
              " 'Bethel',\n",
              " 'Bethlehem',\n",
              " 'Bethuel',\n",
              " 'Beware',\n",
              " 'Bilhah',\n",
              " 'Bilhan',\n",
              " 'Binding',\n",
              " 'Birsha',\n",
              " 'Bless',\n",
              " 'Blessed',\n",
              " 'Both',\n",
              " 'Bow',\n",
              " 'Bozrah',\n",
              " 'Bring',\n",
              " 'But',\n",
              " 'Buz',\n",
              " 'By',\n",
              " 'Cain',\n",
              " 'Cainan',\n",
              " 'Calah',\n",
              " 'Calneh',\n",
              " 'Can',\n",
              " 'Cana',\n",
              " 'Canaan',\n",
              " 'Canaanite',\n",
              " 'Canaanites',\n",
              " 'Canaanitish',\n",
              " 'Caphtorim',\n",
              " 'Carmi',\n",
              " 'Casluhim',\n",
              " 'Cast',\n",
              " 'Cause',\n",
              " 'Chaldees',\n",
              " 'Chedorlaomer',\n",
              " 'Cheran',\n",
              " 'Cherubims',\n",
              " 'Chesed',\n",
              " 'Chezib',\n",
              " 'Come',\n",
              " 'Cursed',\n",
              " 'Cush',\n",
              " 'Damascus',\n",
              " 'Dan',\n",
              " 'Day',\n",
              " 'Deborah',\n",
              " 'Dedan',\n",
              " 'Deliver',\n",
              " 'Diklah',\n",
              " 'Din',\n",
              " 'Dinah',\n",
              " 'Dinhabah',\n",
              " 'Discern',\n",
              " 'Dishan',\n",
              " 'Dishon',\n",
              " 'Do',\n",
              " 'Dodanim',\n",
              " 'Dothan',\n",
              " 'Drink',\n",
              " 'Duke',\n",
              " 'Dumah',\n",
              " 'Earth',\n",
              " 'Ebal',\n",
              " 'Eber',\n",
              " 'Edar',\n",
              " 'Eden',\n",
              " 'Edom',\n",
              " 'Edomites',\n",
              " 'Egy',\n",
              " 'Egypt',\n",
              " 'Egyptia',\n",
              " 'Egyptian',\n",
              " 'Egyptians',\n",
              " 'Ehi',\n",
              " 'Elah',\n",
              " 'Elam',\n",
              " 'Elbethel',\n",
              " 'Eldaah',\n",
              " 'EleloheIsrael',\n",
              " 'Eliezer',\n",
              " 'Eliphaz',\n",
              " 'Elishah',\n",
              " 'Ellasar',\n",
              " 'Elon',\n",
              " 'Elparan',\n",
              " 'Emins',\n",
              " 'En',\n",
              " 'Enmishpat',\n",
              " 'Eno',\n",
              " 'Enoch',\n",
              " 'Enos',\n",
              " 'Ephah',\n",
              " 'Epher',\n",
              " 'Ephra',\n",
              " 'Ephraim',\n",
              " 'Ephrath',\n",
              " 'Ephron',\n",
              " 'Er',\n",
              " 'Erech',\n",
              " 'Eri',\n",
              " 'Es',\n",
              " 'Esau',\n",
              " 'Escape',\n",
              " 'Esek',\n",
              " 'Eshban',\n",
              " 'Eshcol',\n",
              " 'Ethiopia',\n",
              " 'Euphrat',\n",
              " 'Euphrates',\n",
              " 'Eve',\n",
              " 'Even',\n",
              " 'Every',\n",
              " 'Except',\n",
              " 'Ezbon',\n",
              " 'Ezer',\n",
              " 'Fear',\n",
              " 'Feed',\n",
              " 'Fifteen',\n",
              " 'Fill',\n",
              " 'For',\n",
              " 'Forasmuch',\n",
              " 'Forgive',\n",
              " 'From',\n",
              " 'Fulfil',\n",
              " 'G',\n",
              " 'Gad',\n",
              " 'Gaham',\n",
              " 'Galeed',\n",
              " 'Gatam',\n",
              " 'Gather',\n",
              " 'Gaza',\n",
              " 'Gentiles',\n",
              " 'Gera',\n",
              " 'Gerar',\n",
              " 'Gershon',\n",
              " 'Get',\n",
              " 'Gether',\n",
              " 'Gihon',\n",
              " 'Gilead',\n",
              " 'Girgashites',\n",
              " 'Girgasite',\n",
              " 'Give',\n",
              " 'Go',\n",
              " 'God',\n",
              " 'Gomer',\n",
              " 'Gomorrah',\n",
              " 'Goshen',\n",
              " 'Guni',\n",
              " 'Hadad',\n",
              " 'Hadar',\n",
              " 'Hadoram',\n",
              " 'Hagar',\n",
              " 'Haggi',\n",
              " 'Hai',\n",
              " 'Ham',\n",
              " 'Hamathite',\n",
              " 'Hamor',\n",
              " 'Hamul',\n",
              " 'Hanoch',\n",
              " 'Happy',\n",
              " 'Haran',\n",
              " 'Hast',\n",
              " 'Haste',\n",
              " 'Have',\n",
              " 'Havilah',\n",
              " 'Hazarmaveth',\n",
              " 'Hazezontamar',\n",
              " 'Hazo',\n",
              " 'He',\n",
              " 'Hear',\n",
              " 'Heaven',\n",
              " 'Heber',\n",
              " 'Hebrew',\n",
              " 'Hebrews',\n",
              " 'Hebron',\n",
              " 'Hemam',\n",
              " 'Hemdan',\n",
              " 'Here',\n",
              " 'Hereby',\n",
              " 'Heth',\n",
              " 'Hezron',\n",
              " 'Hiddekel',\n",
              " 'Hinder',\n",
              " 'Hirah',\n",
              " 'His',\n",
              " 'Hitti',\n",
              " 'Hittite',\n",
              " 'Hittites',\n",
              " 'Hivite',\n",
              " 'Hobah',\n",
              " 'Hori',\n",
              " 'Horite',\n",
              " 'Horites',\n",
              " 'How',\n",
              " 'Hul',\n",
              " 'Huppim',\n",
              " 'Husham',\n",
              " 'Hushim',\n",
              " 'Huz',\n",
              " 'I',\n",
              " 'If',\n",
              " 'In',\n",
              " 'Irad',\n",
              " 'Iram',\n",
              " 'Is',\n",
              " 'Isa',\n",
              " 'Isaac',\n",
              " 'Iscah',\n",
              " 'Ishbak',\n",
              " 'Ishmael',\n",
              " 'Ishmeelites',\n",
              " 'Ishuah',\n",
              " 'Isra',\n",
              " 'Israel',\n",
              " 'Issachar',\n",
              " 'Isui',\n",
              " 'It',\n",
              " 'Ithran',\n",
              " 'Jaalam',\n",
              " 'Jabal',\n",
              " 'Jabbok',\n",
              " 'Jac',\n",
              " 'Jachin',\n",
              " 'Jacob',\n",
              " 'Jahleel',\n",
              " 'Jahzeel',\n",
              " 'Jamin',\n",
              " 'Japhe',\n",
              " 'Japheth',\n",
              " 'Jared',\n",
              " 'Javan',\n",
              " 'Jebusite',\n",
              " 'Jebusites',\n",
              " 'Jegarsahadutha',\n",
              " 'Jehovahjireh',\n",
              " 'Jemuel',\n",
              " 'Jerah',\n",
              " 'Jetheth',\n",
              " 'Jetur',\n",
              " 'Jeush',\n",
              " 'Jezer',\n",
              " 'Jidlaph',\n",
              " 'Jimnah',\n",
              " 'Job',\n",
              " 'Jobab',\n",
              " 'Jokshan',\n",
              " 'Joktan',\n",
              " 'Jordan',\n",
              " 'Joseph',\n",
              " 'Jubal',\n",
              " 'Judah',\n",
              " 'Judge',\n",
              " 'Judith',\n",
              " 'Kadesh',\n",
              " 'Kadmonites',\n",
              " 'Karnaim',\n",
              " 'Kedar',\n",
              " 'Kedemah',\n",
              " 'Kemuel',\n",
              " 'Kenaz',\n",
              " 'Kenites',\n",
              " 'Kenizzites',\n",
              " 'Keturah',\n",
              " 'Kiriathaim',\n",
              " 'Kirjatharba',\n",
              " 'Kittim',\n",
              " 'Know',\n",
              " 'Kohath',\n",
              " 'Kor',\n",
              " 'Korah',\n",
              " 'LO',\n",
              " 'LORD',\n",
              " 'Laban',\n",
              " 'Lahairoi',\n",
              " 'Lamech',\n",
              " 'Lasha',\n",
              " 'Lay',\n",
              " 'Leah',\n",
              " 'Lehabim',\n",
              " 'Lest',\n",
              " 'Let',\n",
              " 'Letushim',\n",
              " 'Leummim',\n",
              " 'Levi',\n",
              " 'Lie',\n",
              " 'Lift',\n",
              " 'Lo',\n",
              " 'Look',\n",
              " 'Lot',\n",
              " 'Lotan',\n",
              " 'Lud',\n",
              " 'Ludim',\n",
              " 'Luz',\n",
              " 'Maachah',\n",
              " 'Machir',\n",
              " 'Machpelah',\n",
              " 'Madai',\n",
              " 'Magdiel',\n",
              " 'Magog',\n",
              " 'Mahalaleel',\n",
              " 'Mahalath',\n",
              " 'Mahanaim',\n",
              " 'Make',\n",
              " 'Malchiel',\n",
              " 'Male',\n",
              " 'Mam',\n",
              " 'Mamre',\n",
              " 'Man',\n",
              " 'Manahath',\n",
              " 'Manass',\n",
              " 'Manasseh',\n",
              " 'Mash',\n",
              " 'Masrekah',\n",
              " 'Massa',\n",
              " 'Matred',\n",
              " 'Me',\n",
              " 'Medan',\n",
              " 'Mehetabel',\n",
              " 'Mehujael',\n",
              " 'Melchizedek',\n",
              " 'Merari',\n",
              " 'Mesha',\n",
              " 'Meshech',\n",
              " 'Mesopotamia',\n",
              " 'Methusa',\n",
              " 'Methusael',\n",
              " 'Methuselah',\n",
              " 'Mezahab',\n",
              " 'Mibsam',\n",
              " 'Mibzar',\n",
              " 'Midian',\n",
              " 'Midianites',\n",
              " 'Milcah',\n",
              " 'Mishma',\n",
              " 'Mizpah',\n",
              " 'Mizraim',\n",
              " 'Mizz',\n",
              " 'Moab',\n",
              " 'Moabites',\n",
              " 'Moreh',\n",
              " 'Moreover',\n",
              " 'Moriah',\n",
              " 'Muppim',\n",
              " 'My',\n",
              " 'Naamah',\n",
              " 'Naaman',\n",
              " 'Nahath',\n",
              " 'Nahor',\n",
              " 'Naphish',\n",
              " 'Naphtali',\n",
              " 'Naphtuhim',\n",
              " 'Nay',\n",
              " 'Nebajoth',\n",
              " 'Neither',\n",
              " 'Night',\n",
              " 'Nimrod',\n",
              " 'Nineveh',\n",
              " 'Noah',\n",
              " 'Nod',\n",
              " 'Not',\n",
              " 'Now',\n",
              " 'O',\n",
              " 'Obal',\n",
              " 'Of',\n",
              " 'Oh',\n",
              " 'Ohad',\n",
              " 'Omar',\n",
              " 'On',\n",
              " 'Onam',\n",
              " 'Onan',\n",
              " 'Only',\n",
              " 'Ophir',\n",
              " 'Our',\n",
              " 'Out',\n",
              " 'Padan',\n",
              " 'Padanaram',\n",
              " 'Paran',\n",
              " 'Pass',\n",
              " 'Pathrusim',\n",
              " 'Pau',\n",
              " 'Peace',\n",
              " 'Peleg',\n",
              " 'Peniel',\n",
              " 'Penuel',\n",
              " 'Peradventure',\n",
              " 'Perizzit',\n",
              " 'Perizzite',\n",
              " 'Perizzites',\n",
              " 'Phallu',\n",
              " 'Phara',\n",
              " 'Pharaoh',\n",
              " 'Pharez',\n",
              " 'Phichol',\n",
              " 'Philistim',\n",
              " 'Philistines',\n",
              " 'Phut',\n",
              " 'Phuvah',\n",
              " 'Pildash',\n",
              " 'Pinon',\n",
              " 'Pison',\n",
              " 'Potiphar',\n",
              " 'Potipherah',\n",
              " 'Put',\n",
              " 'Raamah',\n",
              " 'Rachel',\n",
              " 'Rameses',\n",
              " 'Rebek',\n",
              " 'Rebekah',\n",
              " 'Rehoboth',\n",
              " 'Remain',\n",
              " 'Rephaims',\n",
              " 'Resen',\n",
              " 'Return',\n",
              " 'Reu',\n",
              " 'Reub',\n",
              " 'Reuben',\n",
              " 'Reuel',\n",
              " 'Reumah',\n",
              " 'Riphath',\n",
              " 'Rosh',\n",
              " 'Sabtah',\n",
              " 'Sabtech',\n",
              " 'Said',\n",
              " 'Salah',\n",
              " 'Salem',\n",
              " 'Samlah',\n",
              " 'Sarah',\n",
              " 'Sarai',\n",
              " 'Saul',\n",
              " 'Save',\n",
              " 'Say',\n",
              " 'Se',\n",
              " 'Seba',\n",
              " 'See',\n",
              " 'Seeing',\n",
              " 'Seir',\n",
              " 'Sell',\n",
              " 'Send',\n",
              " 'Sephar',\n",
              " 'Serah',\n",
              " 'Sered',\n",
              " 'Serug',\n",
              " 'Set',\n",
              " 'Seth',\n",
              " 'Shalem',\n",
              " 'Shall',\n",
              " 'Shalt',\n",
              " 'Shammah',\n",
              " 'Shaul',\n",
              " 'Shaveh',\n",
              " 'She',\n",
              " 'Sheba',\n",
              " 'Shebah',\n",
              " 'Shechem',\n",
              " 'Shed',\n",
              " 'Shel',\n",
              " 'Shelah',\n",
              " 'Sheleph',\n",
              " 'Shem',\n",
              " 'Shemeber',\n",
              " 'Shepho',\n",
              " 'Shillem',\n",
              " 'Shiloh',\n",
              " 'Shimron',\n",
              " 'Shinab',\n",
              " 'Shinar',\n",
              " 'Shobal',\n",
              " 'Should',\n",
              " 'Shuah',\n",
              " 'Shuni',\n",
              " 'Shur',\n",
              " 'Sichem',\n",
              " 'Siddim',\n",
              " 'Sidon',\n",
              " 'Simeon',\n",
              " 'Sinite',\n",
              " 'Sitnah',\n",
              " 'Slay',\n",
              " 'So',\n",
              " 'Sod',\n",
              " 'Sodom',\n",
              " 'Sojourn',\n",
              " 'Some',\n",
              " 'Spake',\n",
              " 'Speak',\n",
              " 'Spirit',\n",
              " 'Stand',\n",
              " 'Succoth',\n",
              " 'Surely',\n",
              " 'Swear',\n",
              " 'Syrian',\n",
              " 'Take',\n",
              " 'Tamar',\n",
              " 'Tarshish',\n",
              " 'Tebah',\n",
              " 'Tell',\n",
              " 'Tema',\n",
              " 'Teman',\n",
              " 'Temani',\n",
              " 'Terah',\n",
              " 'Thahash',\n",
              " 'That',\n",
              " 'The',\n",
              " 'Then',\n",
              " 'There',\n",
              " 'Therefore',\n",
              " 'These',\n",
              " 'They',\n",
              " 'Thirty',\n",
              " 'This',\n",
              " 'Thorns',\n",
              " 'Thou',\n",
              " 'Thus',\n",
              " 'Thy',\n",
              " 'Tidal',\n",
              " 'Timna',\n",
              " 'Timnah',\n",
              " 'Timnath',\n",
              " 'Tiras',\n",
              " 'To',\n",
              " 'Togarmah',\n",
              " 'Tola',\n",
              " 'Tubal',\n",
              " 'Tubalcain',\n",
              " 'Twelve',\n",
              " 'Two',\n",
              " 'Unstable',\n",
              " 'Until',\n",
              " 'Unto',\n",
              " 'Up',\n",
              " 'Upon',\n",
              " 'Ur',\n",
              " 'Uz',\n",
              " 'Uzal',\n",
              " 'We',\n",
              " 'What',\n",
              " 'When',\n",
              " 'Whence',\n",
              " 'Where',\n",
              " 'Whereas',\n",
              " 'Wherefore',\n",
              " 'Which',\n",
              " 'While',\n",
              " 'Who',\n",
              " 'Whose',\n",
              " 'Whoso',\n",
              " 'Why',\n",
              " 'Wilt',\n",
              " 'With',\n",
              " 'Woman',\n",
              " 'Ye',\n",
              " 'Yea',\n",
              " 'Yet',\n",
              " 'Zaavan',\n",
              " 'Zaphnathpaaneah',\n",
              " 'Zar',\n",
              " 'Zarah',\n",
              " 'Zeboiim',\n",
              " 'Zeboim',\n",
              " 'Zebul',\n",
              " 'Zebulun',\n",
              " 'Zemarite',\n",
              " 'Zepho',\n",
              " 'Zerah',\n",
              " 'Zibeon',\n",
              " 'Zidon',\n",
              " 'Zillah',\n",
              " 'Zilpah',\n",
              " 'Zimran',\n",
              " 'Ziphion',\n",
              " 'Zo',\n",
              " 'Zoar',\n",
              " 'Zohar',\n",
              " 'Zuzims',\n",
              " 'a',\n",
              " 'abated',\n",
              " 'abide',\n",
              " 'able',\n",
              " 'abode',\n",
              " 'abomination',\n",
              " 'about',\n",
              " 'above',\n",
              " 'abroad',\n",
              " 'absent',\n",
              " 'abundantly',\n",
              " 'accept',\n",
              " 'accepted',\n",
              " 'according',\n",
              " 'acknowledged',\n",
              " 'activity',\n",
              " 'add',\n",
              " 'adder',\n",
              " 'afar',\n",
              " 'afflict',\n",
              " 'affliction',\n",
              " 'afraid',\n",
              " 'after',\n",
              " 'afterward',\n",
              " 'afterwards',\n",
              " 'aga',\n",
              " 'again',\n",
              " 'against',\n",
              " 'age',\n",
              " 'aileth',\n",
              " 'air',\n",
              " 'al',\n",
              " 'alive',\n",
              " 'all',\n",
              " 'almon',\n",
              " 'alo',\n",
              " 'alone',\n",
              " 'aloud',\n",
              " 'also',\n",
              " 'altar',\n",
              " 'altogether',\n",
              " 'always',\n",
              " 'am',\n",
              " 'among',\n",
              " 'amongst',\n",
              " 'an',\n",
              " 'and',\n",
              " 'angel',\n",
              " 'angels',\n",
              " 'anger',\n",
              " 'angry',\n",
              " 'anguish',\n",
              " 'anointedst',\n",
              " 'anoth',\n",
              " 'another',\n",
              " 'answer',\n",
              " 'answered',\n",
              " 'any',\n",
              " 'anything',\n",
              " 'appe',\n",
              " 'appear',\n",
              " 'appeared',\n",
              " 'appease',\n",
              " 'appoint',\n",
              " 'appointed',\n",
              " 'aprons',\n",
              " 'archer',\n",
              " 'archers',\n",
              " 'are',\n",
              " 'arise',\n",
              " 'ark',\n",
              " 'armed',\n",
              " 'arms',\n",
              " 'army',\n",
              " 'arose',\n",
              " 'arrayed',\n",
              " 'art',\n",
              " 'artificer',\n",
              " 'as',\n",
              " 'ascending',\n",
              " 'ash',\n",
              " 'ashamed',\n",
              " 'ask',\n",
              " 'asked',\n",
              " 'asketh',\n",
              " 'ass',\n",
              " 'assembly',\n",
              " 'asses',\n",
              " 'assigned',\n",
              " 'asswaged',\n",
              " 'at',\n",
              " 'attained',\n",
              " 'audience',\n",
              " 'avenged',\n",
              " 'aw',\n",
              " 'awaked',\n",
              " 'away',\n",
              " 'awoke',\n",
              " 'back',\n",
              " 'backward',\n",
              " 'bad',\n",
              " 'bade',\n",
              " 'badest',\n",
              " 'badne',\n",
              " 'bak',\n",
              " 'bake',\n",
              " 'bakemeats',\n",
              " 'baker',\n",
              " 'bakers',\n",
              " 'balm',\n",
              " 'bands',\n",
              " 'bank',\n",
              " 'bare',\n",
              " 'barr',\n",
              " 'barren',\n",
              " 'basket',\n",
              " 'baskets',\n",
              " 'battle',\n",
              " 'bdellium',\n",
              " 'be',\n",
              " 'bear',\n",
              " 'beari',\n",
              " 'bearing',\n",
              " 'beast',\n",
              " 'beasts',\n",
              " 'beautiful',\n",
              " 'became',\n",
              " 'because',\n",
              " 'become',\n",
              " 'bed',\n",
              " 'been',\n",
              " 'befall',\n",
              " 'befell',\n",
              " 'before',\n",
              " 'began',\n",
              " 'begat',\n",
              " 'beget',\n",
              " 'begettest',\n",
              " 'begin',\n",
              " 'beginning',\n",
              " 'begotten',\n",
              " 'beguiled',\n",
              " 'beheld',\n",
              " 'behind',\n",
              " 'behold',\n",
              " 'being',\n",
              " 'believed',\n",
              " 'belly',\n",
              " 'belong',\n",
              " 'beneath',\n",
              " 'bereaved',\n",
              " 'beside',\n",
              " 'besides',\n",
              " 'besought',\n",
              " 'best',\n",
              " 'betimes',\n",
              " 'better',\n",
              " 'between',\n",
              " 'betwixt',\n",
              " 'beyond',\n",
              " 'binding',\n",
              " 'bird',\n",
              " 'birds',\n",
              " 'birthday',\n",
              " 'birthright',\n",
              " 'biteth',\n",
              " 'bitter',\n",
              " 'blame',\n",
              " 'blameless',\n",
              " 'blasted',\n",
              " 'bless',\n",
              " 'blessed',\n",
              " 'blesseth',\n",
              " 'blessi',\n",
              " 'blessing',\n",
              " 'blessings',\n",
              " 'blindness',\n",
              " 'blood',\n",
              " 'blossoms',\n",
              " 'bodies',\n",
              " 'boldly',\n",
              " 'bondman',\n",
              " 'bondmen',\n",
              " 'bondwoman',\n",
              " 'bone',\n",
              " 'bones',\n",
              " 'book',\n",
              " 'booths',\n",
              " 'border',\n",
              " 'borders',\n",
              " 'born',\n",
              " 'bosom',\n",
              " 'both',\n",
              " 'bottle',\n",
              " 'bou',\n",
              " 'boug',\n",
              " 'bough',\n",
              " 'bought',\n",
              " 'bound',\n",
              " 'bow',\n",
              " 'bowed',\n",
              " 'bowels',\n",
              " 'bowing',\n",
              " 'boys',\n",
              " 'bracelets',\n",
              " 'branches',\n",
              " 'brass',\n",
              " 'bre',\n",
              " 'breach',\n",
              " 'bread',\n",
              " 'breadth',\n",
              " 'break',\n",
              " 'breaketh',\n",
              " 'breaking',\n",
              " 'breasts',\n",
              " 'breath',\n",
              " 'breathed',\n",
              " 'breed',\n",
              " 'brethren',\n",
              " 'brick',\n",
              " 'brimstone',\n",
              " 'bring',\n",
              " 'brink',\n",
              " 'broken',\n",
              " 'brook',\n",
              " 'broth',\n",
              " 'brother',\n",
              " 'brought',\n",
              " 'brown',\n",
              " 'bruise',\n",
              " 'budded',\n",
              " 'build',\n",
              " 'builded',\n",
              " 'built',\n",
              " 'bulls',\n",
              " 'bundle',\n",
              " 'bundles',\n",
              " 'burdens',\n",
              " 'buried',\n",
              " 'burn',\n",
              " 'burning',\n",
              " 'burnt',\n",
              " 'bury',\n",
              " 'buryingplace',\n",
              " 'business',\n",
              " 'but',\n",
              " 'butler',\n",
              " 'butlers',\n",
              " 'butlership',\n",
              " 'butter',\n",
              " 'buy',\n",
              " 'by',\n",
              " 'cakes',\n",
              " 'calf',\n",
              " 'call',\n",
              " 'called',\n",
              " 'came',\n",
              " 'camel',\n",
              " 'camels',\n",
              " 'camest',\n",
              " 'can',\n",
              " 'cannot',\n",
              " 'canst',\n",
              " 'captain',\n",
              " 'captive',\n",
              " 'captives',\n",
              " 'carcases',\n",
              " 'carried',\n",
              " 'carry',\n",
              " 'cast',\n",
              " 'castles',\n",
              " 'catt',\n",
              " 'cattle',\n",
              " 'caught',\n",
              " 'cause',\n",
              " 'caused',\n",
              " 'cave',\n",
              " 'cease',\n",
              " 'ceased',\n",
              " 'certain',\n",
              " 'certainly',\n",
              " 'chain',\n",
              " 'chamber',\n",
              " 'change',\n",
              " 'changed',\n",
              " 'changes',\n",
              " 'charge',\n",
              " 'charged',\n",
              " 'chariot',\n",
              " 'chariots',\n",
              " 'chesnut',\n",
              " 'chi',\n",
              " 'chief',\n",
              " 'child',\n",
              " 'childless',\n",
              " 'childr',\n",
              " 'children',\n",
              " 'chode',\n",
              " 'choice',\n",
              " 'chose',\n",
              " 'circumcis',\n",
              " 'circumcise',\n",
              " 'circumcised',\n",
              " 'citi',\n",
              " 'cities',\n",
              " 'city',\n",
              " 'clave',\n",
              " 'clean',\n",
              " 'clear',\n",
              " 'cleave',\n",
              " 'clo',\n",
              " 'closed',\n",
              " 'clothed',\n",
              " 'clothes',\n",
              " 'cloud',\n",
              " 'clusters',\n",
              " 'co',\n",
              " 'coat',\n",
              " 'coats',\n",
              " 'coffin',\n",
              " 'cold',\n",
              " ...]"
            ]
          },
          "metadata": {},
          "execution_count": 12
        }
      ]
    },
    {
      "cell_type": "code",
      "source": [
        "def lexical_diversity(text): # Check the ratio of distinct words\n",
        "    return len(set(text))/len(text)"
      ],
      "metadata": {
        "id": "idGpnuzf6Aay"
      },
      "execution_count": null,
      "outputs": []
    },
    {
      "cell_type": "code",
      "source": [
        "lexical_diversity(text3)"
      ],
      "metadata": {
        "colab": {
          "base_uri": "https://localhost:8080/"
        },
        "id": "havn92iW6cHL",
        "outputId": "35b7f7fe-6ef9-432f-9dd9-a39fd9bb05bf"
      },
      "execution_count": null,
      "outputs": [
        {
          "output_type": "execute_result",
          "data": {
            "text/plain": [
              "0.06230453042623537"
            ]
          },
          "metadata": {},
          "execution_count": 14
        }
      ]
    },
    {
      "cell_type": "code",
      "source": [
        "lexical_diversity(text5)"
      ],
      "metadata": {
        "colab": {
          "base_uri": "https://localhost:8080/"
        },
        "id": "nuC1mR0D6ezN",
        "outputId": "104c0d0d-a8a3-40df-a752-b83562ccac1a"
      },
      "execution_count": null,
      "outputs": [
        {
          "output_type": "execute_result",
          "data": {
            "text/plain": [
              "0.13477005109975562"
            ]
          },
          "metadata": {},
          "execution_count": 15
        }
      ]
    },
    {
      "cell_type": "code",
      "source": [
        "# Frequency Distributions\n",
        "fdist1 = FreqDist(text1)"
      ],
      "metadata": {
        "id": "fMFpt5dP6hzV"
      },
      "execution_count": null,
      "outputs": []
    },
    {
      "cell_type": "code",
      "source": [
        "print(fdist1)"
      ],
      "metadata": {
        "id": "QeeRWvHI6kdZ",
        "colab": {
          "base_uri": "https://localhost:8080/"
        },
        "outputId": "22418145-6c8e-4058-d5a4-44046d64b477"
      },
      "execution_count": null,
      "outputs": [
        {
          "output_type": "stream",
          "name": "stdout",
          "text": [
            "<FreqDist with 19317 samples and 260819 outcomes>\n"
          ]
        }
      ]
    },
    {
      "cell_type": "code",
      "source": [
        "fdist1.most_common(50)"
      ],
      "metadata": {
        "colab": {
          "base_uri": "https://localhost:8080/"
        },
        "id": "z8jMWzFRVlx9",
        "outputId": "ebca7831-ac51-42cf-a726-a547f68e10d3"
      },
      "execution_count": null,
      "outputs": [
        {
          "output_type": "execute_result",
          "data": {
            "text/plain": [
              "[(',', 18713),\n",
              " ('the', 13721),\n",
              " ('.', 6862),\n",
              " ('of', 6536),\n",
              " ('and', 6024),\n",
              " ('a', 4569),\n",
              " ('to', 4542),\n",
              " (';', 4072),\n",
              " ('in', 3916),\n",
              " ('that', 2982),\n",
              " (\"'\", 2684),\n",
              " ('-', 2552),\n",
              " ('his', 2459),\n",
              " ('it', 2209),\n",
              " ('I', 2124),\n",
              " ('s', 1739),\n",
              " ('is', 1695),\n",
              " ('he', 1661),\n",
              " ('with', 1659),\n",
              " ('was', 1632),\n",
              " ('as', 1620),\n",
              " ('\"', 1478),\n",
              " ('all', 1462),\n",
              " ('for', 1414),\n",
              " ('this', 1280),\n",
              " ('!', 1269),\n",
              " ('at', 1231),\n",
              " ('by', 1137),\n",
              " ('but', 1113),\n",
              " ('not', 1103),\n",
              " ('--', 1070),\n",
              " ('him', 1058),\n",
              " ('from', 1052),\n",
              " ('be', 1030),\n",
              " ('on', 1005),\n",
              " ('so', 918),\n",
              " ('whale', 906),\n",
              " ('one', 889),\n",
              " ('you', 841),\n",
              " ('had', 767),\n",
              " ('have', 760),\n",
              " ('there', 715),\n",
              " ('But', 705),\n",
              " ('or', 697),\n",
              " ('were', 680),\n",
              " ('now', 646),\n",
              " ('which', 640),\n",
              " ('?', 637),\n",
              " ('me', 627),\n",
              " ('like', 624)]"
            ]
          },
          "metadata": {},
          "execution_count": 18
        }
      ]
    },
    {
      "cell_type": "code",
      "source": [
        "fdist1[\"whale\"]"
      ],
      "metadata": {
        "colab": {
          "base_uri": "https://localhost:8080/"
        },
        "id": "58Yv0vZLVow9",
        "outputId": "9c4d542c-67a0-4546-b30e-a09c6e5881ef"
      },
      "execution_count": null,
      "outputs": [
        {
          "output_type": "execute_result",
          "data": {
            "text/plain": [
              "906"
            ]
          },
          "metadata": {},
          "execution_count": 19
        }
      ]
    },
    {
      "cell_type": "code",
      "source": [
        "# Fine-grained Selection of Words\n",
        "\n",
        "Y = set(text1)\n",
        "long_words = [w for w in Y if len(w)>15]\n",
        "sorted(long_words)"
      ],
      "metadata": {
        "colab": {
          "base_uri": "https://localhost:8080/"
        },
        "id": "cyy9emZ8Vu8w",
        "outputId": "28e27040-b9a6-4924-9fd1-c662b50ff930"
      },
      "execution_count": null,
      "outputs": [
        {
          "output_type": "execute_result",
          "data": {
            "text/plain": [
              "['CIRCUMNAVIGATION',\n",
              " 'Physiognomically',\n",
              " 'apprehensiveness',\n",
              " 'cannibalistically',\n",
              " 'characteristically',\n",
              " 'circumnavigating',\n",
              " 'circumnavigation',\n",
              " 'circumnavigations',\n",
              " 'comprehensiveness',\n",
              " 'hermaphroditical',\n",
              " 'indiscriminately',\n",
              " 'indispensableness',\n",
              " 'irresistibleness',\n",
              " 'physiognomically',\n",
              " 'preternaturalness',\n",
              " 'responsibilities',\n",
              " 'simultaneousness',\n",
              " 'subterraneousness',\n",
              " 'supernaturalness',\n",
              " 'superstitiousness',\n",
              " 'uncomfortableness',\n",
              " 'uncompromisedness',\n",
              " 'undiscriminating',\n",
              " 'uninterpenetratingly']"
            ]
          },
          "metadata": {},
          "execution_count": 20
        }
      ]
    },
    {
      "cell_type": "code",
      "source": [
        "fdist5 = FreqDist(text5)"
      ],
      "metadata": {
        "id": "FB63OZTfV_hP"
      },
      "execution_count": null,
      "outputs": []
    },
    {
      "cell_type": "code",
      "source": [
        "sorted(w for w in set(text5) if len(w)>7 and fdist5[w]>7)"
      ],
      "metadata": {
        "colab": {
          "base_uri": "https://localhost:8080/"
        },
        "id": "IZU5M9XgWCNz",
        "outputId": "3195ff82-9941-483b-c068-607ca1f35e2c"
      },
      "execution_count": null,
      "outputs": [
        {
          "output_type": "execute_result",
          "data": {
            "text/plain": [
              "['#14-19teens',\n",
              " '#talkcity_adults',\n",
              " '((((((((((',\n",
              " '........',\n",
              " 'Question',\n",
              " 'actually',\n",
              " 'anything',\n",
              " 'computer',\n",
              " 'cute.-ass',\n",
              " 'everyone',\n",
              " 'football',\n",
              " 'innocent',\n",
              " 'listening',\n",
              " 'remember',\n",
              " 'seriously',\n",
              " 'something',\n",
              " 'together',\n",
              " 'tomorrow',\n",
              " 'watching']"
            ]
          },
          "metadata": {},
          "execution_count": 22
        }
      ]
    },
    {
      "cell_type": "code",
      "source": [
        "# Collocations and Bigrams\n",
        "\n",
        "list(bigrams(['more', 'is','said','than','done']))"
      ],
      "metadata": {
        "colab": {
          "base_uri": "https://localhost:8080/"
        },
        "id": "57wS70BjWJP5",
        "outputId": "bdce3e65-ebf6-4190-965a-87288bc88603"
      },
      "execution_count": null,
      "outputs": [
        {
          "output_type": "execute_result",
          "data": {
            "text/plain": [
              "[('more', 'is'), ('is', 'said'), ('said', 'than'), ('than', 'done')]"
            ]
          },
          "metadata": {},
          "execution_count": 23
        }
      ]
    },
    {
      "cell_type": "code",
      "source": [
        "text4.collocations()"
      ],
      "metadata": {
        "colab": {
          "base_uri": "https://localhost:8080/"
        },
        "id": "iGgy5DFCWUYq",
        "outputId": "d24e4bed-5fed-4814-bca9-9e2c5c4f0647"
      },
      "execution_count": null,
      "outputs": [
        {
          "output_type": "stream",
          "name": "stdout",
          "text": [
            "United States; fellow citizens; years ago; four years; Federal\n",
            "Government; General Government; American people; Vice President; God\n",
            "bless; Chief Justice; one another; fellow Americans; Old World;\n",
            "Almighty God; Fellow citizens; Chief Magistrate; every citizen; Indian\n",
            "tribes; public debt; foreign nations\n"
          ]
        }
      ]
    },
    {
      "cell_type": "code",
      "source": [
        "text8.collocations()"
      ],
      "metadata": {
        "colab": {
          "base_uri": "https://localhost:8080/"
        },
        "id": "8PBLQ_2xWYjH",
        "outputId": "a8fc9e66-83fe-45b8-ba56-2432dfa334fd"
      },
      "execution_count": null,
      "outputs": [
        {
          "output_type": "stream",
          "name": "stdout",
          "text": [
            "would like; medium build; social drinker; quiet nights; non smoker;\n",
            "long term; age open; Would like; easy going; financially secure; fun\n",
            "times; similar interests; Age open; weekends away; poss rship; well\n",
            "presented; never married; single mum; permanent relationship; slim\n",
            "build\n"
          ]
        }
      ]
    },
    {
      "cell_type": "code",
      "source": [
        "# Conditionals\n",
        "sent7"
      ],
      "metadata": {
        "colab": {
          "base_uri": "https://localhost:8080/"
        },
        "id": "zXmxIZLxWbHC",
        "outputId": "0a599007-7c94-45f4-b889-492c54f44bb2"
      },
      "execution_count": null,
      "outputs": [
        {
          "output_type": "execute_result",
          "data": {
            "text/plain": [
              "['Pierre',\n",
              " 'Vinken',\n",
              " ',',\n",
              " '61',\n",
              " 'years',\n",
              " 'old',\n",
              " ',',\n",
              " 'will',\n",
              " 'join',\n",
              " 'the',\n",
              " 'board',\n",
              " 'as',\n",
              " 'a',\n",
              " 'nonexecutive',\n",
              " 'director',\n",
              " 'Nov.',\n",
              " '29',\n",
              " '.']"
            ]
          },
          "metadata": {},
          "execution_count": 26
        }
      ]
    },
    {
      "cell_type": "code",
      "source": [
        "[w for w in sent7 if len(w) < 4]"
      ],
      "metadata": {
        "colab": {
          "base_uri": "https://localhost:8080/"
        },
        "id": "s8KY8h8VWd-3",
        "outputId": "922aa256-9a68-4716-c954-cd9b36a3a37c"
      },
      "execution_count": null,
      "outputs": [
        {
          "output_type": "execute_result",
          "data": {
            "text/plain": [
              "[',', '61', 'old', ',', 'the', 'as', 'a', '29', '.']"
            ]
          },
          "metadata": {},
          "execution_count": 27
        }
      ]
    },
    {
      "cell_type": "code",
      "source": [
        "[w for w in sent7 if len(w) <= 4]"
      ],
      "metadata": {
        "colab": {
          "base_uri": "https://localhost:8080/"
        },
        "id": "8HIy24H6WiUj",
        "outputId": "ada18c8c-4c88-4dec-b1c3-e08c512d2b46"
      },
      "execution_count": null,
      "outputs": [
        {
          "output_type": "execute_result",
          "data": {
            "text/plain": [
              "[',', '61', 'old', ',', 'will', 'join', 'the', 'as', 'a', 'Nov.', '29', '.']"
            ]
          },
          "metadata": {},
          "execution_count": 28
        }
      ]
    },
    {
      "cell_type": "code",
      "source": [
        "[w for w in sent7 if len(w) == 4]"
      ],
      "metadata": {
        "colab": {
          "base_uri": "https://localhost:8080/"
        },
        "id": "Gidwh25LWkgJ",
        "outputId": "520c79be-6ad1-4d0f-eb36-aeefedc14ea4"
      },
      "execution_count": null,
      "outputs": [
        {
          "output_type": "execute_result",
          "data": {
            "text/plain": [
              "['will', 'join', 'Nov.']"
            ]
          },
          "metadata": {},
          "execution_count": 29
        }
      ]
    },
    {
      "cell_type": "code",
      "source": [
        "[w for w in sent7 if len(w) != 4]"
      ],
      "metadata": {
        "colab": {
          "base_uri": "https://localhost:8080/"
        },
        "id": "Hdmy-3XjWlm-",
        "outputId": "a04a6999-f905-4480-bf73-42ee8921e3f3"
      },
      "execution_count": null,
      "outputs": [
        {
          "output_type": "execute_result",
          "data": {
            "text/plain": [
              "['Pierre',\n",
              " 'Vinken',\n",
              " ',',\n",
              " '61',\n",
              " 'years',\n",
              " 'old',\n",
              " ',',\n",
              " 'the',\n",
              " 'board',\n",
              " 'as',\n",
              " 'a',\n",
              " 'nonexecutive',\n",
              " 'director',\n",
              " '29',\n",
              " '.']"
            ]
          },
          "metadata": {},
          "execution_count": 30
        }
      ]
    },
    {
      "cell_type": "code",
      "source": [
        "sorted(w for w in set(text1) if w.endswith('ableness'))"
      ],
      "metadata": {
        "colab": {
          "base_uri": "https://localhost:8080/"
        },
        "id": "Z0PecpOKWmj2",
        "outputId": "06b1bddf-be93-41eb-b50d-77e6c5c96744"
      },
      "execution_count": null,
      "outputs": [
        {
          "output_type": "execute_result",
          "data": {
            "text/plain": [
              "['comfortableness',\n",
              " 'honourableness',\n",
              " 'immutableness',\n",
              " 'indispensableness',\n",
              " 'indomitableness',\n",
              " 'intolerableness',\n",
              " 'palpableness',\n",
              " 'reasonableness',\n",
              " 'uncomfortableness']"
            ]
          },
          "metadata": {},
          "execution_count": 31
        }
      ]
    },
    {
      "cell_type": "code",
      "source": [
        "sorted(term for term in set(text4) if 'gnt' in term)"
      ],
      "metadata": {
        "colab": {
          "base_uri": "https://localhost:8080/"
        },
        "id": "HR6XFjztWt42",
        "outputId": "60a85ee2-aa52-4b16-da2c-4d0947d4acf1"
      },
      "execution_count": null,
      "outputs": [
        {
          "output_type": "execute_result",
          "data": {
            "text/plain": [
              "['Sovereignty', 'sovereignties', 'sovereignty']"
            ]
          },
          "metadata": {},
          "execution_count": 32
        }
      ]
    },
    {
      "cell_type": "code",
      "source": [
        "sorted(item for item in set(text6) if item.istitle())"
      ],
      "metadata": {
        "colab": {
          "base_uri": "https://localhost:8080/"
        },
        "id": "G-FMlAmbW098",
        "outputId": "9a5773ac-335d-43fd-864d-d257daef6109"
      },
      "execution_count": null,
      "outputs": [
        {
          "output_type": "execute_result",
          "data": {
            "text/plain": [
              "['A',\n",
              " 'Aaaaaaaaah',\n",
              " 'Aaaaaaaah',\n",
              " 'Aaaaaah',\n",
              " 'Aaaah',\n",
              " 'Aaaaugh',\n",
              " 'Aaagh',\n",
              " 'Aaah',\n",
              " 'Aaauggh',\n",
              " 'Aaaugh',\n",
              " 'Aaauugh',\n",
              " 'Aagh',\n",
              " 'Aah',\n",
              " 'Aauuggghhh',\n",
              " 'Aauuugh',\n",
              " 'Aauuuuugh',\n",
              " 'Aauuuves',\n",
              " 'Action',\n",
              " 'Actually',\n",
              " 'African',\n",
              " 'Ages',\n",
              " 'Aggh',\n",
              " 'Agh',\n",
              " 'Ah',\n",
              " 'Ahh',\n",
              " 'Alice',\n",
              " 'All',\n",
              " 'Allo',\n",
              " 'Almighty',\n",
              " 'Alright',\n",
              " 'Am',\n",
              " 'Amen',\n",
              " 'An',\n",
              " 'Anarcho',\n",
              " 'And',\n",
              " 'Angnor',\n",
              " 'Anthrax',\n",
              " 'Antioch',\n",
              " 'Anybody',\n",
              " 'Anyway',\n",
              " 'Apples',\n",
              " 'Aramaic',\n",
              " 'Are',\n",
              " 'Arimathea',\n",
              " 'Armaments',\n",
              " 'Arthur',\n",
              " 'As',\n",
              " 'Ask',\n",
              " 'Assyria',\n",
              " 'At',\n",
              " 'Attila',\n",
              " 'Augh',\n",
              " 'Autumn',\n",
              " 'Auuuuuuuugh',\n",
              " 'Away',\n",
              " 'Ay',\n",
              " 'Ayy',\n",
              " 'B',\n",
              " 'Back',\n",
              " 'Bad',\n",
              " 'Badon',\n",
              " 'Battle',\n",
              " 'Be',\n",
              " 'Beast',\n",
              " 'Bedevere',\n",
              " 'Bedwere',\n",
              " 'Behold',\n",
              " 'Between',\n",
              " 'Beyond',\n",
              " 'Black',\n",
              " 'Bloody',\n",
              " 'Blue',\n",
              " 'Bon',\n",
              " 'Bones',\n",
              " 'Book',\n",
              " 'Bors',\n",
              " 'Brave',\n",
              " 'Bravely',\n",
              " 'Bravest',\n",
              " 'Bread',\n",
              " 'Bridge',\n",
              " 'Bring',\n",
              " 'Bristol',\n",
              " 'Britain',\n",
              " 'Britons',\n",
              " 'Brother',\n",
              " 'Build',\n",
              " 'Burn',\n",
              " 'But',\n",
              " 'By',\n",
              " 'C',\n",
              " 'Caerbannog',\n",
              " 'Camaaaaaargue',\n",
              " 'Camelot',\n",
              " 'Castle',\n",
              " 'Chapter',\n",
              " 'Charge',\n",
              " 'Chaste',\n",
              " 'Cherries',\n",
              " 'Chicken',\n",
              " 'Chickennn',\n",
              " 'Chop',\n",
              " 'Christ',\n",
              " 'Churches',\n",
              " 'Cider',\n",
              " 'Clark',\n",
              " 'Clear',\n",
              " 'Come',\n",
              " 'Concorde',\n",
              " 'Consult',\n",
              " 'Cornwall',\n",
              " 'Could',\n",
              " 'Course',\n",
              " 'Court',\n",
              " 'Crapper',\n",
              " 'Cut',\n",
              " 'Dappy',\n",
              " 'Death',\n",
              " 'Defeat',\n",
              " 'Dennis',\n",
              " 'Did',\n",
              " 'Didn',\n",
              " 'Dingo',\n",
              " 'Dis',\n",
              " 'Divine',\n",
              " 'Do',\n",
              " 'Doctor',\n",
              " 'Does',\n",
              " 'Don',\n",
              " 'Dragon',\n",
              " 'Dramatically',\n",
              " 'Ecky',\n",
              " 'Ector',\n",
              " 'Eee',\n",
              " 'Eh',\n",
              " 'Enchanter',\n",
              " 'England',\n",
              " 'English',\n",
              " 'Erbert',\n",
              " 'Ere',\n",
              " 'Erm',\n",
              " 'Eternal',\n",
              " 'European',\n",
              " 'Even',\n",
              " 'Every',\n",
              " 'Everything',\n",
              " 'Ewing',\n",
              " 'Exactly',\n",
              " 'Excalibur',\n",
              " 'Excuse',\n",
              " 'Explain',\n",
              " 'Far',\n",
              " 'Farewell',\n",
              " 'Father',\n",
              " 'Fetchez',\n",
              " 'Fiends',\n",
              " 'Fine',\n",
              " 'First',\n",
              " 'Firstly',\n",
              " 'Five',\n",
              " 'Follow',\n",
              " 'For',\n",
              " 'Forgive',\n",
              " 'Forward',\n",
              " 'Found',\n",
              " 'Four',\n",
              " 'France',\n",
              " 'Frank',\n",
              " 'French',\n",
              " 'Gable',\n",
              " 'Galahad',\n",
              " 'Gallahad',\n",
              " 'Gawain',\n",
              " 'Get',\n",
              " 'Go',\n",
              " 'God',\n",
              " 'Good',\n",
              " 'Gorge',\n",
              " 'Grail',\n",
              " 'Great',\n",
              " 'Greetings',\n",
              " 'Grenade',\n",
              " 'Guards',\n",
              " 'Guy',\n",
              " 'Ha',\n",
              " 'Hah',\n",
              " 'Hallo',\n",
              " 'Halt',\n",
              " 'Hand',\n",
              " 'Hang',\n",
              " 'Have',\n",
              " 'Haw',\n",
              " 'He',\n",
              " 'Hee',\n",
              " 'Heee',\n",
              " 'Heh',\n",
              " 'Hello',\n",
              " 'Help',\n",
              " 'Herbert',\n",
              " 'Here',\n",
              " 'Hey',\n",
              " 'Hic',\n",
              " 'Hill',\n",
              " 'Himself',\n",
              " 'His',\n",
              " 'Hiyaah',\n",
              " 'Hiyah',\n",
              " 'Hiyya',\n",
              " 'Hm',\n",
              " 'Hmm',\n",
              " 'Ho',\n",
              " 'Hoa',\n",
              " 'Hold',\n",
              " 'Holy',\n",
              " 'Honestly',\n",
              " 'Hoo',\n",
              " 'Hooray',\n",
              " 'How',\n",
              " 'Huh',\n",
              " 'Hurry',\n",
              " 'Huy',\n",
              " 'Huyah',\n",
              " 'Hya',\n",
              " 'Hyy',\n",
              " 'I',\n",
              " 'Idiom',\n",
              " 'Iesu',\n",
              " 'If',\n",
              " 'Iiiiives',\n",
              " 'Iiiives',\n",
              " 'In',\n",
              " 'Is',\n",
              " 'Isn',\n",
              " 'It',\n",
              " 'Ives',\n",
              " 'Jesus',\n",
              " 'Joseph',\n",
              " 'Just',\n",
              " 'Keep',\n",
              " 'King',\n",
              " 'Knight',\n",
              " 'Knights',\n",
              " 'Lady',\n",
              " 'Lake',\n",
              " 'Lancelot',\n",
              " 'Launcelot',\n",
              " 'Lead',\n",
              " 'Leaving',\n",
              " 'Let',\n",
              " 'Lie',\n",
              " 'Like',\n",
              " 'Listen',\n",
              " 'Loimbard',\n",
              " 'Look',\n",
              " 'Looks',\n",
              " 'Lord',\n",
              " 'Lucky',\n",
              " 'Make',\n",
              " 'Man',\n",
              " 'May',\n",
              " 'Maynard',\n",
              " 'Meanwhile',\n",
              " 'Mercea',\n",
              " 'Message',\n",
              " 'Midget',\n",
              " 'Mind',\n",
              " 'Mine',\n",
              " 'Mmm',\n",
              " 'Monsieur',\n",
              " 'More',\n",
              " 'Morning',\n",
              " 'Most',\n",
              " 'Mother',\n",
              " 'Mud',\n",
              " 'Must',\n",
              " 'My',\n",
              " 'N',\n",
              " 'Nador',\n",
              " 'Nay',\n",
              " 'Neee',\n",
              " 'Never',\n",
              " 'Ni',\n",
              " 'Nine',\n",
              " 'Ninepence',\n",
              " 'No',\n",
              " 'None',\n",
              " 'Not',\n",
              " 'Nothing',\n",
              " 'Now',\n",
              " 'Nu',\n",
              " 'O',\n",
              " 'Of',\n",
              " 'Off',\n",
              " 'Oh',\n",
              " 'Ohh',\n",
              " 'Old',\n",
              " 'Olfin',\n",
              " 'On',\n",
              " 'Once',\n",
              " 'One',\n",
              " 'Ooh',\n",
              " 'Oooh',\n",
              " 'Oooo',\n",
              " 'Oooohoohohooo',\n",
              " 'Oooooooh',\n",
              " 'Open',\n",
              " 'Or',\n",
              " 'Order',\n",
              " 'Other',\n",
              " 'Oui',\n",
              " 'Our',\n",
              " 'Over',\n",
              " 'Ow',\n",
              " 'Packing',\n",
              " 'Patsy',\n",
              " 'Pendragon',\n",
              " 'Peng',\n",
              " 'Perhaps',\n",
              " 'Peril',\n",
              " 'Picture',\n",
              " 'Pie',\n",
              " 'Piglet',\n",
              " 'Pin',\n",
              " 'Please',\n",
              " 'Practice',\n",
              " 'Prepare',\n",
              " 'Prince',\n",
              " 'Princess',\n",
              " 'Providence',\n",
              " 'Psalms',\n",
              " 'Pull',\n",
              " 'Pure',\n",
              " 'Put',\n",
              " 'Quick',\n",
              " 'Quickly',\n",
              " 'Quiet',\n",
              " 'Quite',\n",
              " 'Quoi',\n",
              " 'Rather',\n",
              " 'Really',\n",
              " 'Recently',\n",
              " 'Remove',\n",
              " 'Rheged',\n",
              " 'Ridden',\n",
              " 'Right',\n",
              " 'Riiight',\n",
              " 'Robin',\n",
              " 'Robinson',\n",
              " 'Roger',\n",
              " 'Round',\n",
              " 'Run',\n",
              " 'Running',\n",
              " 'S',\n",
              " 'Said',\n",
              " 'Saint',\n",
              " 'Saxons',\n",
              " 'Say',\n",
              " 'Schools',\n",
              " 'See',\n",
              " 'Seek',\n",
              " 'Shall',\n",
              " 'She',\n",
              " 'Shh',\n",
              " 'Shrubber',\n",
              " 'Shrubberies',\n",
              " 'Shut',\n",
              " 'Silence',\n",
              " 'Silly',\n",
              " 'Since',\n",
              " 'Sir',\n",
              " 'Skip',\n",
              " 'So',\n",
              " 'Sorry',\n",
              " 'Speak',\n",
              " 'Splendid',\n",
              " 'Spring',\n",
              " 'Stand',\n",
              " 'Stay',\n",
              " 'Steady',\n",
              " 'Stop',\n",
              " 'Summer',\n",
              " 'Supposing',\n",
              " 'Supreme',\n",
              " 'Surely',\n",
              " 'Swamp',\n",
              " 'Table',\n",
              " 'Tale',\n",
              " 'Tall',\n",
              " 'Tell',\n",
              " 'Thank',\n",
              " 'That',\n",
              " 'The',\n",
              " 'Thee',\n",
              " 'Then',\n",
              " 'There',\n",
              " 'Therefore',\n",
              " 'They',\n",
              " 'This',\n",
              " 'Those',\n",
              " 'Thou',\n",
              " 'Thpppppt',\n",
              " 'Thppppt',\n",
              " 'Thpppt',\n",
              " 'Thppt',\n",
              " 'Three',\n",
              " 'Throw',\n",
              " 'Thsss',\n",
              " 'Thursday',\n",
              " 'Thy',\n",
              " 'Til',\n",
              " 'Tim',\n",
              " 'Tis',\n",
              " 'To',\n",
              " 'Today',\n",
              " 'Together',\n",
              " 'Too',\n",
              " 'Torment',\n",
              " 'Tower',\n",
              " 'True',\n",
              " 'Try',\n",
              " 'Twenty',\n",
              " 'Two',\n",
              " 'U',\n",
              " 'Uh',\n",
              " 'Uhh',\n",
              " 'Ulk',\n",
              " 'Um',\n",
              " 'Umhm',\n",
              " 'Umm',\n",
              " 'Un',\n",
              " 'Unfortunately',\n",
              " 'Until',\n",
              " 'Use',\n",
              " 'Uther',\n",
              " 'Uugh',\n",
              " 'Uuh',\n",
              " 'Very',\n",
              " 'Victory',\n",
              " 'W',\n",
              " 'Waa',\n",
              " 'Wait',\n",
              " 'Walk',\n",
              " 'Wayy',\n",
              " 'We',\n",
              " 'Welcome',\n",
              " 'Well',\n",
              " 'What',\n",
              " 'When',\n",
              " 'Where',\n",
              " 'Which',\n",
              " 'Who',\n",
              " 'Whoa',\n",
              " 'Why',\n",
              " 'Will',\n",
              " 'Winston',\n",
              " 'Winter',\n",
              " 'With',\n",
              " 'Woa',\n",
              " 'Wood',\n",
              " 'Would',\n",
              " 'Y',\n",
              " 'Yapping',\n",
              " 'Yay',\n",
              " 'Yeaaah',\n",
              " 'Yeaah',\n",
              " 'Yeah',\n",
              " 'Yes',\n",
              " 'You',\n",
              " 'Your',\n",
              " 'Yup',\n",
              " 'Zoot']"
            ]
          },
          "metadata": {},
          "execution_count": 33
        }
      ]
    },
    {
      "cell_type": "code",
      "source": [
        "sorted(item for item in set(sent7) if item.isdigit())"
      ],
      "metadata": {
        "colab": {
          "base_uri": "https://localhost:8080/"
        },
        "id": "M6nc0cXWW6Gw",
        "outputId": "645b5d81-d5c5-4a78-acd4-27af6bc66750"
      },
      "execution_count": null,
      "outputs": [
        {
          "output_type": "execute_result",
          "data": {
            "text/plain": [
              "['29', '61']"
            ]
          },
          "metadata": {},
          "execution_count": 34
        }
      ]
    },
    {
      "cell_type": "code",
      "source": [
        "# Operating on Every Element\n",
        "[len(w) for w in text1]"
      ],
      "metadata": {
        "colab": {
          "base_uri": "https://localhost:8080/"
        },
        "id": "L6k_PmlPW_wQ",
        "outputId": "f8518055-1412-4ecc-93bb-66a28b28b53f"
      },
      "execution_count": null,
      "outputs": [
        {
          "output_type": "execute_result",
          "data": {
            "text/plain": [
              "[1,\n",
              " 4,\n",
              " 4,\n",
              " 2,\n",
              " 6,\n",
              " 8,\n",
              " 4,\n",
              " 1,\n",
              " 9,\n",
              " 1,\n",
              " 1,\n",
              " 8,\n",
              " 2,\n",
              " 1,\n",
              " 4,\n",
              " 11,\n",
              " 5,\n",
              " 2,\n",
              " 1,\n",
              " 7,\n",
              " 6,\n",
              " 1,\n",
              " 3,\n",
              " 4,\n",
              " 5,\n",
              " 2,\n",
              " 10,\n",
              " 2,\n",
              " 4,\n",
              " 1,\n",
              " 5,\n",
              " 1,\n",
              " 4,\n",
              " 1,\n",
              " 3,\n",
              " 5,\n",
              " 1,\n",
              " 1,\n",
              " 3,\n",
              " 3,\n",
              " 3,\n",
              " 1,\n",
              " 2,\n",
              " 3,\n",
              " 4,\n",
              " 7,\n",
              " 3,\n",
              " 3,\n",
              " 8,\n",
              " 3,\n",
              " 8,\n",
              " 1,\n",
              " 4,\n",
              " 1,\n",
              " 5,\n",
              " 12,\n",
              " 1,\n",
              " 9,\n",
              " 11,\n",
              " 4,\n",
              " 3,\n",
              " 3,\n",
              " 3,\n",
              " 5,\n",
              " 2,\n",
              " 3,\n",
              " 3,\n",
              " 5,\n",
              " 7,\n",
              " 2,\n",
              " 3,\n",
              " 5,\n",
              " 1,\n",
              " 2,\n",
              " 5,\n",
              " 2,\n",
              " 4,\n",
              " 3,\n",
              " 3,\n",
              " 8,\n",
              " 1,\n",
              " 2,\n",
              " 7,\n",
              " 6,\n",
              " 8,\n",
              " 3,\n",
              " 2,\n",
              " 3,\n",
              " 9,\n",
              " 1,\n",
              " 1,\n",
              " 5,\n",
              " 3,\n",
              " 4,\n",
              " 2,\n",
              " 4,\n",
              " 2,\n",
              " 6,\n",
              " 6,\n",
              " 1,\n",
              " 3,\n",
              " 2,\n",
              " 5,\n",
              " 4,\n",
              " 2,\n",
              " 4,\n",
              " 4,\n",
              " 1,\n",
              " 5,\n",
              " 1,\n",
              " 4,\n",
              " 2,\n",
              " 2,\n",
              " 2,\n",
              " 6,\n",
              " 2,\n",
              " 3,\n",
              " 6,\n",
              " 7,\n",
              " 3,\n",
              " 1,\n",
              " 7,\n",
              " 9,\n",
              " 1,\n",
              " 3,\n",
              " 6,\n",
              " 1,\n",
              " 1,\n",
              " 5,\n",
              " 6,\n",
              " 5,\n",
              " 6,\n",
              " 3,\n",
              " 13,\n",
              " 2,\n",
              " 3,\n",
              " 4,\n",
              " 1,\n",
              " 3,\n",
              " 7,\n",
              " 4,\n",
              " 5,\n",
              " 2,\n",
              " 3,\n",
              " 4,\n",
              " 2,\n",
              " 2,\n",
              " 8,\n",
              " 1,\n",
              " 5,\n",
              " 1,\n",
              " 3,\n",
              " 2,\n",
              " 1,\n",
              " 3,\n",
              " 3,\n",
              " 1,\n",
              " 4,\n",
              " 1,\n",
              " 4,\n",
              " 6,\n",
              " 2,\n",
              " 5,\n",
              " 4,\n",
              " 9,\n",
              " 2,\n",
              " 7,\n",
              " 1,\n",
              " 3,\n",
              " 2,\n",
              " 3,\n",
              " 1,\n",
              " 5,\n",
              " 2,\n",
              " 6,\n",
              " 2,\n",
              " 7,\n",
              " 2,\n",
              " 2,\n",
              " 7,\n",
              " 1,\n",
              " 1,\n",
              " 10,\n",
              " 1,\n",
              " 5,\n",
              " 1,\n",
              " 3,\n",
              " 2,\n",
              " 2,\n",
              " 4,\n",
              " 11,\n",
              " 4,\n",
              " 3,\n",
              " 3,\n",
              " 1,\n",
              " 3,\n",
              " 3,\n",
              " 1,\n",
              " 6,\n",
              " 1,\n",
              " 1,\n",
              " 1,\n",
              " 1,\n",
              " 1,\n",
              " 4,\n",
              " 1,\n",
              " 3,\n",
              " 1,\n",
              " 2,\n",
              " 4,\n",
              " 1,\n",
              " 2,\n",
              " 6,\n",
              " 2,\n",
              " 2,\n",
              " 10,\n",
              " 1,\n",
              " 1,\n",
              " 10,\n",
              " 5,\n",
              " 1,\n",
              " 5,\n",
              " 1,\n",
              " 5,\n",
              " 1,\n",
              " 5,\n",
              " 1,\n",
              " 5,\n",
              " 1,\n",
              " 5,\n",
              " 1,\n",
              " 5,\n",
              " 1,\n",
              " 5,\n",
              " 1,\n",
              " 6,\n",
              " 1,\n",
              " 3,\n",
              " 1,\n",
              " 5,\n",
              " 1,\n",
              " 4,\n",
              " 1,\n",
              " 7,\n",
              " 1,\n",
              " 5,\n",
              " 1,\n",
              " 9,\n",
              " 1,\n",
              " 5,\n",
              " 1,\n",
              " 7,\n",
              " 1,\n",
              " 7,\n",
              " 1,\n",
              " 6,\n",
              " 1,\n",
              " 7,\n",
              " 1,\n",
              " 7,\n",
              " 1,\n",
              " 5,\n",
              " 1,\n",
              " 4,\n",
              " 1,\n",
              " 4,\n",
              " 1,\n",
              " 5,\n",
              " 1,\n",
              " 5,\n",
              " 1,\n",
              " 4,\n",
              " 1,\n",
              " 4,\n",
              " 1,\n",
              " 11,\n",
              " 1,\n",
              " 8,\n",
              " 1,\n",
              " 8,\n",
              " 2,\n",
              " 1,\n",
              " 3,\n",
              " 1,\n",
              " 3,\n",
              " 1,\n",
              " 9,\n",
              " 2,\n",
              " 2,\n",
              " 4,\n",
              " 2,\n",
              " 4,\n",
              " 4,\n",
              " 4,\n",
              " 4,\n",
              " 11,\n",
              " 8,\n",
              " 3,\n",
              " 4,\n",
              " 1,\n",
              " 4,\n",
              " 2,\n",
              " 1,\n",
              " 4,\n",
              " 5,\n",
              " 2,\n",
              " 1,\n",
              " 3,\n",
              " 1,\n",
              " 3,\n",
              " 7,\n",
              " 2,\n",
              " 4,\n",
              " 4,\n",
              " 7,\n",
              " 3,\n",
              " 4,\n",
              " 8,\n",
              " 3,\n",
              " 6,\n",
              " 1,\n",
              " 6,\n",
              " 2,\n",
              " 3,\n",
              " 5,\n",
              " 1,\n",
              " 7,\n",
              " 2,\n",
              " 8,\n",
              " 6,\n",
              " 9,\n",
              " 2,\n",
              " 6,\n",
              " 2,\n",
              " 5,\n",
              " 7,\n",
              " 4,\n",
              " 2,\n",
              " 3,\n",
              " 4,\n",
              " 10,\n",
              " 1,\n",
              " 6,\n",
              " 2,\n",
              " 7,\n",
              " 1,\n",
              " 9,\n",
              " 3,\n",
              " 4,\n",
              " 3,\n",
              " 1,\n",
              " 2,\n",
              " 5,\n",
              " 4,\n",
              " 2,\n",
              " 5,\n",
              " 1,\n",
              " 4,\n",
              " 3,\n",
              " 8,\n",
              " 1,\n",
              " 8,\n",
              " 5,\n",
              " 10,\n",
              " 1,\n",
              " 7,\n",
              " 9,\n",
              " 1,\n",
              " 2,\n",
              " 5,\n",
              " 8,\n",
              " 1,\n",
              " 3,\n",
              " 9,\n",
              " 6,\n",
              " 8,\n",
              " 1,\n",
              " 3,\n",
              " 4,\n",
              " 2,\n",
              " 1,\n",
              " 2,\n",
              " 8,\n",
              " 3,\n",
              " 7,\n",
              " 7,\n",
              " 9,\n",
              " 1,\n",
              " 2,\n",
              " 4,\n",
              " 2,\n",
              " 3,\n",
              " 5,\n",
              " 4,\n",
              " 9,\n",
              " 1,\n",
              " 5,\n",
              " 8,\n",
              " 3,\n",
              " 6,\n",
              " 8,\n",
              " 2,\n",
              " 12,\n",
              " 1,\n",
              " 2,\n",
              " 9,\n",
              " 1,\n",
              " 8,\n",
              " 4,\n",
              " 1,\n",
              " 1,\n",
              " 3,\n",
              " 4,\n",
              " 2,\n",
              " 4,\n",
              " 3,\n",
              " 4,\n",
              " 13,\n",
              " 4,\n",
              " 1,\n",
              " 7,\n",
              " 1,\n",
              " 7,\n",
              " 1,\n",
              " 3,\n",
              " 4,\n",
              " 2,\n",
              " 9,\n",
              " 1,\n",
              " 2,\n",
              " 4,\n",
              " 7,\n",
              " 3,\n",
              " 11,\n",
              " 1,\n",
              " 9,\n",
              " 3,\n",
              " 3,\n",
              " 1,\n",
              " 2,\n",
              " 4,\n",
              " 4,\n",
              " 4,\n",
              " 1,\n",
              " 4,\n",
              " 5,\n",
              " 2,\n",
              " 1,\n",
              " 3,\n",
              " 1,\n",
              " 3,\n",
              " 1,\n",
              " 5,\n",
              " 11,\n",
              " 1,\n",
              " 2,\n",
              " 1,\n",
              " 4,\n",
              " 9,\n",
              " 2,\n",
              " 4,\n",
              " 8,\n",
              " 1,\n",
              " 6,\n",
              " 5,\n",
              " 5,\n",
              " 2,\n",
              " 4,\n",
              " 2,\n",
              " 4,\n",
              " 5,\n",
              " 4,\n",
              " 4,\n",
              " 4,\n",
              " 1,\n",
              " 3,\n",
              " 3,\n",
              " 4,\n",
              " 4,\n",
              " 4,\n",
              " 6,\n",
              " 5,\n",
              " 2,\n",
              " 3,\n",
              " 4,\n",
              " 1,\n",
              " 6,\n",
              " 1,\n",
              " 3,\n",
              " 4,\n",
              " 4,\n",
              " 3,\n",
              " 9,\n",
              " 5,\n",
              " 2,\n",
              " 3,\n",
              " 1,\n",
              " 3,\n",
              " 4,\n",
              " 4,\n",
              " 1,\n",
              " 8,\n",
              " 1,\n",
              " 3,\n",
              " 1,\n",
              " 3,\n",
              " 4,\n",
              " 9,\n",
              " 4,\n",
              " 5,\n",
              " 1,\n",
              " 3,\n",
              " 3,\n",
              " 2,\n",
              " 4,\n",
              " 7,\n",
              " 1,\n",
              " 4,\n",
              " 4,\n",
              " 4,\n",
              " 3,\n",
              " 5,\n",
              " 7,\n",
              " 1,\n",
              " 3,\n",
              " 2,\n",
              " 3,\n",
              " 10,\n",
              " 10,\n",
              " 7,\n",
              " 2,\n",
              " 4,\n",
              " 2,\n",
              " 2,\n",
              " 1,\n",
              " 3,\n",
              " 1,\n",
              " 4,\n",
              " 1,\n",
              " 3,\n",
              " 2,\n",
              " 3,\n",
              " 4,\n",
              " 3,\n",
              " 4,\n",
              " 5,\n",
              " 2,\n",
              " 4,\n",
              " 2,\n",
              " 6,\n",
              " 3,\n",
              " 5,\n",
              " 1,\n",
              " 2,\n",
              " 2,\n",
              " 4,\n",
              " 3,\n",
              " 4,\n",
              " 5,\n",
              " 2,\n",
              " 3,\n",
              " 4,\n",
              " 2,\n",
              " 9,\n",
              " 1,\n",
              " 5,\n",
              " 4,\n",
              " 1,\n",
              " 5,\n",
              " 5,\n",
              " 3,\n",
              " 7,\n",
              " 5,\n",
              " 3,\n",
              " 3,\n",
              " 9,\n",
              " 3,\n",
              " 2,\n",
              " 1,\n",
              " 3,\n",
              " 4,\n",
              " 4,\n",
              " 4,\n",
              " 5,\n",
              " 3,\n",
              " 3,\n",
              " 5,\n",
              " 2,\n",
              " 3,\n",
              " 5,\n",
              " 1,\n",
              " 4,\n",
              " 4,\n",
              " 4,\n",
              " 6,\n",
              " 1,\n",
              " 3,\n",
              " 4,\n",
              " 7,\n",
              " 3,\n",
              " 4,\n",
              " 4,\n",
              " 6,\n",
              " 3,\n",
              " 8,\n",
              " 3,\n",
              " 3,\n",
              " 5,\n",
              " 1,\n",
              " 7,\n",
              " 7,\n",
              " 1,\n",
              " 3,\n",
              " 6,\n",
              " 8,\n",
              " 2,\n",
              " 4,\n",
              " 1,\n",
              " 8,\n",
              " 7,\n",
              " 1,\n",
              " 7,\n",
              " 1,\n",
              " 3,\n",
              " 7,\n",
              " 1,\n",
              " 7,\n",
              " 4,\n",
              " 6,\n",
              " 1,\n",
              " 4,\n",
              " 2,\n",
              " 6,\n",
              " 3,\n",
              " 10,\n",
              " 6,\n",
              " 8,\n",
              " 2,\n",
              " 5,\n",
              " 1,\n",
              " 2,\n",
              " 5,\n",
              " 6,\n",
              " 14,\n",
              " 7,\n",
              " 1,\n",
              " 8,\n",
              " 1,\n",
              " 1,\n",
              " 3,\n",
              " 3,\n",
              " 7,\n",
              " 5,\n",
              " 6,\n",
              " 2,\n",
              " 2,\n",
              " 7,\n",
              " 1,\n",
              " 1,\n",
              " 9,\n",
              " 6,\n",
              " 1,\n",
              " 4,\n",
              " 2,\n",
              " 5,\n",
              " 5,\n",
              " 3,\n",
              " 1,\n",
              " 3,\n",
              " 5,\n",
              " 5,\n",
              " 3,\n",
              " 4,\n",
              " 2,\n",
              " 2,\n",
              " 5,\n",
              " 2,\n",
              " 2,\n",
              " 3,\n",
              " 1,\n",
              " 1,\n",
              " 3,\n",
              " 3,\n",
              " 4,\n",
              " 3,\n",
              " 8,\n",
              " 1,\n",
              " 5,\n",
              " 4,\n",
              " 2,\n",
              " 7,\n",
              " 2,\n",
              " 5,\n",
              " 2,\n",
              " 2,\n",
              " 5,\n",
              " 1,\n",
              " 1,\n",
              " 5,\n",
              " 2,\n",
              " 3,\n",
              " 5,\n",
              " 1,\n",
              " 5,\n",
              " 2,\n",
              " 4,\n",
              " 9,\n",
              " 4,\n",
              " 4,\n",
              " 4,\n",
              " 4,\n",
              " 2,\n",
              " 4,\n",
              " 7,\n",
              " 2,\n",
              " 2,\n",
              " 6,\n",
              " 1,\n",
              " 1,\n",
              " 2,\n",
              " 4,\n",
              " 3,\n",
              " 1,\n",
              " 3,\n",
              " 4,\n",
              " 4,\n",
              " 3,\n",
              " 4,\n",
              " 1,\n",
              " 3,\n",
              " 5,\n",
              " 1,\n",
              " 3,\n",
              " 6,\n",
              " 5,\n",
              " 1,\n",
              " 5,\n",
              " 6,\n",
              " 9,\n",
              " 3,\n",
              " 8,\n",
              " 7,\n",
              " 1,\n",
              " 4,\n",
              " 9,\n",
              " 4,\n",
              " 7,\n",
              " 7,\n",
              " 1,\n",
              " 3,\n",
              " 2,\n",
              " 5,\n",
              " 4,\n",
              " 3,\n",
              " 6,\n",
              " 4,\n",
              " 2,\n",
              " 2,\n",
              " 3,\n",
              " 3,\n",
              " 2,\n",
              " 2,\n",
              " 6,\n",
              " 1,\n",
              " 3,\n",
              " 4,\n",
              " 5,\n",
              " 6,\n",
              " 7,\n",
              " 6,\n",
              " 6,\n",
              " 3,\n",
              " 5,\n",
              " 2,\n",
              " 4,\n",
              " 7,\n",
              " 1,\n",
              " 1,\n",
              " 5,\n",
              " 1,\n",
              " 2,\n",
              " 2,\n",
              " 5,\n",
              " 1,\n",
              " 4,\n",
              " 1,\n",
              " 2,\n",
              " 5,\n",
              " 1,\n",
              " 4,\n",
              " 2,\n",
              " 4,\n",
              " 3,\n",
              " 13,\n",
              " 4,\n",
              " 4,\n",
              " 5,\n",
              " 7,\n",
              " 2,\n",
              " 3,\n",
              " 1,\n",
              " 3,\n",
              " 9,\n",
              " 2,\n",
              " 3,\n",
              " 10,\n",
              " 4,\n",
              " 2,\n",
              " 3,\n",
              " 6,\n",
              " 2,\n",
              " 2,\n",
              " 7,\n",
              " 1,\n",
              " 1,\n",
              " 8,\n",
              " 1,\n",
              " 1,\n",
              " 6,\n",
              " 1,\n",
              " 1,\n",
              " 3,\n",
              " 6,\n",
              " 3,\n",
              " 8,\n",
              " 3,\n",
              " 4,\n",
              " 3,\n",
              " 3,\n",
              " 7,\n",
              " 6,\n",
              " 4,\n",
              " 3,\n",
              " 1,\n",
              " 5,\n",
              " 5,\n",
              " 3,\n",
              " 6,\n",
              " 3,\n",
              " 11,\n",
              " 6,\n",
              " 7,\n",
              " 1,\n",
              " 4,\n",
              " 2,\n",
              " 2,\n",
              " 4,\n",
              " 2,\n",
              " 6,\n",
              " 2,\n",
              " 4,\n",
              " 5,\n",
              " 2,\n",
              " 6,\n",
              " 2,\n",
              " 4,\n",
              " 2,\n",
              " 2,\n",
              " 7,\n",
              " 1,\n",
              " 1,\n",
              " 5,\n",
              " 1,\n",
              " 1,\n",
              " 8,\n",
              " 3,\n",
              " 2,\n",
              " 9,\n",
              " 3,\n",
              " 4,\n",
              " 2,\n",
              " 3,\n",
              " 3,\n",
              " 1,\n",
              " 4,\n",
              " 5,\n",
              " 7,\n",
              " 1,\n",
              " 5,\n",
              " 4,\n",
              " 6,\n",
              " 3,\n",
              " 5,\n",
              " 8,\n",
              " 2,\n",
              " 3,\n",
              " 3,\n",
              " 1,\n",
              " 8,\n",
              " 1,\n",
              " 5,\n",
              " 3,\n",
              " 6,\n",
              " 1,\n",
              " 3,\n",
              " 3,\n",
              " 2,\n",
              " 1,\n",
              " 4,\n",
              " 9,\n",
              " 4,\n",
              " 1,\n",
              " 3,\n",
              " 4,\n",
              " 4,\n",
              " 7,\n",
              " 2,\n",
              " 1,\n",
              " 4,\n",
              " 1,\n",
              " 7,\n",
              " 1,\n",
              " 7,\n",
              " 3,\n",
              " 5,\n",
              " 2,\n",
              " 3,\n",
              " 5,\n",
              " 1,\n",
              " 3,\n",
              " 7,\n",
              " 3,\n",
              " 3,\n",
              " 6,\n",
              " 3,\n",
              " 4,\n",
              " 1,\n",
              " 4,\n",
              " 2,\n",
              " 2,\n",
              " 5,\n",
              " 1,\n",
              " 1,\n",
              " 6,\n",
              " 1,\n",
              " 1,\n",
              " 3,\n",
              " 4,\n",
              " 7,\n",
              " 2,\n",
              " 1,\n",
              " 2,\n",
              " 7,\n",
              " 4,\n",
              " 7,\n",
              " 4,\n",
              " 4,\n",
              " 1,\n",
              " 4,\n",
              " 2,\n",
              " 8,\n",
              " 5,\n",
              " 1,\n",
              " 6,\n",
              " 1,\n",
              " 5,\n",
              " 3,\n",
              " 5,\n",
              " 2,\n",
              " 4,\n",
              " 5,\n",
              " 5,\n",
              " 3,\n",
              " 5,\n",
              " 5,\n",
              " 1,\n",
              " 2,\n",
              " 5,\n",
              " 2,\n",
              " 7,\n",
              " 4,\n",
              " 2,\n",
              " 3,\n",
              " 4,\n",
              " 1,\n",
              " 3,\n",
              " 3,\n",
              " 4,\n",
              " 6,\n",
              " 4,\n",
              " 7,\n",
              " 2,\n",
              " 3,\n",
              " 3,\n",
              " 7,\n",
              " 1,\n",
              " 2,\n",
              " 5,\n",
              " 4,\n",
              " 4,\n",
              " 5,\n",
              " 1,\n",
              " 5,\n",
              " 1,\n",
              " 4,\n",
              " 5,\n",
              " 5,\n",
              " 4,\n",
              " 1,\n",
              " 2,\n",
              " ...]"
            ]
          },
          "metadata": {},
          "execution_count": 35
        }
      ]
    },
    {
      "cell_type": "code",
      "source": [
        "[w.upper() for w in text1]"
      ],
      "metadata": {
        "colab": {
          "base_uri": "https://localhost:8080/"
        },
        "id": "yEzxJOnkXHJ0",
        "outputId": "8ff467e7-59cb-45e9-8a4d-204c62a33d34"
      },
      "execution_count": null,
      "outputs": [
        {
          "output_type": "execute_result",
          "data": {
            "text/plain": [
              "['[',\n",
              " 'MOBY',\n",
              " 'DICK',\n",
              " 'BY',\n",
              " 'HERMAN',\n",
              " 'MELVILLE',\n",
              " '1851',\n",
              " ']',\n",
              " 'ETYMOLOGY',\n",
              " '.',\n",
              " '(',\n",
              " 'SUPPLIED',\n",
              " 'BY',\n",
              " 'A',\n",
              " 'LATE',\n",
              " 'CONSUMPTIVE',\n",
              " 'USHER',\n",
              " 'TO',\n",
              " 'A',\n",
              " 'GRAMMAR',\n",
              " 'SCHOOL',\n",
              " ')',\n",
              " 'THE',\n",
              " 'PALE',\n",
              " 'USHER',\n",
              " '--',\n",
              " 'THREADBARE',\n",
              " 'IN',\n",
              " 'COAT',\n",
              " ',',\n",
              " 'HEART',\n",
              " ',',\n",
              " 'BODY',\n",
              " ',',\n",
              " 'AND',\n",
              " 'BRAIN',\n",
              " ';',\n",
              " 'I',\n",
              " 'SEE',\n",
              " 'HIM',\n",
              " 'NOW',\n",
              " '.',\n",
              " 'HE',\n",
              " 'WAS',\n",
              " 'EVER',\n",
              " 'DUSTING',\n",
              " 'HIS',\n",
              " 'OLD',\n",
              " 'LEXICONS',\n",
              " 'AND',\n",
              " 'GRAMMARS',\n",
              " ',',\n",
              " 'WITH',\n",
              " 'A',\n",
              " 'QUEER',\n",
              " 'HANDKERCHIEF',\n",
              " ',',\n",
              " 'MOCKINGLY',\n",
              " 'EMBELLISHED',\n",
              " 'WITH',\n",
              " 'ALL',\n",
              " 'THE',\n",
              " 'GAY',\n",
              " 'FLAGS',\n",
              " 'OF',\n",
              " 'ALL',\n",
              " 'THE',\n",
              " 'KNOWN',\n",
              " 'NATIONS',\n",
              " 'OF',\n",
              " 'THE',\n",
              " 'WORLD',\n",
              " '.',\n",
              " 'HE',\n",
              " 'LOVED',\n",
              " 'TO',\n",
              " 'DUST',\n",
              " 'HIS',\n",
              " 'OLD',\n",
              " 'GRAMMARS',\n",
              " ';',\n",
              " 'IT',\n",
              " 'SOMEHOW',\n",
              " 'MILDLY',\n",
              " 'REMINDED',\n",
              " 'HIM',\n",
              " 'OF',\n",
              " 'HIS',\n",
              " 'MORTALITY',\n",
              " '.',\n",
              " '\"',\n",
              " 'WHILE',\n",
              " 'YOU',\n",
              " 'TAKE',\n",
              " 'IN',\n",
              " 'HAND',\n",
              " 'TO',\n",
              " 'SCHOOL',\n",
              " 'OTHERS',\n",
              " ',',\n",
              " 'AND',\n",
              " 'TO',\n",
              " 'TEACH',\n",
              " 'THEM',\n",
              " 'BY',\n",
              " 'WHAT',\n",
              " 'NAME',\n",
              " 'A',\n",
              " 'WHALE',\n",
              " '-',\n",
              " 'FISH',\n",
              " 'IS',\n",
              " 'TO',\n",
              " 'BE',\n",
              " 'CALLED',\n",
              " 'IN',\n",
              " 'OUR',\n",
              " 'TONGUE',\n",
              " 'LEAVING',\n",
              " 'OUT',\n",
              " ',',\n",
              " 'THROUGH',\n",
              " 'IGNORANCE',\n",
              " ',',\n",
              " 'THE',\n",
              " 'LETTER',\n",
              " 'H',\n",
              " ',',\n",
              " 'WHICH',\n",
              " 'ALMOST',\n",
              " 'ALONE',\n",
              " 'MAKETH',\n",
              " 'THE',\n",
              " 'SIGNIFICATION',\n",
              " 'OF',\n",
              " 'THE',\n",
              " 'WORD',\n",
              " ',',\n",
              " 'YOU',\n",
              " 'DELIVER',\n",
              " 'THAT',\n",
              " 'WHICH',\n",
              " 'IS',\n",
              " 'NOT',\n",
              " 'TRUE',\n",
              " '.\"',\n",
              " '--',\n",
              " 'HACKLUYT',\n",
              " '\"',\n",
              " 'WHALE',\n",
              " '.',\n",
              " '...',\n",
              " 'SW',\n",
              " '.',\n",
              " 'AND',\n",
              " 'DAN',\n",
              " '.',\n",
              " 'HVAL',\n",
              " '.',\n",
              " 'THIS',\n",
              " 'ANIMAL',\n",
              " 'IS',\n",
              " 'NAMED',\n",
              " 'FROM',\n",
              " 'ROUNDNESS',\n",
              " 'OR',\n",
              " 'ROLLING',\n",
              " ';',\n",
              " 'FOR',\n",
              " 'IN',\n",
              " 'DAN',\n",
              " '.',\n",
              " 'HVALT',\n",
              " 'IS',\n",
              " 'ARCHED',\n",
              " 'OR',\n",
              " 'VAULTED',\n",
              " '.\"',\n",
              " '--',\n",
              " 'WEBSTER',\n",
              " \"'\",\n",
              " 'S',\n",
              " 'DICTIONARY',\n",
              " '\"',\n",
              " 'WHALE',\n",
              " '.',\n",
              " '...',\n",
              " 'IT',\n",
              " 'IS',\n",
              " 'MORE',\n",
              " 'IMMEDIATELY',\n",
              " 'FROM',\n",
              " 'THE',\n",
              " 'DUT',\n",
              " '.',\n",
              " 'AND',\n",
              " 'GER',\n",
              " '.',\n",
              " 'WALLEN',\n",
              " ';',\n",
              " 'A',\n",
              " '.',\n",
              " 'S',\n",
              " '.',\n",
              " 'WALW',\n",
              " '-',\n",
              " 'IAN',\n",
              " ',',\n",
              " 'TO',\n",
              " 'ROLL',\n",
              " ',',\n",
              " 'TO',\n",
              " 'WALLOW',\n",
              " '.\"',\n",
              " '--',\n",
              " 'RICHARDSON',\n",
              " \"'\",\n",
              " 'S',\n",
              " 'DICTIONARY',\n",
              " 'KETOS',\n",
              " ',',\n",
              " 'GREEK',\n",
              " '.',\n",
              " 'CETUS',\n",
              " ',',\n",
              " 'LATIN',\n",
              " '.',\n",
              " 'WHOEL',\n",
              " ',',\n",
              " 'ANGLO',\n",
              " '-',\n",
              " 'SAXON',\n",
              " '.',\n",
              " 'HVALT',\n",
              " ',',\n",
              " 'DANISH',\n",
              " '.',\n",
              " 'WAL',\n",
              " ',',\n",
              " 'DUTCH',\n",
              " '.',\n",
              " 'HWAL',\n",
              " ',',\n",
              " 'SWEDISH',\n",
              " '.',\n",
              " 'WHALE',\n",
              " ',',\n",
              " 'ICELANDIC',\n",
              " '.',\n",
              " 'WHALE',\n",
              " ',',\n",
              " 'ENGLISH',\n",
              " '.',\n",
              " 'BALEINE',\n",
              " ',',\n",
              " 'FRENCH',\n",
              " '.',\n",
              " 'BALLENA',\n",
              " ',',\n",
              " 'SPANISH',\n",
              " '.',\n",
              " 'PEKEE',\n",
              " '-',\n",
              " 'NUEE',\n",
              " '-',\n",
              " 'NUEE',\n",
              " ',',\n",
              " 'FEGEE',\n",
              " '.',\n",
              " 'PEKEE',\n",
              " '-',\n",
              " 'NUEE',\n",
              " '-',\n",
              " 'NUEE',\n",
              " ',',\n",
              " 'ERROMANGOAN',\n",
              " '.',\n",
              " 'EXTRACTS',\n",
              " '(',\n",
              " 'SUPPLIED',\n",
              " 'BY',\n",
              " 'A',\n",
              " 'SUB',\n",
              " '-',\n",
              " 'SUB',\n",
              " '-',\n",
              " 'LIBRARIAN',\n",
              " ').',\n",
              " 'IT',\n",
              " 'WILL',\n",
              " 'BE',\n",
              " 'SEEN',\n",
              " 'THAT',\n",
              " 'THIS',\n",
              " 'MERE',\n",
              " 'PAINSTAKING',\n",
              " 'BURROWER',\n",
              " 'AND',\n",
              " 'GRUB',\n",
              " '-',\n",
              " 'WORM',\n",
              " 'OF',\n",
              " 'A',\n",
              " 'POOR',\n",
              " 'DEVIL',\n",
              " 'OF',\n",
              " 'A',\n",
              " 'SUB',\n",
              " '-',\n",
              " 'SUB',\n",
              " 'APPEARS',\n",
              " 'TO',\n",
              " 'HAVE',\n",
              " 'GONE',\n",
              " 'THROUGH',\n",
              " 'THE',\n",
              " 'LONG',\n",
              " 'VATICANS',\n",
              " 'AND',\n",
              " 'STREET',\n",
              " '-',\n",
              " 'STALLS',\n",
              " 'OF',\n",
              " 'THE',\n",
              " 'EARTH',\n",
              " ',',\n",
              " 'PICKING',\n",
              " 'UP',\n",
              " 'WHATEVER',\n",
              " 'RANDOM',\n",
              " 'ALLUSIONS',\n",
              " 'TO',\n",
              " 'WHALES',\n",
              " 'HE',\n",
              " 'COULD',\n",
              " 'ANYWAYS',\n",
              " 'FIND',\n",
              " 'IN',\n",
              " 'ANY',\n",
              " 'BOOK',\n",
              " 'WHATSOEVER',\n",
              " ',',\n",
              " 'SACRED',\n",
              " 'OR',\n",
              " 'PROFANE',\n",
              " '.',\n",
              " 'THEREFORE',\n",
              " 'YOU',\n",
              " 'MUST',\n",
              " 'NOT',\n",
              " ',',\n",
              " 'IN',\n",
              " 'EVERY',\n",
              " 'CASE',\n",
              " 'AT',\n",
              " 'LEAST',\n",
              " ',',\n",
              " 'TAKE',\n",
              " 'THE',\n",
              " 'HIGGLEDY',\n",
              " '-',\n",
              " 'PIGGLEDY',\n",
              " 'WHALE',\n",
              " 'STATEMENTS',\n",
              " ',',\n",
              " 'HOWEVER',\n",
              " 'AUTHENTIC',\n",
              " ',',\n",
              " 'IN',\n",
              " 'THESE',\n",
              " 'EXTRACTS',\n",
              " ',',\n",
              " 'FOR',\n",
              " 'VERITABLE',\n",
              " 'GOSPEL',\n",
              " 'CETOLOGY',\n",
              " '.',\n",
              " 'FAR',\n",
              " 'FROM',\n",
              " 'IT',\n",
              " '.',\n",
              " 'AS',\n",
              " 'TOUCHING',\n",
              " 'THE',\n",
              " 'ANCIENT',\n",
              " 'AUTHORS',\n",
              " 'GENERALLY',\n",
              " ',',\n",
              " 'AS',\n",
              " 'WELL',\n",
              " 'AS',\n",
              " 'THE',\n",
              " 'POETS',\n",
              " 'HERE',\n",
              " 'APPEARING',\n",
              " ',',\n",
              " 'THESE',\n",
              " 'EXTRACTS',\n",
              " 'ARE',\n",
              " 'SOLELY',\n",
              " 'VALUABLE',\n",
              " 'OR',\n",
              " 'ENTERTAINING',\n",
              " ',',\n",
              " 'AS',\n",
              " 'AFFORDING',\n",
              " 'A',\n",
              " 'GLANCING',\n",
              " 'BIRD',\n",
              " \"'\",\n",
              " 'S',\n",
              " 'EYE',\n",
              " 'VIEW',\n",
              " 'OF',\n",
              " 'WHAT',\n",
              " 'HAS',\n",
              " 'BEEN',\n",
              " 'PROMISCUOUSLY',\n",
              " 'SAID',\n",
              " ',',\n",
              " 'THOUGHT',\n",
              " ',',\n",
              " 'FANCIED',\n",
              " ',',\n",
              " 'AND',\n",
              " 'SUNG',\n",
              " 'OF',\n",
              " 'LEVIATHAN',\n",
              " ',',\n",
              " 'BY',\n",
              " 'MANY',\n",
              " 'NATIONS',\n",
              " 'AND',\n",
              " 'GENERATIONS',\n",
              " ',',\n",
              " 'INCLUDING',\n",
              " 'OUR',\n",
              " 'OWN',\n",
              " '.',\n",
              " 'SO',\n",
              " 'FARE',\n",
              " 'THEE',\n",
              " 'WELL',\n",
              " ',',\n",
              " 'POOR',\n",
              " 'DEVIL',\n",
              " 'OF',\n",
              " 'A',\n",
              " 'SUB',\n",
              " '-',\n",
              " 'SUB',\n",
              " ',',\n",
              " 'WHOSE',\n",
              " 'COMMENTATOR',\n",
              " 'I',\n",
              " 'AM',\n",
              " '.',\n",
              " 'THOU',\n",
              " 'BELONGEST',\n",
              " 'TO',\n",
              " 'THAT',\n",
              " 'HOPELESS',\n",
              " ',',\n",
              " 'SALLOW',\n",
              " 'TRIBE',\n",
              " 'WHICH',\n",
              " 'NO',\n",
              " 'WINE',\n",
              " 'OF',\n",
              " 'THIS',\n",
              " 'WORLD',\n",
              " 'WILL',\n",
              " 'EVER',\n",
              " 'WARM',\n",
              " ';',\n",
              " 'AND',\n",
              " 'FOR',\n",
              " 'WHOM',\n",
              " 'EVEN',\n",
              " 'PALE',\n",
              " 'SHERRY',\n",
              " 'WOULD',\n",
              " 'BE',\n",
              " 'TOO',\n",
              " 'ROSY',\n",
              " '-',\n",
              " 'STRONG',\n",
              " ';',\n",
              " 'BUT',\n",
              " 'WITH',\n",
              " 'WHOM',\n",
              " 'ONE',\n",
              " 'SOMETIMES',\n",
              " 'LOVES',\n",
              " 'TO',\n",
              " 'SIT',\n",
              " ',',\n",
              " 'AND',\n",
              " 'FEEL',\n",
              " 'POOR',\n",
              " '-',\n",
              " 'DEVILISH',\n",
              " ',',\n",
              " 'TOO',\n",
              " ';',\n",
              " 'AND',\n",
              " 'GROW',\n",
              " 'CONVIVIAL',\n",
              " 'UPON',\n",
              " 'TEARS',\n",
              " ';',\n",
              " 'AND',\n",
              " 'SAY',\n",
              " 'TO',\n",
              " 'THEM',\n",
              " 'BLUNTLY',\n",
              " ',',\n",
              " 'WITH',\n",
              " 'FULL',\n",
              " 'EYES',\n",
              " 'AND',\n",
              " 'EMPTY',\n",
              " 'GLASSES',\n",
              " ',',\n",
              " 'AND',\n",
              " 'IN',\n",
              " 'NOT',\n",
              " 'ALTOGETHER',\n",
              " 'UNPLEASANT',\n",
              " 'SADNESS',\n",
              " '--',\n",
              " 'GIVE',\n",
              " 'IT',\n",
              " 'UP',\n",
              " ',',\n",
              " 'SUB',\n",
              " '-',\n",
              " 'SUBS',\n",
              " '!',\n",
              " 'FOR',\n",
              " 'BY',\n",
              " 'HOW',\n",
              " 'MUCH',\n",
              " 'THE',\n",
              " 'MORE',\n",
              " 'PAINS',\n",
              " 'YE',\n",
              " 'TAKE',\n",
              " 'TO',\n",
              " 'PLEASE',\n",
              " 'THE',\n",
              " 'WORLD',\n",
              " ',',\n",
              " 'BY',\n",
              " 'SO',\n",
              " 'MUCH',\n",
              " 'THE',\n",
              " 'MORE',\n",
              " 'SHALL',\n",
              " 'YE',\n",
              " 'FOR',\n",
              " 'EVER',\n",
              " 'GO',\n",
              " 'THANKLESS',\n",
              " '!',\n",
              " 'WOULD',\n",
              " 'THAT',\n",
              " 'I',\n",
              " 'COULD',\n",
              " 'CLEAR',\n",
              " 'OUT',\n",
              " 'HAMPTON',\n",
              " 'COURT',\n",
              " 'AND',\n",
              " 'THE',\n",
              " 'TUILERIES',\n",
              " 'FOR',\n",
              " 'YE',\n",
              " '!',\n",
              " 'BUT',\n",
              " 'GULP',\n",
              " 'DOWN',\n",
              " 'YOUR',\n",
              " 'TEARS',\n",
              " 'AND',\n",
              " 'HIE',\n",
              " 'ALOFT',\n",
              " 'TO',\n",
              " 'THE',\n",
              " 'ROYAL',\n",
              " '-',\n",
              " 'MAST',\n",
              " 'WITH',\n",
              " 'YOUR',\n",
              " 'HEARTS',\n",
              " ';',\n",
              " 'FOR',\n",
              " 'YOUR',\n",
              " 'FRIENDS',\n",
              " 'WHO',\n",
              " 'HAVE',\n",
              " 'GONE',\n",
              " 'BEFORE',\n",
              " 'ARE',\n",
              " 'CLEARING',\n",
              " 'OUT',\n",
              " 'THE',\n",
              " 'SEVEN',\n",
              " '-',\n",
              " 'STORIED',\n",
              " 'HEAVENS',\n",
              " ',',\n",
              " 'AND',\n",
              " 'MAKING',\n",
              " 'REFUGEES',\n",
              " 'OF',\n",
              " 'LONG',\n",
              " '-',\n",
              " 'PAMPERED',\n",
              " 'GABRIEL',\n",
              " ',',\n",
              " 'MICHAEL',\n",
              " ',',\n",
              " 'AND',\n",
              " 'RAPHAEL',\n",
              " ',',\n",
              " 'AGAINST',\n",
              " 'YOUR',\n",
              " 'COMING',\n",
              " '.',\n",
              " 'HERE',\n",
              " 'YE',\n",
              " 'STRIKE',\n",
              " 'BUT',\n",
              " 'SPLINTERED',\n",
              " 'HEARTS',\n",
              " 'TOGETHER',\n",
              " '--',\n",
              " 'THERE',\n",
              " ',',\n",
              " 'YE',\n",
              " 'SHALL',\n",
              " 'STRIKE',\n",
              " 'UNSPLINTERABLE',\n",
              " 'GLASSES',\n",
              " '!',\n",
              " 'EXTRACTS',\n",
              " '.',\n",
              " '\"',\n",
              " 'AND',\n",
              " 'GOD',\n",
              " 'CREATED',\n",
              " 'GREAT',\n",
              " 'WHALES',\n",
              " '.\"',\n",
              " '--',\n",
              " 'GENESIS',\n",
              " '.',\n",
              " '\"',\n",
              " 'LEVIATHAN',\n",
              " 'MAKETH',\n",
              " 'A',\n",
              " 'PATH',\n",
              " 'TO',\n",
              " 'SHINE',\n",
              " 'AFTER',\n",
              " 'HIM',\n",
              " ';',\n",
              " 'ONE',\n",
              " 'WOULD',\n",
              " 'THINK',\n",
              " 'THE',\n",
              " 'DEEP',\n",
              " 'TO',\n",
              " 'BE',\n",
              " 'HOARY',\n",
              " '.\"',\n",
              " '--',\n",
              " 'JOB',\n",
              " '.',\n",
              " '\"',\n",
              " 'NOW',\n",
              " 'THE',\n",
              " 'LORD',\n",
              " 'HAD',\n",
              " 'PREPARED',\n",
              " 'A',\n",
              " 'GREAT',\n",
              " 'FISH',\n",
              " 'TO',\n",
              " 'SWALLOW',\n",
              " 'UP',\n",
              " 'JONAH',\n",
              " '.\"',\n",
              " '--',\n",
              " 'JONAH',\n",
              " '.',\n",
              " '\"',\n",
              " 'THERE',\n",
              " 'GO',\n",
              " 'THE',\n",
              " 'SHIPS',\n",
              " ';',\n",
              " 'THERE',\n",
              " 'IS',\n",
              " 'THAT',\n",
              " 'LEVIATHAN',\n",
              " 'WHOM',\n",
              " 'THOU',\n",
              " 'HAST',\n",
              " 'MADE',\n",
              " 'TO',\n",
              " 'PLAY',\n",
              " 'THEREIN',\n",
              " '.\"',\n",
              " '--',\n",
              " 'PSALMS',\n",
              " '.',\n",
              " '\"',\n",
              " 'IN',\n",
              " 'THAT',\n",
              " 'DAY',\n",
              " ',',\n",
              " 'THE',\n",
              " 'LORD',\n",
              " 'WITH',\n",
              " 'HIS',\n",
              " 'SORE',\n",
              " ',',\n",
              " 'AND',\n",
              " 'GREAT',\n",
              " ',',\n",
              " 'AND',\n",
              " 'STRONG',\n",
              " 'SWORD',\n",
              " ',',\n",
              " 'SHALL',\n",
              " 'PUNISH',\n",
              " 'LEVIATHAN',\n",
              " 'THE',\n",
              " 'PIERCING',\n",
              " 'SERPENT',\n",
              " ',',\n",
              " 'EVEN',\n",
              " 'LEVIATHAN',\n",
              " 'THAT',\n",
              " 'CROOKED',\n",
              " 'SERPENT',\n",
              " ';',\n",
              " 'AND',\n",
              " 'HE',\n",
              " 'SHALL',\n",
              " 'SLAY',\n",
              " 'THE',\n",
              " 'DRAGON',\n",
              " 'THAT',\n",
              " 'IS',\n",
              " 'IN',\n",
              " 'THE',\n",
              " 'SEA',\n",
              " '.\"',\n",
              " '--',\n",
              " 'ISAIAH',\n",
              " '\"',\n",
              " 'AND',\n",
              " 'WHAT',\n",
              " 'THING',\n",
              " 'SOEVER',\n",
              " 'BESIDES',\n",
              " 'COMETH',\n",
              " 'WITHIN',\n",
              " 'THE',\n",
              " 'CHAOS',\n",
              " 'OF',\n",
              " 'THIS',\n",
              " 'MONSTER',\n",
              " \"'\",\n",
              " 'S',\n",
              " 'MOUTH',\n",
              " ',',\n",
              " 'BE',\n",
              " 'IT',\n",
              " 'BEAST',\n",
              " ',',\n",
              " 'BOAT',\n",
              " ',',\n",
              " 'OR',\n",
              " 'STONE',\n",
              " ',',\n",
              " 'DOWN',\n",
              " 'IT',\n",
              " 'GOES',\n",
              " 'ALL',\n",
              " 'INCONTINENTLY',\n",
              " 'THAT',\n",
              " 'FOUL',\n",
              " 'GREAT',\n",
              " 'SWALLOW',\n",
              " 'OF',\n",
              " 'HIS',\n",
              " ',',\n",
              " 'AND',\n",
              " 'PERISHETH',\n",
              " 'IN',\n",
              " 'THE',\n",
              " 'BOTTOMLESS',\n",
              " 'GULF',\n",
              " 'OF',\n",
              " 'HIS',\n",
              " 'PAUNCH',\n",
              " '.\"',\n",
              " '--',\n",
              " 'HOLLAND',\n",
              " \"'\",\n",
              " 'S',\n",
              " 'PLUTARCH',\n",
              " \"'\",\n",
              " 'S',\n",
              " 'MORALS',\n",
              " '.',\n",
              " '\"',\n",
              " 'THE',\n",
              " 'INDIAN',\n",
              " 'SEA',\n",
              " 'BREEDETH',\n",
              " 'THE',\n",
              " 'MOST',\n",
              " 'AND',\n",
              " 'THE',\n",
              " 'BIGGEST',\n",
              " 'FISHES',\n",
              " 'THAT',\n",
              " 'ARE',\n",
              " ':',\n",
              " 'AMONG',\n",
              " 'WHICH',\n",
              " 'THE',\n",
              " 'WHALES',\n",
              " 'AND',\n",
              " 'WHIRLPOOLES',\n",
              " 'CALLED',\n",
              " 'BALAENE',\n",
              " ',',\n",
              " 'TAKE',\n",
              " 'UP',\n",
              " 'AS',\n",
              " 'MUCH',\n",
              " 'IN',\n",
              " 'LENGTH',\n",
              " 'AS',\n",
              " 'FOUR',\n",
              " 'ACRES',\n",
              " 'OR',\n",
              " 'ARPENS',\n",
              " 'OF',\n",
              " 'LAND',\n",
              " '.\"',\n",
              " '--',\n",
              " 'HOLLAND',\n",
              " \"'\",\n",
              " 'S',\n",
              " 'PLINY',\n",
              " '.',\n",
              " '\"',\n",
              " 'SCARCELY',\n",
              " 'HAD',\n",
              " 'WE',\n",
              " 'PROCEEDED',\n",
              " 'TWO',\n",
              " 'DAYS',\n",
              " 'ON',\n",
              " 'THE',\n",
              " 'SEA',\n",
              " ',',\n",
              " 'WHEN',\n",
              " 'ABOUT',\n",
              " 'SUNRISE',\n",
              " 'A',\n",
              " 'GREAT',\n",
              " 'MANY',\n",
              " 'WHALES',\n",
              " 'AND',\n",
              " 'OTHER',\n",
              " 'MONSTERS',\n",
              " 'OF',\n",
              " 'THE',\n",
              " 'SEA',\n",
              " ',',\n",
              " 'APPEARED',\n",
              " '.',\n",
              " 'AMONG',\n",
              " 'THE',\n",
              " 'FORMER',\n",
              " ',',\n",
              " 'ONE',\n",
              " 'WAS',\n",
              " 'OF',\n",
              " 'A',\n",
              " 'MOST',\n",
              " 'MONSTROUS',\n",
              " 'SIZE',\n",
              " '.',\n",
              " '...',\n",
              " 'THIS',\n",
              " 'CAME',\n",
              " 'TOWARDS',\n",
              " 'US',\n",
              " ',',\n",
              " 'OPEN',\n",
              " '-',\n",
              " 'MOUTHED',\n",
              " ',',\n",
              " 'RAISING',\n",
              " 'THE',\n",
              " 'WAVES',\n",
              " 'ON',\n",
              " 'ALL',\n",
              " 'SIDES',\n",
              " ',',\n",
              " 'AND',\n",
              " 'BEATING',\n",
              " 'THE',\n",
              " 'SEA',\n",
              " 'BEFORE',\n",
              " 'HIM',\n",
              " 'INTO',\n",
              " 'A',\n",
              " 'FOAM',\n",
              " '.\"',\n",
              " '--',\n",
              " 'TOOKE',\n",
              " \"'\",\n",
              " 'S',\n",
              " 'LUCIAN',\n",
              " '.',\n",
              " '\"',\n",
              " 'THE',\n",
              " 'TRUE',\n",
              " 'HISTORY',\n",
              " '.\"',\n",
              " '\"',\n",
              " 'HE',\n",
              " 'VISITED',\n",
              " 'THIS',\n",
              " 'COUNTRY',\n",
              " 'ALSO',\n",
              " 'WITH',\n",
              " 'A',\n",
              " 'VIEW',\n",
              " 'OF',\n",
              " 'CATCHING',\n",
              " 'HORSE',\n",
              " '-',\n",
              " 'WHALES',\n",
              " ',',\n",
              " 'WHICH',\n",
              " 'HAD',\n",
              " 'BONES',\n",
              " 'OF',\n",
              " 'VERY',\n",
              " 'GREAT',\n",
              " 'VALUE',\n",
              " 'FOR',\n",
              " 'THEIR',\n",
              " 'TEETH',\n",
              " ',',\n",
              " 'OF',\n",
              " 'WHICH',\n",
              " 'HE',\n",
              " 'BROUGHT',\n",
              " 'SOME',\n",
              " 'TO',\n",
              " 'THE',\n",
              " 'KING',\n",
              " '.',\n",
              " '...',\n",
              " 'THE',\n",
              " 'BEST',\n",
              " 'WHALES',\n",
              " 'WERE',\n",
              " 'CATCHED',\n",
              " 'IN',\n",
              " 'HIS',\n",
              " 'OWN',\n",
              " 'COUNTRY',\n",
              " ',',\n",
              " 'OF',\n",
              " 'WHICH',\n",
              " 'SOME',\n",
              " 'WERE',\n",
              " 'FORTY',\n",
              " '-',\n",
              " 'EIGHT',\n",
              " ',',\n",
              " 'SOME',\n",
              " 'FIFTY',\n",
              " 'YARDS',\n",
              " 'LONG',\n",
              " '.',\n",
              " 'HE',\n",
              " ...]"
            ]
          },
          "metadata": {},
          "execution_count": 36
        }
      ]
    },
    {
      "cell_type": "code",
      "source": [
        "len(text1)"
      ],
      "metadata": {
        "colab": {
          "base_uri": "https://localhost:8080/"
        },
        "id": "VvuUzJShXJqp",
        "outputId": "856a4df8-1b9b-4096-b42f-ee1410fd5ab0"
      },
      "execution_count": null,
      "outputs": [
        {
          "output_type": "execute_result",
          "data": {
            "text/plain": [
              "260819"
            ]
          },
          "metadata": {},
          "execution_count": 37
        }
      ]
    },
    {
      "cell_type": "code",
      "source": [
        "len(set(text1))"
      ],
      "metadata": {
        "colab": {
          "base_uri": "https://localhost:8080/"
        },
        "id": "GsVszuFGXK_l",
        "outputId": "38e3359f-7f46-497d-cf7a-ee14c7199885"
      },
      "execution_count": null,
      "outputs": [
        {
          "output_type": "execute_result",
          "data": {
            "text/plain": [
              "19317"
            ]
          },
          "metadata": {},
          "execution_count": 38
        }
      ]
    },
    {
      "cell_type": "code",
      "source": [
        "len(set(word.lower() for word in text1))"
      ],
      "metadata": {
        "colab": {
          "base_uri": "https://localhost:8080/"
        },
        "id": "lEuWUMoGXMFW",
        "outputId": "8dc53ae2-4e7e-46cc-de6b-934bdc315cec"
      },
      "execution_count": null,
      "outputs": [
        {
          "output_type": "execute_result",
          "data": {
            "text/plain": [
              "17231"
            ]
          },
          "metadata": {},
          "execution_count": 39
        }
      ]
    },
    {
      "cell_type": "code",
      "source": [
        "len(set(word.lower() for word in text1 if word.isalpha()))"
      ],
      "metadata": {
        "colab": {
          "base_uri": "https://localhost:8080/"
        },
        "id": "rII72QV0XRuS",
        "outputId": "1579bd4c-fb22-4802-e709-cf1a1b244f2d"
      },
      "execution_count": null,
      "outputs": [
        {
          "output_type": "execute_result",
          "data": {
            "text/plain": [
              "16948"
            ]
          },
          "metadata": {},
          "execution_count": 40
        }
      ]
    },
    {
      "cell_type": "code",
      "source": [
        "# Nested Code Blocks\n",
        "word = 'cat'"
      ],
      "metadata": {
        "id": "gdOEnhquXXRm"
      },
      "execution_count": null,
      "outputs": []
    },
    {
      "cell_type": "code",
      "source": [
        "if len(word) < 5:\n",
        "    print('0')"
      ],
      "metadata": {
        "colab": {
          "base_uri": "https://localhost:8080/"
        },
        "id": "SvE8-MN7Xc6v",
        "outputId": "e1becea9-437a-4eb0-bed9-e3775dd0465b"
      },
      "execution_count": null,
      "outputs": [
        {
          "output_type": "stream",
          "name": "stdout",
          "text": [
            "0\n"
          ]
        }
      ]
    },
    {
      "cell_type": "code",
      "source": [
        "if len(word) >= 5:\n",
        "    print('0')"
      ],
      "metadata": {
        "id": "xUh_PF7oXh8J"
      },
      "execution_count": null,
      "outputs": []
    },
    {
      "cell_type": "code",
      "source": [
        "for word in ['Call','me','Ishamel','.']:\n",
        "    print(word)"
      ],
      "metadata": {
        "colab": {
          "base_uri": "https://localhost:8080/"
        },
        "id": "W6XUWxduXpct",
        "outputId": "98c4d65a-12fe-4145-88da-6e56fbfb11b7"
      },
      "execution_count": null,
      "outputs": [
        {
          "output_type": "stream",
          "name": "stdout",
          "text": [
            "Call\n",
            "me\n",
            "Ishamel\n",
            ".\n"
          ]
        }
      ]
    },
    {
      "cell_type": "code",
      "source": [
        "# Looping with Conditions\n",
        "sent1 = ['Call','me','Ishamel','.']"
      ],
      "metadata": {
        "id": "Ib6Kg09LXw6e"
      },
      "execution_count": null,
      "outputs": []
    },
    {
      "cell_type": "code",
      "source": [
        "for xyzzy in sent1:\n",
        "    if xyzzy.endswith('l'):\n",
        "        print(xyzzy)"
      ],
      "metadata": {
        "colab": {
          "base_uri": "https://localhost:8080/"
        },
        "id": "jbVK3dEBX6oR",
        "outputId": "2b28733c-fb2b-41a4-de65-10df2f2ad040"
      },
      "execution_count": null,
      "outputs": [
        {
          "output_type": "stream",
          "name": "stdout",
          "text": [
            "Call\n",
            "Ishamel\n"
          ]
        }
      ]
    },
    {
      "cell_type": "code",
      "source": [
        "for token in sent1:\n",
        "    if token.islower():\n",
        "        print(token,'is a lowercase word')\n",
        "    elif token.istitle():\n",
        "        print(token,'is a titlecase word')\n",
        "    else:\n",
        "        print(token,'is punctuation')"
      ],
      "metadata": {
        "colab": {
          "base_uri": "https://localhost:8080/"
        },
        "id": "weDasfHCYBsi",
        "outputId": "c6a2e520-90c6-4230-8685-d5f5b86ee5ea"
      },
      "execution_count": null,
      "outputs": [
        {
          "output_type": "stream",
          "name": "stdout",
          "text": [
            "Call is a titlecase word\n",
            "me is a lowercase word\n",
            "Ishamel is a titlecase word\n",
            ". is punctuation\n"
          ]
        }
      ]
    },
    {
      "cell_type": "code",
      "source": [
        "tricky = sorted(w for w in set(text2) if 'cie' in w or 'cei' in w)\n",
        "for word in tricky:\n",
        "    print(word,end=' ')"
      ],
      "metadata": {
        "colab": {
          "base_uri": "https://localhost:8080/"
        },
        "id": "AbfB1POTYaZk",
        "outputId": "020473f7-759b-4b61-b433-b73e5c68ddff"
      },
      "execution_count": null,
      "outputs": [
        {
          "output_type": "stream",
          "name": "stdout",
          "text": [
            "ancient ceiling conceit conceited conceive conscience conscientious conscientiously deceitful deceive deceived deceiving deficiencies deficiency deficient delicacies excellencies fancied insufficiency insufficient legacies perceive perceived perceiving prescience prophecies receipt receive received receiving society species sufficient sufficiently undeceive undeceiving "
          ]
        }
      ]
    },
    {
      "cell_type": "markdown",
      "source": [
        "## Week 2"
      ],
      "metadata": {
        "id": "Wls84VXWY1eM"
      }
    },
    {
      "cell_type": "code",
      "source": [
        "# Gutenberg Corpus\n",
        "import nltk\n",
        "nltk.download('gutenberg')"
      ],
      "metadata": {
        "colab": {
          "base_uri": "https://localhost:8080/"
        },
        "id": "I4vcs49nYp6z",
        "outputId": "f36c62f2-e2f0-4577-e7d6-58cd2bf8c373"
      },
      "execution_count": null,
      "outputs": [
        {
          "output_type": "stream",
          "name": "stderr",
          "text": [
            "[nltk_data] Downloading package gutenberg to /root/nltk_data...\n",
            "[nltk_data]   Unzipping corpora/gutenberg.zip.\n"
          ]
        },
        {
          "output_type": "execute_result",
          "data": {
            "text/plain": [
              "True"
            ]
          },
          "metadata": {},
          "execution_count": 11
        }
      ]
    },
    {
      "cell_type": "code",
      "source": [
        "from nltk.corpus import gutenberg\n",
        "gutenberg.fileids()"
      ],
      "metadata": {
        "colab": {
          "base_uri": "https://localhost:8080/"
        },
        "id": "I0rRcEosZBYe",
        "outputId": "e3a81d9c-5cb9-4bf3-b69d-d31427f897c0"
      },
      "execution_count": null,
      "outputs": [
        {
          "output_type": "execute_result",
          "data": {
            "text/plain": [
              "['austen-emma.txt',\n",
              " 'austen-persuasion.txt',\n",
              " 'austen-sense.txt',\n",
              " 'bible-kjv.txt',\n",
              " 'blake-poems.txt',\n",
              " 'bryant-stories.txt',\n",
              " 'burgess-busterbrown.txt',\n",
              " 'carroll-alice.txt',\n",
              " 'chesterton-ball.txt',\n",
              " 'chesterton-brown.txt',\n",
              " 'chesterton-thursday.txt',\n",
              " 'edgeworth-parents.txt',\n",
              " 'melville-moby_dick.txt',\n",
              " 'milton-paradise.txt',\n",
              " 'shakespeare-caesar.txt',\n",
              " 'shakespeare-hamlet.txt',\n",
              " 'shakespeare-macbeth.txt',\n",
              " 'whitman-leaves.txt']"
            ]
          },
          "metadata": {},
          "execution_count": 54
        }
      ]
    },
    {
      "cell_type": "code",
      "source": [
        "emma = gutenberg.words('austen-emma.txt')"
      ],
      "metadata": {
        "id": "06bjov3MZIp_"
      },
      "execution_count": null,
      "outputs": []
    },
    {
      "cell_type": "code",
      "source": [
        "len(emma)"
      ],
      "metadata": {
        "colab": {
          "base_uri": "https://localhost:8080/"
        },
        "id": "46c18LkLZPbd",
        "outputId": "17ddd9d9-d49b-4efe-d546-ae753a9bd5c4"
      },
      "execution_count": null,
      "outputs": [
        {
          "output_type": "execute_result",
          "data": {
            "text/plain": [
              "192427"
            ]
          },
          "metadata": {},
          "execution_count": 56
        }
      ]
    },
    {
      "cell_type": "code",
      "source": [
        "nltk.download('punkt') # tokenization"
      ],
      "metadata": {
        "colab": {
          "base_uri": "https://localhost:8080/"
        },
        "id": "iMjG1ooOZQHn",
        "outputId": "b5c7de16-a40c-45a3-eaee-a566133c1c0f"
      },
      "execution_count": null,
      "outputs": [
        {
          "output_type": "stream",
          "name": "stderr",
          "text": [
            "[nltk_data] Downloading package punkt to /root/nltk_data...\n",
            "[nltk_data]   Package punkt is already up-to-date!\n"
          ]
        },
        {
          "output_type": "execute_result",
          "data": {
            "text/plain": [
              "True"
            ]
          },
          "metadata": {},
          "execution_count": 57
        }
      ]
    },
    {
      "cell_type": "code",
      "source": [
        "for fileid in gutenberg.fileids():\n",
        "    num_chars = len(gutenberg.raw(fileid))\n",
        "    num_words = len(gutenberg.words(fileid))\n",
        "    num_sents = len(gutenberg.sents(fileid))\n",
        "    num_vocab = len(set(w.lower() for w in gutenberg.words(fileid))) # Why use lower()\n",
        "    print(round(num_chars/num_words),round(num_words/num_sents),round(num_words/num_vocab),fileid)"
      ],
      "metadata": {
        "colab": {
          "base_uri": "https://localhost:8080/"
        },
        "id": "dkAVS95yZUCD",
        "outputId": "f4d54c6b-1a3d-4c1f-dba6-a6aaea8a57ed"
      },
      "execution_count": null,
      "outputs": [
        {
          "output_type": "stream",
          "name": "stdout",
          "text": [
            "5 25 26 austen-emma.txt\n",
            "5 26 17 austen-persuasion.txt\n",
            "5 28 22 austen-sense.txt\n",
            "4 34 79 bible-kjv.txt\n",
            "5 19 5 blake-poems.txt\n",
            "4 19 14 bryant-stories.txt\n",
            "4 18 12 burgess-busterbrown.txt\n",
            "4 20 13 carroll-alice.txt\n",
            "5 20 12 chesterton-ball.txt\n",
            "5 23 11 chesterton-brown.txt\n",
            "5 19 11 chesterton-thursday.txt\n",
            "4 21 25 edgeworth-parents.txt\n",
            "5 26 15 melville-moby_dick.txt\n",
            "5 52 11 milton-paradise.txt\n",
            "4 12 9 shakespeare-caesar.txt\n",
            "4 12 8 shakespeare-hamlet.txt\n",
            "4 12 7 shakespeare-macbeth.txt\n",
            "5 36 12 whitman-leaves.txt\n"
          ]
        }
      ]
    },
    {
      "cell_type": "code",
      "source": [
        "macbeth_sentences = gutenberg.sents('shakespeare-macbeth.txt')"
      ],
      "metadata": {
        "id": "V_2sN4lDZ9PM"
      },
      "execution_count": null,
      "outputs": []
    },
    {
      "cell_type": "code",
      "source": [
        "macbeth_sentences"
      ],
      "metadata": {
        "colab": {
          "base_uri": "https://localhost:8080/"
        },
        "id": "x5U5hIIvaMiP",
        "outputId": "85bde33a-5f93-494a-cc2f-cc3f35612d31"
      },
      "execution_count": null,
      "outputs": [
        {
          "output_type": "execute_result",
          "data": {
            "text/plain": [
              "[['[', 'The', 'Tragedie', 'of', 'Macbeth', 'by', 'William', 'Shakespeare', '1603', ']'], ['Actus', 'Primus', '.'], ...]"
            ]
          },
          "metadata": {},
          "execution_count": 60
        }
      ]
    },
    {
      "cell_type": "code",
      "source": [
        "macbeth_sentences[1116]"
      ],
      "metadata": {
        "colab": {
          "base_uri": "https://localhost:8080/"
        },
        "id": "_YdLRHJGaN4N",
        "outputId": "e8f4ccd1-c16e-4181-9ec1-5b24ab54ceb4"
      },
      "execution_count": null,
      "outputs": [
        {
          "output_type": "execute_result",
          "data": {
            "text/plain": [
              "['Double',\n",
              " ',',\n",
              " 'double',\n",
              " ',',\n",
              " 'toile',\n",
              " 'and',\n",
              " 'trouble',\n",
              " ';',\n",
              " 'Fire',\n",
              " 'burne',\n",
              " ',',\n",
              " 'and',\n",
              " 'Cauldron',\n",
              " 'bubble']"
            ]
          },
          "metadata": {},
          "execution_count": 61
        }
      ]
    },
    {
      "cell_type": "code",
      "source": [
        "longest_len = max(len(s) for s in macbeth_sentences)"
      ],
      "metadata": {
        "id": "iDRMsFVlaQGC"
      },
      "execution_count": null,
      "outputs": []
    },
    {
      "cell_type": "code",
      "source": [
        "longest_len"
      ],
      "metadata": {
        "colab": {
          "base_uri": "https://localhost:8080/"
        },
        "id": "FrOXO-FRaWaI",
        "outputId": "e39a5a56-cdbe-40f9-9b24-0ed0ca917a49"
      },
      "execution_count": null,
      "outputs": [
        {
          "output_type": "execute_result",
          "data": {
            "text/plain": [
              "158"
            ]
          },
          "metadata": {},
          "execution_count": 63
        }
      ]
    },
    {
      "cell_type": "code",
      "source": [
        "[s for s in macbeth_sentences if len(s) == longest_len]"
      ],
      "metadata": {
        "colab": {
          "base_uri": "https://localhost:8080/"
        },
        "id": "Wp2vlXCDaXbG",
        "outputId": "57f49a44-8323-41ca-e3f8-ea04dab4a5ba"
      },
      "execution_count": null,
      "outputs": [
        {
          "output_type": "execute_result",
          "data": {
            "text/plain": [
              "[['Doubtfull',\n",
              "  'it',\n",
              "  'stood',\n",
              "  ',',\n",
              "  'As',\n",
              "  'two',\n",
              "  'spent',\n",
              "  'Swimmers',\n",
              "  ',',\n",
              "  'that',\n",
              "  'doe',\n",
              "  'cling',\n",
              "  'together',\n",
              "  ',',\n",
              "  'And',\n",
              "  'choake',\n",
              "  'their',\n",
              "  'Art',\n",
              "  ':',\n",
              "  'The',\n",
              "  'mercilesse',\n",
              "  'Macdonwald',\n",
              "  '(',\n",
              "  'Worthie',\n",
              "  'to',\n",
              "  'be',\n",
              "  'a',\n",
              "  'Rebell',\n",
              "  ',',\n",
              "  'for',\n",
              "  'to',\n",
              "  'that',\n",
              "  'The',\n",
              "  'multiplying',\n",
              "  'Villanies',\n",
              "  'of',\n",
              "  'Nature',\n",
              "  'Doe',\n",
              "  'swarme',\n",
              "  'vpon',\n",
              "  'him',\n",
              "  ')',\n",
              "  'from',\n",
              "  'the',\n",
              "  'Westerne',\n",
              "  'Isles',\n",
              "  'Of',\n",
              "  'Kernes',\n",
              "  'and',\n",
              "  'Gallowgrosses',\n",
              "  'is',\n",
              "  'supply',\n",
              "  \"'\",\n",
              "  'd',\n",
              "  ',',\n",
              "  'And',\n",
              "  'Fortune',\n",
              "  'on',\n",
              "  'his',\n",
              "  'damned',\n",
              "  'Quarry',\n",
              "  'smiling',\n",
              "  ',',\n",
              "  'Shew',\n",
              "  \"'\",\n",
              "  'd',\n",
              "  'like',\n",
              "  'a',\n",
              "  'Rebells',\n",
              "  'Whore',\n",
              "  ':',\n",
              "  'but',\n",
              "  'all',\n",
              "  \"'\",\n",
              "  's',\n",
              "  'too',\n",
              "  'weake',\n",
              "  ':',\n",
              "  'For',\n",
              "  'braue',\n",
              "  'Macbeth',\n",
              "  '(',\n",
              "  'well',\n",
              "  'hee',\n",
              "  'deserues',\n",
              "  'that',\n",
              "  'Name',\n",
              "  ')',\n",
              "  'Disdayning',\n",
              "  'Fortune',\n",
              "  ',',\n",
              "  'with',\n",
              "  'his',\n",
              "  'brandisht',\n",
              "  'Steele',\n",
              "  ',',\n",
              "  'Which',\n",
              "  'smoak',\n",
              "  \"'\",\n",
              "  'd',\n",
              "  'with',\n",
              "  'bloody',\n",
              "  'execution',\n",
              "  '(',\n",
              "  'Like',\n",
              "  'Valours',\n",
              "  'Minion',\n",
              "  ')',\n",
              "  'caru',\n",
              "  \"'\",\n",
              "  'd',\n",
              "  'out',\n",
              "  'his',\n",
              "  'passage',\n",
              "  ',',\n",
              "  'Till',\n",
              "  'hee',\n",
              "  'fac',\n",
              "  \"'\",\n",
              "  'd',\n",
              "  'the',\n",
              "  'Slaue',\n",
              "  ':',\n",
              "  'Which',\n",
              "  'neu',\n",
              "  \"'\",\n",
              "  'r',\n",
              "  'shooke',\n",
              "  'hands',\n",
              "  ',',\n",
              "  'nor',\n",
              "  'bad',\n",
              "  'farwell',\n",
              "  'to',\n",
              "  'him',\n",
              "  ',',\n",
              "  'Till',\n",
              "  'he',\n",
              "  'vnseam',\n",
              "  \"'\",\n",
              "  'd',\n",
              "  'him',\n",
              "  'from',\n",
              "  'the',\n",
              "  'Naue',\n",
              "  'toth',\n",
              "  \"'\",\n",
              "  'Chops',\n",
              "  ',',\n",
              "  'And',\n",
              "  'fix',\n",
              "  \"'\",\n",
              "  'd',\n",
              "  'his',\n",
              "  'Head',\n",
              "  'vpon',\n",
              "  'our',\n",
              "  'Battlements']]"
            ]
          },
          "metadata": {},
          "execution_count": 64
        }
      ]
    },
    {
      "cell_type": "code",
      "source": [
        "# Conditional Frequency Distributions\n",
        "nltk.download('brown')"
      ],
      "metadata": {
        "colab": {
          "base_uri": "https://localhost:8080/"
        },
        "id": "UnQbezTNabo0",
        "outputId": "3b5e083c-8fac-4066-c7dd-a72be120c5c6"
      },
      "execution_count": null,
      "outputs": [
        {
          "output_type": "stream",
          "name": "stderr",
          "text": [
            "[nltk_data] Downloading package brown to /root/nltk_data...\n",
            "[nltk_data]   Package brown is already up-to-date!\n"
          ]
        },
        {
          "output_type": "execute_result",
          "data": {
            "text/plain": [
              "True"
            ]
          },
          "metadata": {},
          "execution_count": 65
        }
      ]
    },
    {
      "cell_type": "code",
      "source": [
        "from nltk.corpus import brown"
      ],
      "metadata": {
        "id": "eCZx_o1SawqB"
      },
      "execution_count": null,
      "outputs": []
    },
    {
      "cell_type": "code",
      "source": [
        "genre_word = [(genre,word)\n",
        "for genre in ['news','romance']\n",
        "for word in brown.words(categories=genre)]"
      ],
      "metadata": {
        "id": "L2bxeb0Ta3bx"
      },
      "execution_count": null,
      "outputs": []
    },
    {
      "cell_type": "code",
      "source": [
        "len(genre_word)"
      ],
      "metadata": {
        "colab": {
          "base_uri": "https://localhost:8080/"
        },
        "id": "osCX06erbHYS",
        "outputId": "61c5f2c7-7051-453e-eaff-7556c01a69ec"
      },
      "execution_count": null,
      "outputs": [
        {
          "output_type": "execute_result",
          "data": {
            "text/plain": [
              "170576"
            ]
          },
          "metadata": {},
          "execution_count": 68
        }
      ]
    },
    {
      "cell_type": "code",
      "source": [
        "genre_word[:4] # The first 4 items"
      ],
      "metadata": {
        "colab": {
          "base_uri": "https://localhost:8080/"
        },
        "id": "lXSuzY-SbIya",
        "outputId": "e64335a2-db08-4fea-b7a9-86d2e1c3e6f2"
      },
      "execution_count": null,
      "outputs": [
        {
          "output_type": "execute_result",
          "data": {
            "text/plain": [
              "[('news', 'The'), ('news', 'Fulton'), ('news', 'County'), ('news', 'Grand')]"
            ]
          },
          "metadata": {},
          "execution_count": 69
        }
      ]
    },
    {
      "cell_type": "code",
      "source": [
        "genre_word[-4:] # The last 4 items"
      ],
      "metadata": {
        "colab": {
          "base_uri": "https://localhost:8080/"
        },
        "id": "rUoXQSQbbN3T",
        "outputId": "81776722-3256-41ff-ecac-1ed222b562ee"
      },
      "execution_count": null,
      "outputs": [
        {
          "output_type": "execute_result",
          "data": {
            "text/plain": [
              "[('romance', 'afraid'),\n",
              " ('romance', 'not'),\n",
              " ('romance', \"''\"),\n",
              " ('romance', '.')]"
            ]
          },
          "metadata": {},
          "execution_count": 70
        }
      ]
    },
    {
      "cell_type": "code",
      "source": [
        "cfd = nltk.ConditionalFreqDist(genre_word)"
      ],
      "metadata": {
        "id": "bfenRYrpbQ3N"
      },
      "execution_count": null,
      "outputs": []
    },
    {
      "cell_type": "code",
      "source": [
        "cfd.conditions()"
      ],
      "metadata": {
        "colab": {
          "base_uri": "https://localhost:8080/"
        },
        "id": "3EkIGVqqbXcd",
        "outputId": "cecef71c-0376-45c5-e0c3-e7c16394c73c"
      },
      "execution_count": null,
      "outputs": [
        {
          "output_type": "execute_result",
          "data": {
            "text/plain": [
              "['news', 'romance']"
            ]
          },
          "metadata": {},
          "execution_count": 72
        }
      ]
    },
    {
      "cell_type": "code",
      "source": [
        "print(cfd['news'])"
      ],
      "metadata": {
        "colab": {
          "base_uri": "https://localhost:8080/"
        },
        "id": "f3yHYccWbY2M",
        "outputId": "e0cf7ba2-9707-44e8-a245-7645891c9621"
      },
      "execution_count": null,
      "outputs": [
        {
          "output_type": "stream",
          "name": "stdout",
          "text": [
            "<FreqDist with 14394 samples and 100554 outcomes>\n"
          ]
        }
      ]
    },
    {
      "cell_type": "code",
      "source": [
        "print(cfd['romance'])"
      ],
      "metadata": {
        "colab": {
          "base_uri": "https://localhost:8080/"
        },
        "id": "rGzaDjBQbarT",
        "outputId": "73b375da-0432-480b-9129-6767bf6629e4"
      },
      "execution_count": null,
      "outputs": [
        {
          "output_type": "stream",
          "name": "stdout",
          "text": [
            "<FreqDist with 8452 samples and 70022 outcomes>\n"
          ]
        }
      ]
    },
    {
      "cell_type": "code",
      "source": [
        "cfd['romance'].most_common(20)"
      ],
      "metadata": {
        "colab": {
          "base_uri": "https://localhost:8080/"
        },
        "id": "untMP6pIbdSh",
        "outputId": "95db9ad6-6a62-48eb-c0a7-62f500c45ba0"
      },
      "execution_count": null,
      "outputs": [
        {
          "output_type": "execute_result",
          "data": {
            "text/plain": [
              "[(',', 3899),\n",
              " ('.', 3736),\n",
              " ('the', 2758),\n",
              " ('and', 1776),\n",
              " ('to', 1502),\n",
              " ('a', 1335),\n",
              " ('of', 1186),\n",
              " ('``', 1045),\n",
              " (\"''\", 1044),\n",
              " ('was', 993),\n",
              " ('I', 951),\n",
              " ('in', 875),\n",
              " ('he', 702),\n",
              " ('had', 692),\n",
              " ('?', 690),\n",
              " ('her', 651),\n",
              " ('that', 583),\n",
              " ('it', 573),\n",
              " ('his', 559),\n",
              " ('she', 496)]"
            ]
          },
          "metadata": {},
          "execution_count": 75
        }
      ]
    },
    {
      "cell_type": "code",
      "source": [
        "cfd['romance']['the']"
      ],
      "metadata": {
        "colab": {
          "base_uri": "https://localhost:8080/"
        },
        "id": "b8K9cjLObg5W",
        "outputId": "ac7e845d-a08b-4244-9e6d-ef2756155c0b"
      },
      "execution_count": null,
      "outputs": [
        {
          "output_type": "execute_result",
          "data": {
            "text/plain": [
              "2758"
            ]
          },
          "metadata": {},
          "execution_count": 76
        }
      ]
    },
    {
      "cell_type": "code",
      "source": [
        "nltk.download(\"inaugural\")"
      ],
      "metadata": {
        "colab": {
          "base_uri": "https://localhost:8080/"
        },
        "id": "04v3lezqbiUW",
        "outputId": "bfe6b432-9586-4144-cb18-fded1cdd6b91"
      },
      "execution_count": null,
      "outputs": [
        {
          "output_type": "stream",
          "name": "stderr",
          "text": [
            "[nltk_data] Downloading package inaugural to /root/nltk_data...\n",
            "[nltk_data]   Package inaugural is already up-to-date!\n"
          ]
        },
        {
          "output_type": "execute_result",
          "data": {
            "text/plain": [
              "True"
            ]
          },
          "metadata": {},
          "execution_count": 77
        }
      ]
    },
    {
      "cell_type": "code",
      "source": [
        "from nltk.corpus import inaugural"
      ],
      "metadata": {
        "id": "CuTMzcEabq7x"
      },
      "execution_count": null,
      "outputs": []
    },
    {
      "cell_type": "code",
      "source": [
        "cfd = nltk.ConditionalFreqDist(\n",
        "      (target,fileid[:4])\n",
        "      for fileid in inaugural.fileids()\n",
        "      for w in inaugural.words(fileid)\n",
        "      for target in ['america','citizen']\n",
        "      if w.lower().startswith(target)\n",
        ")"
      ],
      "metadata": {
        "id": "3lXo23G-buD4"
      },
      "execution_count": null,
      "outputs": []
    },
    {
      "cell_type": "code",
      "source": [
        "cfd.plot()"
      ],
      "metadata": {
        "colab": {
          "base_uri": "https://localhost:8080/",
          "height": 313
        },
        "id": "EG15dYLScH_x",
        "outputId": "7e3e242e-8a08-4acf-ff0f-80dec147ac4d"
      },
      "execution_count": null,
      "outputs": [
        {
          "output_type": "display_data",
          "data": {
            "text/plain": [
              "<Figure size 432x288 with 1 Axes>"
            ],
            "image/png": "[encoded data removed]"
          },
          "metadata": {
            "needs_background": "light"
          }
        },
        {
          "output_type": "execute_result",
          "data": {
            "text/plain": [
              "<matplotlib.axes._subplots.AxesSubplot at 0x7fa0554f4690>"
            ]
          },
          "metadata": {},
          "execution_count": 81
        }
      ]
    },
    {
      "cell_type": "code",
      "source": [
        "nltk.download('udhr')"
      ],
      "metadata": {
        "colab": {
          "base_uri": "https://localhost:8080/"
        },
        "id": "x8vaJWQmcJab",
        "outputId": "fc1ea8da-2cb6-468a-8f01-f413aa62952f"
      },
      "execution_count": null,
      "outputs": [
        {
          "output_type": "stream",
          "name": "stderr",
          "text": [
            "[nltk_data] Downloading package udhr to /root/nltk_data...\n",
            "[nltk_data]   Package udhr is already up-to-date!\n"
          ]
        },
        {
          "output_type": "execute_result",
          "data": {
            "text/plain": [
              "True"
            ]
          },
          "metadata": {},
          "execution_count": 82
        }
      ]
    },
    {
      "cell_type": "code",
      "source": [
        "from nltk.corpus import udhr"
      ],
      "metadata": {
        "id": "VI9HLjXoca43"
      },
      "execution_count": null,
      "outputs": []
    },
    {
      "cell_type": "code",
      "source": [
        "languages = ['Chickasaw','English','German_Deutsch',\n",
        "             'Greenlandic_Inuktikut','Hungarian_Magyar','Ibibio_Efik']"
      ],
      "metadata": {
        "id": "ycg2AJq9cdRw"
      },
      "execution_count": null,
      "outputs": []
    },
    {
      "cell_type": "code",
      "source": [
        "cfd = nltk.ConditionalFreqDist(\n",
        "      (lang,len(word))\n",
        "      for lang in languages\n",
        "      for word in udhr.words(lang + '-Latin1')\n",
        ")"
      ],
      "metadata": {
        "id": "Dbdb3gwicxAt"
      },
      "execution_count": null,
      "outputs": []
    },
    {
      "cell_type": "code",
      "source": [
        "cfd.tabulate(conditions=['English','German_Deutsch'],\n",
        "             samples=range(10),cumulative=True)"
      ],
      "metadata": {
        "colab": {
          "base_uri": "https://localhost:8080/"
        },
        "id": "PG-lpSNyc_0r",
        "outputId": "7c1b1a21-4dbd-4681-cc87-fbc097394f03"
      },
      "execution_count": null,
      "outputs": [
        {
          "output_type": "stream",
          "name": "stdout",
          "text": [
            "                  0    1    2    3    4    5    6    7    8    9 \n",
            "       English    0  185  525  883  997 1166 1283 1440 1558 1638 \n",
            "German_Deutsch    0  171  263  614  717  894 1013 1110 1213 1275 \n"
          ]
        }
      ]
    },
    {
      "cell_type": "code",
      "source": [
        "def lexical_diversity(text):\n",
        "    return len(text)/len(set(text))"
      ],
      "metadata": {
        "id": "k2oaOOIVdRbb"
      },
      "execution_count": null,
      "outputs": []
    },
    {
      "cell_type": "code",
      "source": [
        "def plural(word):\n",
        "    if word.endswith('y'):\n",
        "        return word[:-1] + 'ies'\n",
        "    elif word[-1] in 'sx' or word[-2:] in ['sh','ch']:\n",
        "        return word + 'es'\n",
        "    elif word.endswith('an'):\n",
        "        return word[:-2] + 'en'\n",
        "    else:\n",
        "        return word + 's'"
      ],
      "metadata": {
        "id": "P_Z9M6PWBbJ8"
      },
      "execution_count": null,
      "outputs": []
    },
    {
      "cell_type": "code",
      "source": [
        "plural('fairy')"
      ],
      "metadata": {
        "colab": {
          "base_uri": "https://localhost:8080/",
          "height": 35
        },
        "id": "vnz-LLkkB_8G",
        "outputId": "817a4d5f-7c89-496b-f9c4-ca121f1b9217"
      },
      "execution_count": null,
      "outputs": [
        {
          "output_type": "execute_result",
          "data": {
            "text/plain": [
              "'fairies'"
            ],
            "application/vnd.google.colaboratory.intrinsic+json": {
              "type": "string"
            }
          },
          "metadata": {},
          "execution_count": 4
        }
      ]
    },
    {
      "cell_type": "code",
      "source": [
        "plural('woman')"
      ],
      "metadata": {
        "colab": {
          "base_uri": "https://localhost:8080/",
          "height": 35
        },
        "id": "T8YX1HhTCDH9",
        "outputId": "6f29f193-2e74-4938-f284-bf410cc25e4d"
      },
      "execution_count": null,
      "outputs": [
        {
          "output_type": "execute_result",
          "data": {
            "text/plain": [
              "'women'"
            ],
            "application/vnd.google.colaboratory.intrinsic+json": {
              "type": "string"
            }
          },
          "metadata": {},
          "execution_count": 5
        }
      ]
    },
    {
      "cell_type": "code",
      "source": [
        "# Wordlist corpora\n",
        "nltk.download('words')"
      ],
      "metadata": {
        "colab": {
          "base_uri": "https://localhost:8080/"
        },
        "id": "-Jka5zS8CHhx",
        "outputId": "c097b8d4-1239-4359-a521-8602c8692610"
      },
      "execution_count": null,
      "outputs": [
        {
          "output_type": "stream",
          "name": "stderr",
          "text": [
            "[nltk_data] Downloading package words to /root/nltk_data...\n",
            "[nltk_data]   Unzipping corpora/words.zip.\n"
          ]
        },
        {
          "output_type": "execute_result",
          "data": {
            "text/plain": [
              "True"
            ]
          },
          "metadata": {},
          "execution_count": 8
        }
      ]
    },
    {
      "cell_type": "code",
      "source": [
        "def unusual_words(text):\n",
        "    text_vocab = set(w.lower() for w in text if w.isalpha())\n",
        "    english_vocab = set(w.lower() for w in nltk.corpus.words.words())\n",
        "    unusual = text_vocab - english_vocab\n",
        "    return sorted(unusual)"
      ],
      "metadata": {
        "id": "uu_7yLHUCTZF"
      },
      "execution_count": null,
      "outputs": []
    },
    {
      "cell_type": "code",
      "source": [
        "unusual_words(nltk.corpus.gutenberg.words('austen-sense.txt'))"
      ],
      "metadata": {
        "colab": {
          "base_uri": "https://localhost:8080/"
        },
        "id": "Dd3Zdv9ACyLB",
        "outputId": "a91f1ead-6346-4d1d-df5b-d153a2ba52b4"
      },
      "execution_count": null,
      "outputs": [
        {
          "output_type": "execute_result",
          "data": {
            "text/plain": [
              "['abbeyland',\n",
              " 'abhorred',\n",
              " 'abilities',\n",
              " 'abounded',\n",
              " 'abridgement',\n",
              " 'abused',\n",
              " 'abuses',\n",
              " 'accents',\n",
              " 'accepting',\n",
              " 'accommodations',\n",
              " 'accompanied',\n",
              " 'accounted',\n",
              " 'accounts',\n",
              " 'accustomary',\n",
              " 'aches',\n",
              " 'acknowledging',\n",
              " 'acknowledgment',\n",
              " 'acknowledgments',\n",
              " 'acquaintances',\n",
              " 'acquiesced',\n",
              " 'acquitted',\n",
              " 'acquitting',\n",
              " 'acted',\n",
              " 'actions',\n",
              " 'adapted',\n",
              " 'adding',\n",
              " 'additions',\n",
              " 'addressed',\n",
              " 'addresses',\n",
              " 'addressing',\n",
              " 'adhering',\n",
              " 'adieus',\n",
              " 'adjusting',\n",
              " 'administering',\n",
              " 'admirers',\n",
              " 'admires',\n",
              " 'admitting',\n",
              " 'adorned',\n",
              " 'advances',\n",
              " 'advantages',\n",
              " 'affairs',\n",
              " 'affections',\n",
              " 'affects',\n",
              " 'affixed',\n",
              " 'afflictions',\n",
              " 'afforded',\n",
              " 'affording',\n",
              " 'ages',\n",
              " 'agitated',\n",
              " 'agonies',\n",
              " 'ailments',\n",
              " 'aimed',\n",
              " 'alarms',\n",
              " 'alienated',\n",
              " 'alighted',\n",
              " 'alleged',\n",
              " 'allenham',\n",
              " 'allowances',\n",
              " 'allowed',\n",
              " 'allowing',\n",
              " 'alluded',\n",
              " 'alterations',\n",
              " 'altered',\n",
              " 'altering',\n",
              " 'amended',\n",
              " 'amounted',\n",
              " 'amusements',\n",
              " 'ankles',\n",
              " 'annamaria',\n",
              " 'annexed',\n",
              " 'announced',\n",
              " 'announcing',\n",
              " 'annuities',\n",
              " 'annum',\n",
              " 'answered',\n",
              " 'answering',\n",
              " 'answers',\n",
              " 'anticipated',\n",
              " 'anticipating',\n",
              " 'anticipations',\n",
              " 'anymore',\n",
              " 'apartments',\n",
              " 'apologies',\n",
              " 'apologising',\n",
              " 'apologized',\n",
              " 'appearances',\n",
              " 'appeared',\n",
              " 'appearing',\n",
              " 'appeased',\n",
              " 'appetites',\n",
              " 'applauded',\n",
              " 'applying',\n",
              " 'appointed',\n",
              " 'apprehended',\n",
              " 'apprehensions',\n",
              " 'approached',\n",
              " 'approved',\n",
              " 'arbour',\n",
              " 'ardour',\n",
              " 'arguments',\n",
              " 'arranged',\n",
              " 'arrangements',\n",
              " 'arranging',\n",
              " 'arrived',\n",
              " 'arrives',\n",
              " 'arriving',\n",
              " 'ascended',\n",
              " 'ascertained',\n",
              " 'asked',\n",
              " 'asking',\n",
              " 'assembled',\n",
              " 'assemblies',\n",
              " 'asserted',\n",
              " 'assertions',\n",
              " 'assiduities',\n",
              " 'assisted',\n",
              " 'assisting',\n",
              " 'associating',\n",
              " 'assurances',\n",
              " 'astonished',\n",
              " 'atoned',\n",
              " 'atoning',\n",
              " 'attaching',\n",
              " 'attachments',\n",
              " 'attacked',\n",
              " 'attacks',\n",
              " 'attained',\n",
              " 'attempted',\n",
              " 'attempting',\n",
              " 'attempts',\n",
              " 'attendants',\n",
              " 'attended',\n",
              " 'attending',\n",
              " 'attentions',\n",
              " 'attracted',\n",
              " 'attractions',\n",
              " 'attributed',\n",
              " 'attributing',\n",
              " 'auditors',\n",
              " 'augmenting',\n",
              " 'austen',\n",
              " 'authorised',\n",
              " 'authors',\n",
              " 'availed',\n",
              " 'avignon',\n",
              " 'avoided',\n",
              " 'avoiding',\n",
              " 'awaited',\n",
              " 'awakened',\n",
              " 'awaking',\n",
              " 'bags',\n",
              " 'balls',\n",
              " 'banished',\n",
              " 'barouches',\n",
              " 'bathed',\n",
              " 'bears',\n",
              " 'beasts',\n",
              " 'beauties',\n",
              " 'became',\n",
              " 'bedrooms',\n",
              " 'beds',\n",
              " 'befallen',\n",
              " 'befalls',\n",
              " 'befell',\n",
              " 'began',\n",
              " 'begged',\n",
              " 'begins',\n",
              " 'behaved',\n",
              " 'beings',\n",
              " 'believed',\n",
              " 'believes',\n",
              " 'belonged',\n",
              " 'belongs',\n",
              " 'benefited',\n",
              " 'bequeathed',\n",
              " 'berkeley',\n",
              " 'bestowed',\n",
              " 'betrayed',\n",
              " 'betraying',\n",
              " 'biased',\n",
              " 'blackest',\n",
              " 'blameable',\n",
              " 'blessings',\n",
              " 'blights',\n",
              " 'blossoms',\n",
              " 'blundered',\n",
              " 'blushed',\n",
              " 'blushes',\n",
              " 'bolder',\n",
              " 'bones',\n",
              " 'bonomi',\n",
              " 'books',\n",
              " 'booksellers',\n",
              " 'borrowed',\n",
              " 'bottoms',\n",
              " 'boys',\n",
              " 'breakfasting',\n",
              " 'bribing',\n",
              " 'brightened',\n",
              " 'brighter',\n",
              " 'bringing',\n",
              " 'brings',\n",
              " 'broader',\n",
              " 'brothers',\n",
              " 'bruised',\n",
              " 'buildings',\n",
              " 'bursts',\n",
              " 'buying',\n",
              " 'called',\n",
              " 'calls',\n",
              " 'calming',\n",
              " 'candles',\n",
              " 'candour',\n",
              " 'canvassing',\n",
              " 'cards',\n",
              " 'cares',\n",
              " 'caresses',\n",
              " 'careys',\n",
              " 'carriages',\n",
              " 'carries',\n",
              " 'cases',\n",
              " 'casts',\n",
              " 'cats',\n",
              " 'caused',\n",
              " 'ceased',\n",
              " 'ceasing',\n",
              " 'censured',\n",
              " 'centre',\n",
              " 'certainties',\n",
              " 'chagrined',\n",
              " 'chairs',\n",
              " 'chambers',\n",
              " 'chanced',\n",
              " 'changed',\n",
              " 'changes',\n",
              " 'changing',\n",
              " 'characters',\n",
              " 'charged',\n",
              " 'charmed',\n",
              " 'charms',\n",
              " 'cheated',\n",
              " 'checking',\n",
              " 'cheeks',\n",
              " 'cheerfuller',\n",
              " 'cherished',\n",
              " 'cherries',\n",
              " 'children',\n",
              " 'choked',\n",
              " 'chuse',\n",
              " 'chusing',\n",
              " 'circles',\n",
              " 'circumstances',\n",
              " 'civilities',\n",
              " 'claimed',\n",
              " 'claiming',\n",
              " 'claims',\n",
              " 'clarke',\n",
              " 'cleared',\n",
              " 'cleveland',\n",
              " 'clogged',\n",
              " 'closing',\n",
              " 'clouds',\n",
              " 'coats',\n",
              " 'collecting',\n",
              " 'coloured',\n",
              " 'colouring',\n",
              " 'combe',\n",
              " 'comforted',\n",
              " 'comforts',\n",
              " 'comings',\n",
              " 'commanded',\n",
              " 'commands',\n",
              " 'commended',\n",
              " 'comments',\n",
              " 'commissioned',\n",
              " 'commonest',\n",
              " 'communicated',\n",
              " 'companions',\n",
              " 'compared',\n",
              " 'compares',\n",
              " 'comparisons',\n",
              " 'complained',\n",
              " 'complaining',\n",
              " 'complaints',\n",
              " 'completed',\n",
              " 'compliments',\n",
              " 'comprehended',\n",
              " 'concealing',\n",
              " 'concerns',\n",
              " 'concessions',\n",
              " 'concluded',\n",
              " 'conclusions',\n",
              " 'conditions',\n",
              " 'conducted',\n",
              " 'confessed',\n",
              " 'confidante',\n",
              " 'conforming',\n",
              " 'congratulated',\n",
              " 'congratulating',\n",
              " 'congratulations',\n",
              " 'conjectured',\n",
              " 'conjectures',\n",
              " 'conjecturing',\n",
              " 'connections',\n",
              " 'conquests',\n",
              " 'consented',\n",
              " 'consequences',\n",
              " 'considerations',\n",
              " 'considers',\n",
              " 'consisted',\n",
              " 'consists',\n",
              " 'consoled',\n",
              " 'conspired',\n",
              " 'constantia',\n",
              " 'consulted',\n",
              " 'contained',\n",
              " 'containing',\n",
              " 'contend',\n",
              " 'contenting',\n",
              " 'continuing',\n",
              " 'contradicted',\n",
              " 'contrasted',\n",
              " 'contributed',\n",
              " 'contributing',\n",
              " 'contrived',\n",
              " 'contrives',\n",
              " 'contriving',\n",
              " 'controlled',\n",
              " 'conveniences',\n",
              " 'conversations',\n",
              " 'conversed',\n",
              " 'conversing',\n",
              " 'conveyed',\n",
              " 'conveying',\n",
              " 'copying',\n",
              " 'cordials',\n",
              " 'cottages',\n",
              " 'counsellor',\n",
              " 'counteracted',\n",
              " 'couples',\n",
              " 'courted',\n",
              " 'courting',\n",
              " 'courtland',\n",
              " 'cousins',\n",
              " 'cowper',\n",
              " 'cows',\n",
              " 'coxcombs',\n",
              " 'cramps',\n",
              " 'created',\n",
              " 'creating',\n",
              " 'creatures',\n",
              " 'cries',\n",
              " 'crimsoned',\n",
              " 'curtsying',\n",
              " 'cutlets',\n",
              " 'danced',\n",
              " 'dances',\n",
              " 'dared',\n",
              " 'darker',\n",
              " 'dartford',\n",
              " 'dashwood',\n",
              " 'dashwoods',\n",
              " 'daughters',\n",
              " 'davies',\n",
              " 'dawdled',\n",
              " 'dawlish',\n",
              " 'dawned',\n",
              " 'dearer',\n",
              " 'dearest',\n",
              " 'debated',\n",
              " 'debts',\n",
              " 'deceived',\n",
              " 'deciding',\n",
              " 'decisions',\n",
              " 'declares',\n",
              " 'declaring',\n",
              " 'declining',\n",
              " 'deemed',\n",
              " 'deeper',\n",
              " 'deepest',\n",
              " 'defects',\n",
              " 'defended',\n",
              " 'deficiencies',\n",
              " 'degrees',\n",
              " 'delaford',\n",
              " 'delayed',\n",
              " 'delays',\n",
              " 'deliberating',\n",
              " 'delicacies',\n",
              " 'delighful',\n",
              " 'delineated',\n",
              " 'delivered',\n",
              " 'demanded',\n",
              " 'demands',\n",
              " 'demonstrations',\n",
              " 'demur',\n",
              " 'denied',\n",
              " 'dennison',\n",
              " 'denoted',\n",
              " 'denoting',\n",
              " 'departing',\n",
              " 'depended',\n",
              " 'depends',\n",
              " 'deprived',\n",
              " 'described',\n",
              " 'describing',\n",
              " 'deserts',\n",
              " 'deserves',\n",
              " 'designs',\n",
              " 'desiring',\n",
              " 'despatch',\n",
              " 'despatching',\n",
              " 'despised',\n",
              " 'despising',\n",
              " 'destroyed',\n",
              " 'destroys',\n",
              " 'detaining',\n",
              " 'detected',\n",
              " 'detecting',\n",
              " 'determining',\n",
              " 'deterred',\n",
              " 'detested',\n",
              " 'devolved',\n",
              " 'died',\n",
              " 'dies',\n",
              " 'differed',\n",
              " 'differing',\n",
              " 'difficulties',\n",
              " 'dimensions',\n",
              " 'diminished',\n",
              " 'dined',\n",
              " 'dinners',\n",
              " 'directing',\n",
              " 'directions',\n",
              " 'disagreements',\n",
              " 'disappeared',\n",
              " 'disappointments',\n",
              " 'disapproved',\n",
              " 'disapproves',\n",
              " 'disapproving',\n",
              " 'discarded',\n",
              " 'discharged',\n",
              " 'disclaiming',\n",
              " 'disclosing',\n",
              " 'discontents',\n",
              " 'discovering',\n",
              " 'discussions',\n",
              " 'disgraced',\n",
              " 'disinherited',\n",
              " 'disliked',\n",
              " 'dismissed',\n",
              " 'dismounted',\n",
              " 'dispatched',\n",
              " 'dispatches',\n",
              " 'dispersing',\n",
              " 'disposing',\n",
              " 'disputes',\n",
              " 'disqualifications',\n",
              " 'disregarded',\n",
              " 'dissembling',\n",
              " 'dissented',\n",
              " 'distresses',\n",
              " 'distrusts',\n",
              " 'diverted',\n",
              " 'doatingly',\n",
              " 'donavan',\n",
              " 'doomed',\n",
              " 'dooming',\n",
              " 'doors',\n",
              " 'dorsetshire',\n",
              " 'doubted',\n",
              " 'doubts',\n",
              " 'douceur',\n",
              " 'downs',\n",
              " 'dr',\n",
              " 'drains',\n",
              " 'drawings',\n",
              " 'draws',\n",
              " 'dreaded',\n",
              " 'dreading',\n",
              " 'dreaming',\n",
              " 'dresses',\n",
              " 'drives',\n",
              " 'dropped',\n",
              " 'drops',\n",
              " 'drury',\n",
              " 'duets',\n",
              " 'duties',\n",
              " 'earlier',\n",
              " 'earliest',\n",
              " 'earned',\n",
              " 'ears',\n",
              " 'echoed',\n",
              " 'editions',\n",
              " 'edtions',\n",
              " 'effected',\n",
              " 'effecting',\n",
              " 'effusions',\n",
              " 'ellison',\n",
              " 'ellisons',\n",
              " 'eloping',\n",
              " 'eluded',\n",
              " 'embellishments',\n",
              " 'embraced',\n",
              " 'embraces',\n",
              " 'employments',\n",
              " 'enabled',\n",
              " 'enamoured',\n",
              " 'encouraged',\n",
              " 'encouragements',\n",
              " 'encroachments',\n",
              " 'encumbered',\n",
              " 'endeavoring',\n",
              " 'endeavors',\n",
              " 'endeavour',\n",
              " 'endeavoured',\n",
              " 'endeavouring',\n",
              " 'endeavours',\n",
              " 'endowed',\n",
              " 'ends',\n",
              " 'endured',\n",
              " 'enfeebled',\n",
              " 'enforcing',\n",
              " 'engagements',\n",
              " 'england',\n",
              " 'enjoyed',\n",
              " 'enjoyments',\n",
              " 'enquired',\n",
              " 'enquiries',\n",
              " 'enquiring',\n",
              " 'ensued',\n",
              " 'ensured',\n",
              " 'entered',\n",
              " 'entertained',\n",
              " 'entitled',\n",
              " 'entreated',\n",
              " 'entreaties',\n",
              " 'entrusted',\n",
              " 'equalled',\n",
              " 'equals',\n",
              " 'erred',\n",
              " 'errors',\n",
              " 'escaped',\n",
              " 'esq',\n",
              " 'establishing',\n",
              " 'esteemed',\n",
              " 'esteeming',\n",
              " 'esteems',\n",
              " 'estimating',\n",
              " 'estranged',\n",
              " 'evenings',\n",
              " 'events',\n",
              " 'evils',\n",
              " 'examined',\n",
              " 'exceeded',\n",
              " 'excellencies',\n",
              " 'exchanged',\n",
              " 'exclaimed',\n",
              " 'exclamations',\n",
              " 'excused',\n",
              " 'excuses',\n",
              " 'exercised',\n",
              " 'exercising',\n",
              " 'exerted',\n",
              " 'exertions',\n",
              " 'exeter',\n",
              " 'exhilarated',\n",
              " 'existed',\n",
              " 'expectations',\n",
              " 'expected',\n",
              " 'expecting',\n",
              " 'expects',\n",
              " 'expenses',\n",
              " 'experiencing',\n",
              " 'explained',\n",
              " 'explanations',\n",
              " 'expressing',\n",
              " 'expressions',\n",
              " 'extolling',\n",
              " 'extorted',\n",
              " 'extorting',\n",
              " 'extremest',\n",
              " 'eyeing',\n",
              " 'eyes',\n",
              " 'faces',\n",
              " 'facts',\n",
              " 'failed',\n",
              " 'falls',\n",
              " 'familiarized',\n",
              " 'families',\n",
              " 'fancying',\n",
              " 'fates',\n",
              " 'fatigued',\n",
              " 'fatigues',\n",
              " 'faults',\n",
              " 'favour',\n",
              " 'favourable',\n",
              " 'favourite',\n",
              " 'favourites',\n",
              " 'fearing',\n",
              " 'fears',\n",
              " 'features',\n",
              " 'feelings',\n",
              " 'feels',\n",
              " 'feet',\n",
              " 'felicitations',\n",
              " 'females',\n",
              " 'ferrars',\n",
              " 'fetches',\n",
              " 'fettered',\n",
              " 'finds',\n",
              " 'finest',\n",
              " 'fingers',\n",
              " 'flattered',\n",
              " 'flatteries',\n",
              " 'flowed',\n",
              " 'fluctuating',\n",
              " 'flushed',\n",
              " 'foibles',\n",
              " 'followed',\n",
              " 'follows',\n",
              " 'fond',\n",
              " 'footsteps',\n",
              " 'forebodings',\n",
              " 'foreplanned',\n",
              " 'foresaw',\n",
              " 'foreseeing',\n",
              " 'foreseen',\n",
              " 'forfeited',\n",
              " 'forfeiting',\n",
              " 'forgave',\n",
              " 'forgiven',\n",
              " 'forms',\n",
              " 'forsaking',\n",
              " 'fortunes',\n",
              " 'forwarded',\n",
              " 'foundations',\n",
              " 'founded',\n",
              " 'fowls',\n",
              " 'friendliest',\n",
              " 'friends',\n",
              " 'frightens',\n",
              " 'froid',\n",
              " 'frosts',\n",
              " 'fulfil',\n",
              " 'fulfilled',\n",
              " 'fullest',\n",
              " 'gained',\n",
              " 'gales',\n",
              " 'gardens',\n",
              " 'garrets',\n",
              " 'gates',\n",
              " 'gathered',\n",
              " 'generations',\n",
              " 'gentlemen',\n",
              " 'gigs',\n",
              " 'gilberts',\n",
              " 'girls',\n",
              " 'gives',\n",
              " 'glances',\n",
              " 'gloried',\n",
              " 'gloves',\n",
              " 'godby',\n",
              " 'goings',\n",
              " 'goodby',\n",
              " 'governed',\n",
              " 'gowns',\n",
              " 'graces',\n",
              " 'grandmothers',\n",
              " 'granted',\n",
              " 'greatest',\n",
              " 'grieves',\n",
              " 'grows',\n",
              " 'guardians',\n",
              " 'guessed',\n",
              " 'guests',\n",
              " 'guided',\n",
              " 'guineas',\n",
              " 'habits',\n",
              " 'hallooing',\n",
              " 'hands',\n",
              " 'handsomer',\n",
              " 'handsomest',\n",
              " 'hang',\n",
              " 'hanover',\n",
              " 'happened',\n",
              " 'happens',\n",
              " 'hardened',\n",
              " 'hardships',\n",
              " 'harley',\n",
              " 'has',\n",
              " 'hastened',\n",
              " 'hastening',\n",
              " 'hated',\n",
              " 'hates',\n",
              " 'hating',\n",
              " 'having',\n",
              " 'hazarded',\n",
              " 'hazarding',\n",
              " 'heads',\n",
              " 'heard',\n",
              " 'hears',\n",
              " 'heightened',\n",
              " 'heightening',\n",
              " 'heights',\n",
              " 'heirs',\n",
              " 'held',\n",
              " 'hens',\n",
              " 'henshawe',\n",
              " 'hesitated',\n",
              " 'hiding',\n",
              " 'hills',\n",
              " 'hinted',\n",
              " 'hints',\n",
              " 'hoarded',\n",
              " 'holborn',\n",
              " 'holburn',\n",
              " 'holds',\n",
              " 'holidays',\n",
              " 'homes',\n",
              " 'honeysuckles',\n",
              " 'honiton',\n",
              " 'honour',\n",
              " 'honourable',\n",
              " 'honourably',\n",
              " 'honoured',\n",
              " 'honours',\n",
              " 'hopes',\n",
              " 'hoping',\n",
              " 'horrors',\n",
              " 'horses',\n",
              " 'hours',\n",
              " 'houses',\n",
              " 'howsever',\n",
              " 'humbled',\n",
              " 'humiliations',\n",
              " 'humored',\n",
              " 'humoured',\n",
              " 'humouring',\n",
              " 'hunted',\n",
              " 'hunters',\n",
              " 'hunts',\n",
              " 'hurrying',\n",
              " 'husbands',\n",
              " 'huswifes',\n",
              " 'ideas',\n",
              " 'idled',\n",
              " 'idolized',\n",
              " 'ii',\n",
              " 'imaginations',\n",
              " 'imagined',\n",
              " 'imagining',\n",
              " 'imbibed',\n",
              " 'immoveable',\n",
              " 'imparted',\n",
              " 'imperfections',\n",
              " 'implied',\n",
              " 'implies',\n",
              " 'impoverished',\n",
              " 'impoverishing',\n",
              " 'improved',\n",
              " 'improvements',\n",
              " 'imputed',\n",
              " 'inclinations',\n",
              " 'inclined',\n",
              " 'inclosing',\n",
              " 'including',\n",
              " 'incommoded',\n",
              " 'inconveniences',\n",
              " 'increased',\n",
              " 'incurred',\n",
              " 'incurring',\n",
              " 'indulged',\n",
              " 'infants',\n",
              " 'inflicted',\n",
              " 'inflicting',\n",
              " 'influenced',\n",
              " 'inforce',\n",
              " 'inforced',\n",
              " 'informing',\n",
              " 'inhabitants',\n",
              " 'inhabiting',\n",
              " 'inheriting',\n",
              " 'injuries',\n",
              " 'inquired',\n",
              " 'inquiries',\n",
              " 'insinuations',\n",
              " 'insisted',\n",
              " 'installed',\n",
              " 'instigated',\n",
              " 'instructions',\n",
              " 'insulted',\n",
              " 'intends',\n",
              " 'intentions',\n",
              " 'intents',\n",
              " 'interests',\n",
              " 'interposed',\n",
              " 'interspersed',\n",
              " 'intervals',\n",
              " 'interviews',\n",
              " 'intimated',\n",
              " 'introduced',\n",
              " 'introducing',\n",
              " 'intruded',\n",
              " 'invented',\n",
              " 'inventing',\n",
              " 'invitations',\n",
              " 'invited',\n",
              " 'irritated',\n",
              " 'irritates',\n",
              " 'issued',\n",
              " 'jealousies',\n",
              " 'jenning',\n",
              " 'jennings',\n",
              " 'jewels',\n",
              " 'jilting',\n",
              " 'joined',\n",
              " 'joked',\n",
              " 'jokes',\n",
              " 'joking',\n",
              " 'joys',\n",
              " 'judged',\n",
              " 'judging',\n",
              " 'judgments',\n",
              " 'jumbled',\n",
              " 'justified',\n",
              " 'keeps',\n",
              " 'keys',\n",
              " 'kicked',\n",
              " 'kinder',\n",
              " 'kindest',\n",
              " 'kingham',\n",
              " 'kissed',\n",
              " 'kisses',\n",
              " 'knees',\n",
              " 'knives',\n",
              " 'knows',\n",
              " 'laboured',\n",
              " 'lamentations',\n",
              " 'lamps',\n",
              " 'lanes',\n",
              " 'languages',\n",
              " 'larger',\n",
              " 'largest',\n",
              " 'lasted',\n",
              " 'laughed',\n",
              " 'laughs',\n",
              " 'leagued',\n",
              " 'legacies',\n",
              " 'lengthened',\n",
              " 'lengths',\n",
              " 'lessened',\n",
              " 'lessening',\n",
              " 'letters',\n",
              " 'letting',\n",
              " 'lies',\n",
              " 'lifted',\n",
              " 'lightened',\n",
              " 'liked',\n",
              " 'likes',\n",
              " 'limbs',\n",
              " 'limits',\n",
              " 'lines',\n",
              " 'lingered',\n",
              " 'lingering',\n",
              " 'lips',\n",
              " 'listened',\n",
              " 'lives',\n",
              " 'livings',\n",
              " 'll',\n",
              " 'lodges',\n",
              " 'loitered',\n",
              " 'lombardy',\n",
              " 'london',\n",
              " 'longed',\n",
              " 'longest',\n",
              " 'longstaple',\n",
              " 'looked',\n",
              " 'looks',\n",
              " 'loved',\n",
              " 'lovers',\n",
              " 'loves',\n",
              " 'lowered',\n",
              " 'lurking',\n",
              " 'magna',\n",
              " 'maids',\n",
              " 'maintained',\n",
              " 'makes',\n",
              " 'mama',\n",
              " 'managed',\n",
              " 'marlborough',\n",
              " 'marriages',\n",
              " 'marries',\n",
              " 'matters',\n",
              " 'maxims',\n",
              " 'meadows',\n",
              " 'meals',\n",
              " 'means',\n",
              " 'meantime',\n",
              " 'measures',\n",
              " 'medicines',\n",
              " 'meditated',\n",
              " 'meditations',\n",
              " 'meetings',\n",
              " 'mentioned',\n",
              " 'mentioning',\n",
              " 'merest',\n",
              " 'merits',\n",
              " 'merrier',\n",
              " 'messages',\n",
              " 'middleton',\n",
              " 'middletons',\n",
              " 'militated',\n",
              " 'minds',\n",
              " 'minutes',\n",
              " 'misapplied',\n",
              " 'misinformed',\n",
              " 'missed',\n",
              " 'misses',\n",
              " 'mistakes',\n",
              " 'mixing',\n",
              " 'modestest',\n",
              " 'mohrs',\n",
              " 'moments',\n",
              " 'months',\n",
              " 'mosquitoes',\n",
              " 'mothers',\n",
              " 'motives',\n",
              " 'moved',\n",
              " 'murmurings',\n",
              " 'muttered',\n",
              " 'nabobs',\n",
              " 'named',\n",
              " 'names',\n",
              " 'natured',\n",
              " 'nearer',\n",
              " 'needed',\n",
              " 'neglected',\n",
              " 'neighbour',\n",
              " 'neighbourhood',\n",
              " 'neighbouring',\n",
              " 'neighbourly',\n",
              " 'neighbours',\n",
              " 'nerves',\n",
              " 'nests',\n",
              " 'nettles',\n",
              " 'newer',\n",
              " 'newspapers',\n",
              " 'nicest',\n",
              " 'nieces',\n",
              " 'nipped',\n",
              " 'nodded',\n",
              " 'nods',\n",
              " 'noisier',\n",
              " 'notes',\n",
              " 'noticed',\n",
              " 'noticing',\n",
              " 'notions',\n",
              " 'nt',\n",
              " 'nurses',\n",
              " 'obeyed',\n",
              " 'objected',\n",
              " 'objections',\n",
              " 'objects',\n",
              " 'obligations',\n",
              " 'observations',\n",
              " 'observed',\n",
              " 'obstacles',\n",
              " 'obstructed',\n",
              " 'obtained',\n",
              " 'obtaining',\n",
              " 'obviated',\n",
              " 'obviating',\n",
              " 'occasioned',\n",
              " 'occasions',\n",
              " 'occupations',\n",
              " 'occupied',\n",
              " 'occurred',\n",
              " 'oddest',\n",
              " 'offence',\n",
              " 'offences',\n",
              " 'offending',\n",
              " 'offered',\n",
              " 'offices',\n",
              " 'oftener',\n",
              " 'oftenest',\n",
              " 'oldest',\n",
              " 'olives',\n",
              " 'omitted',\n",
              " 'ones',\n",
              " 'opened',\n",
              " 'opinions',\n",
              " 'opportunities',\n",
              " 'ordained',\n",
              " 'orders',\n",
              " 'originated',\n",
              " 'ornamented',\n",
              " 'ornaments',\n",
              " 'others',\n",
              " 'outdone',\n",
              " ...]"
            ]
          },
          "metadata": {},
          "execution_count": 12
        }
      ]
    },
    {
      "cell_type": "code",
      "source": [
        "nltk.download('nps_chat')"
      ],
      "metadata": {
        "colab": {
          "base_uri": "https://localhost:8080/"
        },
        "id": "dNCG7_zXDHM2",
        "outputId": "5b68b231-2635-4ec1-9f40-312d8f72a1b8"
      },
      "execution_count": null,
      "outputs": [
        {
          "output_type": "stream",
          "name": "stderr",
          "text": [
            "[nltk_data] Downloading package nps_chat to /root/nltk_data...\n",
            "[nltk_data]   Unzipping corpora/nps_chat.zip.\n"
          ]
        },
        {
          "output_type": "execute_result",
          "data": {
            "text/plain": [
              "True"
            ]
          },
          "metadata": {},
          "execution_count": 14
        }
      ]
    },
    {
      "cell_type": "code",
      "source": [
        "from nltk.corpus import nps_chat"
      ],
      "metadata": {
        "id": "89SujEy2DO1I"
      },
      "execution_count": null,
      "outputs": []
    },
    {
      "cell_type": "code",
      "source": [
        "unusual_words(nltk.corpus.nps_chat.words())"
      ],
      "metadata": {
        "colab": {
          "base_uri": "https://localhost:8080/"
        },
        "id": "UWMehbHuC4P_",
        "outputId": "121dbf98-19ab-4970-eef8-e6550efb8393"
      },
      "execution_count": null,
      "outputs": [
        {
          "output_type": "execute_result",
          "data": {
            "text/plain": [
              "['aaaaaaaaaaaaaaaaa',\n",
              " 'aaahhhh',\n",
              " 'abortions',\n",
              " 'abou',\n",
              " 'abourted',\n",
              " 'abs',\n",
              " 'ack',\n",
              " 'acros',\n",
              " 'actualy',\n",
              " 'adams',\n",
              " 'adds',\n",
              " 'adduser',\n",
              " 'adjusts',\n",
              " 'adoted',\n",
              " 'adreniline',\n",
              " 'ads',\n",
              " 'adults',\n",
              " 'afe',\n",
              " 'affairs',\n",
              " 'affari',\n",
              " 'affects',\n",
              " 'afk',\n",
              " 'agaibn',\n",
              " 'ages',\n",
              " 'aggravated',\n",
              " 'agurlwithbigguns',\n",
              " 'ahah',\n",
              " 'ahahah',\n",
              " 'ahahh',\n",
              " 'ahahha',\n",
              " 'ahh',\n",
              " 'ahhah',\n",
              " 'ahhahahaha',\n",
              " 'ahhh',\n",
              " 'ahhhh',\n",
              " 'ahhhhhh',\n",
              " 'ahhhhhhhhhhhhhh',\n",
              " 'aiiiiiiiiiiiiiiiiiiiiiiii',\n",
              " 'aiken',\n",
              " 'aime',\n",
              " 'akdt',\n",
              " 'akon',\n",
              " 'akron',\n",
              " 'akst',\n",
              " 'aligator',\n",
              " 'allergies',\n",
              " 'allo',\n",
              " 'allowed',\n",
              " 'aloha',\n",
              " 'alohaaa',\n",
              " 'alohas',\n",
              " 'alot',\n",
              " 'alotta',\n",
              " 'alternatives',\n",
              " 'alterz',\n",
              " 'alwys',\n",
              " 'alzheimers',\n",
              " 'amazingness',\n",
              " 'americans',\n",
              " 'anithing',\n",
              " 'ans',\n",
              " 'answering',\n",
              " 'answers',\n",
              " 'antidepressants',\n",
              " 'anygirl',\n",
              " 'anymore',\n",
              " 'anythin',\n",
              " 'anytime',\n",
              " 'anyyyyyyyyyyyyyyyyy',\n",
              " 'aok',\n",
              " 'apoligize',\n",
              " 'appearently',\n",
              " 'appears',\n",
              " 'applaudes',\n",
              " 'appleton',\n",
              " 'appologise',\n",
              " 'appologize',\n",
              " 'aqwesome',\n",
              " 'arggghhh',\n",
              " 'argh',\n",
              " 'armtnpeat',\n",
              " 'arrested',\n",
              " 'arrived',\n",
              " 'arround',\n",
              " 'asked',\n",
              " 'askin',\n",
              " 'asking',\n",
              " 'asks',\n",
              " 'asl',\n",
              " 'asnwer',\n",
              " 'asses',\n",
              " 'asshole',\n",
              " 'assholes',\n",
              " 'asss',\n",
              " 'assumes',\n",
              " 'aterry',\n",
              " 'atl',\n",
              " 'attempted',\n",
              " 'attracted',\n",
              " 'aussies',\n",
              " 'awesomee',\n",
              " 'awesomes',\n",
              " 'awrighty',\n",
              " 'awsome',\n",
              " 'aww',\n",
              " 'awww',\n",
              " 'awwww',\n",
              " 'awwwwww',\n",
              " 'awwwwwww',\n",
              " 'awwwwwwwwww',\n",
              " 'aynawy',\n",
              " 'az',\n",
              " 'azerbaijan',\n",
              " 'baaaaalllllllliiiiiiinnnnnnnnnnn',\n",
              " 'babay',\n",
              " 'babblein',\n",
              " 'babes',\n",
              " 'babies',\n",
              " 'babiess',\n",
              " 'babycakeses',\n",
              " 'bachelorette',\n",
              " 'backatchya',\n",
              " 'backfrontsidewaysandallaroundtheworld',\n",
              " 'backroom',\n",
              " 'bacl',\n",
              " 'bagels',\n",
              " 'bahahahaa',\n",
              " 'bak',\n",
              " 'balad',\n",
              " 'balck',\n",
              " 'ballin',\n",
              " 'balls',\n",
              " 'bandito',\n",
              " 'bandsaw',\n",
              " 'banjoes',\n",
              " 'banned',\n",
              " 'baord',\n",
              " 'barbie',\n",
              " 'barbieee',\n",
              " 'bares',\n",
              " 'barfights',\n",
              " 'barks',\n",
              " 'bbbbbyyyyyyyeeeeeeeee',\n",
              " 'bbiam',\n",
              " 'bbl',\n",
              " 'bbs',\n",
              " 'bc',\n",
              " 'beachhhh',\n",
              " 'beams',\n",
              " 'beans',\n",
              " 'bears',\n",
              " 'beatles',\n",
              " 'beats',\n",
              " 'beattles',\n",
              " 'beckley',\n",
              " 'beeeeehave',\n",
              " 'beeehave',\n",
              " 'bein',\n",
              " 'beleive',\n",
              " 'belongings',\n",
              " 'benz',\n",
              " 'beuty',\n",
              " 'bf',\n",
              " 'bi',\n",
              " 'biatch',\n",
              " 'biebsa',\n",
              " 'bied',\n",
              " 'bigest',\n",
              " 'biiiatch',\n",
              " 'biiiiiitch',\n",
              " 'bikes',\n",
              " 'bio',\n",
              " 'biographys',\n",
              " 'birdgang',\n",
              " 'birfday',\n",
              " 'bishes',\n",
              " 'bitches',\n",
              " 'bitdh',\n",
              " 'bites',\n",
              " 'biyatch',\n",
              " 'bj',\n",
              " 'blankie',\n",
              " 'blazed',\n",
              " 'blech',\n",
              " 'blessings',\n",
              " 'blew',\n",
              " 'bloe',\n",
              " 'blondes',\n",
              " 'bloooooooood',\n",
              " 'bloooooooooood',\n",
              " 'bloooooooooooood',\n",
              " 'blowjob',\n",
              " 'bodies',\n",
              " 'boed',\n",
              " 'boght',\n",
              " 'boi',\n",
              " 'boing',\n",
              " 'boinked',\n",
              " 'bones',\n",
              " 'boning',\n",
              " 'booboo',\n",
              " 'boobs',\n",
              " 'books',\n",
              " 'boooooooooooglyyyyyy',\n",
              " 'bootay',\n",
              " 'booyah',\n",
              " 'borat',\n",
              " 'bored',\n",
              " 'bothering',\n",
              " 'bounced',\n",
              " 'bouncers',\n",
              " 'bouts',\n",
              " 'boyfriend',\n",
              " 'boys',\n",
              " 'boyz',\n",
              " 'brady',\n",
              " 'brakes',\n",
              " 'brb',\n",
              " 'brbbb',\n",
              " 'breaks',\n",
              " 'brightened',\n",
              " 'brings',\n",
              " 'bro',\n",
              " 'brooklyn',\n",
              " 'brothers',\n",
              " 'brrrrrrr',\n",
              " 'bruises',\n",
              " 'brwn',\n",
              " 'btw',\n",
              " 'bucks',\n",
              " 'buddyyyyyy',\n",
              " 'bugs',\n",
              " 'buh',\n",
              " 'builds',\n",
              " 'bulls',\n",
              " 'bumber',\n",
              " 'bumped',\n",
              " 'burger',\n",
              " 'burito',\n",
              " 'burns',\n",
              " 'burpin',\n",
              " 'burps',\n",
              " 'burried',\n",
              " 'burryed',\n",
              " 'buses',\n",
              " 'buying',\n",
              " 'bwahahahahahahahahahaha',\n",
              " 'bwhaha',\n",
              " 'byb',\n",
              " 'byeee',\n",
              " 'byeeee',\n",
              " 'byeeeeeeee',\n",
              " 'byeeeeeeeeeeeee',\n",
              " 'byes',\n",
              " 'caan',\n",
              " 'caint',\n",
              " 'caiuse',\n",
              " 'cakes',\n",
              " 'cali',\n",
              " 'called',\n",
              " 'callifornia',\n",
              " 'calls',\n",
              " 'cams',\n",
              " 'canadaian',\n",
              " 'canadain',\n",
              " 'canehda',\n",
              " 'caps',\n",
              " 'cardinals',\n",
              " 'cardnials',\n",
              " 'cards',\n",
              " 'cares',\n",
              " 'cars',\n",
              " 'casts',\n",
              " 'catches',\n",
              " 'categories',\n",
              " 'catterick',\n",
              " 'caused',\n",
              " 'cdt',\n",
              " 'cepn',\n",
              " 'cereals',\n",
              " 'chamillionaire',\n",
              " 'changed',\n",
              " 'changing',\n",
              " 'chanop',\n",
              " 'chanowner',\n",
              " 'chathide',\n",
              " 'chatland',\n",
              " 'chatr',\n",
              " 'chatroom',\n",
              " 'chats',\n",
              " 'chatt',\n",
              " 'chatted',\n",
              " 'chattin',\n",
              " 'chcken',\n",
              " 'cheaking',\n",
              " 'checkin',\n",
              " 'checking',\n",
              " 'checks',\n",
              " 'cheeeez',\n",
              " 'cheers',\n",
              " 'cheking',\n",
              " 'chews',\n",
              " 'chica',\n",
              " 'chickens',\n",
              " 'chics',\n",
              " 'chik',\n",
              " 'children',\n",
              " 'chineese',\n",
              " 'chingy',\n",
              " 'choc',\n",
              " 'chocha',\n",
              " 'chococake',\n",
              " 'choices',\n",
              " 'chokes',\n",
              " 'chops',\n",
              " 'chp',\n",
              " 'chuckles',\n",
              " 'chunks',\n",
              " 'churches',\n",
              " 'ciao',\n",
              " 'ciara',\n",
              " 'cigars',\n",
              " 'ciggareets',\n",
              " 'ck',\n",
              " 'claws',\n",
              " 'cleared',\n",
              " 'cleveland',\n",
              " 'clicked',\n",
              " 'clients',\n",
              " 'clinicals',\n",
              " 'clooney',\n",
              " 'closes',\n",
              " 'clubs',\n",
              " 'cmon',\n",
              " 'cnnecticut',\n",
              " 'co',\n",
              " 'coconuts',\n",
              " 'coem',\n",
              " 'coffe',\n",
              " 'coggieeee',\n",
              " 'com',\n",
              " 'combo',\n",
              " 'comenting',\n",
              " 'comin',\n",
              " 'commanded',\n",
              " 'comments',\n",
              " 'comon',\n",
              " 'comp',\n",
              " 'complains',\n",
              " 'completly',\n",
              " 'compliments',\n",
              " 'compoud',\n",
              " 'comprende',\n",
              " 'comps',\n",
              " 'computers',\n",
              " 'computor',\n",
              " 'concernin',\n",
              " 'confessed',\n",
              " 'confusing',\n",
              " 'confusting',\n",
              " 'congrat',\n",
              " 'congrats',\n",
              " 'connecticutt',\n",
              " 'constituents',\n",
              " 'contast',\n",
              " 'contemplating',\n",
              " 'controll',\n",
              " 'controllers',\n",
              " 'controllin',\n",
              " 'controlling',\n",
              " 'convo',\n",
              " 'conway',\n",
              " 'cookie',\n",
              " 'cookies',\n",
              " 'coolcat',\n",
              " 'coonarsee',\n",
              " 'cooooooooookiiiiiiiiiiiieeeeeeeeeeee',\n",
              " 'copone',\n",
              " 'cops',\n",
              " 'costumes',\n",
              " 'cottons',\n",
              " 'coudl',\n",
              " 'coughed',\n",
              " 'coughs',\n",
              " 'cougs',\n",
              " 'couldnt',\n",
              " 'counts',\n",
              " 'coupons',\n",
              " 'courst',\n",
              " 'covers',\n",
              " 'coworkers',\n",
              " 'cpr',\n",
              " 'cramps',\n",
              " 'crashed',\n",
              " 'creme',\n",
              " 'cries',\n",
              " 'cripos',\n",
              " 'crosses',\n",
              " 'csi',\n",
              " 'cst',\n",
              " 'ct',\n",
              " 'ctrl',\n",
              " 'cuddlicious',\n",
              " 'cuffed',\n",
              " 'cums',\n",
              " 'cuppers',\n",
              " 'curls',\n",
              " 'currious',\n",
              " 'cus',\n",
              " 'cusion',\n",
              " 'cutes',\n",
              " 'cuz',\n",
              " 'cya',\n",
              " 'cyas',\n",
              " 'cyber',\n",
              " 'czeching',\n",
              " 'daamn',\n",
              " 'dahlin',\n",
              " 'damnit',\n",
              " 'dances',\n",
              " 'danes',\n",
              " 'dangit',\n",
              " 'darlin',\n",
              " 'darlings',\n",
              " 'darwin',\n",
              " 'dat',\n",
              " 'dated',\n",
              " 'daughters',\n",
              " 'daveeee',\n",
              " 'davis',\n",
              " 'dawg',\n",
              " 'dawnstar',\n",
              " 'dayum',\n",
              " 'dd',\n",
              " 'deals',\n",
              " 'deaths',\n",
              " 'decades',\n",
              " 'deceived',\n",
              " 'deciding',\n",
              " 'declaw',\n",
              " 'declawed',\n",
              " 'deeper',\n",
              " 'definately',\n",
              " 'definitley',\n",
              " 'defragging',\n",
              " 'defrags',\n",
              " 'degrees',\n",
              " 'deleware',\n",
              " 'delivers',\n",
              " 'dem',\n",
              " 'democrats',\n",
              " 'denver',\n",
              " 'denzel',\n",
              " 'deop',\n",
              " 'depeche',\n",
              " 'depends',\n",
              " 'descriminate',\n",
              " 'despie',\n",
              " 'despises',\n",
              " 'detroit',\n",
              " 'didnts',\n",
              " 'died',\n",
              " 'dies',\n",
              " 'diggin',\n",
              " 'dik',\n",
              " 'dipset',\n",
              " 'dirrrrty',\n",
              " 'diseast',\n",
              " 'disocvered',\n",
              " 'dissing',\n",
              " 'divorced',\n",
              " 'dj',\n",
              " 'dl',\n",
              " 'dman',\n",
              " 'docs',\n",
              " 'doggies',\n",
              " 'doin',\n",
              " 'dojn',\n",
              " 'dokey',\n",
              " 'dokken',\n",
              " 'dollars',\n",
              " 'dolls',\n",
              " 'donno',\n",
              " 'dontcha',\n",
              " 'donuts',\n",
              " 'dood',\n",
              " 'doody',\n",
              " 'doors',\n",
              " 'dork',\n",
              " 'dotn',\n",
              " 'doublewide',\n",
              " 'douchebag',\n",
              " 'doupt',\n",
              " 'downloaded',\n",
              " 'downloading',\n",
              " 'downnnnnn',\n",
              " 'downs',\n",
              " 'dr',\n",
              " 'drags',\n",
              " 'dratts',\n",
              " 'dreaded',\n",
              " 'dreammm',\n",
              " 'dreams',\n",
              " 'drinks',\n",
              " 'driveby',\n",
              " 'drivers',\n",
              " 'drivin',\n",
              " 'drools',\n",
              " 'dropped',\n",
              " 'drops',\n",
              " 'drugs',\n",
              " 'dryer',\n",
              " 'dsklgjsdk',\n",
              " 'du',\n",
              " 'duh',\n",
              " 'dumbass',\n",
              " 'dummmm',\n",
              " 'dunkin',\n",
              " 'dunno',\n",
              " 'dvd',\n",
              " 'dya',\n",
              " 'dyed',\n",
              " 'dyslexic',\n",
              " 'earplugs',\n",
              " 'earrings',\n",
              " 'ears',\n",
              " 'eay',\n",
              " 'ebay',\n",
              " 'edgewood',\n",
              " 'edmonton',\n",
              " 'eeeeeeeeewwwwwwww',\n",
              " 'eeeek',\n",
              " 'eeek',\n",
              " 'eeekk',\n",
              " 'eeewww',\n",
              " 'eeewwwwww',\n",
              " 'eeww',\n",
              " 'eggs',\n",
              " 'ehh',\n",
              " 'eitther',\n",
              " 'elbows',\n",
              " 'elected',\n",
              " 'elections',\n",
              " 'elev',\n",
              " 'ello',\n",
              " 'elo',\n",
              " 'email',\n",
              " 'eng',\n",
              " 'england',\n",
              " 'enjoys',\n",
              " 'enters',\n",
              " 'entitled',\n",
              " 'enuf',\n",
              " 'enuff',\n",
              " 'ep',\n",
              " 'erics',\n",
              " 'erm',\n",
              " 'eroticaust',\n",
              " 'errrrr',\n",
              " 'escaped',\n",
              " 'est',\n",
              " 'este',\n",
              " 'estefan',\n",
              " 'estra',\n",
              " 'eticket',\n",
              " 'euphamisms',\n",
              " 'evah',\n",
              " 'everbody',\n",
              " 'everone',\n",
              " 'evertonr',\n",
              " 'everytime',\n",
              " 'ewedding',\n",
              " 'eww',\n",
              " 'ewww',\n",
              " 'ewwww',\n",
              " 'ewwwww',\n",
              " 'ewwwwww',\n",
              " 'ewwwwwww',\n",
              " 'exchanged',\n",
              " 'exchanging',\n",
              " 'excitin',\n",
              " 'excuuuuuuse',\n",
              " 'experimenting',\n",
              " 'extensions',\n",
              " 'extras',\n",
              " 'exwife',\n",
              " 'eyes',\n",
              " 'facilitated',\n",
              " 'fails',\n",
              " 'fairbanks',\n",
              " 'fallout',\n",
              " 'falls',\n",
              " 'fallz',\n",
              " 'farms',\n",
              " 'fart',\n",
              " 'farting',\n",
              " 'farts',\n",
              " 'fav',\n",
              " 'fawk',\n",
              " 'fawked',\n",
              " 'fawker',\n",
              " 'fck',\n",
              " 'febe',\n",
              " 'feeds',\n",
              " 'feelings',\n",
              " 'feels',\n",
              " 'feet',\n",
              " 'fella',\n",
              " 'fellows',\n",
              " 'females',\n",
              " 'femine',\n",
              " 'fer',\n",
              " 'fergalicious',\n",
              " 'fergie',\n",
              " 'fetterline',\n",
              " 'fettish',\n",
              " 'ff',\n",
              " 'fiddles',\n",
              " 'files',\n",
              " 'fillin',\n",
              " 'finds',\n",
              " 'finers',\n",
              " 'fingers',\n",
              " 'firs',\n",
              " 'fishercat',\n",
              " 'fishercats',\n",
              " 'fishers',\n",
              " 'fishin',\n",
              " 'fits',\n",
              " 'fkajslf',\n",
              " 'fl',\n",
              " 'flames',\n",
              " 'flashed',\n",
              " 'flattered',\n",
              " 'flatts',\n",
              " 'flavors',\n",
              " 'flippin',\n",
              " 'flirts',\n",
              " 'fliuds',\n",
              " 'flops',\n",
              " 'fluids',\n",
              " 'fock',\n",
              " 'foley',\n",
              " 'folks',\n",
              " 'fongul',\n",
              " 'foothills',\n",
              " 'footprints',\n",
              " 'foreplay',\n",
              " 'forgets',\n",
              " 'forwads',\n",
              " 'foxes',\n",
              " 'foxwoods',\n",
              " 'fractured',\n",
              " 'fragged',\n",
              " 'fraggle',\n",
              " 'frags',\n",
              " 'freaing',\n",
              " 'freaked',\n",
              " 'freakin',\n",
              " 'freaking',\n",
              " 'freaks',\n",
              " 'freeeezinggg',\n",
              " 'freeezinggggg',\n",
              " 'freesbee',\n",
              " 'freind',\n",
              " 'frenchkiss',\n",
              " 'friends',\n",
              " 'fries',\n",
              " 'frm',\n",
              " 'froogle',\n",
              " 'frst',\n",
              " 'frustrating',\n",
              " 'ft',\n",
              " 'fuck',\n",
              " 'fucker',\n",
              " 'fuckin',\n",
              " 'fucking',\n",
              " 'fucks',\n",
              " 'fuddahnut',\n",
              " 'fuked',\n",
              " 'fulfilling',\n",
              " 'futurama',\n",
              " 'fwd',\n",
              " 'gaaaaaaay',\n",
              " 'gagas',\n",
              " 'gags',\n",
              " 'gained',\n",
              " 'gals',\n",
              " 'gamefly',\n",
              " 'games',\n",
              " 'garciae',\n",
              " 'gaspppp',\n",
              " 'gawd',\n",
              " 'gayoholic',\n",
              " 'gays',\n",
              " 'geeks',\n",
              " 'gees',\n",
              " 'geesh',\n",
              " 'geeshh',\n",
              " 'geeshhh',\n",
              " 'geessh',\n",
              " 'geeze',\n",
              " 'gente',\n",
              " 'gentlemen',\n",
              " 'gets',\n",
              " 'gettign',\n",
              " 'gettin',\n",
              " 'gettysburg',\n",
              " 'gezzz',\n",
              " 'gf',\n",
              " 'gguyyyzzzz',\n",
              " 'ghet',\n",
              " 'giggles',\n",
              " 'girlfriend',\n",
              " 'girls',\n",
              " 'giva',\n",
              " 'gives',\n",
              " 'givs',\n",
              " 'glitches',\n",
              " 'gm',\n",
              " 'gn',\n",
              " 'gng',\n",
              " 'goddamn',\n",
              " 'goin',\n",
              " 'goneee',\n",
              " 'gonna',\n",
              " 'goodbye',\n",
              " 'goodie',\n",
              " 'goodnight',\n",
              " 'goodnite',\n",
              " 'google',\n",
              " 'gooo',\n",
              " 'goooooo',\n",
              " 'gorda',\n",
              " 'gotaa',\n",
              " 'goths',\n",
              " 'gotta',\n",
              " 'gottsa',\n",
              " 'grabs',\n",
              " 'gracemont',\n",
              " 'grea',\n",
              " 'greetings',\n",
              " 'gret',\n",
              " 'grettings',\n",
              " 'grilfriend',\n",
              " 'grins',\n",
              " 'gritt',\n",
              " 'grlz',\n",
              " 'groups',\n",
              " 'grrl',\n",
              " 'grrr',\n",
              " 'grrrrrring',\n",
              " 'grrrrrrrr',\n",
              " 'grrrrrrrrr',\n",
              " 'grrrrrrrrrrrrrrrrr',\n",
              " 'gs',\n",
              " 'gtg',\n",
              " 'guns',\n",
              " 'gurlie',\n",
              " 'gurls',\n",
              " 'gurrrrl',\n",
              " 'guts',\n",
              " 'guys',\n",
              " 'guyz',\n",
              " 'guyzz',\n",
              " 'haaa',\n",
              " 'hafta',\n",
              " 'haha',\n",
              " 'hahaaa',\n",
              " 'hahaaaa',\n",
              " 'hahah',\n",
              " 'hahaha',\n",
              " 'hahahaa',\n",
              " 'hahahah',\n",
              " 'hahahaha',\n",
              " 'hahahahaaa',\n",
              " 'hahahahahaha',\n",
              " 'hahahahahahaha',\n",
              " 'hahahahahahahahahahahahahahahaha',\n",
              " 'hahahhahah',\n",
              " 'hahhaa',\n",
              " 'hahhahahaha',\n",
              " 'hairs',\n",
              " 'halfa',\n",
              " 'hallo',\n",
              " 'handheld',\n",
              " 'handing',\n",
              " 'hands',\n",
              " 'handyman',\n",
              " 'hang',\n",
              " 'hangin',\n",
              " 'hangs',\n",
              " 'happend',\n",
              " 'happened',\n",
              " 'happens',\n",
              " 'happpy',\n",
              " 'harley',\n",
              " 'hartford',\n",
              " 'has',\n",
              " 'haters',\n",
              " 'hates',\n",
              " 'hav',\n",
              " 'havin',\n",
              " 'having',\n",
              " 'hawaii',\n",
              " 'hawt',\n",
              " 'hb',\n",
              " 'headach',\n",
              " 'headlights',\n",
              " 'heads',\n",
              " 'heard',\n",
              " 'hearin',\n",
              " 'hearthechatters',\n",
              " 'heee',\n",
              " 'heeee',\n",
              " 'heeeey',\n",
              " 'heeheeheeheeheehee',\n",
              " 'heh',\n",
              " 'heheh',\n",
              " 'hehehe',\n",
              " 'hehehee',\n",
              " 'hehehehe',\n",
              " 'hel',\n",
              " 'helloooo',\n",
              " 'hellos',\n",
              " 'helped',\n",
              " 'hendrix',\n",
              " 'heroes',\n",
              " 'hertory',\n",
              " 'hes',\n",
              " 'heya',\n",
              " 'heyheyhey',\n",
              " 'heys',\n",
              " 'heyy',\n",
              " 'heyyy',\n",
              " 'heyyyy',\n",
              " 'heyyyyy',\n",
              " 'heyyyyyy',\n",
              " 'heyyyyyyy',\n",
              " 'heyyyyyyyy',\n",
              " 'heyyyyyyyyy',\n",
              " 'heyyyyyyyyyy',\n",
              " 'heyyyyyyyyyyyyyy',\n",
              " 'hfglhs',\n",
              " 'hgey',\n",
              " 'hgfhgfjgf',\n",
              " 'hhaaaaatttee',\n",
              " 'hheeyy',\n",
              " 'hheeyyy',\n",
              " 'hheeyyyyyyyyyyyyyyyyyyyyyyyyyyyyyyyyyyyyyyyyyyyyyyy',\n",
              " 'hhehe',\n",
              " 'hiding',\n",
              " 'hih',\n",
              " 'hii',\n",
              " 'hiii',\n",
              " 'hiiii',\n",
              " 'hio',\n",
              " 'hiom',\n",
              " 'hissy',\n",
              " 'hits',\n",
              " 'hitting',\n",
              " 'hix',\n",
              " 'hiy',\n",
              " 'hiya',\n",
              " 'hiyas',\n",
              " 'hm',\n",
              " 'hmm',\n",
              " 'hmmm',\n",
              " 'hmmmm',\n",
              " 'hmmmmm',\n",
              " 'hmmmmmmm',\n",
              " 'hmmmmmmmm',\n",
              " 'hmmmmmmmmmm',\n",
              " 'hmph',\n",
              " 'hogs',\n",
              " 'hohohohhohhoo',\n",
              " 'hola',\n",
              " 'holdin',\n",
              " 'holds',\n",
              " 'holocaustyourmom',\n",
              " 'hom',\n",
              " 'homeade',\n",
              " 'homeboys',\n",
              " 'homes',\n",
              " 'homies',\n",
              " 'homophobic',\n",
              " 'hoo',\n",
              " 'hooo',\n",
              " 'hooooo',\n",
              " 'hopin',\n",
              " 'hoping',\n",
              " 'horace',\n",
              " 'horriable',\n",
              " 'horrified',\n",
              " 'hots',\n",
              " 'hott',\n",
              " 'hottie',\n",
              " 'hotties',\n",
              " 'hours',\n",
              " 'houses',\n",
              " 'hows',\n",
              " 'howz',\n",
              " 'hpa',\n",
              " 'hr',\n",
              " 'hrs',\n",
              " 'http',\n",
              " 'hubbys',\n",
              " 'hugggs',\n",
              " 'huggs',\n",
              " 'huggss',\n",
              " 'hugs',\n",
              " 'hugss',\n",
              " 'hugsss',\n",
              " 'hugsssss',\n",
              " 'hugsssssssss',\n",
              " 'hugzzzzzzz',\n",
              " 'humm',\n",
              " 'hummmm',\n",
              " 'humple',\n",
              " 'hunters',\n",
              " 'huskers',\n",
              " 'husteling',\n",
              " 'huuuuuuuuuuuuuuuuuuuuuuuuuuuuuuuuuuugz',\n",
              " 'hx',\n",
              " 'hyy',\n",
              " 'iamahotnip',\n",
              " 'iamahotniplickme',\n",
              " 'iamahotnipwithhotnippics',\n",
              " 'iamahotnipwithpics',\n",
              " 'icky',\n",
              " 'ico',\n",
              " 'idiots',\n",
              " 'idnt',\n",
              " 'ifr',\n",
              " 'ignored',\n",
              " 'ignoring',\n",
              " 'ihavehotnips',\n",
              " 'ii',\n",
              " 'il',\n",
              " 'illin',\n",
              " 'im',\n",
              " 'images',\n",
              " 'imhave',\n",
              " 'imma',\n",
              " 'immersed',\n",
              " 'impaired',\n",
              " 'impared',\n",
              " 'impressed',\n",
              " 'indiantown',\n",
              " 'infor',\n",
              " 'inhales',\n",
              " 'injureis',\n",
              " 'innit',\n",
              " 'innocense',\n",
              " 'insuklting',\n",
              " 'internet',\n",
              " 'intersting',\n",
              " 'invisiable',\n",
              " 'involves',\n",
              " 'irc',\n",
              " 'irl',\n",
              " 'isnt',\n",
              " 'issues',\n",
              " 'italians',\n",
              " 'italy',\n",
              " 'itches',\n",
              " 'items',\n",
              " 'itz',\n",
              " 'ive',\n",
              " 'iz',\n",
              " 'ja',\n",
              " 'jackie',\n",
              " 'jacking',\n",
              " 'jajajaaa',\n",
              " 'jammed',\n",
              " 'jammers',\n",
              " 'jammies',\n",
              " 'jayse',\n",
              " 'jerimiah',\n",
              " 'jerkettes',\n",
              " 'jerketts',\n",
              " 'jerks',\n",
              " 'jeter',\n",
              " 'jk',\n",
              " 'johnson',\n",
              " 'johny',\n",
              " 'joined',\n",
              " 'jokes',\n",
              " 'joking',\n",
              " 'jonesboro',\n",
              " 'jordison',\n",
              " 'joshy',\n",
              " 'jr',\n",
              " 'jrz',\n",
              " 'jto',\n",
              " 'jucilicious',\n",
              " 'judges',\n",
              " 'jujubees',\n",
              " 'jumpin',\n",
              " 'jumps',\n",
              " ...]"
            ]
          },
          "metadata": {},
          "execution_count": 18
        }
      ]
    },
    {
      "cell_type": "code",
      "source": [
        "nltk.download('stopwords')"
      ],
      "metadata": {
        "colab": {
          "base_uri": "https://localhost:8080/"
        },
        "id": "4jmmphPmDEPH",
        "outputId": "dd068b22-3a3e-4759-9037-e6f408eec97f"
      },
      "execution_count": null,
      "outputs": [
        {
          "output_type": "stream",
          "name": "stderr",
          "text": [
            "[nltk_data] Downloading package stopwords to /root/nltk_data...\n",
            "[nltk_data]   Unzipping corpora/stopwords.zip.\n"
          ]
        },
        {
          "output_type": "execute_result",
          "data": {
            "text/plain": [
              "True"
            ]
          },
          "metadata": {},
          "execution_count": 19
        }
      ]
    },
    {
      "cell_type": "code",
      "source": [
        "from nltk.corpus import stopwords"
      ],
      "metadata": {
        "id": "ehc3Fp9UDgLi"
      },
      "execution_count": null,
      "outputs": []
    },
    {
      "cell_type": "code",
      "source": [
        "stopwords.words('english')"
      ],
      "metadata": {
        "colab": {
          "base_uri": "https://localhost:8080/"
        },
        "id": "Ll62us_JDjA2",
        "outputId": "8e56d309-8ab8-4311-92d6-5cc7a870d353"
      },
      "execution_count": null,
      "outputs": [
        {
          "output_type": "execute_result",
          "data": {
            "text/plain": [
              "['i',\n",
              " 'me',\n",
              " 'my',\n",
              " 'myself',\n",
              " 'we',\n",
              " 'our',\n",
              " 'ours',\n",
              " 'ourselves',\n",
              " 'you',\n",
              " \"you're\",\n",
              " \"you've\",\n",
              " \"you'll\",\n",
              " \"you'd\",\n",
              " 'your',\n",
              " 'yours',\n",
              " 'yourself',\n",
              " 'yourselves',\n",
              " 'he',\n",
              " 'him',\n",
              " 'his',\n",
              " 'himself',\n",
              " 'she',\n",
              " \"she's\",\n",
              " 'her',\n",
              " 'hers',\n",
              " 'herself',\n",
              " 'it',\n",
              " \"it's\",\n",
              " 'its',\n",
              " 'itself',\n",
              " 'they',\n",
              " 'them',\n",
              " 'their',\n",
              " 'theirs',\n",
              " 'themselves',\n",
              " 'what',\n",
              " 'which',\n",
              " 'who',\n",
              " 'whom',\n",
              " 'this',\n",
              " 'that',\n",
              " \"that'll\",\n",
              " 'these',\n",
              " 'those',\n",
              " 'am',\n",
              " 'is',\n",
              " 'are',\n",
              " 'was',\n",
              " 'were',\n",
              " 'be',\n",
              " 'been',\n",
              " 'being',\n",
              " 'have',\n",
              " 'has',\n",
              " 'had',\n",
              " 'having',\n",
              " 'do',\n",
              " 'does',\n",
              " 'did',\n",
              " 'doing',\n",
              " 'a',\n",
              " 'an',\n",
              " 'the',\n",
              " 'and',\n",
              " 'but',\n",
              " 'if',\n",
              " 'or',\n",
              " 'because',\n",
              " 'as',\n",
              " 'until',\n",
              " 'while',\n",
              " 'of',\n",
              " 'at',\n",
              " 'by',\n",
              " 'for',\n",
              " 'with',\n",
              " 'about',\n",
              " 'against',\n",
              " 'between',\n",
              " 'into',\n",
              " 'through',\n",
              " 'during',\n",
              " 'before',\n",
              " 'after',\n",
              " 'above',\n",
              " 'below',\n",
              " 'to',\n",
              " 'from',\n",
              " 'up',\n",
              " 'down',\n",
              " 'in',\n",
              " 'out',\n",
              " 'on',\n",
              " 'off',\n",
              " 'over',\n",
              " 'under',\n",
              " 'again',\n",
              " 'further',\n",
              " 'then',\n",
              " 'once',\n",
              " 'here',\n",
              " 'there',\n",
              " 'when',\n",
              " 'where',\n",
              " 'why',\n",
              " 'how',\n",
              " 'all',\n",
              " 'any',\n",
              " 'both',\n",
              " 'each',\n",
              " 'few',\n",
              " 'more',\n",
              " 'most',\n",
              " 'other',\n",
              " 'some',\n",
              " 'such',\n",
              " 'no',\n",
              " 'nor',\n",
              " 'not',\n",
              " 'only',\n",
              " 'own',\n",
              " 'same',\n",
              " 'so',\n",
              " 'than',\n",
              " 'too',\n",
              " 'very',\n",
              " 's',\n",
              " 't',\n",
              " 'can',\n",
              " 'will',\n",
              " 'just',\n",
              " 'don',\n",
              " \"don't\",\n",
              " 'should',\n",
              " \"should've\",\n",
              " 'now',\n",
              " 'd',\n",
              " 'll',\n",
              " 'm',\n",
              " 'o',\n",
              " 're',\n",
              " 've',\n",
              " 'y',\n",
              " 'ain',\n",
              " 'aren',\n",
              " \"aren't\",\n",
              " 'couldn',\n",
              " \"couldn't\",\n",
              " 'didn',\n",
              " \"didn't\",\n",
              " 'doesn',\n",
              " \"doesn't\",\n",
              " 'hadn',\n",
              " \"hadn't\",\n",
              " 'hasn',\n",
              " \"hasn't\",\n",
              " 'haven',\n",
              " \"haven't\",\n",
              " 'isn',\n",
              " \"isn't\",\n",
              " 'ma',\n",
              " 'mightn',\n",
              " \"mightn't\",\n",
              " 'mustn',\n",
              " \"mustn't\",\n",
              " 'needn',\n",
              " \"needn't\",\n",
              " 'shan',\n",
              " \"shan't\",\n",
              " 'shouldn',\n",
              " \"shouldn't\",\n",
              " 'wasn',\n",
              " \"wasn't\",\n",
              " 'weren',\n",
              " \"weren't\",\n",
              " 'won',\n",
              " \"won't\",\n",
              " 'wouldn',\n",
              " \"wouldn't\"]"
            ]
          },
          "metadata": {},
          "execution_count": 21
        }
      ]
    },
    {
      "cell_type": "code",
      "source": [
        "nltk.download('reuters')"
      ],
      "metadata": {
        "colab": {
          "base_uri": "https://localhost:8080/"
        },
        "id": "3JKVHiOhDmZb",
        "outputId": "b08bb1f0-bf32-4621-9b83-affa63d685e2"
      },
      "execution_count": null,
      "outputs": [
        {
          "output_type": "stream",
          "name": "stderr",
          "text": [
            "[nltk_data] Downloading package reuters to /root/nltk_data...\n"
          ]
        },
        {
          "output_type": "execute_result",
          "data": {
            "text/plain": [
              "True"
            ]
          },
          "metadata": {},
          "execution_count": 22
        }
      ]
    },
    {
      "cell_type": "code",
      "source": [
        "def content_fraction(text):\n",
        "    stopwords = nltk.corpus.stopwords.words('english')\n",
        "    content = [w for w in text if w.lower() not in stopwords]\n",
        "    return len(content)/len(text)"
      ],
      "metadata": {
        "id": "bNND9at4Dp2n"
      },
      "execution_count": null,
      "outputs": []
    },
    {
      "cell_type": "code",
      "source": [
        "content_fraction(nltk.corpus.reuters.words())"
      ],
      "metadata": {
        "colab": {
          "base_uri": "https://localhost:8080/"
        },
        "id": "VX9c-SbSD73G",
        "outputId": "56d953ed-3d5f-40ff-8048-7006c30466a0"
      },
      "execution_count": null,
      "outputs": [
        {
          "output_type": "execute_result",
          "data": {
            "text/plain": [
              "0.735240435097661"
            ]
          },
          "metadata": {},
          "execution_count": 24
        }
      ]
    },
    {
      "cell_type": "code",
      "source": [
        "nltk.download('names')"
      ],
      "metadata": {
        "colab": {
          "base_uri": "https://localhost:8080/"
        },
        "id": "POZiBi3TECFz",
        "outputId": "845fbffd-6fe7-41f9-e4c5-ca0ebf2109d3"
      },
      "execution_count": null,
      "outputs": [
        {
          "output_type": "stream",
          "name": "stderr",
          "text": [
            "[nltk_data] Downloading package names to /root/nltk_data...\n",
            "[nltk_data]   Unzipping corpora/names.zip.\n"
          ]
        },
        {
          "output_type": "execute_result",
          "data": {
            "text/plain": [
              "True"
            ]
          },
          "metadata": {},
          "execution_count": 25
        }
      ]
    },
    {
      "cell_type": "code",
      "source": [
        "names = nltk.corpus.names"
      ],
      "metadata": {
        "id": "KIvoIHHSEI13"
      },
      "execution_count": null,
      "outputs": []
    },
    {
      "cell_type": "code",
      "source": [
        "names.fileids()"
      ],
      "metadata": {
        "colab": {
          "base_uri": "https://localhost:8080/"
        },
        "id": "ZWWu3HF3ELNq",
        "outputId": "d78032fd-42be-4898-f03f-105ff6efec55"
      },
      "execution_count": null,
      "outputs": [
        {
          "output_type": "execute_result",
          "data": {
            "text/plain": [
              "['female.txt', 'male.txt']"
            ]
          },
          "metadata": {},
          "execution_count": 27
        }
      ]
    },
    {
      "cell_type": "code",
      "source": [
        "male_names = names.words('male.txt')"
      ],
      "metadata": {
        "id": "_w3th-4QEM5z"
      },
      "execution_count": null,
      "outputs": []
    },
    {
      "cell_type": "code",
      "source": [
        "female_names = names.words('female.txt')"
      ],
      "metadata": {
        "id": "mal7LQijERGu"
      },
      "execution_count": null,
      "outputs": []
    },
    {
      "cell_type": "code",
      "source": [
        "[w for w in male_names if w in female_names]"
      ],
      "metadata": {
        "colab": {
          "base_uri": "https://localhost:8080/"
        },
        "id": "pCRgLxvXEVHC",
        "outputId": "227a7ae6-9a59-4cce-c2c5-e79f28c4f2a4"
      },
      "execution_count": null,
      "outputs": [
        {
          "output_type": "execute_result",
          "data": {
            "text/plain": [
              "['Abbey',\n",
              " 'Abbie',\n",
              " 'Abby',\n",
              " 'Addie',\n",
              " 'Adrian',\n",
              " 'Adrien',\n",
              " 'Ajay',\n",
              " 'Alex',\n",
              " 'Alexis',\n",
              " 'Alfie',\n",
              " 'Ali',\n",
              " 'Alix',\n",
              " 'Allie',\n",
              " 'Allyn',\n",
              " 'Andie',\n",
              " 'Andrea',\n",
              " 'Andy',\n",
              " 'Angel',\n",
              " 'Angie',\n",
              " 'Ariel',\n",
              " 'Ashley',\n",
              " 'Aubrey',\n",
              " 'Augustine',\n",
              " 'Austin',\n",
              " 'Averil',\n",
              " 'Barrie',\n",
              " 'Barry',\n",
              " 'Beau',\n",
              " 'Bennie',\n",
              " 'Benny',\n",
              " 'Bernie',\n",
              " 'Bert',\n",
              " 'Bertie',\n",
              " 'Bill',\n",
              " 'Billie',\n",
              " 'Billy',\n",
              " 'Blair',\n",
              " 'Blake',\n",
              " 'Bo',\n",
              " 'Bobbie',\n",
              " 'Bobby',\n",
              " 'Brandy',\n",
              " 'Brett',\n",
              " 'Britt',\n",
              " 'Brook',\n",
              " 'Brooke',\n",
              " 'Brooks',\n",
              " 'Bryn',\n",
              " 'Cal',\n",
              " 'Cam',\n",
              " 'Cammy',\n",
              " 'Carey',\n",
              " 'Carlie',\n",
              " 'Carlin',\n",
              " 'Carmine',\n",
              " 'Carroll',\n",
              " 'Cary',\n",
              " 'Caryl',\n",
              " 'Casey',\n",
              " 'Cass',\n",
              " 'Cat',\n",
              " 'Cecil',\n",
              " 'Chad',\n",
              " 'Chris',\n",
              " 'Chrissy',\n",
              " 'Christian',\n",
              " 'Christie',\n",
              " 'Christy',\n",
              " 'Clair',\n",
              " 'Claire',\n",
              " 'Clare',\n",
              " 'Claude',\n",
              " 'Clem',\n",
              " 'Clemmie',\n",
              " 'Cody',\n",
              " 'Connie',\n",
              " 'Constantine',\n",
              " 'Corey',\n",
              " 'Corrie',\n",
              " 'Cory',\n",
              " 'Courtney',\n",
              " 'Cris',\n",
              " 'Daffy',\n",
              " 'Dale',\n",
              " 'Dallas',\n",
              " 'Dana',\n",
              " 'Dani',\n",
              " 'Daniel',\n",
              " 'Dannie',\n",
              " 'Danny',\n",
              " 'Darby',\n",
              " 'Darcy',\n",
              " 'Darryl',\n",
              " 'Daryl',\n",
              " 'Deane',\n",
              " 'Del',\n",
              " 'Dell',\n",
              " 'Demetris',\n",
              " 'Dennie',\n",
              " 'Denny',\n",
              " 'Devin',\n",
              " 'Devon',\n",
              " 'Dion',\n",
              " 'Dionis',\n",
              " 'Dominique',\n",
              " 'Donnie',\n",
              " 'Donny',\n",
              " 'Dorian',\n",
              " 'Dory',\n",
              " 'Drew',\n",
              " 'Eddie',\n",
              " 'Eddy',\n",
              " 'Edie',\n",
              " 'Elisha',\n",
              " 'Emmy',\n",
              " 'Erin',\n",
              " 'Esme',\n",
              " 'Evelyn',\n",
              " 'Felice',\n",
              " 'Fran',\n",
              " 'Francis',\n",
              " 'Frank',\n",
              " 'Frankie',\n",
              " 'Franky',\n",
              " 'Fred',\n",
              " 'Freddie',\n",
              " 'Freddy',\n",
              " 'Gabriel',\n",
              " 'Gabriell',\n",
              " 'Gail',\n",
              " 'Gale',\n",
              " 'Gay',\n",
              " 'Gayle',\n",
              " 'Gene',\n",
              " 'George',\n",
              " 'Georgia',\n",
              " 'Georgie',\n",
              " 'Geri',\n",
              " 'Germaine',\n",
              " 'Gerri',\n",
              " 'Gerry',\n",
              " 'Gill',\n",
              " 'Ginger',\n",
              " 'Glen',\n",
              " 'Glenn',\n",
              " 'Grace',\n",
              " 'Gretchen',\n",
              " 'Gus',\n",
              " 'Haleigh',\n",
              " 'Haley',\n",
              " 'Hannibal',\n",
              " 'Harley',\n",
              " 'Hazel',\n",
              " 'Heath',\n",
              " 'Henrie',\n",
              " 'Hilary',\n",
              " 'Hillary',\n",
              " 'Holly',\n",
              " 'Ike',\n",
              " 'Ikey',\n",
              " 'Ira',\n",
              " 'Isa',\n",
              " 'Isador',\n",
              " 'Isadore',\n",
              " 'Jackie',\n",
              " 'Jaime',\n",
              " 'Jamie',\n",
              " 'Jan',\n",
              " 'Jean',\n",
              " 'Jere',\n",
              " 'Jermaine',\n",
              " 'Jerrie',\n",
              " 'Jerry',\n",
              " 'Jess',\n",
              " 'Jesse',\n",
              " 'Jessie',\n",
              " 'Jo',\n",
              " 'Jodi',\n",
              " 'Jodie',\n",
              " 'Jody',\n",
              " 'Joey',\n",
              " 'Jordan',\n",
              " 'Juanita',\n",
              " 'Jude',\n",
              " 'Judith',\n",
              " 'Judy',\n",
              " 'Julie',\n",
              " 'Justin',\n",
              " 'Karel',\n",
              " 'Kellen',\n",
              " 'Kelley',\n",
              " 'Kelly',\n",
              " 'Kelsey',\n",
              " 'Kerry',\n",
              " 'Kim',\n",
              " 'Kip',\n",
              " 'Kirby',\n",
              " 'Kit',\n",
              " 'Kris',\n",
              " 'Kyle',\n",
              " 'Lane',\n",
              " 'Lanny',\n",
              " 'Lauren',\n",
              " 'Laurie',\n",
              " 'Lee',\n",
              " 'Leigh',\n",
              " 'Leland',\n",
              " 'Lesley',\n",
              " 'Leslie',\n",
              " 'Lin',\n",
              " 'Lind',\n",
              " 'Lindsay',\n",
              " 'Lindsey',\n",
              " 'Lindy',\n",
              " 'Lonnie',\n",
              " 'Loren',\n",
              " 'Lorne',\n",
              " 'Lorrie',\n",
              " 'Lou',\n",
              " 'Luce',\n",
              " 'Lyn',\n",
              " 'Lynn',\n",
              " 'Maddie',\n",
              " 'Maddy',\n",
              " 'Marietta',\n",
              " 'Marion',\n",
              " 'Marlo',\n",
              " 'Martie',\n",
              " 'Marty',\n",
              " 'Mattie',\n",
              " 'Matty',\n",
              " 'Maurise',\n",
              " 'Max',\n",
              " 'Maxie',\n",
              " 'Mead',\n",
              " 'Meade',\n",
              " 'Mel',\n",
              " 'Meredith',\n",
              " 'Merle',\n",
              " 'Merrill',\n",
              " 'Merry',\n",
              " 'Meryl',\n",
              " 'Michal',\n",
              " 'Michel',\n",
              " 'Michele',\n",
              " 'Mickie',\n",
              " 'Micky',\n",
              " 'Millicent',\n",
              " 'Morgan',\n",
              " 'Morlee',\n",
              " 'Muffin',\n",
              " 'Nat',\n",
              " 'Nichole',\n",
              " 'Nickie',\n",
              " 'Nicky',\n",
              " 'Niki',\n",
              " 'Nikki',\n",
              " 'Noel',\n",
              " 'Ollie',\n",
              " 'Page',\n",
              " 'Paige',\n",
              " 'Pat',\n",
              " 'Patrice',\n",
              " 'Patsy',\n",
              " 'Pattie',\n",
              " 'Patty',\n",
              " 'Pen',\n",
              " 'Pennie',\n",
              " 'Penny',\n",
              " 'Perry',\n",
              " 'Phil',\n",
              " 'Pooh',\n",
              " 'Quentin',\n",
              " 'Quinn',\n",
              " 'Randi',\n",
              " 'Randie',\n",
              " 'Randy',\n",
              " 'Ray',\n",
              " 'Regan',\n",
              " 'Reggie',\n",
              " 'Rene',\n",
              " 'Rey',\n",
              " 'Ricki',\n",
              " 'Rickie',\n",
              " 'Ricky',\n",
              " 'Rikki',\n",
              " 'Robbie',\n",
              " 'Robin',\n",
              " 'Ronnie',\n",
              " 'Ronny',\n",
              " 'Rory',\n",
              " 'Ruby',\n",
              " 'Sal',\n",
              " 'Sam',\n",
              " 'Sammy',\n",
              " 'Sandy',\n",
              " 'Sascha',\n",
              " 'Sasha',\n",
              " 'Saundra',\n",
              " 'Sayre',\n",
              " 'Scotty',\n",
              " 'Sean',\n",
              " 'Shaine',\n",
              " 'Shane',\n",
              " 'Shannon',\n",
              " 'Shaun',\n",
              " 'Shawn',\n",
              " 'Shay',\n",
              " 'Shayne',\n",
              " 'Shea',\n",
              " 'Shelby',\n",
              " 'Shell',\n",
              " 'Shelley',\n",
              " 'Sibyl',\n",
              " 'Simone',\n",
              " 'Sonnie',\n",
              " 'Sonny',\n",
              " 'Stacy',\n",
              " 'Sunny',\n",
              " 'Sydney',\n",
              " 'Tabbie',\n",
              " 'Tabby',\n",
              " 'Tallie',\n",
              " 'Tally',\n",
              " 'Tammie',\n",
              " 'Tammy',\n",
              " 'Tate',\n",
              " 'Ted',\n",
              " 'Teddie',\n",
              " 'Teddy',\n",
              " 'Terri',\n",
              " 'Terry',\n",
              " 'Theo',\n",
              " 'Tim',\n",
              " 'Timmie',\n",
              " 'Timmy',\n",
              " 'Tobe',\n",
              " 'Tobie',\n",
              " 'Toby',\n",
              " 'Tommie',\n",
              " 'Tommy',\n",
              " 'Tony',\n",
              " 'Torey',\n",
              " 'Trace',\n",
              " 'Tracey',\n",
              " 'Tracie',\n",
              " 'Tracy',\n",
              " 'Val',\n",
              " 'Vale',\n",
              " 'Valentine',\n",
              " 'Van',\n",
              " 'Vin',\n",
              " 'Vinnie',\n",
              " 'Vinny',\n",
              " 'Virgie',\n",
              " 'Wallie',\n",
              " 'Wallis',\n",
              " 'Wally',\n",
              " 'Whitney',\n",
              " 'Willi',\n",
              " 'Willie',\n",
              " 'Willy',\n",
              " 'Winnie',\n",
              " 'Winny',\n",
              " 'Wynn']"
            ]
          },
          "metadata": {},
          "execution_count": 30
        }
      ]
    },
    {
      "cell_type": "code",
      "source": [
        "cfd = nltk.ConditionalFreqDist(\n",
        "      (fileid,name[-1])\n",
        "      for fileid in names.fileids()\n",
        "      for name in names.words(fileid)\n",
        "      )"
      ],
      "metadata": {
        "id": "_HCcgQ7oEYd0"
      },
      "execution_count": null,
      "outputs": []
    },
    {
      "cell_type": "code",
      "source": [
        "cfd.plot()"
      ],
      "metadata": {
        "colab": {
          "base_uri": "https://localhost:8080/",
          "height": 297
        },
        "id": "L-Keg4L8En3h",
        "outputId": "a4eb30e2-4df1-490f-a853-cd627acd32a2"
      },
      "execution_count": null,
      "outputs": [
        {
          "output_type": "display_data",
          "data": {
            "text/plain": [
              "<Figure size 432x288 with 1 Axes>"
            ],
            "image/png": "[encoded data removed]"
          },
          "metadata": {
            "needs_background": "light"
          }
        },
        {
          "output_type": "execute_result",
          "data": {
            "text/plain": [
              "<matplotlib.axes._subplots.AxesSubplot at 0x7f43a4579d90>"
            ]
          },
          "metadata": {},
          "execution_count": 34
        }
      ]
    },
    {
      "cell_type": "code",
      "source": [
        "nltk.download('swadesh')"
      ],
      "metadata": {
        "colab": {
          "base_uri": "https://localhost:8080/"
        },
        "id": "T5pfhfAJErJj",
        "outputId": "5fc7b431-9907-41a6-f954-d9e7774fe780"
      },
      "execution_count": null,
      "outputs": [
        {
          "output_type": "stream",
          "name": "stderr",
          "text": [
            "[nltk_data] Downloading package swadesh to /root/nltk_data...\n",
            "[nltk_data]   Unzipping corpora/swadesh.zip.\n"
          ]
        },
        {
          "output_type": "execute_result",
          "data": {
            "text/plain": [
              "True"
            ]
          },
          "metadata": {},
          "execution_count": 35
        }
      ]
    },
    {
      "cell_type": "code",
      "source": [
        "from nltk.corpus import swadesh"
      ],
      "metadata": {
        "id": "XDRlsES-E1Xl"
      },
      "execution_count": null,
      "outputs": []
    },
    {
      "cell_type": "code",
      "source": [
        "swadesh.fileids()"
      ],
      "metadata": {
        "colab": {
          "base_uri": "https://localhost:8080/"
        },
        "id": "MBWd7_r6E4Fy",
        "outputId": "439cdf3a-8c18-4a15-b65d-be6c795bdcec"
      },
      "execution_count": null,
      "outputs": [
        {
          "output_type": "execute_result",
          "data": {
            "text/plain": [
              "['be',\n",
              " 'bg',\n",
              " 'bs',\n",
              " 'ca',\n",
              " 'cs',\n",
              " 'cu',\n",
              " 'de',\n",
              " 'en',\n",
              " 'es',\n",
              " 'fr',\n",
              " 'hr',\n",
              " 'it',\n",
              " 'la',\n",
              " 'mk',\n",
              " 'nl',\n",
              " 'pl',\n",
              " 'pt',\n",
              " 'ro',\n",
              " 'ru',\n",
              " 'sk',\n",
              " 'sl',\n",
              " 'sr',\n",
              " 'sw',\n",
              " 'uk']"
            ]
          },
          "metadata": {},
          "execution_count": 37
        }
      ]
    },
    {
      "cell_type": "code",
      "source": [
        "swadesh.words('en')"
      ],
      "metadata": {
        "colab": {
          "base_uri": "https://localhost:8080/"
        },
        "id": "gisRAx3fE6Jn",
        "outputId": "934583c4-2f3f-4090-c889-3426385a4c8d"
      },
      "execution_count": null,
      "outputs": [
        {
          "output_type": "execute_result",
          "data": {
            "text/plain": [
              "['I',\n",
              " 'you (singular), thou',\n",
              " 'he',\n",
              " 'we',\n",
              " 'you (plural)',\n",
              " 'they',\n",
              " 'this',\n",
              " 'that',\n",
              " 'here',\n",
              " 'there',\n",
              " 'who',\n",
              " 'what',\n",
              " 'where',\n",
              " 'when',\n",
              " 'how',\n",
              " 'not',\n",
              " 'all',\n",
              " 'many',\n",
              " 'some',\n",
              " 'few',\n",
              " 'other',\n",
              " 'one',\n",
              " 'two',\n",
              " 'three',\n",
              " 'four',\n",
              " 'five',\n",
              " 'big',\n",
              " 'long',\n",
              " 'wide',\n",
              " 'thick',\n",
              " 'heavy',\n",
              " 'small',\n",
              " 'short',\n",
              " 'narrow',\n",
              " 'thin',\n",
              " 'woman',\n",
              " 'man (adult male)',\n",
              " 'man (human being)',\n",
              " 'child',\n",
              " 'wife',\n",
              " 'husband',\n",
              " 'mother',\n",
              " 'father',\n",
              " 'animal',\n",
              " 'fish',\n",
              " 'bird',\n",
              " 'dog',\n",
              " 'louse',\n",
              " 'snake',\n",
              " 'worm',\n",
              " 'tree',\n",
              " 'forest',\n",
              " 'stick',\n",
              " 'fruit',\n",
              " 'seed',\n",
              " 'leaf',\n",
              " 'root',\n",
              " 'bark (from tree)',\n",
              " 'flower',\n",
              " 'grass',\n",
              " 'rope',\n",
              " 'skin',\n",
              " 'meat',\n",
              " 'blood',\n",
              " 'bone',\n",
              " 'fat (noun)',\n",
              " 'egg',\n",
              " 'horn',\n",
              " 'tail',\n",
              " 'feather',\n",
              " 'hair',\n",
              " 'head',\n",
              " 'ear',\n",
              " 'eye',\n",
              " 'nose',\n",
              " 'mouth',\n",
              " 'tooth',\n",
              " 'tongue',\n",
              " 'fingernail',\n",
              " 'foot',\n",
              " 'leg',\n",
              " 'knee',\n",
              " 'hand',\n",
              " 'wing',\n",
              " 'belly',\n",
              " 'guts',\n",
              " 'neck',\n",
              " 'back',\n",
              " 'breast',\n",
              " 'heart',\n",
              " 'liver',\n",
              " 'drink',\n",
              " 'eat',\n",
              " 'bite',\n",
              " 'suck',\n",
              " 'spit',\n",
              " 'vomit',\n",
              " 'blow',\n",
              " 'breathe',\n",
              " 'laugh',\n",
              " 'see',\n",
              " 'hear',\n",
              " 'know (a fact)',\n",
              " 'think',\n",
              " 'smell',\n",
              " 'fear',\n",
              " 'sleep',\n",
              " 'live',\n",
              " 'die',\n",
              " 'kill',\n",
              " 'fight',\n",
              " 'hunt',\n",
              " 'hit',\n",
              " 'cut',\n",
              " 'split',\n",
              " 'stab',\n",
              " 'scratch',\n",
              " 'dig',\n",
              " 'swim',\n",
              " 'fly (verb)',\n",
              " 'walk',\n",
              " 'come',\n",
              " 'lie',\n",
              " 'sit',\n",
              " 'stand',\n",
              " 'turn',\n",
              " 'fall',\n",
              " 'give',\n",
              " 'hold',\n",
              " 'squeeze',\n",
              " 'rub',\n",
              " 'wash',\n",
              " 'wipe',\n",
              " 'pull',\n",
              " 'push',\n",
              " 'throw',\n",
              " 'tie',\n",
              " 'sew',\n",
              " 'count',\n",
              " 'say',\n",
              " 'sing',\n",
              " 'play',\n",
              " 'float',\n",
              " 'flow',\n",
              " 'freeze',\n",
              " 'swell',\n",
              " 'sun',\n",
              " 'moon',\n",
              " 'star',\n",
              " 'water',\n",
              " 'rain',\n",
              " 'river',\n",
              " 'lake',\n",
              " 'sea',\n",
              " 'salt',\n",
              " 'stone',\n",
              " 'sand',\n",
              " 'dust',\n",
              " 'earth',\n",
              " 'cloud',\n",
              " 'fog',\n",
              " 'sky',\n",
              " 'wind',\n",
              " 'snow',\n",
              " 'ice',\n",
              " 'smoke',\n",
              " 'fire',\n",
              " 'ashes',\n",
              " 'burn',\n",
              " 'road',\n",
              " 'mountain',\n",
              " 'red',\n",
              " 'green',\n",
              " 'yellow',\n",
              " 'white',\n",
              " 'black',\n",
              " 'night',\n",
              " 'day',\n",
              " 'year',\n",
              " 'warm',\n",
              " 'cold',\n",
              " 'full',\n",
              " 'new',\n",
              " 'old',\n",
              " 'good',\n",
              " 'bad',\n",
              " 'rotten',\n",
              " 'dirty',\n",
              " 'straight',\n",
              " 'round',\n",
              " 'sharp',\n",
              " 'dull',\n",
              " 'smooth',\n",
              " 'wet',\n",
              " 'dry',\n",
              " 'correct',\n",
              " 'near',\n",
              " 'far',\n",
              " 'right',\n",
              " 'left',\n",
              " 'at',\n",
              " 'in',\n",
              " 'with',\n",
              " 'and',\n",
              " 'if',\n",
              " 'because',\n",
              " 'name']"
            ]
          },
          "metadata": {},
          "execution_count": 38
        }
      ]
    },
    {
      "cell_type": "code",
      "source": [
        "fr2en = swadesh.entries(['fr','en'])"
      ],
      "metadata": {
        "id": "GqvvpUTuE8ZG"
      },
      "execution_count": null,
      "outputs": []
    },
    {
      "cell_type": "code",
      "source": [
        "fr2en"
      ],
      "metadata": {
        "colab": {
          "base_uri": "https://localhost:8080/"
        },
        "id": "Ocr-0E-XFDbH",
        "outputId": "092b2154-77c2-43bf-8a33-9f75240145aa"
      },
      "execution_count": null,
      "outputs": [
        {
          "output_type": "execute_result",
          "data": {
            "text/plain": [
              "[('je', 'I'),\n",
              " ('tu, vous', 'you (singular), thou'),\n",
              " ('il', 'he'),\n",
              " ('nous', 'we'),\n",
              " ('vous', 'you (plural)'),\n",
              " ('ils, elles', 'they'),\n",
              " ('ceci', 'this'),\n",
              " ('cela', 'that'),\n",
              " ('ici', 'here'),\n",
              " ('là', 'there'),\n",
              " ('qui', 'who'),\n",
              " ('quoi', 'what'),\n",
              " ('où', 'where'),\n",
              " ('quand', 'when'),\n",
              " ('comment', 'how'),\n",
              " ('ne...pas', 'not'),\n",
              " ('tout', 'all'),\n",
              " ('plusieurs', 'many'),\n",
              " ('quelques', 'some'),\n",
              " ('peu', 'few'),\n",
              " ('autre', 'other'),\n",
              " ('un', 'one'),\n",
              " ('deux', 'two'),\n",
              " ('trois', 'three'),\n",
              " ('quatre', 'four'),\n",
              " ('cinq', 'five'),\n",
              " ('grand', 'big'),\n",
              " ('long', 'long'),\n",
              " ('large', 'wide'),\n",
              " ('épais', 'thick'),\n",
              " ('lourd', 'heavy'),\n",
              " ('petit', 'small'),\n",
              " ('court', 'short'),\n",
              " ('étroit', 'narrow'),\n",
              " ('mince', 'thin'),\n",
              " ('femme', 'woman'),\n",
              " ('homme', 'man (adult male)'),\n",
              " ('homme', 'man (human being)'),\n",
              " ('enfant', 'child'),\n",
              " ('femme, épouse', 'wife'),\n",
              " ('mari, époux', 'husband'),\n",
              " ('mère', 'mother'),\n",
              " ('père', 'father'),\n",
              " ('animal', 'animal'),\n",
              " ('poisson', 'fish'),\n",
              " ('oiseau', 'bird'),\n",
              " ('chien', 'dog'),\n",
              " ('pou', 'louse'),\n",
              " ('serpent', 'snake'),\n",
              " ('ver', 'worm'),\n",
              " ('arbre', 'tree'),\n",
              " ('forêt', 'forest'),\n",
              " ('bâton', 'stick'),\n",
              " ('fruit', 'fruit'),\n",
              " ('graine', 'seed'),\n",
              " ('feuille', 'leaf'),\n",
              " ('racine', 'root'),\n",
              " ('écorce', 'bark (from tree)'),\n",
              " ('fleur', 'flower'),\n",
              " ('herbe', 'grass'),\n",
              " ('corde', 'rope'),\n",
              " ('peau', 'skin'),\n",
              " ('viande', 'meat'),\n",
              " ('sang', 'blood'),\n",
              " ('os', 'bone'),\n",
              " ('graisse', 'fat (noun)'),\n",
              " ('œuf', 'egg'),\n",
              " ('corne', 'horn'),\n",
              " ('queue', 'tail'),\n",
              " ('plume', 'feather'),\n",
              " ('cheveu', 'hair'),\n",
              " ('tête', 'head'),\n",
              " ('oreille', 'ear'),\n",
              " ('œil', 'eye'),\n",
              " ('nez', 'nose'),\n",
              " ('bouche', 'mouth'),\n",
              " ('dent', 'tooth'),\n",
              " ('langue', 'tongue'),\n",
              " ('ongle', 'fingernail'),\n",
              " ('pied', 'foot'),\n",
              " ('jambe', 'leg'),\n",
              " ('genou', 'knee'),\n",
              " ('main', 'hand'),\n",
              " ('aile', 'wing'),\n",
              " ('ventre', 'belly'),\n",
              " ('entrailles', 'guts'),\n",
              " ('cou', 'neck'),\n",
              " ('dos', 'back'),\n",
              " ('sein, poitrine', 'breast'),\n",
              " ('cœur', 'heart'),\n",
              " ('foie', 'liver'),\n",
              " ('boire', 'drink'),\n",
              " ('manger', 'eat'),\n",
              " ('mordre', 'bite'),\n",
              " ('sucer', 'suck'),\n",
              " ('cracher', 'spit'),\n",
              " ('vomir', 'vomit'),\n",
              " ('souffler', 'blow'),\n",
              " ('respirer', 'breathe'),\n",
              " ('rire', 'laugh'),\n",
              " ('voir', 'see'),\n",
              " ('entendre', 'hear'),\n",
              " ('savoir', 'know (a fact)'),\n",
              " ('penser', 'think'),\n",
              " ('sentir', 'smell'),\n",
              " ('craindre, avoir peur', 'fear'),\n",
              " ('dormir', 'sleep'),\n",
              " ('vivre', 'live'),\n",
              " ('mourir', 'die'),\n",
              " ('tuer', 'kill'),\n",
              " ('se battre', 'fight'),\n",
              " ('chasser', 'hunt'),\n",
              " ('frapper', 'hit'),\n",
              " ('couper', 'cut'),\n",
              " ('fendre', 'split'),\n",
              " ('poignarder', 'stab'),\n",
              " ('gratter', 'scratch'),\n",
              " ('creuser', 'dig'),\n",
              " ('nager', 'swim'),\n",
              " ('voler', 'fly (verb)'),\n",
              " ('marcher', 'walk'),\n",
              " ('venir', 'come'),\n",
              " (\"s'étendre\", 'lie'),\n",
              " (\"s'asseoir\", 'sit'),\n",
              " ('se lever', 'stand'),\n",
              " ('tourner', 'turn'),\n",
              " ('tomber', 'fall'),\n",
              " ('donner', 'give'),\n",
              " ('tenir', 'hold'),\n",
              " ('serrer', 'squeeze'),\n",
              " ('frotter', 'rub'),\n",
              " ('laver', 'wash'),\n",
              " ('essuyer', 'wipe'),\n",
              " ('tirer', 'pull'),\n",
              " ('pousser', 'push'),\n",
              " ('jeter', 'throw'),\n",
              " ('lier', 'tie'),\n",
              " ('coudre', 'sew'),\n",
              " ('compter', 'count'),\n",
              " ('dire', 'say'),\n",
              " ('chanter', 'sing'),\n",
              " ('jouer', 'play'),\n",
              " ('flotter', 'float'),\n",
              " ('couler', 'flow'),\n",
              " ('geler', 'freeze'),\n",
              " ('gonfler', 'swell'),\n",
              " ('soleil', 'sun'),\n",
              " ('lune', 'moon'),\n",
              " ('étoile', 'star'),\n",
              " ('eau', 'water'),\n",
              " ('pluie', 'rain'),\n",
              " ('rivière', 'river'),\n",
              " ('lac', 'lake'),\n",
              " ('mer', 'sea'),\n",
              " ('sel', 'salt'),\n",
              " ('pierre', 'stone'),\n",
              " ('sable', 'sand'),\n",
              " ('poussière', 'dust'),\n",
              " ('terre', 'earth'),\n",
              " ('nuage', 'cloud'),\n",
              " ('brouillard', 'fog'),\n",
              " ('ciel', 'sky'),\n",
              " ('vent', 'wind'),\n",
              " ('neige', 'snow'),\n",
              " ('glace', 'ice'),\n",
              " ('fumée', 'smoke'),\n",
              " ('feu', 'fire'),\n",
              " ('cendres', 'ashes'),\n",
              " ('brûler', 'burn'),\n",
              " ('route', 'road'),\n",
              " ('montagne', 'mountain'),\n",
              " ('rouge', 'red'),\n",
              " ('vert', 'green'),\n",
              " ('jaune', 'yellow'),\n",
              " ('blanc', 'white'),\n",
              " ('noir', 'black'),\n",
              " ('nuit', 'night'),\n",
              " ('jour', 'day'),\n",
              " ('an, année', 'year'),\n",
              " ('chaud', 'warm'),\n",
              " ('froid', 'cold'),\n",
              " ('plein', 'full'),\n",
              " ('nouveau', 'new'),\n",
              " ('vieux', 'old'),\n",
              " ('bon', 'good'),\n",
              " ('mauvais', 'bad'),\n",
              " ('pourri', 'rotten'),\n",
              " ('sale', 'dirty'),\n",
              " ('droit', 'straight'),\n",
              " ('rond', 'round'),\n",
              " ('tranchant, pointu, aigu', 'sharp'),\n",
              " ('émoussé', 'dull'),\n",
              " ('lisse', 'smooth'),\n",
              " ('mouillé', 'wet'),\n",
              " ('sec', 'dry'),\n",
              " ('juste, correct', 'correct'),\n",
              " ('proche', 'near'),\n",
              " ('loin', 'far'),\n",
              " ('à droite', 'right'),\n",
              " ('à gauche', 'left'),\n",
              " ('à', 'at'),\n",
              " ('dans', 'in'),\n",
              " ('avec', 'with'),\n",
              " ('et', 'and'),\n",
              " ('si', 'if'),\n",
              " ('parce que', 'because'),\n",
              " ('nom', 'name')]"
            ]
          },
          "metadata": {},
          "execution_count": 40
        }
      ]
    },
    {
      "cell_type": "code",
      "source": [
        "translate=dict(fr2en)"
      ],
      "metadata": {
        "id": "H6NU0iFaFu30"
      },
      "execution_count": null,
      "outputs": []
    },
    {
      "cell_type": "code",
      "source": [
        "translate['chien']"
      ],
      "metadata": {
        "colab": {
          "base_uri": "https://localhost:8080/",
          "height": 35
        },
        "id": "rZpGh1EUFEWb",
        "outputId": "64797f8a-82ec-4fae-c57b-30c237174f04"
      },
      "execution_count": null,
      "outputs": [
        {
          "output_type": "execute_result",
          "data": {
            "text/plain": [
              "'dog'"
            ],
            "application/vnd.google.colaboratory.intrinsic+json": {
              "type": "string"
            }
          },
          "metadata": {},
          "execution_count": 43
        }
      ]
    },
    {
      "cell_type": "code",
      "source": [
        "translate['jeter']"
      ],
      "metadata": {
        "colab": {
          "base_uri": "https://localhost:8080/",
          "height": 35
        },
        "id": "k_KYz8k3FG-k",
        "outputId": "f005aeea-d250-4c2d-d5ae-fe0222c9d70e"
      },
      "execution_count": null,
      "outputs": [
        {
          "output_type": "execute_result",
          "data": {
            "text/plain": [
              "'throw'"
            ],
            "application/vnd.google.colaboratory.intrinsic+json": {
              "type": "string"
            }
          },
          "metadata": {},
          "execution_count": 44
        }
      ]
    },
    {
      "cell_type": "code",
      "source": [
        "de2en = swadesh.entries(['de','en'])"
      ],
      "metadata": {
        "id": "6CfOZBC_F0Vr"
      },
      "execution_count": null,
      "outputs": []
    },
    {
      "cell_type": "code",
      "source": [
        "es2en = swadesh.entries(['es','en'])"
      ],
      "metadata": {
        "id": "VyzkQoHvF5fQ"
      },
      "execution_count": null,
      "outputs": []
    },
    {
      "cell_type": "code",
      "source": [
        "translate.update(dict(de2en))"
      ],
      "metadata": {
        "id": "BmnoC9JlF9xe"
      },
      "execution_count": null,
      "outputs": []
    },
    {
      "cell_type": "code",
      "source": [
        "translate.update(dict(es2en))"
      ],
      "metadata": {
        "id": "coVDiCLtGBls"
      },
      "execution_count": null,
      "outputs": []
    },
    {
      "cell_type": "code",
      "source": [
        "translate['Hund']"
      ],
      "metadata": {
        "colab": {
          "base_uri": "https://localhost:8080/",
          "height": 35
        },
        "id": "W4qCcf-jGFws",
        "outputId": "9ae88ef0-a884-400f-bfb4-b63d4ee8ce31"
      },
      "execution_count": null,
      "outputs": [
        {
          "output_type": "execute_result",
          "data": {
            "text/plain": [
              "'dog'"
            ],
            "application/vnd.google.colaboratory.intrinsic+json": {
              "type": "string"
            }
          },
          "metadata": {},
          "execution_count": 49
        }
      ]
    },
    {
      "cell_type": "code",
      "source": [
        "translate['perro']"
      ],
      "metadata": {
        "colab": {
          "base_uri": "https://localhost:8080/",
          "height": 35
        },
        "id": "ftlo7P7FGIPd",
        "outputId": "b8684b17-769c-43cc-e13b-27f51030a384"
      },
      "execution_count": null,
      "outputs": [
        {
          "output_type": "execute_result",
          "data": {
            "text/plain": [
              "'dog'"
            ],
            "application/vnd.google.colaboratory.intrinsic+json": {
              "type": "string"
            }
          },
          "metadata": {},
          "execution_count": 50
        }
      ]
    },
    {
      "cell_type": "code",
      "source": [
        "languages = ['en','de','nl','es','fr','pt','la']"
      ],
      "metadata": {
        "id": "bUr5HOw8GKlf"
      },
      "execution_count": null,
      "outputs": []
    },
    {
      "cell_type": "code",
      "source": [
        "for i in [139,140,141,142]:\n",
        "    print(swadesh.entries(languages)[i])"
      ],
      "metadata": {
        "colab": {
          "base_uri": "https://localhost:8080/"
        },
        "id": "nM3IyFuoGTf6",
        "outputId": "39fd33aa-160e-412c-ff38-a799511aa6c6"
      },
      "execution_count": null,
      "outputs": [
        {
          "output_type": "stream",
          "name": "stdout",
          "text": [
            "('say', 'sagen', 'zeggen', 'decir', 'dire', 'dizer', 'dicere')\n",
            "('sing', 'singen', 'zingen', 'cantar', 'chanter', 'cantar', 'canere')\n",
            "('play', 'spielen', 'spelen', 'jugar', 'jouer', 'jogar, brincar', 'ludere')\n",
            "('float', 'schweben', 'zweven', 'flotar', 'flotter', 'flutuar, boiar', 'fluctuare')\n"
          ]
        }
      ]
    },
    {
      "cell_type": "code",
      "source": [
        "# WordNet\n",
        "nltk.download('wordnet')"
      ],
      "metadata": {
        "colab": {
          "base_uri": "https://localhost:8080/"
        },
        "id": "skvYAWGaGbBu",
        "outputId": "3dba7b12-d43d-4b94-a0b7-e23550436dd5"
      },
      "execution_count": null,
      "outputs": [
        {
          "output_type": "stream",
          "name": "stderr",
          "text": [
            "[nltk_data] Downloading package wordnet to /root/nltk_data...\n"
          ]
        },
        {
          "output_type": "execute_result",
          "data": {
            "text/plain": [
              "True"
            ]
          },
          "metadata": {},
          "execution_count": 53
        }
      ]
    },
    {
      "cell_type": "code",
      "source": [
        "nltk.download('omw-1.4')"
      ],
      "metadata": {
        "colab": {
          "base_uri": "https://localhost:8080/"
        },
        "id": "qXMEooxqGoCS",
        "outputId": "5c58524a-afc8-4028-a5a9-d197b8bf03d4"
      },
      "execution_count": null,
      "outputs": [
        {
          "output_type": "stream",
          "name": "stderr",
          "text": [
            "[nltk_data] Downloading package omw-1.4 to /root/nltk_data...\n"
          ]
        },
        {
          "output_type": "execute_result",
          "data": {
            "text/plain": [
              "True"
            ]
          },
          "metadata": {},
          "execution_count": 54
        }
      ]
    },
    {
      "cell_type": "code",
      "source": [
        "from nltk.corpus import wordnet as wn"
      ],
      "metadata": {
        "id": "qTGM3CWlGqMn"
      },
      "execution_count": null,
      "outputs": []
    },
    {
      "cell_type": "code",
      "source": [
        "wn.synsets('motorcar')"
      ],
      "metadata": {
        "colab": {
          "base_uri": "https://localhost:8080/"
        },
        "id": "HV4tYM6FGxOR",
        "outputId": "1c94ce4e-5170-4a1a-fef8-49c2336e5ce9"
      },
      "execution_count": null,
      "outputs": [
        {
          "output_type": "execute_result",
          "data": {
            "text/plain": [
              "[Synset('car.n.01')]"
            ]
          },
          "metadata": {},
          "execution_count": 57
        }
      ]
    },
    {
      "cell_type": "code",
      "source": [
        "wn.synset('car.n.01').lemma_names()"
      ],
      "metadata": {
        "colab": {
          "base_uri": "https://localhost:8080/"
        },
        "id": "BZCQ_uIXG24A",
        "outputId": "889c6c82-c3cd-42aa-95d2-5091f71abef4"
      },
      "execution_count": null,
      "outputs": [
        {
          "output_type": "execute_result",
          "data": {
            "text/plain": [
              "['car', 'auto', 'automobile', 'machine', 'motorcar']"
            ]
          },
          "metadata": {},
          "execution_count": 60
        }
      ]
    },
    {
      "cell_type": "code",
      "source": [
        "wn.synset('car.n.01').definition()"
      ],
      "metadata": {
        "colab": {
          "base_uri": "https://localhost:8080/",
          "height": 35
        },
        "id": "FRRcpaqeG7_F",
        "outputId": "ba4747a5-f64d-40c0-d23d-d832e2e4630e"
      },
      "execution_count": null,
      "outputs": [
        {
          "output_type": "execute_result",
          "data": {
            "text/plain": [
              "'a motor vehicle with four wheels; usually propelled by an internal combustion engine'"
            ],
            "application/vnd.google.colaboratory.intrinsic+json": {
              "type": "string"
            }
          },
          "metadata": {},
          "execution_count": 61
        }
      ]
    },
    {
      "cell_type": "code",
      "source": [
        "wn.synset('car.n.01').examples()"
      ],
      "metadata": {
        "colab": {
          "base_uri": "https://localhost:8080/"
        },
        "id": "S86sQzMbHJLf",
        "outputId": "266af166-4c98-4cd4-8fe1-4dfe70a1d056"
      },
      "execution_count": null,
      "outputs": [
        {
          "output_type": "execute_result",
          "data": {
            "text/plain": [
              "['he needs a car to get to work']"
            ]
          },
          "metadata": {},
          "execution_count": 62
        }
      ]
    },
    {
      "cell_type": "code",
      "source": [
        "wn.synset('car.n.01').lemmas()"
      ],
      "metadata": {
        "colab": {
          "base_uri": "https://localhost:8080/"
        },
        "id": "iZPvvFuOHTWx",
        "outputId": "20d5ad91-aad8-4fa5-ad11-9e5460ff289f"
      },
      "execution_count": null,
      "outputs": [
        {
          "output_type": "execute_result",
          "data": {
            "text/plain": [
              "[Lemma('car.n.01.car'),\n",
              " Lemma('car.n.01.auto'),\n",
              " Lemma('car.n.01.automobile'),\n",
              " Lemma('car.n.01.machine'),\n",
              " Lemma('car.n.01.motorcar')]"
            ]
          },
          "metadata": {},
          "execution_count": 63
        }
      ]
    },
    {
      "cell_type": "code",
      "source": [
        "wn.lemma('car.n.01.automobile')"
      ],
      "metadata": {
        "colab": {
          "base_uri": "https://localhost:8080/"
        },
        "id": "YdXbe2uWHWgj",
        "outputId": "e9ec3f6d-10d6-4ca6-df4e-8599afb47ba7"
      },
      "execution_count": null,
      "outputs": [
        {
          "output_type": "execute_result",
          "data": {
            "text/plain": [
              "Lemma('car.n.01.automobile')"
            ]
          },
          "metadata": {},
          "execution_count": 64
        }
      ]
    },
    {
      "cell_type": "code",
      "source": [
        "wn.lemma('car.n.01.automobile').synset()"
      ],
      "metadata": {
        "colab": {
          "base_uri": "https://localhost:8080/"
        },
        "id": "E1mMxTu9HaWp",
        "outputId": "d7310813-afb7-4e16-f7b8-49197e5bc849"
      },
      "execution_count": null,
      "outputs": [
        {
          "output_type": "execute_result",
          "data": {
            "text/plain": [
              "Synset('car.n.01')"
            ]
          },
          "metadata": {},
          "execution_count": 65
        }
      ]
    },
    {
      "cell_type": "code",
      "source": [
        "wn.lemma('car.n.01.automobile').name()"
      ],
      "metadata": {
        "colab": {
          "base_uri": "https://localhost:8080/",
          "height": 35
        },
        "id": "Uf98ix4sHd63",
        "outputId": "bf9565fb-38ad-420f-f8be-40f693b5030d"
      },
      "execution_count": null,
      "outputs": [
        {
          "output_type": "execute_result",
          "data": {
            "text/plain": [
              "'automobile'"
            ],
            "application/vnd.google.colaboratory.intrinsic+json": {
              "type": "string"
            }
          },
          "metadata": {},
          "execution_count": 66
        }
      ]
    },
    {
      "cell_type": "code",
      "source": [
        "wn.synsets('car')"
      ],
      "metadata": {
        "colab": {
          "base_uri": "https://localhost:8080/"
        },
        "id": "wEzBcWwyHgd_",
        "outputId": "0d7975b5-1df0-4608-8a25-937114fce46d"
      },
      "execution_count": null,
      "outputs": [
        {
          "output_type": "execute_result",
          "data": {
            "text/plain": [
              "[Synset('car.n.01'),\n",
              " Synset('car.n.02'),\n",
              " Synset('car.n.03'),\n",
              " Synset('car.n.04'),\n",
              " Synset('cable_car.n.01')]"
            ]
          },
          "metadata": {},
          "execution_count": 67
        }
      ]
    },
    {
      "cell_type": "code",
      "source": [
        "for synset in wn.synsets('car'):\n",
        "    print(synset.lemma_names())"
      ],
      "metadata": {
        "colab": {
          "base_uri": "https://localhost:8080/"
        },
        "id": "uw2ke1GuHj0_",
        "outputId": "d29a0d08-2574-4b70-ec9b-bff3217469fd"
      },
      "execution_count": null,
      "outputs": [
        {
          "output_type": "stream",
          "name": "stdout",
          "text": [
            "['car', 'auto', 'automobile', 'machine', 'motorcar']\n",
            "['car', 'railcar', 'railway_car', 'railroad_car']\n",
            "['car', 'gondola']\n",
            "['car', 'elevator_car']\n",
            "['cable_car', 'car']\n"
          ]
        }
      ]
    },
    {
      "cell_type": "code",
      "source": [
        "wn.lemmas('car')"
      ],
      "metadata": {
        "colab": {
          "base_uri": "https://localhost:8080/"
        },
        "id": "Nyj0NgHWHsir",
        "outputId": "8b1d830f-31b0-46f2-d9c2-cec16ddc1f33"
      },
      "execution_count": null,
      "outputs": [
        {
          "output_type": "execute_result",
          "data": {
            "text/plain": [
              "[Lemma('car.n.01.car'),\n",
              " Lemma('car.n.02.car'),\n",
              " Lemma('car.n.03.car'),\n",
              " Lemma('car.n.04.car'),\n",
              " Lemma('cable_car.n.01.car')]"
            ]
          },
          "metadata": {},
          "execution_count": 69
        }
      ]
    },
    {
      "cell_type": "code",
      "source": [
        "# hyponym: a word whose meaning is included in the meaning of another word\n",
        "motorcar = wn.synset('car.n.01')\n",
        "types_of_motorcar = motorcar.hyponyms()\n",
        "sorted(lemma.name() for synset in types_of_motorcar for lemma in synset.lemmas())"
      ],
      "metadata": {
        "colab": {
          "base_uri": "https://localhost:8080/"
        },
        "id": "XZSfnQfUHwQT",
        "outputId": "7999acda-69da-485e-d85e-a2092a4bb66f"
      },
      "execution_count": null,
      "outputs": [
        {
          "output_type": "execute_result",
          "data": {
            "text/plain": [
              "['Model_T',\n",
              " 'S.U.V.',\n",
              " 'SUV',\n",
              " 'Stanley_Steamer',\n",
              " 'ambulance',\n",
              " 'beach_waggon',\n",
              " 'beach_wagon',\n",
              " 'bus',\n",
              " 'cab',\n",
              " 'compact',\n",
              " 'compact_car',\n",
              " 'convertible',\n",
              " 'coupe',\n",
              " 'cruiser',\n",
              " 'electric',\n",
              " 'electric_automobile',\n",
              " 'electric_car',\n",
              " 'estate_car',\n",
              " 'gas_guzzler',\n",
              " 'hack',\n",
              " 'hardtop',\n",
              " 'hatchback',\n",
              " 'heap',\n",
              " 'horseless_carriage',\n",
              " 'hot-rod',\n",
              " 'hot_rod',\n",
              " 'jalopy',\n",
              " 'jeep',\n",
              " 'landrover',\n",
              " 'limo',\n",
              " 'limousine',\n",
              " 'loaner',\n",
              " 'minicar',\n",
              " 'minivan',\n",
              " 'pace_car',\n",
              " 'patrol_car',\n",
              " 'phaeton',\n",
              " 'police_car',\n",
              " 'police_cruiser',\n",
              " 'prowl_car',\n",
              " 'race_car',\n",
              " 'racer',\n",
              " 'racing_car',\n",
              " 'roadster',\n",
              " 'runabout',\n",
              " 'saloon',\n",
              " 'secondhand_car',\n",
              " 'sedan',\n",
              " 'sport_car',\n",
              " 'sport_utility',\n",
              " 'sport_utility_vehicle',\n",
              " 'sports_car',\n",
              " 'squad_car',\n",
              " 'station_waggon',\n",
              " 'station_wagon',\n",
              " 'stock_car',\n",
              " 'subcompact',\n",
              " 'subcompact_car',\n",
              " 'taxi',\n",
              " 'taxicab',\n",
              " 'tourer',\n",
              " 'touring_car',\n",
              " 'two-seater',\n",
              " 'used-car',\n",
              " 'waggon',\n",
              " 'wagon']"
            ]
          },
          "metadata": {},
          "execution_count": 70
        }
      ]
    },
    {
      "cell_type": "code",
      "source": [
        "# hypernym\n",
        "motorcar.hypernyms()"
      ],
      "metadata": {
        "colab": {
          "base_uri": "https://localhost:8080/"
        },
        "id": "IB03f3gsIPaQ",
        "outputId": "f95380f1-2412-4576-b426-78307f48ab7b"
      },
      "execution_count": null,
      "outputs": [
        {
          "output_type": "execute_result",
          "data": {
            "text/plain": [
              "[Synset('motor_vehicle.n.01')]"
            ]
          },
          "metadata": {},
          "execution_count": 71
        }
      ]
    },
    {
      "cell_type": "code",
      "source": [
        "paths = motorcar.hypernym_paths()"
      ],
      "metadata": {
        "id": "pT-1yobPIbD8"
      },
      "execution_count": null,
      "outputs": []
    },
    {
      "cell_type": "code",
      "source": [
        "[synset.name() for synset in paths[0]]"
      ],
      "metadata": {
        "colab": {
          "base_uri": "https://localhost:8080/"
        },
        "id": "a6meOnLYIe8g",
        "outputId": "bf2712e1-3f3a-4603-d490-e44fcfa72053"
      },
      "execution_count": null,
      "outputs": [
        {
          "output_type": "execute_result",
          "data": {
            "text/plain": [
              "['entity.n.01',\n",
              " 'physical_entity.n.01',\n",
              " 'object.n.01',\n",
              " 'whole.n.02',\n",
              " 'artifact.n.01',\n",
              " 'instrumentality.n.03',\n",
              " 'container.n.01',\n",
              " 'wheeled_vehicle.n.01',\n",
              " 'self-propelled_vehicle.n.01',\n",
              " 'motor_vehicle.n.01',\n",
              " 'car.n.01']"
            ]
          },
          "metadata": {},
          "execution_count": 73
        }
      ]
    },
    {
      "cell_type": "code",
      "source": [
        "[synset.name() for synset in paths[1]]"
      ],
      "metadata": {
        "colab": {
          "base_uri": "https://localhost:8080/"
        },
        "id": "gHa_kRn2IkYq",
        "outputId": "bc81e427-f3ef-4dbc-ddd6-8eee3f368965"
      },
      "execution_count": null,
      "outputs": [
        {
          "output_type": "execute_result",
          "data": {
            "text/plain": [
              "['entity.n.01',\n",
              " 'physical_entity.n.01',\n",
              " 'object.n.01',\n",
              " 'whole.n.02',\n",
              " 'artifact.n.01',\n",
              " 'instrumentality.n.03',\n",
              " 'conveyance.n.03',\n",
              " 'vehicle.n.01',\n",
              " 'wheeled_vehicle.n.01',\n",
              " 'self-propelled_vehicle.n.01',\n",
              " 'motor_vehicle.n.01',\n",
              " 'car.n.01']"
            ]
          },
          "metadata": {},
          "execution_count": 74
        }
      ]
    },
    {
      "cell_type": "code",
      "source": [
        "motorcar.root_hypernyms()"
      ],
      "metadata": {
        "colab": {
          "base_uri": "https://localhost:8080/"
        },
        "id": "4VLFHEf3IpIF",
        "outputId": "812d4a4b-8196-4c00-f525-62d641b7f00b"
      },
      "execution_count": null,
      "outputs": [
        {
          "output_type": "execute_result",
          "data": {
            "text/plain": [
              "[Synset('entity.n.01')]"
            ]
          },
          "metadata": {},
          "execution_count": 75
        }
      ]
    },
    {
      "cell_type": "code",
      "source": [
        "# Semantic Similarity\n",
        "right = wn.synset('right_whale.n.01')\n",
        "minke = wn.synset('minke_whale.n.01')\n",
        "tortoise = wn.synset('tortoise.n.01')\n",
        "orca = wn.synset('orca.n.01')"
      ],
      "metadata": {
        "id": "VJD6Hrh7Isb4"
      },
      "execution_count": null,
      "outputs": []
    },
    {
      "cell_type": "code",
      "source": [
        "right.lowest_common_hypernyms(minke)"
      ],
      "metadata": {
        "colab": {
          "base_uri": "https://localhost:8080/"
        },
        "id": "RC6b8k1DJA3Y",
        "outputId": "a9c9451d-c472-4f3b-8b05-239597d76d1f"
      },
      "execution_count": null,
      "outputs": [
        {
          "output_type": "execute_result",
          "data": {
            "text/plain": [
              "[Synset('baleen_whale.n.01')]"
            ]
          },
          "metadata": {},
          "execution_count": 77
        }
      ]
    },
    {
      "cell_type": "code",
      "source": [
        "right.lowest_common_hypernyms(orca)"
      ],
      "metadata": {
        "colab": {
          "base_uri": "https://localhost:8080/"
        },
        "id": "-Semz6iLJDOx",
        "outputId": "988a4a6e-0678-4212-d56d-746600d0b540"
      },
      "execution_count": null,
      "outputs": [
        {
          "output_type": "execute_result",
          "data": {
            "text/plain": [
              "[Synset('whale.n.02')]"
            ]
          },
          "metadata": {},
          "execution_count": 78
        }
      ]
    },
    {
      "cell_type": "code",
      "source": [
        "right.lowest_common_hypernyms(tortoise)"
      ],
      "metadata": {
        "colab": {
          "base_uri": "https://localhost:8080/"
        },
        "id": "K9pAYL6DJGCx",
        "outputId": "a7a194de-7329-4578-ecba-6264e38b197b"
      },
      "execution_count": null,
      "outputs": [
        {
          "output_type": "execute_result",
          "data": {
            "text/plain": [
              "[Synset('vertebrate.n.01')]"
            ]
          },
          "metadata": {},
          "execution_count": 79
        }
      ]
    },
    {
      "cell_type": "code",
      "source": [
        "wn.synset('whale.n.02').min_depth()"
      ],
      "metadata": {
        "colab": {
          "base_uri": "https://localhost:8080/"
        },
        "id": "FmCn5jioJJes",
        "outputId": "e5301108-739c-4135-c2f6-a2a5d729799f"
      },
      "execution_count": null,
      "outputs": [
        {
          "output_type": "execute_result",
          "data": {
            "text/plain": [
              "13"
            ]
          },
          "metadata": {},
          "execution_count": 80
        }
      ]
    },
    {
      "cell_type": "code",
      "source": [
        "wn.synset('vertebrate.n.01').min_depth()"
      ],
      "metadata": {
        "colab": {
          "base_uri": "https://localhost:8080/"
        },
        "id": "leZtmEy3JO1Q",
        "outputId": "a05339c9-d775-4a5c-f609-d93ff6fbaa1c"
      },
      "execution_count": null,
      "outputs": [
        {
          "output_type": "execute_result",
          "data": {
            "text/plain": [
              "8"
            ]
          },
          "metadata": {},
          "execution_count": 81
        }
      ]
    },
    {
      "cell_type": "code",
      "source": [
        "wn.synset('entity.n.01').min_depth()"
      ],
      "metadata": {
        "colab": {
          "base_uri": "https://localhost:8080/"
        },
        "id": "6T7iKoD-JRa2",
        "outputId": "7deb2c9f-642d-43e9-c0d4-8254266d0cef"
      },
      "execution_count": null,
      "outputs": [
        {
          "output_type": "execute_result",
          "data": {
            "text/plain": [
              "0"
            ]
          },
          "metadata": {},
          "execution_count": 82
        }
      ]
    },
    {
      "cell_type": "code",
      "source": [
        "# path similarity\n",
        "right = wn.synset('right_whale.n.01')\n",
        "minke = wn.synset('minke_whale.n.01')\n",
        "tortoise = wn.synset('tortoise.n.01')"
      ],
      "metadata": {
        "id": "_8jmjsqRJUUf"
      },
      "execution_count": null,
      "outputs": []
    },
    {
      "cell_type": "code",
      "source": [
        "right.path_similarity(minke)"
      ],
      "metadata": {
        "colab": {
          "base_uri": "https://localhost:8080/"
        },
        "id": "xEzDT7PAJfKL",
        "outputId": "650e880e-8e0b-4f35-90c5-da8cee5a5336"
      },
      "execution_count": null,
      "outputs": [
        {
          "output_type": "execute_result",
          "data": {
            "text/plain": [
              "0.25"
            ]
          },
          "metadata": {},
          "execution_count": 84
        }
      ]
    },
    {
      "cell_type": "code",
      "source": [
        "right.path_similarity(tortoise)"
      ],
      "metadata": {
        "colab": {
          "base_uri": "https://localhost:8080/"
        },
        "id": "1tF5-24EJhbl",
        "outputId": "a9564235-f355-493d-80f7-d40498e101ef"
      },
      "execution_count": null,
      "outputs": [
        {
          "output_type": "execute_result",
          "data": {
            "text/plain": [
              "0.07692307692307693"
            ]
          },
          "metadata": {},
          "execution_count": 85
        }
      ]
    },
    {
      "cell_type": "markdown",
      "source": [
        "## Week 3"
      ],
      "metadata": {
        "id": "1f_K0FD3JlBI"
      }
    },
    {
      "cell_type": "code",
      "source": [
        "import nltk\n",
        "from nltk.tokenize import word_tokenize"
      ],
      "metadata": {
        "id": "py6dcZymJjgW"
      },
      "execution_count": null,
      "outputs": []
    },
    {
      "cell_type": "code",
      "source": [
        "nltk.download('punkt')"
      ],
      "metadata": {
        "colab": {
          "base_uri": "https://localhost:8080/"
        },
        "id": "dWWpC8kLJttA",
        "outputId": "b5b50fa5-ba52-4cd9-b906-1c1e9f79f26f"
      },
      "execution_count": null,
      "outputs": [
        {
          "output_type": "stream",
          "name": "stderr",
          "text": [
            "[nltk_data] Downloading package punkt to /root/nltk_data...\n",
            "[nltk_data]   Unzipping tokenizers/punkt.zip.\n"
          ]
        },
        {
          "output_type": "execute_result",
          "data": {
            "text/plain": [
              "True"
            ]
          },
          "metadata": {},
          "execution_count": 87
        }
      ]
    },
    {
      "cell_type": "code",
      "source": [
        "print(word_tokenize(\"You make me want to be a better man.\"))"
      ],
      "metadata": {
        "colab": {
          "base_uri": "https://localhost:8080/"
        },
        "id": "EOy9okr8Jv9M",
        "outputId": "26c172c1-26af-4a65-a348-bc704720b6de"
      },
      "execution_count": null,
      "outputs": [
        {
          "output_type": "stream",
          "name": "stdout",
          "text": [
            "['You', 'make', 'me', 'want', 'to', 'be', 'a', 'better', 'man', '.']\n"
          ]
        }
      ]
    },
    {
      "cell_type": "code",
      "source": [
        "from nltk.tokenize import sent_tokenize"
      ],
      "metadata": {
        "id": "ueenWGBrJ11v"
      },
      "execution_count": null,
      "outputs": []
    },
    {
      "cell_type": "code",
      "source": [
        "print(sent_tokenize(\"You make me want to be a better man. This sentence is what I said to my wife instead of I love you\"))"
      ],
      "metadata": {
        "colab": {
          "base_uri": "https://localhost:8080/"
        },
        "id": "UQH22QjSJ6_J",
        "outputId": "a02584d6-f277-44de-a640-4feba09eba71"
      },
      "execution_count": null,
      "outputs": [
        {
          "output_type": "stream",
          "name": "stdout",
          "text": [
            "['You make me want to be a better man.', 'This sentence is what I said to my wife instead of I love you']\n"
          ]
        }
      ]
    },
    {
      "cell_type": "code",
      "source": [
        "import string"
      ],
      "metadata": {
        "id": "adtS9YMDKGhc"
      },
      "execution_count": null,
      "outputs": []
    },
    {
      "cell_type": "code",
      "source": [
        "text = \"Hello, How are you! I'm super excited to see you in this class. Yayy!\""
      ],
      "metadata": {
        "id": "xO0orolvKLe2"
      },
      "execution_count": null,
      "outputs": []
    },
    {
      "cell_type": "code",
      "source": [
        "text_clean = \"\".join([i.lower() for i in text if i not in string.punctuation]) # Remove punctuation"
      ],
      "metadata": {
        "id": "7edwNkcZKVSh"
      },
      "execution_count": null,
      "outputs": []
    },
    {
      "cell_type": "code",
      "source": [
        "print(string.punctuation)"
      ],
      "metadata": {
        "colab": {
          "base_uri": "https://localhost:8080/"
        },
        "id": "wA4GsmX9KjLp",
        "outputId": "b9300d88-6353-433a-acf5-ac3c782e053c"
      },
      "execution_count": null,
      "outputs": [
        {
          "output_type": "stream",
          "name": "stdout",
          "text": [
            "!\"#$%&'()*+,-./:;<=>?@[\\]^_`{|}~\n"
          ]
        }
      ]
    },
    {
      "cell_type": "code",
      "source": [
        "print(text_clean)"
      ],
      "metadata": {
        "colab": {
          "base_uri": "https://localhost:8080/"
        },
        "id": "VCWeWAEFKldQ",
        "outputId": "f036ca8b-8a6f-47db-b54c-2ffb8cca934a"
      },
      "execution_count": null,
      "outputs": [
        {
          "output_type": "stream",
          "name": "stdout",
          "text": [
            "hello how are you im super excited to see you in this class yayy\n"
          ]
        }
      ]
    },
    {
      "cell_type": "code",
      "source": [
        "nltk.download('wordnet')\n",
        "nltk.download('omw-1.4')\n",
        "from nltk.stem import WordNetLemmatizer\n",
        "lemmatizer = WordNetLemmatizer()"
      ],
      "metadata": {
        "colab": {
          "base_uri": "https://localhost:8080/"
        },
        "id": "lnfLCyzZKnPv",
        "outputId": "8f9f3477-b480-48dd-c23d-8a61eb85bffa"
      },
      "execution_count": null,
      "outputs": [
        {
          "output_type": "stream",
          "name": "stderr",
          "text": [
            "[nltk_data] Downloading package wordnet to /root/nltk_data...\n",
            "[nltk_data]   Package wordnet is already up-to-date!\n",
            "[nltk_data] Downloading package omw-1.4 to /root/nltk_data...\n",
            "[nltk_data]   Package omw-1.4 is already up-to-date!\n"
          ]
        }
      ]
    },
    {
      "cell_type": "code",
      "source": [
        "tokens = ['car','cars','lives']\n",
        "print([lemmatizer.lemmatize(word) for word in tokens])"
      ],
      "metadata": {
        "colab": {
          "base_uri": "https://localhost:8080/"
        },
        "id": "suM92LGELALl",
        "outputId": "dfb6ad05-2ada-4a4e-c8a4-c2f6b84e1e58"
      },
      "execution_count": null,
      "outputs": [
        {
          "output_type": "stream",
          "name": "stdout",
          "text": [
            "['car', 'car', 'life']\n"
          ]
        }
      ]
    },
    {
      "cell_type": "code",
      "source": [
        "lemmatizer.lemmatize('am','v')"
      ],
      "metadata": {
        "colab": {
          "base_uri": "https://localhost:8080/",
          "height": 35
        },
        "id": "_hSOy82pLJhJ",
        "outputId": "11008b10-f68a-4c92-c458-11308e63e656"
      },
      "execution_count": null,
      "outputs": [
        {
          "output_type": "execute_result",
          "data": {
            "text/plain": [
              "'be'"
            ],
            "application/vnd.google.colaboratory.intrinsic+json": {
              "type": "string"
            }
          },
          "metadata": {},
          "execution_count": 101
        }
      ]
    },
    {
      "cell_type": "code",
      "source": [
        "lemmatizer.lemmatize('has','v')"
      ],
      "metadata": {
        "colab": {
          "base_uri": "https://localhost:8080/",
          "height": 35
        },
        "id": "KlRAUMivLMpY",
        "outputId": "a563f943-5b13-4361-a74e-ec4559e53548"
      },
      "execution_count": null,
      "outputs": [
        {
          "output_type": "execute_result",
          "data": {
            "text/plain": [
              "'have'"
            ],
            "application/vnd.google.colaboratory.intrinsic+json": {
              "type": "string"
            }
          },
          "metadata": {},
          "execution_count": 102
        }
      ]
    },
    {
      "cell_type": "code",
      "source": [
        "def stem(word):\n",
        "    for suffix in ['ing','ly','ed','ious','ive','es','s','ment']:\n",
        "        if word.endswith(suffix):\n",
        "            return word[:len(suffix)]\n",
        "    return word"
      ],
      "metadata": {
        "id": "-m4I-u33LPSW"
      },
      "execution_count": null,
      "outputs": []
    },
    {
      "cell_type": "code",
      "source": [
        "stem('crying')"
      ],
      "metadata": {
        "colab": {
          "base_uri": "https://localhost:8080/",
          "height": 35
        },
        "id": "EqQQOIMKLhcg",
        "outputId": "4e8c0902-33b0-4bcc-b2e9-4927ef18ac07"
      },
      "execution_count": null,
      "outputs": [
        {
          "output_type": "execute_result",
          "data": {
            "text/plain": [
              "'cry'"
            ],
            "application/vnd.google.colaboratory.intrinsic+json": {
              "type": "string"
            }
          },
          "metadata": {},
          "execution_count": 105
        }
      ]
    },
    {
      "cell_type": "code",
      "source": [
        "stem('movement')"
      ],
      "metadata": {
        "colab": {
          "base_uri": "https://localhost:8080/",
          "height": 35
        },
        "id": "K3_t7EQYLmhp",
        "outputId": "53262c0b-23ed-435e-9ac2-065ce2b13d50"
      },
      "execution_count": null,
      "outputs": [
        {
          "output_type": "execute_result",
          "data": {
            "text/plain": [
              "'move'"
            ],
            "application/vnd.google.colaboratory.intrinsic+json": {
              "type": "string"
            }
          },
          "metadata": {},
          "execution_count": 107
        }
      ]
    },
    {
      "cell_type": "code",
      "source": [
        "from nltk.stem import PorterStemmer\n",
        "porter = PorterStemmer()"
      ],
      "metadata": {
        "id": "ozQCwfagLoKO"
      },
      "execution_count": null,
      "outputs": []
    },
    {
      "cell_type": "code",
      "source": [
        "tokens = word_tokenize(\"You make me want to be a better man. This sentence is what I said to my wife instead of I love you\")"
      ],
      "metadata": {
        "id": "0mbRUY41Mn5X"
      },
      "execution_count": null,
      "outputs": []
    },
    {
      "cell_type": "code",
      "source": [
        "[porter.stem(t) for t in tokens]"
      ],
      "metadata": {
        "colab": {
          "base_uri": "https://localhost:8080/"
        },
        "id": "NKQkPEbfMwgt",
        "outputId": "2efe67fc-37ca-4a6a-df11-1f360e4be397"
      },
      "execution_count": null,
      "outputs": [
        {
          "output_type": "execute_result",
          "data": {
            "text/plain": [
              "['you',\n",
              " 'make',\n",
              " 'me',\n",
              " 'want',\n",
              " 'to',\n",
              " 'be',\n",
              " 'a',\n",
              " 'better',\n",
              " 'man',\n",
              " '.',\n",
              " 'thi',\n",
              " 'sentenc',\n",
              " 'is',\n",
              " 'what',\n",
              " 'i',\n",
              " 'said',\n",
              " 'to',\n",
              " 'my',\n",
              " 'wife',\n",
              " 'instead',\n",
              " 'of',\n",
              " 'i',\n",
              " 'love',\n",
              " 'you']"
            ]
          },
          "metadata": {},
          "execution_count": 110
        }
      ]
    },
    {
      "cell_type": "code",
      "source": [
        "import nltk\n",
        "nltk.download('stopwords')\n",
        "from nltk.corpus import stopwords"
      ],
      "metadata": {
        "colab": {
          "base_uri": "https://localhost:8080/"
        },
        "id": "SSjPU3PtM16m",
        "outputId": "a4a955dc-64c0-4909-e4d7-b22cc671b97b"
      },
      "execution_count": null,
      "outputs": [
        {
          "output_type": "stream",
          "name": "stderr",
          "text": [
            "[nltk_data] Downloading package stopwords to /root/nltk_data...\n",
            "[nltk_data]   Package stopwords is already up-to-date!\n"
          ]
        }
      ]
    },
    {
      "cell_type": "code",
      "source": [
        "stops = set(stopwords.words('english'))"
      ],
      "metadata": {
        "id": "elHvL96eNARi"
      },
      "execution_count": null,
      "outputs": []
    },
    {
      "cell_type": "code",
      "source": [
        "print(stops)"
      ],
      "metadata": {
        "colab": {
          "base_uri": "https://localhost:8080/"
        },
        "id": "sC4uqBgHNEHN",
        "outputId": "7a270f1e-a331-4541-c8be-812fac6c168b"
      },
      "execution_count": null,
      "outputs": [
        {
          "output_type": "stream",
          "name": "stdout",
          "text": [
            "{'couldn', \"you've\", \"doesn't\", 'should', \"didn't\", 'and', 'me', 'haven', 'do', 'about', \"couldn't\", 'didn', 'all', 'd', 'why', 'having', 'of', 'not', \"isn't\", \"mightn't\", 'by', \"wasn't\", 'while', 'any', 'than', 'after', 'shan', 'her', \"don't\", 'into', 'your', 'these', 'don', 'how', 'just', 'or', 'few', \"weren't\", 'above', 'at', 'because', 'then', 'she', 'whom', 'is', 'only', 'am', 'will', 'herself', 'each', 'has', 'too', 'hers', 'weren', \"needn't\", 'their', 'that', \"should've\", 'had', 'some', 'ma', 'again', 'it', 'you', \"won't\", 'll', 'we', 'an', 'but', 'o', 'yourselves', 'what', 'there', 'been', 'other', 'needn', 'up', 'mightn', 'our', 'this', 'nor', 'are', 'where', 'does', \"you'd\", 'doing', \"mustn't\", 'very', 'out', 'yours', 'between', 'them', 'he', 'ourselves', 'which', 'won', \"you're\", 'those', 's', 'on', 'himself', 'i', \"aren't\", 'doesn', 't', 'from', 'y', 'down', 'once', 'in', 'were', 'before', 'such', 'myself', 'off', 'most', 'further', 'when', 'here', 'him', \"wouldn't\", 'below', \"hadn't\", 've', 'hadn', 'no', 'they', 'was', 'yourself', 'can', 'itself', 'the', 'a', 'through', 'same', 'if', 'its', \"she's\", 'wasn', 'have', \"haven't\", 'isn', 'shouldn', 'hasn', 'until', 'more', 'themselves', \"you'll\", 'so', 'ours', 'aren', 'mustn', 'm', 'theirs', \"it's\", 'as', 'did', 'under', 'being', \"shouldn't\", 'wouldn', \"that'll\", 'be', \"hasn't\", 'own', 'during', 'ain', 'both', 'now', 're', 'for', 'his', 'over', 'with', \"shan't\", 'to', 'my', 'who', 'against'}\n"
          ]
        }
      ]
    },
    {
      "cell_type": "code",
      "source": [
        "import nltk\n",
        "nltk.download('punkt')\n",
        "nltk.download('stopwords')\n",
        "from nltk.tokenize import sent_tokenize, word_tokenize\n",
        "from nltk.corpus import stopwords\n",
        "\n",
        "data = \"You make me want to be a better man. This sentence is what I said to my wife instead of I love you\"\n",
        "words = word_tokenize(data)\n",
        "stops = set(stopwords.words('english'))\n",
        "wordsFiltered = []"
      ],
      "metadata": {
        "colab": {
          "base_uri": "https://localhost:8080/"
        },
        "id": "i8RQ01SkNExg",
        "outputId": "4500304c-33d4-4faf-980f-6f359e647388"
      },
      "execution_count": null,
      "outputs": [
        {
          "output_type": "stream",
          "name": "stderr",
          "text": [
            "[nltk_data] Downloading package punkt to /root/nltk_data...\n",
            "[nltk_data]   Package punkt is already up-to-date!\n",
            "[nltk_data] Downloading package stopwords to /root/nltk_data...\n",
            "[nltk_data]   Package stopwords is already up-to-date!\n"
          ]
        }
      ]
    },
    {
      "cell_type": "code",
      "source": [
        "for w in words:\n",
        "    if w not in stops:\n",
        "        wordsFiltered.append(w)"
      ],
      "metadata": {
        "id": "-gay1uC1NjgO"
      },
      "execution_count": null,
      "outputs": []
    },
    {
      "cell_type": "code",
      "source": [
        "print(wordsFiltered)"
      ],
      "metadata": {
        "colab": {
          "base_uri": "https://localhost:8080/"
        },
        "id": "c2dCuLZwNpMU",
        "outputId": "81b078cf-fff9-414c-b18f-8e7256972f0f"
      },
      "execution_count": null,
      "outputs": [
        {
          "output_type": "stream",
          "name": "stdout",
          "text": [
            "['You', 'make', 'want', 'better', 'man', '.', 'This', 'sentence', 'I', 'said', 'wife', 'instead', 'I', 'love']\n"
          ]
        }
      ]
    },
    {
      "cell_type": "markdown",
      "source": [
        "## Week 4"
      ],
      "metadata": {
        "id": "0hlGIWOhNtA1"
      }
    },
    {
      "cell_type": "code",
      "source": [
        "# Accessing Text\n",
        "from urllib import request\n",
        "url = \"http://www.gutenberg.org/files/2554/2554-0.txt\"\n",
        "response = request.urlopen(url)\n",
        "raw = response.read().decode('utf8')"
      ],
      "metadata": {
        "id": "Z2sJltGoNrLU"
      },
      "execution_count": null,
      "outputs": []
    },
    {
      "cell_type": "code",
      "source": [
        "type(raw)"
      ],
      "metadata": {
        "colab": {
          "base_uri": "https://localhost:8080/"
        },
        "id": "sHQsTaNvOFyb",
        "outputId": "4213c305-b053-4afb-de70-8c89e687cd2d"
      },
      "execution_count": null,
      "outputs": [
        {
          "output_type": "execute_result",
          "data": {
            "text/plain": [
              "str"
            ]
          },
          "metadata": {},
          "execution_count": 118
        }
      ]
    },
    {
      "cell_type": "code",
      "source": [
        "len(raw)"
      ],
      "metadata": {
        "colab": {
          "base_uri": "https://localhost:8080/"
        },
        "id": "IZe1MLSgOGxe",
        "outputId": "a205aae8-e4cf-430e-a3bc-703abbdea984"
      },
      "execution_count": null,
      "outputs": [
        {
          "output_type": "execute_result",
          "data": {
            "text/plain": [
              "1176812"
            ]
          },
          "metadata": {},
          "execution_count": 119
        }
      ]
    },
    {
      "cell_type": "code",
      "source": [
        "raw[:75]"
      ],
      "metadata": {
        "colab": {
          "base_uri": "https://localhost:8080/",
          "height": 35
        },
        "id": "VZ2iYBenOHlw",
        "outputId": "097d2ab3-a4eb-4665-ef49-afa46d6686ce"
      },
      "execution_count": null,
      "outputs": [
        {
          "output_type": "execute_result",
          "data": {
            "text/plain": [
              "'\\ufeffThe Project Gutenberg eBook of Crime and Punishment, by Fyodor Dostoevsky\\r'"
            ],
            "application/vnd.google.colaboratory.intrinsic+json": {
              "type": "string"
            }
          },
          "metadata": {},
          "execution_count": 120
        }
      ]
    },
    {
      "cell_type": "code",
      "source": [
        "import nltk\n",
        "nltk.download('punkt')\n",
        "from nltk.tokenize import word_tokenize"
      ],
      "metadata": {
        "colab": {
          "base_uri": "https://localhost:8080/"
        },
        "id": "xMn9yUHvOJsT",
        "outputId": "7ed49918-a4ca-4d1e-f5a1-07dadaec1611"
      },
      "execution_count": null,
      "outputs": [
        {
          "output_type": "stream",
          "name": "stderr",
          "text": [
            "[nltk_data] Downloading package punkt to /root/nltk_data...\n",
            "[nltk_data]   Package punkt is already up-to-date!\n"
          ]
        }
      ]
    },
    {
      "cell_type": "code",
      "source": [
        "tokens = word_tokenize(raw)"
      ],
      "metadata": {
        "id": "TnNZeIXeOShR"
      },
      "execution_count": null,
      "outputs": []
    },
    {
      "cell_type": "code",
      "source": [
        "type(tokens)"
      ],
      "metadata": {
        "colab": {
          "base_uri": "https://localhost:8080/"
        },
        "id": "gfP-pcdmOVGN",
        "outputId": "55bd1f71-5e12-40cf-cc60-9cef9de78840"
      },
      "execution_count": null,
      "outputs": [
        {
          "output_type": "execute_result",
          "data": {
            "text/plain": [
              "list"
            ]
          },
          "metadata": {},
          "execution_count": 123
        }
      ]
    },
    {
      "cell_type": "code",
      "source": [
        "len(tokens)"
      ],
      "metadata": {
        "colab": {
          "base_uri": "https://localhost:8080/"
        },
        "id": "GLqbvxPROWFU",
        "outputId": "7f52f51e-7342-4d29-c7d9-440f870bc652"
      },
      "execution_count": null,
      "outputs": [
        {
          "output_type": "execute_result",
          "data": {
            "text/plain": [
              "257058"
            ]
          },
          "metadata": {},
          "execution_count": 124
        }
      ]
    },
    {
      "cell_type": "code",
      "source": [
        "tokens[:10]"
      ],
      "metadata": {
        "colab": {
          "base_uri": "https://localhost:8080/"
        },
        "id": "s1eTNTZwOW-O",
        "outputId": "d92e448d-8b0b-4eb1-ba38-01263939ec99"
      },
      "execution_count": null,
      "outputs": [
        {
          "output_type": "execute_result",
          "data": {
            "text/plain": [
              "['\\ufeffThe',\n",
              " 'Project',\n",
              " 'Gutenberg',\n",
              " 'eBook',\n",
              " 'of',\n",
              " 'Crime',\n",
              " 'and',\n",
              " 'Punishment',\n",
              " ',',\n",
              " 'by']"
            ]
          },
          "metadata": {},
          "execution_count": 125
        }
      ]
    },
    {
      "cell_type": "code",
      "source": [
        "# Linguistic processing\n",
        "text = nltk.Text(tokens)"
      ],
      "metadata": {
        "id": "5wAybf8DOZBK"
      },
      "execution_count": null,
      "outputs": []
    },
    {
      "cell_type": "code",
      "source": [
        "text[1024:1062]"
      ],
      "metadata": {
        "colab": {
          "base_uri": "https://localhost:8080/"
        },
        "id": "idKnynzmOesc",
        "outputId": "21e09364-5b1e-4fa7-e20f-712b73249104"
      },
      "execution_count": null,
      "outputs": [
        {
          "output_type": "execute_result",
          "data": {
            "text/plain": [
              "['insight',\n",
              " 'impresses',\n",
              " 'us',\n",
              " 'as',\n",
              " 'wisdom',\n",
              " '...',\n",
              " 'that',\n",
              " 'wisdom',\n",
              " 'of',\n",
              " 'the',\n",
              " 'heart',\n",
              " 'which',\n",
              " 'we',\n",
              " 'seek',\n",
              " 'that',\n",
              " 'we',\n",
              " 'may',\n",
              " 'learn',\n",
              " 'from',\n",
              " 'it',\n",
              " 'how',\n",
              " 'to',\n",
              " 'live',\n",
              " '.',\n",
              " 'All',\n",
              " 'his',\n",
              " 'other',\n",
              " 'gifts',\n",
              " 'came',\n",
              " 'to',\n",
              " 'him',\n",
              " 'from',\n",
              " 'nature',\n",
              " ',',\n",
              " 'this',\n",
              " 'he',\n",
              " 'won',\n",
              " 'for']"
            ]
          },
          "metadata": {},
          "execution_count": 127
        }
      ]
    },
    {
      "cell_type": "code",
      "source": [
        "raw.find(\"PART I\")"
      ],
      "metadata": {
        "colab": {
          "base_uri": "https://localhost:8080/"
        },
        "id": "J5TNquGEOgUx",
        "outputId": "6858fbc6-88dd-45da-9135-48de80f71d42"
      },
      "execution_count": null,
      "outputs": [
        {
          "output_type": "execute_result",
          "data": {
            "text/plain": [
              "5575"
            ]
          },
          "metadata": {},
          "execution_count": 130
        }
      ]
    },
    {
      "cell_type": "code",
      "source": [
        "raw.rfind(\"End of Project Gutenberg's Crime\")"
      ],
      "metadata": {
        "colab": {
          "base_uri": "https://localhost:8080/"
        },
        "id": "tb7JkTUyOjoc",
        "outputId": "127af8ce-5d00-4df5-c7f6-48290ee73b7a"
      },
      "execution_count": null,
      "outputs": [
        {
          "output_type": "execute_result",
          "data": {
            "text/plain": [
              "-1"
            ]
          },
          "metadata": {},
          "execution_count": 129
        }
      ]
    },
    {
      "cell_type": "code",
      "source": [
        "raw = raw[5338:]"
      ],
      "metadata": {
        "id": "-hSv3nOnO6Vb"
      },
      "execution_count": null,
      "outputs": []
    },
    {
      "cell_type": "code",
      "source": [
        "raw.find(\"PART I\")"
      ],
      "metadata": {
        "colab": {
          "base_uri": "https://localhost:8080/"
        },
        "id": "tGun6X29PAFT",
        "outputId": "b94edda5-1af4-46b4-acf8-de570547875a"
      },
      "execution_count": null,
      "outputs": [
        {
          "output_type": "execute_result",
          "data": {
            "text/plain": [
              "237"
            ]
          },
          "metadata": {},
          "execution_count": 132
        }
      ]
    },
    {
      "cell_type": "code",
      "source": [
        "# Accessing Local file\n",
        "f = open('week4_temp.txt')\n",
        "raw = f.read()\n",
        "print(raw)"
      ],
      "metadata": {
        "id": "EvfHiaFTPBoR"
      },
      "execution_count": null,
      "outputs": []
    },
    {
      "cell_type": "code",
      "source": [
        "# Strings\n",
        "monty = 'Monty Python'\n",
        "monty"
      ],
      "metadata": {
        "colab": {
          "base_uri": "https://localhost:8080/",
          "height": 35
        },
        "id": "lVVuqMCXPO6G",
        "outputId": "fe8a9a4b-6bcf-4f32-d47c-62bf6ee2f472"
      },
      "execution_count": null,
      "outputs": [
        {
          "output_type": "execute_result",
          "data": {
            "text/plain": [
              "'Monty Python'"
            ],
            "application/vnd.google.colaboratory.intrinsic+json": {
              "type": "string"
            }
          },
          "metadata": {},
          "execution_count": 133
        }
      ]
    },
    {
      "cell_type": "code",
      "source": [
        "circus = \"Monty Python's Flying Circus\"\n",
        "circus"
      ],
      "metadata": {
        "colab": {
          "base_uri": "https://localhost:8080/",
          "height": 35
        },
        "id": "MV_0DM88PUyl",
        "outputId": "0b696747-b26d-403f-8c7b-a0774f10360d"
      },
      "execution_count": null,
      "outputs": [
        {
          "output_type": "execute_result",
          "data": {
            "text/plain": [
              "\"Monty Python's Flying Circus\""
            ],
            "application/vnd.google.colaboratory.intrinsic+json": {
              "type": "string"
            }
          },
          "metadata": {},
          "execution_count": 135
        }
      ]
    },
    {
      "cell_type": "code",
      "source": [
        "circus = 'Monty Python\\'s Flying Circus'"
      ],
      "metadata": {
        "id": "2Rb5DTP3Pbas"
      },
      "execution_count": null,
      "outputs": []
    },
    {
      "cell_type": "code",
      "source": [
        "couplet = \"abc\"\\\n",
        "          \"efd\"\n",
        "\n",
        "couplet"
      ],
      "metadata": {
        "colab": {
          "base_uri": "https://localhost:8080/",
          "height": 35
        },
        "id": "SQVIhnt0Pg6D",
        "outputId": "598820e6-b111-4620-e23e-ca0be38f9646"
      },
      "execution_count": null,
      "outputs": [
        {
          "output_type": "execute_result",
          "data": {
            "text/plain": [
              "'abcefd'"
            ],
            "application/vnd.google.colaboratory.intrinsic+json": {
              "type": "string"
            }
          },
          "metadata": {},
          "execution_count": 137
        }
      ]
    },
    {
      "cell_type": "code",
      "source": [
        "couplet = (\"abc\"\n",
        "          \"efd\")\n",
        "\n",
        "couplet"
      ],
      "metadata": {
        "colab": {
          "base_uri": "https://localhost:8080/",
          "height": 35
        },
        "id": "jVEF0e4lPoJu",
        "outputId": "f0ac25ca-79f0-4fd9-b784-f4217559fab1"
      },
      "execution_count": null,
      "outputs": [
        {
          "output_type": "execute_result",
          "data": {
            "text/plain": [
              "'abcefd'"
            ],
            "application/vnd.google.colaboratory.intrinsic+json": {
              "type": "string"
            }
          },
          "metadata": {},
          "execution_count": 139
        }
      ]
    },
    {
      "cell_type": "code",
      "source": [
        "'very' + 'very' + 'very'"
      ],
      "metadata": {
        "colab": {
          "base_uri": "https://localhost:8080/",
          "height": 35
        },
        "id": "xz4pCga4PvEh",
        "outputId": "2f5afb9c-2048-4392-ae0d-35f255ada52f"
      },
      "execution_count": null,
      "outputs": [
        {
          "output_type": "execute_result",
          "data": {
            "text/plain": [
              "'veryveryvery'"
            ],
            "application/vnd.google.colaboratory.intrinsic+json": {
              "type": "string"
            }
          },
          "metadata": {},
          "execution_count": 140
        }
      ]
    },
    {
      "cell_type": "code",
      "source": [
        "'very'*3"
      ],
      "metadata": {
        "colab": {
          "base_uri": "https://localhost:8080/",
          "height": 35
        },
        "id": "3j4oWFXyP0UX",
        "outputId": "c564d5f9-f339-4a56-96c5-4beb95192b67"
      },
      "execution_count": null,
      "outputs": [
        {
          "output_type": "execute_result",
          "data": {
            "text/plain": [
              "'veryveryvery'"
            ],
            "application/vnd.google.colaboratory.intrinsic+json": {
              "type": "string"
            }
          },
          "metadata": {},
          "execution_count": 141
        }
      ]
    },
    {
      "cell_type": "code",
      "source": [
        "print(monty)"
      ],
      "metadata": {
        "colab": {
          "base_uri": "https://localhost:8080/"
        },
        "id": "A_hgeZIrP1KK",
        "outputId": "c3f7901e-0205-4419-88fa-f47efbea4804"
      },
      "execution_count": null,
      "outputs": [
        {
          "output_type": "stream",
          "name": "stdout",
          "text": [
            "Monty Python\n"
          ]
        }
      ]
    },
    {
      "cell_type": "code",
      "source": [
        "monty[-1]"
      ],
      "metadata": {
        "colab": {
          "base_uri": "https://localhost:8080/",
          "height": 35
        },
        "id": "PzaaWNSBP3e1",
        "outputId": "8c4d9b8d-b959-4379-a778-f2ccccebc1a2"
      },
      "execution_count": null,
      "outputs": [
        {
          "output_type": "execute_result",
          "data": {
            "text/plain": [
              "'n'"
            ],
            "application/vnd.google.colaboratory.intrinsic+json": {
              "type": "string"
            }
          },
          "metadata": {},
          "execution_count": 143
        }
      ]
    },
    {
      "cell_type": "code",
      "source": [
        "monty[-7]"
      ],
      "metadata": {
        "colab": {
          "base_uri": "https://localhost:8080/",
          "height": 35
        },
        "id": "r--s5nwGP7A7",
        "outputId": "ddfdde1b-7e90-496e-fa49-5deb0923222f"
      },
      "execution_count": null,
      "outputs": [
        {
          "output_type": "execute_result",
          "data": {
            "text/plain": [
              "' '"
            ],
            "application/vnd.google.colaboratory.intrinsic+json": {
              "type": "string"
            }
          },
          "metadata": {},
          "execution_count": 144
        }
      ]
    },
    {
      "cell_type": "code",
      "source": [
        "monty[5]"
      ],
      "metadata": {
        "colab": {
          "base_uri": "https://localhost:8080/",
          "height": 35
        },
        "id": "dlNRag_3P9BD",
        "outputId": "dc1b7d57-6176-4f97-8109-fb5515f30dbc"
      },
      "execution_count": null,
      "outputs": [
        {
          "output_type": "execute_result",
          "data": {
            "text/plain": [
              "' '"
            ],
            "application/vnd.google.colaboratory.intrinsic+json": {
              "type": "string"
            }
          },
          "metadata": {},
          "execution_count": 145
        }
      ]
    },
    {
      "cell_type": "code",
      "source": [
        "monty[20]"
      ],
      "metadata": {
        "colab": {
          "base_uri": "https://localhost:8080/",
          "height": 174
        },
        "id": "Clfk7qPtP-jR",
        "outputId": "22991850-13aa-46ae-93a1-7cc991adbc86"
      },
      "execution_count": null,
      "outputs": [
        {
          "output_type": "error",
          "ename": "IndexError",
          "evalue": "ignored",
          "traceback": [
            "\u001b[0;31m---------------------------------------------------------------------------\u001b[0m",
            "\u001b[0;31mIndexError\u001b[0m                                Traceback (most recent call last)",
            "\u001b[0;32m<ipython-input-146-573d88a40a56>\u001b[0m in \u001b[0;36m<module>\u001b[0;34m\u001b[0m\n\u001b[0;32m----> 1\u001b[0;31m \u001b[0mmonty\u001b[0m\u001b[0;34m[\u001b[0m\u001b[0;36m20\u001b[0m\u001b[0;34m]\u001b[0m\u001b[0;34m\u001b[0m\u001b[0;34m\u001b[0m\u001b[0m\n\u001b[0m",
            "\u001b[0;31mIndexError\u001b[0m: string index out of range"
          ]
        }
      ]
    },
    {
      "cell_type": "code",
      "source": [
        "monty[3]"
      ],
      "metadata": {
        "colab": {
          "base_uri": "https://localhost:8080/",
          "height": 35
        },
        "id": "56m7UeJtQBvw",
        "outputId": "75b35a2c-2971-4c4a-e032-669b72728dd0"
      },
      "execution_count": null,
      "outputs": [
        {
          "output_type": "execute_result",
          "data": {
            "text/plain": [
              "'t'"
            ],
            "application/vnd.google.colaboratory.intrinsic+json": {
              "type": "string"
            }
          },
          "metadata": {},
          "execution_count": 147
        }
      ]
    },
    {
      "cell_type": "code",
      "source": [
        "sent = 'colorless green ideas sleep furiously'\n",
        "for char in sent:\n",
        "    print(char, end=\" \")"
      ],
      "metadata": {
        "colab": {
          "base_uri": "https://localhost:8080/"
        },
        "id": "fZCzUPQ1QC6O",
        "outputId": "715827ed-bb9a-4d00-df38-8fb7e5f25850"
      },
      "execution_count": null,
      "outputs": [
        {
          "output_type": "stream",
          "name": "stdout",
          "text": [
            "c o l o r l e s s   g r e e n   i d e a s   s l e e p   f u r i o u s l y "
          ]
        }
      ]
    },
    {
      "cell_type": "code",
      "source": [
        "import nltk\n",
        "from nltk.corpus import gutenberg\n",
        "nltk.download('gutenberg')"
      ],
      "metadata": {
        "colab": {
          "base_uri": "https://localhost:8080/"
        },
        "id": "6FYlHRuoQMUV",
        "outputId": "9d4806d4-963b-480e-90ec-ef31d9c10c02"
      },
      "execution_count": null,
      "outputs": [
        {
          "output_type": "stream",
          "name": "stderr",
          "text": [
            "[nltk_data] Downloading package gutenberg to /root/nltk_data...\n",
            "[nltk_data]   Package gutenberg is already up-to-date!\n"
          ]
        },
        {
          "output_type": "execute_result",
          "data": {
            "text/plain": [
              "True"
            ]
          },
          "metadata": {},
          "execution_count": 149
        }
      ]
    },
    {
      "cell_type": "code",
      "source": [
        "raw = gutenberg.raw('melville-moby_dick.txt')"
      ],
      "metadata": {
        "id": "sNnytqvmQWoQ"
      },
      "execution_count": null,
      "outputs": []
    },
    {
      "cell_type": "code",
      "source": [
        "fdist = nltk.FreqDist(ch.lower() for ch in raw if ch.isalpha())"
      ],
      "metadata": {
        "id": "ltjsGRZzQcb4"
      },
      "execution_count": null,
      "outputs": []
    },
    {
      "cell_type": "code",
      "source": [
        "fdist.most_common(5)"
      ],
      "metadata": {
        "colab": {
          "base_uri": "https://localhost:8080/"
        },
        "id": "1mBZ-QKdQjLD",
        "outputId": "08a61597-51fa-421b-f609-76bf471c35d2"
      },
      "execution_count": null,
      "outputs": [
        {
          "output_type": "execute_result",
          "data": {
            "text/plain": [
              "[('e', 117092), ('t', 87996), ('a', 77916), ('o', 69326), ('n', 65617)]"
            ]
          },
          "metadata": {},
          "execution_count": 152
        }
      ]
    },
    {
      "cell_type": "code",
      "source": [
        "[char for (char,count) in fdist.most_common()]"
      ],
      "metadata": {
        "colab": {
          "base_uri": "https://localhost:8080/"
        },
        "id": "efMjv9WsQmP1",
        "outputId": "443023d0-d588-497d-d0d7-160ec46c868f"
      },
      "execution_count": null,
      "outputs": [
        {
          "output_type": "execute_result",
          "data": {
            "text/plain": [
              "['e',\n",
              " 't',\n",
              " 'a',\n",
              " 'o',\n",
              " 'n',\n",
              " 'i',\n",
              " 's',\n",
              " 'h',\n",
              " 'r',\n",
              " 'l',\n",
              " 'd',\n",
              " 'u',\n",
              " 'm',\n",
              " 'c',\n",
              " 'w',\n",
              " 'f',\n",
              " 'g',\n",
              " 'p',\n",
              " 'b',\n",
              " 'y',\n",
              " 'v',\n",
              " 'k',\n",
              " 'q',\n",
              " 'j',\n",
              " 'x',\n",
              " 'z']"
            ]
          },
          "metadata": {},
          "execution_count": 153
        }
      ]
    },
    {
      "cell_type": "code",
      "source": [
        "monty[6:10]"
      ],
      "metadata": {
        "colab": {
          "base_uri": "https://localhost:8080/",
          "height": 35
        },
        "id": "Pi57kfL1QqXW",
        "outputId": "855497a1-c0e2-4d9e-e891-8d65d3423e16"
      },
      "execution_count": null,
      "outputs": [
        {
          "output_type": "execute_result",
          "data": {
            "text/plain": [
              "'Pyth'"
            ],
            "application/vnd.google.colaboratory.intrinsic+json": {
              "type": "string"
            }
          },
          "metadata": {},
          "execution_count": 154
        }
      ]
    },
    {
      "cell_type": "code",
      "source": [
        "monty[-12:-7]"
      ],
      "metadata": {
        "colab": {
          "base_uri": "https://localhost:8080/",
          "height": 35
        },
        "id": "GaV8CPFKQtxw",
        "outputId": "1906684c-ff69-4fbc-9df2-dfb4e6ea169c"
      },
      "execution_count": null,
      "outputs": [
        {
          "output_type": "execute_result",
          "data": {
            "text/plain": [
              "'Monty'"
            ],
            "application/vnd.google.colaboratory.intrinsic+json": {
              "type": "string"
            }
          },
          "metadata": {},
          "execution_count": 155
        }
      ]
    },
    {
      "cell_type": "code",
      "source": [
        "phrase = 'And now for something completely different'\n",
        "if 'thing' in phrase:\n",
        "    print('found \"thing\"')"
      ],
      "metadata": {
        "colab": {
          "base_uri": "https://localhost:8080/"
        },
        "id": "sjUqTMzsQwSR",
        "outputId": "00b3dfaf-28cc-479e-bcdf-9023a3633053"
      },
      "execution_count": null,
      "outputs": [
        {
          "output_type": "stream",
          "name": "stdout",
          "text": [
            "found \"thing\"\n"
          ]
        }
      ]
    },
    {
      "cell_type": "code",
      "source": [
        "monty.find('Python')"
      ],
      "metadata": {
        "colab": {
          "base_uri": "https://localhost:8080/"
        },
        "id": "nKW4nxSjQ8wy",
        "outputId": "606dbbd7-bb74-400e-800b-4ec5be688ed2"
      },
      "execution_count": null,
      "outputs": [
        {
          "output_type": "execute_result",
          "data": {
            "text/plain": [
              "6"
            ]
          },
          "metadata": {},
          "execution_count": 158
        }
      ]
    },
    {
      "cell_type": "code",
      "source": [
        "# Regular expressions\n",
        "import re\n",
        "import nltk\n",
        "nltk.download('words')"
      ],
      "metadata": {
        "colab": {
          "base_uri": "https://localhost:8080/"
        },
        "id": "oP0jK2HHRBEh",
        "outputId": "0d49f435-d057-4a90-f440-cee09d9e5d0b"
      },
      "execution_count": null,
      "outputs": [
        {
          "output_type": "stream",
          "name": "stderr",
          "text": [
            "[nltk_data] Downloading package words to /root/nltk_data...\n",
            "[nltk_data]   Package words is already up-to-date!\n"
          ]
        },
        {
          "output_type": "execute_result",
          "data": {
            "text/plain": [
              "True"
            ]
          },
          "metadata": {},
          "execution_count": 159
        }
      ]
    },
    {
      "cell_type": "code",
      "source": [
        "wordlist = [w for w in nltk.corpus.words.words('en') if w.islower()]"
      ],
      "metadata": {
        "id": "oVppKSaDRK3V"
      },
      "execution_count": null,
      "outputs": []
    },
    {
      "cell_type": "code",
      "source": [
        "[w for w in wordlist if re.search('ed$',w)]"
      ],
      "metadata": {
        "colab": {
          "base_uri": "https://localhost:8080/"
        },
        "id": "P7aiQ_bRRRXj",
        "outputId": "bb5e1d54-55f7-4f3b-f254-8cc0835d2d56"
      },
      "execution_count": null,
      "outputs": [
        {
          "output_type": "execute_result",
          "data": {
            "text/plain": [
              "['abaissed',\n",
              " 'abandoned',\n",
              " 'abased',\n",
              " 'abashed',\n",
              " 'abatised',\n",
              " 'abed',\n",
              " 'aborted',\n",
              " 'abridged',\n",
              " 'abscessed',\n",
              " 'absconded',\n",
              " 'absorbed',\n",
              " 'abstracted',\n",
              " 'abstricted',\n",
              " 'accelerated',\n",
              " 'accepted',\n",
              " 'accidented',\n",
              " 'accoladed',\n",
              " 'accolated',\n",
              " 'accomplished',\n",
              " 'accosted',\n",
              " 'accredited',\n",
              " 'accursed',\n",
              " 'accused',\n",
              " 'accustomed',\n",
              " 'acetated',\n",
              " 'acheweed',\n",
              " 'aciculated',\n",
              " 'aciliated',\n",
              " 'acknowledged',\n",
              " 'acorned',\n",
              " 'acquainted',\n",
              " 'acquired',\n",
              " 'acquisited',\n",
              " 'acred',\n",
              " 'aculeated',\n",
              " 'addebted',\n",
              " 'added',\n",
              " 'addicted',\n",
              " 'addlebrained',\n",
              " 'addleheaded',\n",
              " 'addlepated',\n",
              " 'addorsed',\n",
              " 'adempted',\n",
              " 'adfected',\n",
              " 'adjoined',\n",
              " 'admired',\n",
              " 'admitted',\n",
              " 'adnexed',\n",
              " 'adopted',\n",
              " 'adossed',\n",
              " 'adreamed',\n",
              " 'adscripted',\n",
              " 'aduncated',\n",
              " 'advanced',\n",
              " 'advised',\n",
              " 'aeried',\n",
              " 'aethered',\n",
              " 'afeared',\n",
              " 'affected',\n",
              " 'affectioned',\n",
              " 'affined',\n",
              " 'afflicted',\n",
              " 'affricated',\n",
              " 'affrighted',\n",
              " 'affronted',\n",
              " 'aforenamed',\n",
              " 'afterfeed',\n",
              " 'aftershafted',\n",
              " 'afterthoughted',\n",
              " 'afterwitted',\n",
              " 'agazed',\n",
              " 'aged',\n",
              " 'agglomerated',\n",
              " 'aggrieved',\n",
              " 'agminated',\n",
              " 'agnamed',\n",
              " 'agonied',\n",
              " 'agreed',\n",
              " 'agueweed',\n",
              " 'ahungered',\n",
              " 'aiguilletted',\n",
              " 'ailweed',\n",
              " 'airbrained',\n",
              " 'airified',\n",
              " 'aiseweed',\n",
              " 'aisled',\n",
              " 'alarmed',\n",
              " 'alated',\n",
              " 'alimonied',\n",
              " 'aliped',\n",
              " 'alleyed',\n",
              " 'allied',\n",
              " 'alligatored',\n",
              " 'allseed',\n",
              " 'almsdeed',\n",
              " 'aloed',\n",
              " 'altared',\n",
              " 'alveolated',\n",
              " 'amazed',\n",
              " 'ameed',\n",
              " 'amiced',\n",
              " 'amphitheatered',\n",
              " 'ampullated',\n",
              " 'amused',\n",
              " 'anchored',\n",
              " 'angled',\n",
              " 'anguiped',\n",
              " 'anguished',\n",
              " 'angulated',\n",
              " 'angulinerved',\n",
              " 'anhungered',\n",
              " 'animated',\n",
              " 'aniseed',\n",
              " 'annodated',\n",
              " 'annulated',\n",
              " 'anomaliped',\n",
              " 'anserated',\n",
              " 'anteflected',\n",
              " 'anteflexed',\n",
              " 'antimoniated',\n",
              " 'antimoniureted',\n",
              " 'antimoniuretted',\n",
              " 'antiquated',\n",
              " 'antired',\n",
              " 'antiweed',\n",
              " 'antlered',\n",
              " 'apertured',\n",
              " 'apexed',\n",
              " 'apicifixed',\n",
              " 'apiculated',\n",
              " 'apocopated',\n",
              " 'apostrophied',\n",
              " 'appearanced',\n",
              " 'appellatived',\n",
              " 'appendaged',\n",
              " 'appendiculated',\n",
              " 'applied',\n",
              " 'appressed',\n",
              " 'aralkylated',\n",
              " 'arbored',\n",
              " 'arched',\n",
              " 'architraved',\n",
              " 'arcked',\n",
              " 'arcuated',\n",
              " 'ared',\n",
              " 'areolated',\n",
              " 'ariled',\n",
              " 'arillated',\n",
              " 'armchaired',\n",
              " 'armed',\n",
              " 'armied',\n",
              " 'armillated',\n",
              " 'armored',\n",
              " 'armoried',\n",
              " 'arpeggiated',\n",
              " 'arpeggioed',\n",
              " 'arrased',\n",
              " 'arrowed',\n",
              " 'arrowheaded',\n",
              " 'arrowweed',\n",
              " 'arseneted',\n",
              " 'arsenetted',\n",
              " 'arseniureted',\n",
              " 'articled',\n",
              " 'articulated',\n",
              " 'ashamed',\n",
              " 'ashlared',\n",
              " 'ashweed',\n",
              " 'aspersed',\n",
              " 'asphyxied',\n",
              " 'assented',\n",
              " 'assessed',\n",
              " 'assigned',\n",
              " 'assistanted',\n",
              " 'associated',\n",
              " 'assonanced',\n",
              " 'assorted',\n",
              " 'assumed',\n",
              " 'assured',\n",
              " 'asteriated',\n",
              " 'astonied',\n",
              " 'aswooned',\n",
              " 'atrophiated',\n",
              " 'atrophied',\n",
              " 'attached',\n",
              " 'attired',\n",
              " 'attrited',\n",
              " 'augmented',\n",
              " 'aurated',\n",
              " 'auricled',\n",
              " 'auriculated',\n",
              " 'authorized',\n",
              " 'autoinhibited',\n",
              " 'autosensitized',\n",
              " 'autosled',\n",
              " 'averted',\n",
              " 'avowed',\n",
              " 'awearied',\n",
              " 'awned',\n",
              " 'awninged',\n",
              " 'axed',\n",
              " 'axhammered',\n",
              " 'axised',\n",
              " 'axled',\n",
              " 'axseed',\n",
              " 'axweed',\n",
              " 'azoted',\n",
              " 'azured',\n",
              " 'babied',\n",
              " 'babished',\n",
              " 'babyfied',\n",
              " 'baccated',\n",
              " 'backboned',\n",
              " 'backed',\n",
              " 'backhanded',\n",
              " 'backwatered',\n",
              " 'baconweed',\n",
              " 'badgerweed',\n",
              " 'bagged',\n",
              " 'bagwigged',\n",
              " 'baked',\n",
              " 'balanced',\n",
              " 'balconied',\n",
              " 'baldachined',\n",
              " 'baldricked',\n",
              " 'balled',\n",
              " 'ballweed',\n",
              " 'balsamweed',\n",
              " 'balustered',\n",
              " 'balustraded',\n",
              " 'bandannaed',\n",
              " 'banded',\n",
              " 'bandoleered',\n",
              " 'bangled',\n",
              " 'banked',\n",
              " 'bankweed',\n",
              " 'bannered',\n",
              " 'barbated',\n",
              " 'barbed',\n",
              " 'barebacked',\n",
              " 'bareboned',\n",
              " 'barefaced',\n",
              " 'barefooted',\n",
              " 'barehanded',\n",
              " 'bareheaded',\n",
              " 'barelegged',\n",
              " 'barenecked',\n",
              " 'barmybrained',\n",
              " 'barred',\n",
              " 'barreled',\n",
              " 'bartizaned',\n",
              " 'basebred',\n",
              " 'based',\n",
              " 'basehearted',\n",
              " 'basifixed',\n",
              " 'basilweed',\n",
              " 'basined',\n",
              " 'basinerved',\n",
              " 'basqued',\n",
              " 'bastioned',\n",
              " 'bated',\n",
              " 'bathroomed',\n",
              " 'battered',\n",
              " 'batteried',\n",
              " 'battled',\n",
              " 'battlemented',\n",
              " 'bayed',\n",
              " 'bayoneted',\n",
              " 'beached',\n",
              " 'beaded',\n",
              " 'beaked',\n",
              " 'bealtared',\n",
              " 'beamed',\n",
              " 'beanweed',\n",
              " 'beaproned',\n",
              " 'bearded',\n",
              " 'beautied',\n",
              " 'beavered',\n",
              " 'beballed',\n",
              " 'bebannered',\n",
              " 'bebed',\n",
              " 'bebelted',\n",
              " 'bebled',\n",
              " 'bebothered',\n",
              " 'bebouldered',\n",
              " 'bebuttoned',\n",
              " 'becassocked',\n",
              " 'bechained',\n",
              " 'bechignoned',\n",
              " 'becircled',\n",
              " 'becoiffed',\n",
              " 'becombed',\n",
              " 'becousined',\n",
              " 'becrinolined',\n",
              " 'becuffed',\n",
              " 'becurtained',\n",
              " 'becushioned',\n",
              " 'bed',\n",
              " 'bedaggered',\n",
              " 'bedangled',\n",
              " 'bedded',\n",
              " 'bediademed',\n",
              " 'bediamonded',\n",
              " 'beedged',\n",
              " 'beefheaded',\n",
              " 'beeheaded',\n",
              " 'beeswinged',\n",
              " 'beetled',\n",
              " 'beetleheaded',\n",
              " 'beetleweed',\n",
              " 'beeweed',\n",
              " 'befamilied',\n",
              " 'befanned',\n",
              " 'befathered',\n",
              " 'beferned',\n",
              " 'befetished',\n",
              " 'befezzed',\n",
              " 'befilleted',\n",
              " 'befilmed',\n",
              " 'beforested',\n",
              " 'befountained',\n",
              " 'befrocked',\n",
              " 'befrogged',\n",
              " 'befurbelowed',\n",
              " 'befurred',\n",
              " 'begabled',\n",
              " 'begarlanded',\n",
              " 'begartered',\n",
              " 'beggarweed',\n",
              " 'beglobed',\n",
              " 'begoggled',\n",
              " 'begowned',\n",
              " 'behatted',\n",
              " 'behaviored',\n",
              " 'beheadlined',\n",
              " 'behooped',\n",
              " 'beinked',\n",
              " 'bekilted',\n",
              " 'beknived',\n",
              " 'beknotted',\n",
              " 'belaced',\n",
              " 'belated',\n",
              " 'belatticed',\n",
              " 'belavendered',\n",
              " 'beledgered',\n",
              " 'belfried',\n",
              " 'beliked',\n",
              " 'belimousined',\n",
              " 'belled',\n",
              " 'bellied',\n",
              " 'bellmouthed',\n",
              " 'bellweed',\n",
              " 'beloved',\n",
              " 'belozenged',\n",
              " 'belted',\n",
              " 'bemazed',\n",
              " 'bemedaled',\n",
              " 'bemedalled',\n",
              " 'bemitered',\n",
              " 'bemitred',\n",
              " 'bemused',\n",
              " 'bemuslined',\n",
              " 'bended',\n",
              " 'beneaped',\n",
              " 'beneficed',\n",
              " 'beneighbored',\n",
              " 'benempted',\n",
              " 'benighted',\n",
              " 'bennetweed',\n",
              " 'benumbed',\n",
              " 'benweed',\n",
              " 'benzoated',\n",
              " 'benzoinated',\n",
              " 'bepastured',\n",
              " 'bepatched',\n",
              " 'beperiwigged',\n",
              " 'bepewed',\n",
              " 'bepillared',\n",
              " 'bepistoled',\n",
              " 'beplaided',\n",
              " 'beplumed',\n",
              " 'beribanded',\n",
              " 'beribboned',\n",
              " 'beringed',\n",
              " 'beringleted',\n",
              " 'berobed',\n",
              " 'berouged',\n",
              " 'berried',\n",
              " 'berthed',\n",
              " 'beruffed',\n",
              " 'beruffled',\n",
              " 'beshawled',\n",
              " 'besieged',\n",
              " 'beslushed',\n",
              " 'besotted',\n",
              " 'bespecked',\n",
              " 'bespectacled',\n",
              " 'besped',\n",
              " 'bespeed',\n",
              " 'bespelled',\n",
              " 'bespurred',\n",
              " 'bestatued',\n",
              " 'bestayed',\n",
              " 'bestrapped',\n",
              " 'bestubbled',\n",
              " 'besweatered',\n",
              " 'betattered',\n",
              " 'betaxed',\n",
              " 'betowered',\n",
              " 'betrothed',\n",
              " 'betrousered',\n",
              " 'betted',\n",
              " 'betuckered',\n",
              " 'beturbaned',\n",
              " 'betusked',\n",
              " 'betutored',\n",
              " 'betwattled',\n",
              " 'beuniformed',\n",
              " 'beveled',\n",
              " 'bevelled',\n",
              " 'bevesseled',\n",
              " 'bevesselled',\n",
              " 'bevined',\n",
              " 'bevoiled',\n",
              " 'bewaitered',\n",
              " 'bewhiskered',\n",
              " 'bewigged',\n",
              " 'bewildered',\n",
              " 'bewinged',\n",
              " 'bewired',\n",
              " 'bewrathed',\n",
              " 'biangulated',\n",
              " 'biarcuated',\n",
              " 'biarticulated',\n",
              " 'bicarbureted',\n",
              " 'biciliated',\n",
              " 'bicolored',\n",
              " 'bicorned',\n",
              " 'bidented',\n",
              " 'bifanged',\n",
              " 'bifidated',\n",
              " 'biflected',\n",
              " 'biforked',\n",
              " 'biformed',\n",
              " 'bifronted',\n",
              " 'bifurcated',\n",
              " 'bigeminated',\n",
              " 'bighearted',\n",
              " 'bigmouthed',\n",
              " 'bigoted',\n",
              " 'bigwigged',\n",
              " 'bilamellated',\n",
              " 'bilaminated',\n",
              " 'billed',\n",
              " 'bilobated',\n",
              " 'bilobed',\n",
              " 'bilsted',\n",
              " 'bimaculated',\n",
              " 'bimotored',\n",
              " 'bindweed',\n",
              " 'bineweed',\n",
              " 'binominated',\n",
              " 'binucleated',\n",
              " 'biparted',\n",
              " 'bipectinated',\n",
              " 'biped',\n",
              " 'bipennated',\n",
              " 'bipinnated',\n",
              " 'bipinnatiparted',\n",
              " 'bipinnatisected',\n",
              " 'biradiated',\n",
              " 'birdmouthed',\n",
              " 'birdseed',\n",
              " 'birdweed',\n",
              " 'birostrated',\n",
              " 'birthbed',\n",
              " 'bisexed',\n",
              " 'bishopweed',\n",
              " 'bistered',\n",
              " 'bistipuled',\n",
              " 'bisubstituted',\n",
              " 'bitted',\n",
              " 'bitterhearted',\n",
              " 'bitterweed',\n",
              " 'bituberculated',\n",
              " 'bitumed',\n",
              " 'bivalved',\n",
              " 'bivaulted',\n",
              " 'bivocalized',\n",
              " 'blackhearted',\n",
              " 'blackseed',\n",
              " 'blackshirted',\n",
              " 'bladderseed',\n",
              " 'bladderweed',\n",
              " 'bladed',\n",
              " 'blakeberyed',\n",
              " 'blamed',\n",
              " 'blanked',\n",
              " 'blanketed',\n",
              " 'blanketweed',\n",
              " 'blasted',\n",
              " 'bleached',\n",
              " 'bleared',\n",
              " 'bleed',\n",
              " 'blended',\n",
              " 'blessed',\n",
              " 'blighted',\n",
              " 'blinded',\n",
              " 'blindfolded',\n",
              " 'blindweed',\n",
              " 'blinked',\n",
              " 'blinkered',\n",
              " 'blistered',\n",
              " 'blisterweed',\n",
              " 'blithehearted',\n",
              " 'bloated',\n",
              " 'blobbed',\n",
              " 'blocked',\n",
              " 'blockheaded',\n",
              " 'blooded',\n",
              " 'bloodied',\n",
              " 'bloodshed',\n",
              " 'bloodstained',\n",
              " 'bloodweed',\n",
              " 'blossomed',\n",
              " 'blotched',\n",
              " 'bloused',\n",
              " 'blowzed',\n",
              " 'bludgeoned',\n",
              " 'bluebelled',\n",
              " 'bluehearted',\n",
              " 'blueweed',\n",
              " 'blunderheaded',\n",
              " 'blunthearted',\n",
              " 'blurred',\n",
              " 'bobbed',\n",
              " 'bobsled',\n",
              " 'bobtailed',\n",
              " 'bodiced',\n",
              " 'bodied',\n",
              " 'boiled',\n",
              " 'boldhearted',\n",
              " 'bolectioned',\n",
              " 'boled',\n",
              " 'boleweed',\n",
              " 'bolled',\n",
              " 'bombed',\n",
              " 'bonded',\n",
              " 'boned',\n",
              " 'boneheaded',\n",
              " 'bonneted',\n",
              " 'booked',\n",
              " 'booted',\n",
              " 'bootied',\n",
              " 'boozed',\n",
              " 'bordered',\n",
              " 'bordured',\n",
              " 'bosomed',\n",
              " 'bossed',\n",
              " 'bosselated',\n",
              " 'botched',\n",
              " 'botherheaded',\n",
              " 'bothsided',\n",
              " 'bottled',\n",
              " 'bottomed',\n",
              " 'boughed',\n",
              " 'bounded',\n",
              " 'bountied',\n",
              " 'bowed',\n",
              " 'boweled',\n",
              " 'bowlegged',\n",
              " 'bowstringed',\n",
              " 'braced',\n",
              " 'braceleted',\n",
              " 'brackened',\n",
              " 'bracted',\n",
              " 'braided',\n",
              " 'brambled',\n",
              " 'branched',\n",
              " 'branded',\n",
              " 'brandied',\n",
              " 'brangled',\n",
              " 'bravehearted',\n",
              " 'brawned',\n",
              " 'brazenfaced',\n",
              " 'breasted',\n",
              " 'breastweed',\n",
              " 'breathed',\n",
              " 'brecciated',\n",
              " 'bred',\n",
              " 'breeched',\n",
              " 'breed',\n",
              " 'breviped',\n",
              " 'bridebed',\n",
              " 'brideweed',\n",
              " 'bridged',\n",
              " 'bridled',\n",
              " 'briered',\n",
              " 'brimmed',\n",
              " 'bristled',\n",
              " 'broadhearted',\n",
              " 'brocaded',\n",
              " 'brocked',\n",
              " 'brokenhearted',\n",
              " 'bromoiodized',\n",
              " 'bronzed',\n",
              " 'brooked',\n",
              " 'brookweed',\n",
              " 'broomweed',\n",
              " 'broozled',\n",
              " 'browed',\n",
              " 'brownweed',\n",
              " 'bruckled',\n",
              " 'brushed',\n",
              " 'buboed',\n",
              " 'bucked',\n",
              " 'buckled',\n",
              " 'buckskinned',\n",
              " 'buffed',\n",
              " 'bugled',\n",
              " 'bugleweed',\n",
              " 'bugseed',\n",
              " 'bugweed',\n",
              " 'bulbed',\n",
              " 'bulked',\n",
              " 'bulkheaded',\n",
              " 'bullated',\n",
              " 'bulldogged',\n",
              " 'bulleted',\n",
              " 'bulletheaded',\n",
              " 'bullheaded',\n",
              " 'bullweed',\n",
              " 'bummed',\n",
              " 'bundlerooted',\n",
              " 'bundweed',\n",
              " 'bunted',\n",
              " 'buried',\n",
              " 'burled',\n",
              " 'burned',\n",
              " 'burnoosed',\n",
              " 'burntweed',\n",
              " 'burred',\n",
              " 'burroweed',\n",
              " 'burseed',\n",
              " 'burweed',\n",
              " 'bushed',\n",
              " 'busied',\n",
              " 'busked',\n",
              " 'buskined',\n",
              " 'busted',\n",
              " 'bustled',\n",
              " 'busybodied',\n",
              " 'buttered',\n",
              " 'butterfingered',\n",
              " 'butterweed',\n",
              " 'butteryfingered',\n",
              " 'buttocked',\n",
              " 'buttoned',\n",
              " 'buttonweed',\n",
              " 'cabled',\n",
              " 'caboshed',\n",
              " 'caddiced',\n",
              " 'caddised',\n",
              " 'cadenced',\n",
              " 'cadweed',\n",
              " 'caftaned',\n",
              " 'caged',\n",
              " 'cairned',\n",
              " 'caissoned',\n",
              " 'calced',\n",
              " 'calcified',\n",
              " 'calcined',\n",
              " 'calculated',\n",
              " 'calibered',\n",
              " 'calicoed',\n",
              " 'caligated',\n",
              " 'calpacked',\n",
              " 'calved',\n",
              " 'calycled',\n",
              " 'calyculated',\n",
              " 'camailed',\n",
              " 'camerated',\n",
              " 'cammed',\n",
              " 'campanulated',\n",
              " 'campshed',\n",
              " 'camused',\n",
              " 'canaliculated',\n",
              " 'cancellated',\n",
              " 'cancered',\n",
              " 'cancerweed',\n",
              " 'candied',\n",
              " 'candlelighted',\n",
              " 'candlesticked',\n",
              " 'candyweed',\n",
              " 'canioned',\n",
              " 'cankered',\n",
              " 'cankerweed',\n",
              " 'canned',\n",
              " 'cannelated',\n",
              " 'cannelured',\n",
              " 'cannoned',\n",
              " 'cannulated',\n",
              " 'canted',\n",
              " 'cantilevered',\n",
              " 'cantoned',\n",
              " 'cantred',\n",
              " 'caped',\n",
              " 'capernoited',\n",
              " 'capeweed',\n",
              " 'capitaled',\n",
              " 'capitated',\n",
              " 'capped',\n",
              " 'capriped',\n",
              " 'capsulated',\n",
              " 'capuched',\n",
              " 'carapaced',\n",
              " 'carbolated',\n",
              " 'carboyed',\n",
              " 'carbuncled',\n",
              " 'carcaneted',\n",
              " 'carded',\n",
              " 'carinated',\n",
              " 'carkled',\n",
              " 'carnaged',\n",
              " 'carnationed',\n",
              " 'carpetweed',\n",
              " 'carried',\n",
              " 'carrotweed',\n",
              " 'carucated',\n",
              " 'carunculated',\n",
              " 'cased',\n",
              " 'casemated',\n",
              " 'casemented',\n",
              " 'caseweed',\n",
              " 'casqued',\n",
              " 'castellated',\n",
              " 'castled',\n",
              " 'castorized',\n",
              " 'catamited',\n",
              " 'cataracted',\n",
              " 'catarrhed',\n",
              " 'catchweed',\n",
              " 'catenated',\n",
              " 'caterpillared',\n",
              " 'catfaced',\n",
              " 'catfooted',\n",
              " 'cathedraled',\n",
              " 'caudated',\n",
              " 'caverned',\n",
              " 'cavitied',\n",
              " 'cayenned',\n",
              " 'cedared',\n",
              " 'ceilinged',\n",
              " 'celebrated',\n",
              " 'cellated',\n",
              " 'celled',\n",
              " 'cellulated',\n",
              " 'celluloided',\n",
              " 'centered',\n",
              " 'centriffed',\n",
              " 'centuried',\n",
              " 'cerated',\n",
              " 'cered',\n",
              " 'certified',\n",
              " 'chafeweed',\n",
              " 'chaffseed',\n",
              " 'chaffweed',\n",
              " 'chafted',\n",
              " 'chained',\n",
              " 'chaliced',\n",
              " 'chambered',\n",
              " 'chamberleted',\n",
              " 'chamberletted',\n",
              " 'chanceled',\n",
              " 'channeled',\n",
              " 'channelled',\n",
              " 'chaped',\n",
              " 'chapleted',\n",
              " 'chapournetted',\n",
              " 'chapped',\n",
              " 'charioted',\n",
              " 'charqued',\n",
              " 'chartered',\n",
              " 'chasmed',\n",
              " 'chasteweed',\n",
              " 'chasubled',\n",
              " 'checked',\n",
              " 'checkered',\n",
              " 'checkrowed',\n",
              " 'cheered',\n",
              " 'cheliped',\n",
              " 'cherried',\n",
              " 'chickenbreasted',\n",
              " 'chickenhearted',\n",
              " 'chickenweed',\n",
              " 'chickweed',\n",
              " 'chicqued',\n",
              " 'chiggerweed',\n",
              " 'chignoned',\n",
              " 'childbed',\n",
              " 'childed',\n",
              " 'chilled',\n",
              " 'chined',\n",
              " 'chinned',\n",
              " 'chipped',\n",
              " 'chiseled',\n",
              " 'chitinized',\n",
              " 'chokered',\n",
              " 'chokeweed',\n",
              " 'cholterheaded',\n",
              " 'chopped',\n",
              " 'choppered',\n",
              " 'chorded',\n",
              " 'chowderheaded',\n",
              " 'christened',\n",
              " 'chubbed',\n",
              " 'chuckleheaded',\n",
              " 'churchified',\n",
              " 'churled',\n",
              " 'ciliated',\n",
              " 'cingulated',\n",
              " 'cinnamoned',\n",
              " 'cinquefoiled',\n",
              " 'circled',\n",
              " 'circumscribed',\n",
              " 'circumstanced',\n",
              " 'cirrated',\n",
              " 'cirrhosed',\n",
              " 'cirriped',\n",
              " 'cisted',\n",
              " 'citied',\n",
              " 'citified',\n",
              " 'citrated',\n",
              " 'civilized',\n",
              " 'clammed',\n",
              " 'clammyweed',\n",
              " 'clanned',\n",
              " 'clapped',\n",
              " 'classed',\n",
              " 'classified',\n",
              " 'clavated',\n",
              " 'clavellated',\n",
              " 'clawed',\n",
              " 'claybrained',\n",
              " 'clayweed',\n",
              " 'cleaded',\n",
              " 'cleanhanded',\n",
              " 'cleanhearted',\n",
              " 'clearheaded',\n",
              " 'clearhearted',\n",
              " 'clearweed',\n",
              " 'cled',\n",
              " 'cleeked',\n",
              " 'clefted',\n",
              " 'clerestoried',\n",
              " 'cliented',\n",
              " 'cliffed',\n",
              " 'cliffweed',\n",
              " 'clipped',\n",
              " 'cloaked',\n",
              " 'clocked',\n",
              " 'clodpated',\n",
              " 'cloistered',\n",
              " 'closed',\n",
              " 'closefisted',\n",
              " 'closehanded',\n",
              " 'closehearted',\n",
              " 'closemouthed',\n",
              " 'clotweed',\n",
              " 'clouded',\n",
              " 'clouted',\n",
              " 'clovered',\n",
              " 'clubbed',\n",
              " 'clubfisted',\n",
              " 'clubfooted',\n",
              " 'clubweed',\n",
              " 'clustered',\n",
              " 'coaged',\n",
              " 'coaggregated',\n",
              " 'coated',\n",
              " 'coattailed',\n",
              " 'cobbed',\n",
              " 'cocashweed',\n",
              " 'cochleated',\n",
              " 'cockaded',\n",
              " 'cocked',\n",
              " 'cockeyed',\n",
              " 'cockled',\n",
              " 'cockneybred',\n",
              " 'cockscombed',\n",
              " 'cockweed',\n",
              " 'codheaded',\n",
              " 'coed',\n",
              " 'coelongated',\n",
              " 'coembedded',\n",
              " 'coequated',\n",
              " 'coexpanded',\n",
              " 'coffeeweed',\n",
              " 'cogged',\n",
              " 'coifed',\n",
              " 'coiled',\n",
              " 'coldhearted',\n",
              " 'coleseed',\n",
              " 'colicweed',\n",
              " 'collared',\n",
              " 'collected',\n",
              " 'collied',\n",
              " 'colloped',\n",
              " 'colonnaded',\n",
              " 'colored',\n",
              " 'columnated',\n",
              " 'columned',\n",
              " 'combed',\n",
              " 'combined',\n",
              " 'compacted',\n",
              " 'complected',\n",
              " 'complexioned',\n",
              " 'complicated',\n",
              " 'componed',\n",
              " 'componented',\n",
              " 'composed',\n",
              " 'compressed',\n",
              " 'comprised',\n",
              " 'compulsed',\n",
              " 'conamed',\n",
              " 'concamerated',\n",
              " 'concealed',\n",
              " 'conceded',\n",
              " 'conceited',\n",
              " 'concentrated',\n",
              " 'concerned',\n",
              " 'concerted',\n",
              " 'conched',\n",
              " 'conchyliated',\n",
              " 'condemned',\n",
              " 'condensed',\n",
              " 'conditioned',\n",
              " 'conduplicated',\n",
              " 'coned',\n",
              " 'confated',\n",
              " 'conferted',\n",
              " 'confined',\n",
              " 'confirmed',\n",
              " 'conflated',\n",
              " 'confounded',\n",
              " 'confused',\n",
              " 'congested',\n",
              " 'conjoined',\n",
              " 'conjugated',\n",
              " 'connected',\n",
              " 'conred',\n",
              " 'consecrated',\n",
              " 'considered',\n",
              " 'consolidated',\n",
              " 'constrained',\n",
              " 'constricted',\n",
              " 'consumpted',\n",
              " 'contagioned',\n",
              " 'contented',\n",
              " 'contextured',\n",
              " 'continued',\n",
              " 'contorted',\n",
              " 'contortioned',\n",
              " 'contracted',\n",
              " 'contractured',\n",
              " 'contusioned',\n",
              " 'converted',\n",
              " 'convexed',\n",
              " 'convinced',\n",
              " 'convoluted',\n",
              " 'coolheaded',\n",
              " 'coolweed',\n",
              " 'copied',\n",
              " 'copleased',\n",
              " 'copped',\n",
              " 'coppernosed',\n",
              " 'copperytailed',\n",
              " 'coppiced',\n",
              " 'coppled',\n",
              " 'copsewooded',\n",
              " 'copygraphed',\n",
              " 'coraled',\n",
              " 'corded',\n",
              " 'corduroyed',\n",
              " 'cored',\n",
              " 'coreflexed',\n",
              " 'corked',\n",
              " 'cornered',\n",
              " 'cornified',\n",
              " 'cornuated',\n",
              " 'cornuted',\n",
              " 'corollated',\n",
              " 'coronaled',\n",
              " 'coronated',\n",
              " 'coroneted',\n",
              " 'coronetted',\n",
              " 'corpusculated',\n",
              " 'corrected',\n",
              " 'correlated',\n",
              " 'corridored',\n",
              " ...]"
            ]
          },
          "metadata": {},
          "execution_count": 161
        }
      ]
    },
    {
      "cell_type": "code",
      "source": [
        "[w for w in wordlist if re.search('^..j..t..$',w)]"
      ],
      "metadata": {
        "colab": {
          "base_uri": "https://localhost:8080/"
        },
        "id": "5baDwVAyRYoV",
        "outputId": "9af165d6-0e34-4e3d-a7fe-a1789fa5048f"
      },
      "execution_count": null,
      "outputs": [
        {
          "output_type": "execute_result",
          "data": {
            "text/plain": [
              "['abjectly',\n",
              " 'adjuster',\n",
              " 'dejected',\n",
              " 'dejectly',\n",
              " 'injector',\n",
              " 'majestic',\n",
              " 'objectee',\n",
              " 'objector',\n",
              " 'rejecter',\n",
              " 'rejector',\n",
              " 'unjilted',\n",
              " 'unjolted',\n",
              " 'unjustly']"
            ]
          },
          "metadata": {},
          "execution_count": 162
        }
      ]
    },
    {
      "cell_type": "code",
      "source": [
        "[w for w in wordlist if re.search('^[ghi][mno][jlk][def]$',w)]"
      ],
      "metadata": {
        "colab": {
          "base_uri": "https://localhost:8080/"
        },
        "id": "Xqk2GBv_Rjp1",
        "outputId": "d356df13-25ec-4fe6-f0ce-08b4661c73a9"
      },
      "execution_count": null,
      "outputs": [
        {
          "output_type": "execute_result",
          "data": {
            "text/plain": [
              "['gold', 'golf', 'hold', 'hole']"
            ]
          },
          "metadata": {},
          "execution_count": 163
        }
      ]
    },
    {
      "cell_type": "code",
      "source": [
        "nltk.download('nps_chat')"
      ],
      "metadata": {
        "colab": {
          "base_uri": "https://localhost:8080/"
        },
        "id": "YdEvwiZjR_Js",
        "outputId": "4b628e53-29a2-4e74-ac9f-7433a4299699"
      },
      "execution_count": null,
      "outputs": [
        {
          "output_type": "stream",
          "name": "stderr",
          "text": [
            "[nltk_data] Downloading package nps_chat to /root/nltk_data...\n",
            "[nltk_data]   Package nps_chat is already up-to-date!\n"
          ]
        },
        {
          "output_type": "execute_result",
          "data": {
            "text/plain": [
              "True"
            ]
          },
          "metadata": {},
          "execution_count": 164
        }
      ]
    },
    {
      "cell_type": "code",
      "source": [
        "chat_words = sorted(set(w for w in nltk.corpus.nps_chat.words()))"
      ],
      "metadata": {
        "id": "38ZasYvpSCXd"
      },
      "execution_count": null,
      "outputs": []
    },
    {
      "cell_type": "code",
      "source": [
        "[w for w in chat_words if re.search('^m+i+n+e+$',w)]"
      ],
      "metadata": {
        "colab": {
          "base_uri": "https://localhost:8080/"
        },
        "id": "WgL0pQBRSIH6",
        "outputId": "e84e0918-a084-4a9d-b54a-4a93cea9dcf1"
      },
      "execution_count": null,
      "outputs": [
        {
          "output_type": "execute_result",
          "data": {
            "text/plain": [
              "['miiiiiiiiiiiiinnnnnnnnnnneeeeeeeeee',\n",
              " 'miiiiiinnnnnnnnnneeeeeeee',\n",
              " 'mine',\n",
              " 'mmmmmmmmiiiiiiiiinnnnnnnnneeeeeeee']"
            ]
          },
          "metadata": {},
          "execution_count": 166
        }
      ]
    },
    {
      "cell_type": "code",
      "source": [
        "[w for w in chat_words if re.search('^[ha]+$',w)]"
      ],
      "metadata": {
        "colab": {
          "base_uri": "https://localhost:8080/"
        },
        "id": "U--zYLahZ2OK",
        "outputId": "b908fba4-8f7b-4bb0-9ff2-1cdb0b949829"
      },
      "execution_count": null,
      "outputs": [
        {
          "output_type": "execute_result",
          "data": {
            "text/plain": [
              "['a',\n",
              " 'aaaaaaaaaaaaaaaaa',\n",
              " 'aaahhhh',\n",
              " 'ah',\n",
              " 'ahah',\n",
              " 'ahahah',\n",
              " 'ahh',\n",
              " 'ahhahahaha',\n",
              " 'ahhh',\n",
              " 'ahhhh',\n",
              " 'ahhhhhh',\n",
              " 'ahhhhhhhhhhhhhh',\n",
              " 'h',\n",
              " 'ha',\n",
              " 'haaa',\n",
              " 'hah',\n",
              " 'haha',\n",
              " 'hahaaa',\n",
              " 'hahah',\n",
              " 'hahaha',\n",
              " 'hahahaa',\n",
              " 'hahahah',\n",
              " 'hahahaha',\n",
              " 'hahahahaaa',\n",
              " 'hahahahahaha',\n",
              " 'hahahahahahaha',\n",
              " 'hahahahahahahahahahahahahahahaha',\n",
              " 'hahahhahah',\n",
              " 'hahhahahaha']"
            ]
          },
          "metadata": {},
          "execution_count": 179
        }
      ]
    },
    {
      "cell_type": "code",
      "source": [
        "nltk.download('treebank')"
      ],
      "metadata": {
        "colab": {
          "base_uri": "https://localhost:8080/"
        },
        "id": "S_dkWWGXSPzj",
        "outputId": "0d9380af-65ee-4d3e-ef06-7a854cdc4d46"
      },
      "execution_count": null,
      "outputs": [
        {
          "output_type": "stream",
          "name": "stderr",
          "text": [
            "[nltk_data] Downloading package treebank to /root/nltk_data...\n",
            "[nltk_data]   Unzipping corpora/treebank.zip.\n"
          ]
        },
        {
          "output_type": "execute_result",
          "data": {
            "text/plain": [
              "True"
            ]
          },
          "metadata": {},
          "execution_count": 167
        }
      ]
    },
    {
      "cell_type": "code",
      "source": [
        "wsj = sorted(set(nltk.corpus.treebank.words()))"
      ],
      "metadata": {
        "id": "iucqWI58SUKs"
      },
      "execution_count": null,
      "outputs": []
    },
    {
      "cell_type": "code",
      "source": [
        "[w for w in wsj if re.search('^[0-9]+\\.[0-9]+$',w)]"
      ],
      "metadata": {
        "colab": {
          "base_uri": "https://localhost:8080/"
        },
        "id": "-yxSENI4SZPY",
        "outputId": "0f720eb6-2c9c-45d7-eea5-39420bfec8de"
      },
      "execution_count": null,
      "outputs": [
        {
          "output_type": "execute_result",
          "data": {
            "text/plain": [
              "['0.0085',\n",
              " '0.05',\n",
              " '0.1',\n",
              " '0.16',\n",
              " '0.2',\n",
              " '0.25',\n",
              " '0.28',\n",
              " '0.3',\n",
              " '0.4',\n",
              " '0.5',\n",
              " '0.50',\n",
              " '0.54',\n",
              " '0.56',\n",
              " '0.60',\n",
              " '0.7',\n",
              " '0.82',\n",
              " '0.84',\n",
              " '0.9',\n",
              " '0.95',\n",
              " '0.99',\n",
              " '1.01',\n",
              " '1.1',\n",
              " '1.125',\n",
              " '1.14',\n",
              " '1.1650',\n",
              " '1.17',\n",
              " '1.18',\n",
              " '1.19',\n",
              " '1.2',\n",
              " '1.20',\n",
              " '1.24',\n",
              " '1.25',\n",
              " '1.26',\n",
              " '1.28',\n",
              " '1.35',\n",
              " '1.39',\n",
              " '1.4',\n",
              " '1.457',\n",
              " '1.46',\n",
              " '1.49',\n",
              " '1.5',\n",
              " '1.50',\n",
              " '1.55',\n",
              " '1.56',\n",
              " '1.5755',\n",
              " '1.5805',\n",
              " '1.6',\n",
              " '1.61',\n",
              " '1.637',\n",
              " '1.64',\n",
              " '1.65',\n",
              " '1.7',\n",
              " '1.75',\n",
              " '1.76',\n",
              " '1.8',\n",
              " '1.82',\n",
              " '1.8415',\n",
              " '1.85',\n",
              " '1.8500',\n",
              " '1.9',\n",
              " '1.916',\n",
              " '1.92',\n",
              " '10.19',\n",
              " '10.2',\n",
              " '10.5',\n",
              " '107.03',\n",
              " '107.9',\n",
              " '109.73',\n",
              " '11.10',\n",
              " '11.5',\n",
              " '11.57',\n",
              " '11.6',\n",
              " '11.72',\n",
              " '11.95',\n",
              " '112.9',\n",
              " '113.2',\n",
              " '116.3',\n",
              " '116.4',\n",
              " '116.7',\n",
              " '116.9',\n",
              " '118.6',\n",
              " '12.09',\n",
              " '12.5',\n",
              " '12.52',\n",
              " '12.68',\n",
              " '12.7',\n",
              " '12.82',\n",
              " '12.97',\n",
              " '120.7',\n",
              " '1206.26',\n",
              " '121.6',\n",
              " '126.1',\n",
              " '126.15',\n",
              " '127.03',\n",
              " '129.91',\n",
              " '13.1',\n",
              " '13.15',\n",
              " '13.5',\n",
              " '13.50',\n",
              " '13.625',\n",
              " '13.65',\n",
              " '13.73',\n",
              " '13.8',\n",
              " '13.90',\n",
              " '130.6',\n",
              " '130.7',\n",
              " '131.01',\n",
              " '132.9',\n",
              " '133.7',\n",
              " '133.8',\n",
              " '14.00',\n",
              " '14.13',\n",
              " '14.26',\n",
              " '14.28',\n",
              " '14.43',\n",
              " '14.5',\n",
              " '14.53',\n",
              " '14.54',\n",
              " '14.6',\n",
              " '14.75',\n",
              " '14.99',\n",
              " '141.9',\n",
              " '142.84',\n",
              " '142.85',\n",
              " '143.08',\n",
              " '143.80',\n",
              " '143.93',\n",
              " '148.9',\n",
              " '149.9',\n",
              " '15.5',\n",
              " '150.00',\n",
              " '153.3',\n",
              " '154.2',\n",
              " '16.05',\n",
              " '16.09',\n",
              " '16.125',\n",
              " '16.2',\n",
              " '16.5',\n",
              " '16.68',\n",
              " '16.7',\n",
              " '16.9',\n",
              " '169.9',\n",
              " '17.3',\n",
              " '17.4',\n",
              " '17.5',\n",
              " '17.95',\n",
              " '1738.1',\n",
              " '176.1',\n",
              " '18.3',\n",
              " '18.6',\n",
              " '18.95',\n",
              " '185.9',\n",
              " '188.84',\n",
              " '19.3',\n",
              " '19.50',\n",
              " '19.6',\n",
              " '19.94',\n",
              " '19.95',\n",
              " '191.9',\n",
              " '2.07',\n",
              " '2.1',\n",
              " '2.15',\n",
              " '2.19',\n",
              " '2.2',\n",
              " '2.25',\n",
              " '2.29',\n",
              " '2.3',\n",
              " '2.30',\n",
              " '2.35',\n",
              " '2.375',\n",
              " '2.4',\n",
              " '2.42',\n",
              " '2.44',\n",
              " '2.46',\n",
              " '2.47',\n",
              " '2.5',\n",
              " '2.50',\n",
              " '2.6',\n",
              " '2.62',\n",
              " '2.65',\n",
              " '2.7',\n",
              " '2.75',\n",
              " '2.8',\n",
              " '2.80',\n",
              " '2.87',\n",
              " '2.875',\n",
              " '2.9',\n",
              " '2.95',\n",
              " '20.07',\n",
              " '20.5',\n",
              " '21.1',\n",
              " '21.9',\n",
              " '2141.7',\n",
              " '2160.1',\n",
              " '2163.2',\n",
              " '22.75',\n",
              " '220.45',\n",
              " '221.4',\n",
              " '225.6',\n",
              " '23.25',\n",
              " '23.4',\n",
              " '23.5',\n",
              " '23.72',\n",
              " '234.4',\n",
              " '236.74',\n",
              " '236.79',\n",
              " '24.95',\n",
              " '25.50',\n",
              " '25.6',\n",
              " '251.2',\n",
              " '26.2',\n",
              " '26.5',\n",
              " '26.8',\n",
              " '263.07',\n",
              " '2645.90',\n",
              " '2691.19',\n",
              " '27.1',\n",
              " '27.4',\n",
              " '273.5',\n",
              " '278.7',\n",
              " '28.25',\n",
              " '28.36',\n",
              " '28.4',\n",
              " '28.5',\n",
              " '28.53',\n",
              " '28.6',\n",
              " '29.3',\n",
              " '29.4',\n",
              " '29.9',\n",
              " '292.32',\n",
              " '3.01',\n",
              " '3.04',\n",
              " '3.1',\n",
              " '3.16',\n",
              " '3.18',\n",
              " '3.19',\n",
              " '3.2',\n",
              " '3.20',\n",
              " '3.23',\n",
              " '3.253',\n",
              " '3.28',\n",
              " '3.3',\n",
              " '3.35',\n",
              " '3.375',\n",
              " '3.4',\n",
              " '3.42',\n",
              " '3.43',\n",
              " '3.5',\n",
              " '3.55',\n",
              " '3.6',\n",
              " '3.61',\n",
              " '3.625',\n",
              " '3.7',\n",
              " '3.75',\n",
              " '3.8',\n",
              " '3.80',\n",
              " '3.9',\n",
              " '30.6',\n",
              " '30.9',\n",
              " '319.75',\n",
              " '32.8',\n",
              " '334.5',\n",
              " '34.625',\n",
              " '341.20',\n",
              " '3436.58',\n",
              " '35.2',\n",
              " '35.7',\n",
              " '352.7',\n",
              " '352.9',\n",
              " '35500.64',\n",
              " '35564.43',\n",
              " '36.9',\n",
              " '361.8',\n",
              " '3648.82',\n",
              " '37.3',\n",
              " '37.5',\n",
              " '372.14',\n",
              " '372.9',\n",
              " '374.19',\n",
              " '374.20',\n",
              " '377.60',\n",
              " '38.3',\n",
              " '38.375',\n",
              " '38.5',\n",
              " '38.875',\n",
              " '387.8',\n",
              " '4.1',\n",
              " '4.10',\n",
              " '4.2',\n",
              " '4.25',\n",
              " '4.3',\n",
              " '4.4',\n",
              " '4.5',\n",
              " '4.55',\n",
              " '4.6',\n",
              " '4.7',\n",
              " '4.75',\n",
              " '4.8',\n",
              " '4.875',\n",
              " '4.898',\n",
              " '4.9',\n",
              " '40.21',\n",
              " '41.60',\n",
              " '415.6',\n",
              " '415.8',\n",
              " '42.1',\n",
              " '42.5',\n",
              " '422.5',\n",
              " '43.875',\n",
              " '434.4',\n",
              " '436.01',\n",
              " '446.62',\n",
              " '449.04',\n",
              " '45.2',\n",
              " '45.3',\n",
              " '45.75',\n",
              " '456.64',\n",
              " '46.1',\n",
              " '47.1',\n",
              " '47.125',\n",
              " '47.5',\n",
              " '47.6',\n",
              " '49.9',\n",
              " '494.50',\n",
              " '497.34',\n",
              " '5.1',\n",
              " '5.2180',\n",
              " '5.276',\n",
              " '5.29',\n",
              " '5.3',\n",
              " '5.39',\n",
              " '5.4',\n",
              " '5.435',\n",
              " '5.5',\n",
              " '5.57',\n",
              " '5.6',\n",
              " '5.63',\n",
              " '5.7',\n",
              " '5.70',\n",
              " '5.8',\n",
              " '5.82',\n",
              " '5.9',\n",
              " '5.92',\n",
              " '50.1',\n",
              " '50.38',\n",
              " '50.45',\n",
              " '51.25',\n",
              " '51.6',\n",
              " '55.1',\n",
              " '566.54',\n",
              " '57.50',\n",
              " '57.6',\n",
              " '57.7',\n",
              " '58.64',\n",
              " '59.6',\n",
              " '59.9',\n",
              " '6.03',\n",
              " '6.1',\n",
              " '6.20',\n",
              " '6.21',\n",
              " '6.25',\n",
              " '6.4',\n",
              " '6.40',\n",
              " '6.44',\n",
              " '6.5',\n",
              " '6.50',\n",
              " '6.53',\n",
              " '6.6',\n",
              " '6.7',\n",
              " '6.70',\n",
              " '6.79',\n",
              " '6.84',\n",
              " '6.9',\n",
              " '60.36',\n",
              " '618.1',\n",
              " '62.1',\n",
              " '62.5',\n",
              " '62.625',\n",
              " '63.79',\n",
              " '630.9',\n",
              " '64.5',\n",
              " '66.5',\n",
              " '7.15',\n",
              " '7.2',\n",
              " '7.20',\n",
              " '7.272',\n",
              " '7.3',\n",
              " '7.4',\n",
              " '7.40',\n",
              " '7.422',\n",
              " '7.45',\n",
              " '7.458',\n",
              " '7.5',\n",
              " '7.50',\n",
              " '7.52',\n",
              " '7.55',\n",
              " '7.60',\n",
              " '7.62',\n",
              " '7.63',\n",
              " '7.65',\n",
              " '7.74',\n",
              " '7.78',\n",
              " '7.79',\n",
              " '7.8',\n",
              " '7.80',\n",
              " '7.84',\n",
              " '7.88',\n",
              " '7.90',\n",
              " '7.95',\n",
              " '70.2',\n",
              " '70.7',\n",
              " '705.6',\n",
              " '72.7',\n",
              " '734.9',\n",
              " '737.5',\n",
              " '77.56',\n",
              " '77.6',\n",
              " '77.70',\n",
              " '8.04',\n",
              " '8.06',\n",
              " '8.07',\n",
              " '8.1',\n",
              " '8.12',\n",
              " '8.14',\n",
              " '8.15',\n",
              " '8.19',\n",
              " '8.2',\n",
              " '8.22',\n",
              " '8.25',\n",
              " '8.30',\n",
              " '8.35',\n",
              " '8.45',\n",
              " '8.467',\n",
              " '8.47',\n",
              " '8.48',\n",
              " '8.5',\n",
              " '8.50',\n",
              " '8.53',\n",
              " '8.55',\n",
              " '8.56',\n",
              " '8.575',\n",
              " '8.60',\n",
              " '8.64',\n",
              " '8.65',\n",
              " '8.70',\n",
              " '8.75',\n",
              " '8.9',\n",
              " '80.50',\n",
              " '80.8',\n",
              " '81.8',\n",
              " '811.9',\n",
              " '83.4',\n",
              " '84.29',\n",
              " '84.9',\n",
              " '85.1',\n",
              " '85.7',\n",
              " '86.12',\n",
              " '87.5',\n",
              " '88.32',\n",
              " '89.7',\n",
              " '89.9',\n",
              " '9.3',\n",
              " '9.32',\n",
              " '9.37',\n",
              " '9.45',\n",
              " '9.5',\n",
              " '9.625',\n",
              " '9.75',\n",
              " '9.8',\n",
              " '9.82',\n",
              " '9.9',\n",
              " '92.9',\n",
              " '93.3',\n",
              " '93.9',\n",
              " '94.2',\n",
              " '94.8',\n",
              " '95.09',\n",
              " '96.4',\n",
              " '98.3',\n",
              " '99.1',\n",
              " '99.3']"
            ]
          },
          "metadata": {},
          "execution_count": 169
        }
      ]
    },
    {
      "cell_type": "code",
      "source": [
        "[w for w in wsj if re.search('^[A-Z]+\\$$',w)]"
      ],
      "metadata": {
        "colab": {
          "base_uri": "https://localhost:8080/"
        },
        "id": "Xms9M5E2Shy6",
        "outputId": "d2bb5ca7-929e-456f-e560-79d60ced0910"
      },
      "execution_count": null,
      "outputs": [
        {
          "output_type": "execute_result",
          "data": {
            "text/plain": [
              "['C$', 'US$']"
            ]
          },
          "metadata": {},
          "execution_count": 170
        }
      ]
    },
    {
      "cell_type": "code",
      "source": [
        "[w for w in wsj if re.search('^[0-9]{4}$',w)]"
      ],
      "metadata": {
        "colab": {
          "base_uri": "https://localhost:8080/"
        },
        "id": "XJZRrr53StKz",
        "outputId": "8827abea-620e-4d22-a1d7-35706c0c4b90"
      },
      "execution_count": null,
      "outputs": [
        {
          "output_type": "execute_result",
          "data": {
            "text/plain": [
              "['1614',\n",
              " '1637',\n",
              " '1787',\n",
              " '1901',\n",
              " '1903',\n",
              " '1917',\n",
              " '1925',\n",
              " '1929',\n",
              " '1933',\n",
              " '1934',\n",
              " '1948',\n",
              " '1953',\n",
              " '1955',\n",
              " '1956',\n",
              " '1961',\n",
              " '1965',\n",
              " '1966',\n",
              " '1967',\n",
              " '1968',\n",
              " '1969',\n",
              " '1970',\n",
              " '1971',\n",
              " '1972',\n",
              " '1973',\n",
              " '1975',\n",
              " '1976',\n",
              " '1977',\n",
              " '1979',\n",
              " '1980',\n",
              " '1981',\n",
              " '1982',\n",
              " '1983',\n",
              " '1984',\n",
              " '1985',\n",
              " '1986',\n",
              " '1987',\n",
              " '1988',\n",
              " '1989',\n",
              " '1990',\n",
              " '1991',\n",
              " '1992',\n",
              " '1993',\n",
              " '1994',\n",
              " '1995',\n",
              " '1996',\n",
              " '1997',\n",
              " '1998',\n",
              " '1999',\n",
              " '2000',\n",
              " '2005',\n",
              " '2009',\n",
              " '2017',\n",
              " '2019',\n",
              " '2029',\n",
              " '3057',\n",
              " '8300']"
            ]
          },
          "metadata": {},
          "execution_count": 172
        }
      ]
    },
    {
      "cell_type": "code",
      "source": [
        "[w for w in wsj if re.search('^[0-9]+-[a-z]{3,5}$',w)]"
      ],
      "metadata": {
        "colab": {
          "base_uri": "https://localhost:8080/"
        },
        "id": "o4NAuV8SS2As",
        "outputId": "bb066ce6-7967-4207-9c44-6bc60ca7fbff"
      },
      "execution_count": null,
      "outputs": [
        {
          "output_type": "execute_result",
          "data": {
            "text/plain": [
              "['10-day',\n",
              " '10-lap',\n",
              " '10-year',\n",
              " '100-share',\n",
              " '12-point',\n",
              " '12-year',\n",
              " '14-hour',\n",
              " '15-day',\n",
              " '150-point',\n",
              " '190-point',\n",
              " '20-point',\n",
              " '20-stock',\n",
              " '21-month',\n",
              " '237-seat',\n",
              " '240-page',\n",
              " '27-year',\n",
              " '30-day',\n",
              " '30-point',\n",
              " '30-share',\n",
              " '30-year',\n",
              " '300-day',\n",
              " '36-day',\n",
              " '36-store',\n",
              " '42-year',\n",
              " '50-state',\n",
              " '500-stock',\n",
              " '52-week',\n",
              " '69-point',\n",
              " '84-month',\n",
              " '87-store',\n",
              " '90-day']"
            ]
          },
          "metadata": {},
          "execution_count": 174
        }
      ]
    },
    {
      "cell_type": "code",
      "source": [
        "[w for w in wsj if re.search('^[a-z]{5,}-[a-z]{2,3}-[a-z]{,6}$',w)]"
      ],
      "metadata": {
        "colab": {
          "base_uri": "https://localhost:8080/"
        },
        "id": "j1guh_t3TAkg",
        "outputId": "116a01dd-1118-484b-f4e5-3c154d522f13"
      },
      "execution_count": null,
      "outputs": [
        {
          "output_type": "execute_result",
          "data": {
            "text/plain": [
              "['black-and-white',\n",
              " 'bread-and-butter',\n",
              " 'father-in-law',\n",
              " 'machine-gun-toting',\n",
              " 'savings-and-loan']"
            ]
          },
          "metadata": {},
          "execution_count": 176
        }
      ]
    },
    {
      "cell_type": "code",
      "source": [
        "[w for w in wsj if re.search('(ed|ing)$',w)]"
      ],
      "metadata": {
        "colab": {
          "base_uri": "https://localhost:8080/"
        },
        "id": "rpZ9sN7fTNo8",
        "outputId": "d48c5f57-cf0c-4600-a419-f8b1ce2c088c"
      },
      "execution_count": null,
      "outputs": [
        {
          "output_type": "execute_result",
          "data": {
            "text/plain": [
              "['62%-owned',\n",
              " 'Absorbed',\n",
              " 'According',\n",
              " 'Adopting',\n",
              " 'Advanced',\n",
              " 'Advancing',\n",
              " 'Alfred',\n",
              " 'Allied',\n",
              " 'Annualized',\n",
              " 'Anything',\n",
              " 'Arbitrage-related',\n",
              " 'Arbitraging',\n",
              " 'Asked',\n",
              " 'Assuming',\n",
              " 'Atlanta-based',\n",
              " 'Baking',\n",
              " 'Banking',\n",
              " 'Beginning',\n",
              " 'Beijing',\n",
              " 'Being',\n",
              " 'Bermuda-based',\n",
              " 'Betting',\n",
              " 'Boeing',\n",
              " 'Broadcasting',\n",
              " 'Bucking',\n",
              " 'Buying',\n",
              " 'Calif.-based',\n",
              " 'Change-ringing',\n",
              " 'Citing',\n",
              " 'Concerned',\n",
              " 'Confronted',\n",
              " 'Conn.based',\n",
              " 'Consolidated',\n",
              " 'Continued',\n",
              " 'Continuing',\n",
              " 'Declining',\n",
              " 'Defending',\n",
              " 'Depending',\n",
              " 'Designated',\n",
              " 'Determining',\n",
              " 'Developed',\n",
              " 'Died',\n",
              " 'During',\n",
              " 'Encouraged',\n",
              " 'Encouraging',\n",
              " 'English-speaking',\n",
              " 'Estimated',\n",
              " 'Everything',\n",
              " 'Excluding',\n",
              " 'Exxon-owned',\n",
              " 'Faulding',\n",
              " 'Fed',\n",
              " 'Feeding',\n",
              " 'Filling',\n",
              " 'Filmed',\n",
              " 'Financing',\n",
              " 'Following',\n",
              " 'Founded',\n",
              " 'Fracturing',\n",
              " 'Francisco-based',\n",
              " 'Fred',\n",
              " 'Funded',\n",
              " 'Funding',\n",
              " 'Generalized',\n",
              " 'Germany-based',\n",
              " 'Getting',\n",
              " 'Guaranteed',\n",
              " 'Having',\n",
              " 'Heating',\n",
              " 'Heightened',\n",
              " 'Holding',\n",
              " 'Housing',\n",
              " 'Illuminating',\n",
              " 'Indeed',\n",
              " 'Indexing',\n",
              " 'Irving',\n",
              " 'Jersey-based',\n",
              " 'Judging',\n",
              " 'Knowing',\n",
              " 'Learning',\n",
              " 'Legislating',\n",
              " 'Leming',\n",
              " 'Limited',\n",
              " 'London-based',\n",
              " 'Manfred',\n",
              " 'Manufacturing',\n",
              " 'Melamed',\n",
              " 'Miami-based',\n",
              " 'Mich.-based',\n",
              " 'Mining',\n",
              " 'Minneapolis-based',\n",
              " 'Mo.-based',\n",
              " 'Mortgage-Backed',\n",
              " 'Moving',\n",
              " 'Muzzling',\n",
              " 'N.J.-based',\n",
              " 'NBC-owned',\n",
              " 'NIH-appointed',\n",
              " 'Named',\n",
              " 'No-Smoking',\n",
              " 'Observing',\n",
              " 'Offering',\n",
              " 'Ohio-based',\n",
              " 'Orleans-based',\n",
              " 'Packaging',\n",
              " 'Performing',\n",
              " 'Philadelphia-based',\n",
              " 'Posted',\n",
              " 'Provided',\n",
              " 'Publishing',\n",
              " 'Purchasing',\n",
              " 'Rated',\n",
              " 'Reached',\n",
              " 'Red',\n",
              " 'Red-blooded',\n",
              " 'Reducing',\n",
              " 'Reed',\n",
              " 'Regarded',\n",
              " 'Rekindled',\n",
              " 'Related',\n",
              " 'Ringing',\n",
              " 'Rolling',\n",
              " 'Sacramento-based',\n",
              " 'Scoring',\n",
              " 'Seattle-based',\n",
              " 'Seed',\n",
              " 'Skilled',\n",
              " 'Smelting',\n",
              " 'Something',\n",
              " 'Spending',\n",
              " 'Standardized',\n",
              " 'Standing',\n",
              " 'Starting',\n",
              " 'Sterling',\n",
              " 'Taking',\n",
              " 'Texas-based',\n",
              " 'Toronto-based',\n",
              " 'Traded',\n",
              " 'Trading',\n",
              " 'Troubled',\n",
              " 'U.N.-supervised',\n",
              " 'U.S.-backed',\n",
              " 'United',\n",
              " 'Used',\n",
              " 'Varying',\n",
              " 'Washington-based',\n",
              " 'Whiting',\n",
              " 'Wilfred',\n",
              " 'Winning',\n",
              " 'Xiaoping',\n",
              " 'York-based',\n",
              " 'Zayed',\n",
              " 'abandoned',\n",
              " 'abating',\n",
              " 'abolishing',\n",
              " 'abortion-related',\n",
              " 'abounding',\n",
              " 'abridging',\n",
              " 'absorbed',\n",
              " 'acceded',\n",
              " 'accelerated',\n",
              " 'accepted',\n",
              " 'accepting',\n",
              " 'according',\n",
              " 'accounted',\n",
              " 'accounting',\n",
              " 'accrued',\n",
              " 'accumulated',\n",
              " 'accused',\n",
              " 'accusing',\n",
              " 'achieved',\n",
              " 'achieving',\n",
              " 'acknowledging',\n",
              " 'acquired',\n",
              " 'acquiring',\n",
              " 'acquisition-minded',\n",
              " 'acted',\n",
              " 'acting',\n",
              " 'adapted',\n",
              " 'adapting',\n",
              " 'added',\n",
              " 'adding',\n",
              " 'addressing',\n",
              " 'adjusted',\n",
              " 'adjusting',\n",
              " 'admitted',\n",
              " 'admitting',\n",
              " 'adopted',\n",
              " 'advanced',\n",
              " 'advancing',\n",
              " 'advertised',\n",
              " 'advertising',\n",
              " 'advised',\n",
              " 'advocated',\n",
              " 'advocating',\n",
              " 'affecting',\n",
              " 'afflicted',\n",
              " 'aggravated',\n",
              " 'agreed',\n",
              " 'agreeing',\n",
              " 'ailing',\n",
              " 'aimed',\n",
              " 'aiming',\n",
              " 'aired',\n",
              " 'airline-related',\n",
              " 'alarmed',\n",
              " 'alienated',\n",
              " 'alleged',\n",
              " 'alleging',\n",
              " 'allocated',\n",
              " 'allowed',\n",
              " 'altered',\n",
              " 'altering',\n",
              " 'amended',\n",
              " 'amending',\n",
              " 'amounted',\n",
              " 'amusing',\n",
              " 'angered',\n",
              " 'announced',\n",
              " 'annoyed',\n",
              " 'annualized',\n",
              " 'answered',\n",
              " 'anti-dumping',\n",
              " 'anticipated',\n",
              " 'anticipating',\n",
              " 'anything',\n",
              " 'apologizing',\n",
              " 'appealing',\n",
              " 'appeared',\n",
              " 'appearing',\n",
              " 'applied',\n",
              " 'appointed',\n",
              " 'approached',\n",
              " 'appropriated',\n",
              " 'approved',\n",
              " 'arched',\n",
              " 'argued',\n",
              " 'arguing',\n",
              " 'arising',\n",
              " 'armed',\n",
              " 'arranged',\n",
              " 'arrested',\n",
              " 'arrived',\n",
              " 'asbestos-related',\n",
              " 'asked',\n",
              " 'asking',\n",
              " 'assassinated',\n",
              " 'assembled',\n",
              " 'asserted',\n",
              " 'asserting',\n",
              " 'assessed',\n",
              " 'assigned',\n",
              " 'assisted',\n",
              " 'associated',\n",
              " 'assumed',\n",
              " 'assuming',\n",
              " 'assured',\n",
              " 'attached',\n",
              " 'attacking',\n",
              " 'attempted',\n",
              " 'attempting',\n",
              " 'attended',\n",
              " 'attending',\n",
              " 'attracted',\n",
              " 'attracting',\n",
              " 'attributed',\n",
              " 'auctioned',\n",
              " 'authorized',\n",
              " 'authorizing',\n",
              " 'automated',\n",
              " 'automotive-lighting',\n",
              " 'averaged',\n",
              " 'averted',\n",
              " 'avoiding',\n",
              " 'awarded',\n",
              " 'awarding',\n",
              " 'backed',\n",
              " 'backing',\n",
              " 'balanced',\n",
              " 'bald-faced',\n",
              " 'balkanized',\n",
              " 'balked',\n",
              " 'balloting',\n",
              " 'bank-backed',\n",
              " 'banking',\n",
              " 'banned',\n",
              " 'banning',\n",
              " 'barking',\n",
              " 'barred',\n",
              " 'based',\n",
              " 'battered',\n",
              " 'battery-operated',\n",
              " 'batting',\n",
              " 'bearing',\n",
              " 'becoming',\n",
              " 'bedding',\n",
              " 'befuddled',\n",
              " 'beginning',\n",
              " 'behaving',\n",
              " 'beheading',\n",
              " 'being',\n",
              " 'beleaguered',\n",
              " 'believed',\n",
              " 'bell-ringing',\n",
              " 'belonging',\n",
              " 'benefited',\n",
              " 'best-selling',\n",
              " 'betting',\n",
              " 'bickering',\n",
              " 'bidding',\n",
              " 'billed',\n",
              " 'billing',\n",
              " 'blamed',\n",
              " 'bled',\n",
              " 'blessing',\n",
              " 'blighted',\n",
              " 'blocked',\n",
              " 'blurred',\n",
              " 'boarding',\n",
              " 'bolstered',\n",
              " 'bombarding',\n",
              " 'booked',\n",
              " 'booming',\n",
              " 'boosted',\n",
              " 'boosting',\n",
              " 'borrowed',\n",
              " 'borrowing',\n",
              " 'botched',\n",
              " 'bothered',\n",
              " 'bounced',\n",
              " 'bowed',\n",
              " 'breaking',\n",
              " 'breathed',\n",
              " 'breathtaking',\n",
              " 'breed',\n",
              " 'bribed',\n",
              " 'bribing',\n",
              " 'briefing',\n",
              " 'brightened',\n",
              " 'bring',\n",
              " 'bringing',\n",
              " 'broad-based',\n",
              " 'broadcasting',\n",
              " 'broadened',\n",
              " 'brokering',\n",
              " 'brushed',\n",
              " 'budding',\n",
              " 'building',\n",
              " 'bundling',\n",
              " 'buoyed',\n",
              " 'burned',\n",
              " 'buying',\n",
              " 'calculated',\n",
              " 'called',\n",
              " 'calling',\n",
              " 'campaigning',\n",
              " 'cancer-causing',\n",
              " 'capitalized',\n",
              " 'capped',\n",
              " 'captivating',\n",
              " 'cared',\n",
              " 'carried',\n",
              " 'carrying',\n",
              " 'cascading',\n",
              " 'casting',\n",
              " 'caused',\n",
              " 'causing',\n",
              " 'cautioned',\n",
              " 'ceiling',\n",
              " 'centralized',\n",
              " 'certified',\n",
              " 'chaired',\n",
              " 'challenging',\n",
              " 'championing',\n",
              " 'change-ringing',\n",
              " 'changed',\n",
              " 'changing',\n",
              " 'characterized',\n",
              " 'characterizing',\n",
              " 'charged',\n",
              " 'charging',\n",
              " 'chastised',\n",
              " 'cheating',\n",
              " 'checking',\n",
              " 'cheerleading',\n",
              " 'chilled',\n",
              " 'choosing',\n",
              " 'chopped',\n",
              " 'circulated',\n",
              " 'cited',\n",
              " 'citing',\n",
              " 'citizen-sparked',\n",
              " 'city-owned',\n",
              " 'claimed',\n",
              " 'claiming',\n",
              " 'clamped',\n",
              " 'clarified',\n",
              " 'clashed',\n",
              " 'classed',\n",
              " 'classified',\n",
              " 'cleaned',\n",
              " 'cleaner-burning',\n",
              " 'cleared',\n",
              " 'clearing',\n",
              " 'clicked',\n",
              " 'climbed',\n",
              " 'climbing',\n",
              " 'clipped',\n",
              " 'clobbered',\n",
              " 'closed',\n",
              " 'closing',\n",
              " 'clothing',\n",
              " 'clouding',\n",
              " 'cluttered',\n",
              " 'co-founded',\n",
              " 'coaching',\n",
              " 'coal-fired',\n",
              " 'coated',\n",
              " 'codified',\n",
              " 'collaborated',\n",
              " 'collapsed',\n",
              " 'collected',\n",
              " 'collecting',\n",
              " 'collective-bargaining',\n",
              " 'colored',\n",
              " 'combined',\n",
              " 'coming',\n",
              " 'commanded',\n",
              " 'commenting',\n",
              " 'committed',\n",
              " 'committing',\n",
              " 'compared',\n",
              " 'compelling',\n",
              " 'competed',\n",
              " 'competing',\n",
              " 'compiled',\n",
              " 'complained',\n",
              " 'complaining',\n",
              " 'completed',\n",
              " 'completing',\n",
              " 'complicated',\n",
              " 'composed',\n",
              " 'composting',\n",
              " 'compressed',\n",
              " 'computer-aided',\n",
              " 'computer-assisted',\n",
              " 'computer-generated',\n",
              " 'computerized',\n",
              " 'computing',\n",
              " 'conceding',\n",
              " 'concentrated',\n",
              " 'concentrating',\n",
              " 'concerned',\n",
              " 'concluded',\n",
              " 'condemned',\n",
              " 'condemning',\n",
              " 'conducted',\n",
              " 'conducting',\n",
              " 'confined',\n",
              " 'confirmed',\n",
              " 'confused',\n",
              " 'connected',\n",
              " 'consented',\n",
              " 'considered',\n",
              " 'considering',\n",
              " 'consisting',\n",
              " 'construed',\n",
              " 'consulting',\n",
              " 'contacted',\n",
              " 'contained',\n",
              " 'containing',\n",
              " 'contesting',\n",
              " 'continued',\n",
              " 'continuing',\n",
              " 'contracted',\n",
              " 'contributed',\n",
              " 'contributing',\n",
              " 'controlled',\n",
              " 'controlling',\n",
              " 'converted',\n",
              " 'converting',\n",
              " 'convicted',\n",
              " 'convinced',\n",
              " 'cooled',\n",
              " 'cooperating',\n",
              " 'copied',\n",
              " 'copying',\n",
              " 'corn-buying',\n",
              " 'corrected',\n",
              " 'correcting',\n",
              " 'cost-cutting',\n",
              " 'cost-sharing',\n",
              " 'counseling',\n",
              " 'counting',\n",
              " 'coupled',\n",
              " 'court-ordered',\n",
              " 'covered',\n",
              " 'covering',\n",
              " 'cranked',\n",
              " 'crashing',\n",
              " 'created',\n",
              " 'creating',\n",
              " 'credit-rating',\n",
              " 'crippled',\n",
              " 'criticized',\n",
              " 'crossed',\n",
              " 'crossing',\n",
              " 'crowded',\n",
              " 'cruising',\n",
              " 'crushed',\n",
              " 'crying',\n",
              " 'cultivated',\n",
              " 'curbed',\n",
              " 'curbing',\n",
              " 'curled',\n",
              " 'current-carrying',\n",
              " 'curtailed',\n",
              " 'cushioned',\n",
              " 'customized',\n",
              " 'cutting',\n",
              " 'damaged',\n",
              " 'damaging',\n",
              " 'dancing',\n",
              " 'darned',\n",
              " 'dashed',\n",
              " 'dating',\n",
              " 'dead-eyed',\n",
              " 'dealing',\n",
              " 'decided',\n",
              " 'declared',\n",
              " 'declaring',\n",
              " 'declined',\n",
              " 'declining',\n",
              " 'decorated',\n",
              " 'decried',\n",
              " 'deducting',\n",
              " 'deemed',\n",
              " 'defeated',\n",
              " 'defended',\n",
              " 'defined',\n",
              " 'defying',\n",
              " 'delayed',\n",
              " 'deliberating',\n",
              " 'delisted',\n",
              " 'delivered',\n",
              " 'delivering',\n",
              " 'demanding',\n",
              " 'demonstrating',\n",
              " 'denied',\n",
              " 'denouncing',\n",
              " 'denying',\n",
              " 'depended',\n",
              " 'depending',\n",
              " 'depleted',\n",
              " 'depressed',\n",
              " 'deprived',\n",
              " 'derived',\n",
              " 'descending',\n",
              " 'described',\n",
              " 'deserving',\n",
              " 'designated',\n",
              " 'designed',\n",
              " 'designing',\n",
              " 'desired',\n",
              " 'despised',\n",
              " 'detailed',\n",
              " 'deteriorated',\n",
              " 'deteriorating',\n",
              " 'determined',\n",
              " 'deterring',\n",
              " 'devastating',\n",
              " 'developed',\n",
              " 'developing',\n",
              " 'devised',\n",
              " 'devoted',\n",
              " 'devouring',\n",
              " 'diagnosed',\n",
              " 'died',\n",
              " 'diluted',\n",
              " 'diming',\n",
              " 'diminished',\n",
              " 'directed',\n",
              " 'directing',\n",
              " 'disaffected',\n",
              " 'disagreed',\n",
              " 'disappointed',\n",
              " 'disappointing',\n",
              " 'disapproved',\n",
              " 'discarded',\n",
              " 'disciplined',\n",
              " 'disclosed',\n",
              " 'disclosing',\n",
              " 'discontinued',\n",
              " 'discontinuing',\n",
              " 'discouraging',\n",
              " 'discovered',\n",
              " 'discussed',\n",
              " 'discussing',\n",
              " 'disembodied',\n",
              " 'dismayed',\n",
              " 'dismissed',\n",
              " 'disposed',\n",
              " 'disputed',\n",
              " 'disseminating',\n",
              " 'distinguished',\n",
              " 'distorted',\n",
              " 'distributed',\n",
              " 'disturbing',\n",
              " 'diversified',\n",
              " 'diversifying',\n",
              " 'divided',\n",
              " 'dividing',\n",
              " 'documented',\n",
              " 'doing',\n",
              " 'doling',\n",
              " 'dollar-denominated',\n",
              " 'dominated',\n",
              " 'dominating',\n",
              " 'doubled',\n",
              " 'doubted',\n",
              " 'downgraded',\n",
              " 'downgrading',\n",
              " 'drafted',\n",
              " 'drawing',\n",
              " 'dreamed',\n",
              " 'dressed',\n",
              " 'drifted',\n",
              " 'drinking',\n",
              " 'driving',\n",
              " 'drooled',\n",
              " 'dropped',\n",
              " 'dubbed',\n",
              " 'duckling',\n",
              " 'dumbfounded',\n",
              " 'dumped',\n",
              " 'during',\n",
              " 'dwindling',\n",
              " 'earned',\n",
              " 'earning',\n",
              " 'eased',\n",
              " 'easing',\n",
              " 'eating',\n",
              " 'echoed',\n",
              " 'edged',\n",
              " 'editing',\n",
              " 'educated',\n",
              " 'elected',\n",
              " 'eliminated',\n",
              " 'eliminating',\n",
              " 'embarrassing',\n",
              " 'embroiled',\n",
              " 'emerged',\n",
              " 'emerging',\n",
              " 'emphasized',\n",
              " 'employed',\n",
              " 'empowered',\n",
              " 'enabled',\n",
              " 'enabling',\n",
              " 'enacted',\n",
              " 'encircling',\n",
              " 'enclosed',\n",
              " 'encouraging',\n",
              " 'encroaching',\n",
              " 'ended',\n",
              " 'ending',\n",
              " 'endorsed',\n",
              " 'engaged',\n",
              " 'engaging',\n",
              " 'engineered',\n",
              " 'engineering',\n",
              " 'enhanced',\n",
              " 'enjoyed',\n",
              " 'enjoying',\n",
              " 'enlarged',\n",
              " 'enraged',\n",
              " 'ensnarled',\n",
              " 'entangled',\n",
              " 'entered',\n",
              " 'entering',\n",
              " 'entertaining',\n",
              " 'enticed',\n",
              " 'entitled',\n",
              " 'entrenched',\n",
              " 'entrusted',\n",
              " 'equaling',\n",
              " 'equipped',\n",
              " 'escalated',\n",
              " 'escaped',\n",
              " 'established',\n",
              " 'establishing',\n",
              " 'estimated',\n",
              " 'evaluated',\n",
              " 'evaluating',\n",
              " 'evaporated',\n",
              " 'evening',\n",
              " 'everything',\n",
              " 'evoking',\n",
              " 'evolved',\n",
              " 'exacerbated',\n",
              " 'examined',\n",
              " 'exceed',\n",
              " 'exceeded',\n",
              " 'exceeding',\n",
              " 'exchanging',\n",
              " 'excited',\n",
              " 'exciting',\n",
              " 'executed',\n",
              " 'executing',\n",
              " 'exercised',\n",
              " 'exerting',\n",
              " 'exhausted',\n",
              " 'exhibited',\n",
              " 'existed',\n",
              " 'existing',\n",
              " 'expanded',\n",
              " 'expanding',\n",
              " 'expected',\n",
              " 'expecting',\n",
              " 'expedited',\n",
              " 'expelled',\n",
              " 'experienced',\n",
              " 'experiencing',\n",
              " 'expired',\n",
              " 'explained',\n",
              " 'explaining',\n",
              " 'exploded',\n",
              " 'export-oriented',\n",
              " 'exposed',\n",
              " 'expressed',\n",
              " 'expressing',\n",
              " 'expunged',\n",
              " 'extended',\n",
              " 'extending',\n",
              " 'exuded',\n",
              " 'eyeing',\n",
              " 'fabled',\n",
              " 'faced',\n",
              " 'facing',\n",
              " 'factoring',\n",
              " 'faded',\n",
              " 'failed',\n",
              " 'failing',\n",
              " 'fainting',\n",
              " 'falling',\n",
              " 'faltered',\n",
              " 'famed',\n",
              " 'family-planning',\n",
              " 'fared',\n",
              " 'fashioned',\n",
              " 'fast-growing',\n",
              " 'fastest-growing',\n",
              " 'fattened',\n",
              " 'favored',\n",
              " 'fawning',\n",
              " 'feared',\n",
              " 'featured',\n",
              " 'featuring',\n",
              " 'fed',\n",
              " 'feed',\n",
              " 'feeling',\n",
              " 'fetching',\n",
              " 'fielded',\n",
              " 'fighting',\n",
              " 'filed',\n",
              " 'filing',\n",
              " 'filled',\n",
              " 'filling',\n",
              " 'finalized',\n",
              " 'financed',\n",
              " 'financing',\n",
              " 'finding',\n",
              " 'fined',\n",
              " 'finished',\n",
              " 'fired',\n",
              " 'firmed',\n",
              " 'fixed',\n",
              " 'fizzled',\n",
              " 'fled',\n",
              " 'fledgling',\n",
              " 'fleeting',\n",
              " 'flirted',\n",
              " 'floated',\n",
              " 'flooded',\n",
              " 'focused',\n",
              " 'focusing',\n",
              " 'folded',\n",
              " 'followed',\n",
              " 'following',\n",
              " 'forced',\n",
              " 'forcing',\n",
              " 'forecasting',\n",
              " 'foreign-led',\n",
              " 'formed',\n",
              " 'forthcoming',\n",
              " 'founded',\n",
              " 'foundering',\n",
              " 'fretted',\n",
              " 'frightened',\n",
              " 'frustrating',\n",
              " 'fueled',\n",
              " 'fueling',\n",
              " 'full-fledged',\n",
              " 'fuming',\n",
              " 'functioning',\n",
              " 'funded',\n",
              " 'funding',\n",
              " 'fundraising',\n",
              " 'futures-related',\n",
              " 'gained',\n",
              " 'gaining',\n",
              " 'galling',\n",
              " 'galvanized',\n",
              " 'gambling',\n",
              " 'gauging',\n",
              " 'generated',\n",
              " 'getting',\n",
              " 'giving',\n",
              " 'going',\n",
              " 'good-hearted',\n",
              " 'good-natured',\n",
              " 'gored',\n",
              " 'government-certified',\n",
              " 'government-funded',\n",
              " 'government-owned',\n",
              " 'graduated',\n",
              " 'granted',\n",
              " 'granting',\n",
              " 'greed',\n",
              " 'gripping',\n",
              " 'growing',\n",
              " 'guaranteed',\n",
              " 'guarding',\n",
              " 'guided',\n",
              " 'gut-wrenching',\n",
              " 'hailed',\n",
              " 'hailing',\n",
              " 'halted',\n",
              " 'hampered',\n",
              " 'handed',\n",
              " 'handled',\n",
              " 'handling',\n",
              " 'happened',\n",
              " 'happening',\n",
              " 'hard-charging',\n",
              " 'hard-drinking',\n",
              " 'hard-hitting',\n",
              " 'harmed',\n",
              " 'harped',\n",
              " 'harvested',\n",
              " 'hauled',\n",
              " 'hauling',\n",
              " 'having',\n",
              " 'headed',\n",
              " 'heading',\n",
              " 'headlined',\n",
              " 'healing',\n",
              " 'hearing',\n",
              " 'heated',\n",
              " 'heating',\n",
              " 'hedging',\n",
              " 'heightened',\n",
              " 'helped',\n",
              " 'helping',\n",
              " 'high-flying',\n",
              " 'high-minded',\n",
              " 'high-polluting',\n",
              " 'high-priced',\n",
              " 'high-rolling',\n",
              " 'high-speed',\n",
              " 'higher-salaried',\n",
              " 'highest-pitched',\n",
              " 'hired',\n",
              " 'hitting',\n",
              " 'holding',\n",
              " 'hoped',\n",
              " 'hosted',\n",
              " 'housing',\n",
              " 'hugging',\n",
              " 'hundred',\n",
              " 'hunted',\n",
              " 'hurting',\n",
              " 'identified',\n",
              " 'ignored',\n",
              " 'ignoring',\n",
              " 'impaired',\n",
              " 'impeding',\n",
              " 'impending',\n",
              " 'implemented',\n",
              " 'implied',\n",
              " 'imported',\n",
              " 'imposed',\n",
              " 'imposing',\n",
              " 'impressed',\n",
              " 'improved',\n",
              " 'improving',\n",
              " 'incentive-backed',\n",
              " 'inched',\n",
              " 'inching',\n",
              " 'included',\n",
              " 'including',\n",
              " 'incorporated',\n",
              " 'increased',\n",
              " 'increasing',\n",
              " 'incurred',\n",
              " 'indeed',\n",
              " 'index-related',\n",
              " 'indicated',\n",
              " 'indicating',\n",
              " 'indulging',\n",
              " 'industrialized',\n",
              " 'industry-supported',\n",
              " 'inflated',\n",
              " 'influenced',\n",
              " 'influencing',\n",
              " 'infringed',\n",
              " 'inherited',\n",
              " 'initialing',\n",
              " 'initiated',\n",
              " 'initiating',\n",
              " 'injecting',\n",
              " 'injuring',\n",
              " 'inkling',\n",
              " 'inquiring',\n",
              " 'inserted',\n",
              " 'insider-trading',\n",
              " 'insinuating',\n",
              " 'insisted',\n",
              " 'inspired',\n",
              " 'installed',\n",
              " 'installing',\n",
              " 'instituted',\n",
              " 'instructed',\n",
              " 'insured',\n",
              " 'integrated',\n",
              " 'intended',\n",
              " 'intentioned',\n",
              " 'interest-bearing',\n",
              " 'interested',\n",
              " 'interesting',\n",
              " 'interrogated',\n",
              " 'interviewed',\n",
              " 'intriguing',\n",
              " 'introduced',\n",
              " 'introducing',\n",
              " 'invented',\n",
              " 'inverted',\n",
              " 'invested',\n",
              " 'investigating',\n",
              " 'investing',\n",
              " 'inviting',\n",
              " 'involved',\n",
              " 'involving',\n",
              " 'issued',\n",
              " 'issuing',\n",
              " 'jeopardizing',\n",
              " 'joined',\n",
              " 'joining',\n",
              " 'judged',\n",
              " 'jumped',\n",
              " 'jumping',\n",
              " 'justified',\n",
              " 'justifying',\n",
              " 'keeping',\n",
              " 'kicked',\n",
              " 'kidnapping',\n",
              " 'killed',\n",
              " 'killing',\n",
              " 'knitted',\n",
              " 'knocked',\n",
              " 'labeled',\n",
              " 'labeling',\n",
              " 'labor-backed',\n",
              " 'lacked',\n",
              " 'lagging',\n",
              " 'land-idling',\n",
              " 'landing',\n",
              " 'lasted',\n",
              " 'lasting',\n",
              " 'lauded',\n",
              " 'laughing',\n",
              " 'launched',\n",
              " 'lawmaking',\n",
              " 'laying',\n",
              " 'leading',\n",
              " 'learned',\n",
              " 'learning',\n",
              " 'leasing',\n",
              " 'leaving',\n",
              " 'led',\n",
              " 'lending',\n",
              " 'lengthened',\n",
              " 'lessening',\n",
              " 'letter-writing',\n",
              " 'letting',\n",
              " 'leveling',\n",
              " 'leveraged',\n",
              " 'leveraging',\n",
              " 'licensed',\n",
              " 'licensing',\n",
              " 'lifted',\n",
              " ...]"
            ]
          },
          "metadata": {},
          "execution_count": 178
        }
      ]
    },
    {
      "cell_type": "code",
      "source": [
        "# Extracting Word Pieces\n",
        "\n",
        "import re\n",
        "word = 'supercalitragilisticexpialidocious'\n",
        "re.findall(r'[aeiou]',word)"
      ],
      "metadata": {
        "colab": {
          "base_uri": "https://localhost:8080/"
        },
        "id": "SeDuZM00TWp1",
        "outputId": "1946bf42-57ec-4b02-bb55-71a8c345c4f0"
      },
      "execution_count": null,
      "outputs": [
        {
          "output_type": "execute_result",
          "data": {
            "text/plain": [
              "['u',\n",
              " 'e',\n",
              " 'a',\n",
              " 'i',\n",
              " 'a',\n",
              " 'i',\n",
              " 'i',\n",
              " 'i',\n",
              " 'e',\n",
              " 'i',\n",
              " 'a',\n",
              " 'i',\n",
              " 'o',\n",
              " 'i',\n",
              " 'o',\n",
              " 'u']"
            ]
          },
          "metadata": {},
          "execution_count": 180
        }
      ]
    },
    {
      "cell_type": "code",
      "source": [
        "print('aaa \\n bbb')"
      ],
      "metadata": {
        "colab": {
          "base_uri": "https://localhost:8080/"
        },
        "id": "gTqhIKKGaQfM",
        "outputId": "8a33d89a-aa9e-4270-fa16-bb69208523e9"
      },
      "execution_count": null,
      "outputs": [
        {
          "output_type": "stream",
          "name": "stdout",
          "text": [
            "aaa \n",
            " bbb\n"
          ]
        }
      ]
    },
    {
      "cell_type": "code",
      "source": [
        "print(r'aaa \\n bbb')"
      ],
      "metadata": {
        "colab": {
          "base_uri": "https://localhost:8080/"
        },
        "id": "dHsdwRUNaXWa",
        "outputId": "77456f15-6eca-4946-d0f2-d44cc1bcafb9"
      },
      "execution_count": null,
      "outputs": [
        {
          "output_type": "stream",
          "name": "stdout",
          "text": [
            "aaa \\n bbb\n"
          ]
        }
      ]
    },
    {
      "cell_type": "code",
      "source": [
        "len(re.findall(r'[aeiou]',word))"
      ],
      "metadata": {
        "colab": {
          "base_uri": "https://localhost:8080/"
        },
        "id": "xcvA_C-4aZGX",
        "outputId": "c13f2462-db53-4dc3-e45f-0f9612eac83d"
      },
      "execution_count": null,
      "outputs": [
        {
          "output_type": "execute_result",
          "data": {
            "text/plain": [
              "16"
            ]
          },
          "metadata": {},
          "execution_count": 183
        }
      ]
    },
    {
      "cell_type": "code",
      "source": [
        "import nltk\n",
        "nltk.download('treebank')"
      ],
      "metadata": {
        "colab": {
          "base_uri": "https://localhost:8080/"
        },
        "id": "XvhB3i2had-d",
        "outputId": "0fabcb41-7dcf-4a7c-eddb-a8a303614c4f"
      },
      "execution_count": null,
      "outputs": [
        {
          "output_type": "stream",
          "name": "stderr",
          "text": [
            "[nltk_data] Downloading package treebank to /root/nltk_data...\n",
            "[nltk_data]   Package treebank is already up-to-date!\n"
          ]
        },
        {
          "output_type": "execute_result",
          "data": {
            "text/plain": [
              "True"
            ]
          },
          "metadata": {},
          "execution_count": 184
        }
      ]
    },
    {
      "cell_type": "code",
      "source": [
        "wsj = sorted(set(nltk.corpus.treebank.words()))"
      ],
      "metadata": {
        "id": "2KMcgUdcaiwD"
      },
      "execution_count": null,
      "outputs": []
    },
    {
      "cell_type": "code",
      "source": [
        "fd = nltk.FreqDist(vs for word in wsj for vs in re.findall(r'[aeiou]{2,}',word))"
      ],
      "metadata": {
        "id": "5gYKG2QXanQs"
      },
      "execution_count": null,
      "outputs": []
    },
    {
      "cell_type": "code",
      "source": [
        "fd.most_common(12)"
      ],
      "metadata": {
        "colab": {
          "base_uri": "https://localhost:8080/"
        },
        "id": "_uXBIwpVaxLn",
        "outputId": "83f68cc4-f462-4e1d-c9d2-ceed45cf7d38"
      },
      "execution_count": null,
      "outputs": [
        {
          "output_type": "execute_result",
          "data": {
            "text/plain": [
              "[('io', 549),\n",
              " ('ea', 476),\n",
              " ('ie', 331),\n",
              " ('ou', 329),\n",
              " ('ai', 261),\n",
              " ('ia', 253),\n",
              " ('ee', 217),\n",
              " ('oo', 174),\n",
              " ('ua', 109),\n",
              " ('au', 106),\n",
              " ('ue', 105),\n",
              " ('ui', 95)]"
            ]
          },
          "metadata": {},
          "execution_count": 187
        }
      ]
    },
    {
      "cell_type": "code",
      "source": [
        "# Finding Word Stems\n",
        "re.findall(r'^.*(ing|ly|ed|ious|ies|ive|es|s|ment)$','processing')"
      ],
      "metadata": {
        "colab": {
          "base_uri": "https://localhost:8080/"
        },
        "id": "OWOWNxs0a0WI",
        "outputId": "dee1766e-37b5-4491-bda7-bac73078bc00"
      },
      "execution_count": null,
      "outputs": [
        {
          "output_type": "execute_result",
          "data": {
            "text/plain": [
              "['ing']"
            ]
          },
          "metadata": {},
          "execution_count": 188
        }
      ]
    },
    {
      "cell_type": "code",
      "source": [
        "re.findall(r'^(.*)(ing|ly|ed|ious|ies|ive|es|s|ment)$','processing')"
      ],
      "metadata": {
        "colab": {
          "base_uri": "https://localhost:8080/"
        },
        "id": "tgek5iWGbGf6",
        "outputId": "ac9a750b-75c8-4b5e-be50-fae71f752cb3"
      },
      "execution_count": null,
      "outputs": [
        {
          "output_type": "execute_result",
          "data": {
            "text/plain": [
              "[('process', 'ing')]"
            ]
          },
          "metadata": {},
          "execution_count": 190
        }
      ]
    },
    {
      "cell_type": "code",
      "source": [
        "re.findall(r'^(.*)(ing|ly|ed|ious|ies|ive|es|s|ment)$','processes')"
      ],
      "metadata": {
        "colab": {
          "base_uri": "https://localhost:8080/"
        },
        "id": "miyfx_twbKSy",
        "outputId": "3e9138e9-2257-4620-cedb-252effa1093e"
      },
      "execution_count": null,
      "outputs": [
        {
          "output_type": "execute_result",
          "data": {
            "text/plain": [
              "[('processe', 's')]"
            ]
          },
          "metadata": {},
          "execution_count": 192
        }
      ]
    },
    {
      "cell_type": "code",
      "source": [
        "re.findall(r'^(.*?)(ing|ly|ed|ious|ies|ive|es|s|ment)$','processes')"
      ],
      "metadata": {
        "colab": {
          "base_uri": "https://localhost:8080/"
        },
        "id": "Sb1jJXFwbPOt",
        "outputId": "baacb2e1-17d2-4f2b-a2e9-20a648fd05fd"
      },
      "execution_count": null,
      "outputs": [
        {
          "output_type": "execute_result",
          "data": {
            "text/plain": [
              "[('process', 'es')]"
            ]
          },
          "metadata": {},
          "execution_count": 193
        }
      ]
    },
    {
      "cell_type": "code",
      "source": [
        "def stem(word):\n",
        "    regexp = r'^(.*?)(ing|ly|ed|ious|ies|ive|es|s|ment)?$'\n",
        "    stem, suffix = re.findall(regexp, word)[0]\n",
        "    return stem"
      ],
      "metadata": {
        "id": "TwQSCpRebUas"
      },
      "execution_count": null,
      "outputs": []
    },
    {
      "cell_type": "code",
      "source": [
        "import nltk\n",
        "nltk.download('punkt')\n",
        "from nltk.tokenize import word_tokenize\n",
        "tokens = word_tokenize(raw)"
      ],
      "metadata": {
        "id": "dtFxnb6XbtuU"
      },
      "execution_count": null,
      "outputs": []
    },
    {
      "cell_type": "markdown",
      "source": [
        "## Week 5"
      ],
      "metadata": {
        "id": "NzqVqOX_b3Kg"
      }
    },
    {
      "cell_type": "code",
      "source": [
        "import re\n",
        "patterns = [\n",
        "      (r'.*ing$','VBG'),\n",
        "      (r'.*ed$','VBD'),\n",
        "      (r'.*es$','VBZ'),\n",
        "      (r'.*iuld$','MD'),\n",
        "      (r'.*\\'s$','NN$'),\n",
        "      (r'.*s$','NNS'),\n",
        "      (r'^-?[0-9]+(w.[0-9]+)?$','CD'),\n",
        "      (r'.*','NN')\n",
        "]"
      ],
      "metadata": {
        "id": "BGsUCCg9b4MM"
      },
      "execution_count": null,
      "outputs": []
    }
  ]
}