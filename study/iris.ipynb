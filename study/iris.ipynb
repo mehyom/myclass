{
  "nbformat": 4,
  "nbformat_minor": 0,
  "metadata": {
    "colab": {
      "provenance": [],
      "collapsed_sections": []
    },
    "kernelspec": {
      "name": "python3",
      "display_name": "Python 3"
    },
    "language_info": {
      "name": "python"
    }
  },
  "cells": [
    {
      "cell_type": "code",
      "metadata": {
        "id": "l7HwhO40FU2u"
      },
      "source": [
        "from sklearn.datasets import load_iris\n",
        "iris = load_iris()"
      ],
      "execution_count": null,
      "outputs": []
    },
    {
      "cell_type": "code",
      "metadata": {
        "colab": {
          "base_uri": "https://localhost:8080/",
          "height": 204
        },
        "id": "3yHKRfhqJod1",
        "outputId": "5d31f10f-74b2-496c-f8d2-be934d4d22a9"
      },
      "source": [
        "import pandas as pd\n",
        "\n",
        "df = pd.DataFrame(iris.data, columns=iris.feature_names)\n",
        "df['class'] = iris.target\n",
        "\n",
        "df.tail()"
      ],
      "execution_count": null,
      "outputs": [
        {
          "output_type": "execute_result",
          "data": {
            "text/html": [
              "<div>\n",
              "<style scoped>\n",
              "    .dataframe tbody tr th:only-of-type {\n",
              "        vertical-align: middle;\n",
              "    }\n",
              "\n",
              "    .dataframe tbody tr th {\n",
              "        vertical-align: top;\n",
              "    }\n",
              "\n",
              "    .dataframe thead th {\n",
              "        text-align: right;\n",
              "    }\n",
              "</style>\n",
              "<table border=\"1\" class=\"dataframe\">\n",
              "  <thead>\n",
              "    <tr style=\"text-align: right;\">\n",
              "      <th></th>\n",
              "      <th>sepal length (cm)</th>\n",
              "      <th>sepal width (cm)</th>\n",
              "      <th>petal length (cm)</th>\n",
              "      <th>petal width (cm)</th>\n",
              "      <th>class</th>\n",
              "    </tr>\n",
              "  </thead>\n",
              "  <tbody>\n",
              "    <tr>\n",
              "      <th>145</th>\n",
              "      <td>6.7</td>\n",
              "      <td>3.0</td>\n",
              "      <td>5.2</td>\n",
              "      <td>2.3</td>\n",
              "      <td>2</td>\n",
              "    </tr>\n",
              "    <tr>\n",
              "      <th>146</th>\n",
              "      <td>6.3</td>\n",
              "      <td>2.5</td>\n",
              "      <td>5.0</td>\n",
              "      <td>1.9</td>\n",
              "      <td>2</td>\n",
              "    </tr>\n",
              "    <tr>\n",
              "      <th>147</th>\n",
              "      <td>6.5</td>\n",
              "      <td>3.0</td>\n",
              "      <td>5.2</td>\n",
              "      <td>2.0</td>\n",
              "      <td>2</td>\n",
              "    </tr>\n",
              "    <tr>\n",
              "      <th>148</th>\n",
              "      <td>6.2</td>\n",
              "      <td>3.4</td>\n",
              "      <td>5.4</td>\n",
              "      <td>2.3</td>\n",
              "      <td>2</td>\n",
              "    </tr>\n",
              "    <tr>\n",
              "      <th>149</th>\n",
              "      <td>5.9</td>\n",
              "      <td>3.0</td>\n",
              "      <td>5.1</td>\n",
              "      <td>1.8</td>\n",
              "      <td>2</td>\n",
              "    </tr>\n",
              "  </tbody>\n",
              "</table>\n",
              "</div>"
            ],
            "text/plain": [
              "     sepal length (cm)  sepal width (cm)  ...  petal width (cm)  class\n",
              "145                6.7               3.0  ...               2.3      2\n",
              "146                6.3               2.5  ...               1.9      2\n",
              "147                6.5               3.0  ...               2.0      2\n",
              "148                6.2               3.4  ...               2.3      2\n",
              "149                5.9               3.0  ...               1.8      2\n",
              "\n",
              "[5 rows x 5 columns]"
            ]
          },
          "metadata": {},
          "execution_count": 3
        }
      ]
    },
    {
      "cell_type": "code",
      "metadata": {
        "colab": {
          "base_uri": "https://localhost:8080/"
        },
        "id": "vjWVpwgppNgb",
        "outputId": "6ff3025a-7b83-4879-f026-4a875983524e"
      },
      "source": [
        "print(iris.target)\n",
        "print(iris.target_names)"
      ],
      "execution_count": null,
      "outputs": [
        {
          "output_type": "stream",
          "name": "stdout",
          "text": [
            "[0 0 0 0 0 0 0 0 0 0 0 0 0 0 0 0 0 0 0 0 0 0 0 0 0 0 0 0 0 0 0 0 0 0 0 0 0\n",
            " 0 0 0 0 0 0 0 0 0 0 0 0 0 1 1 1 1 1 1 1 1 1 1 1 1 1 1 1 1 1 1 1 1 1 1 1 1\n",
            " 1 1 1 1 1 1 1 1 1 1 1 1 1 1 1 1 1 1 1 1 1 1 1 1 1 1 2 2 2 2 2 2 2 2 2 2 2\n",
            " 2 2 2 2 2 2 2 2 2 2 2 2 2 2 2 2 2 2 2 2 2 2 2 2 2 2 2 2 2 2 2 2 2 2 2 2 2\n",
            " 2 2]\n",
            "['setosa' 'versicolor' 'virginica']\n"
          ]
        }
      ]
    },
    {
      "cell_type": "code",
      "metadata": {
        "colab": {
          "base_uri": "https://localhost:8080/"
        },
        "id": "sS80g6yq1Cbb",
        "outputId": "af029e19-302d-48b6-8d2e-7407af3056e6"
      },
      "source": [
        "X = iris.data\n",
        "Y = iris.target\n",
        "\n",
        "from sklearn.preprocessing import OneHotEncoder\n",
        "enc = OneHotEncoder()\n",
        "Y_1hot = enc.fit_transform(Y.reshape(-1, 1)).toarray()\n",
        "print(Y[0], \" -- one hot enocding --> \", Y_1hot[0])\n",
        "print(Y[50], \" -- one hot enocding --> \", Y_1hot[50])\n",
        "print(Y[100], \" -- one hot enocding --> \", Y_1hot[100])"
      ],
      "execution_count": null,
      "outputs": [
        {
          "output_type": "stream",
          "name": "stdout",
          "text": [
            "0  -- one hot enocding -->  [1. 0. 0.]\n",
            "1  -- one hot enocding -->  [0. 1. 0.]\n",
            "2  -- one hot enocding -->  [0. 0. 1.]\n"
          ]
        }
      ]
    },
    {
      "cell_type": "code",
      "metadata": {
        "id": "TvyYRqFG2cSx"
      },
      "source": [
        "from sklearn.model_selection import train_test_split\n",
        "x_train, x_test, y_train, y_test = train_test_split(X, Y_1hot, random_state=42, test_size=0.4, shuffle=True)\n",
        "x_test, x_val, y_test, y_val = train_test_split(x_test, y_test, random_state=42, test_size=0.5)"
      ],
      "execution_count": null,
      "outputs": []
    },
    {
      "cell_type": "code",
      "metadata": {
        "colab": {
          "base_uri": "https://localhost:8080/"
        },
        "id": "vQbkONtm1TW3",
        "outputId": "7dbcef3e-d8e5-40ea-9aab-78765ebdbdee"
      },
      "source": [
        "from keras.models import Sequential\n",
        "from keras.layers import Dense\n",
        "from tensorflow.keras import optimizers\n",
        "\n",
        "model = Sequential()\n",
        "model.add(Dense(4, input_dim=4, activation='relu'))\n",
        "model.add(Dense(3, activation='softmax'))\n",
        "model.compile(loss='categorical_crossentropy',\n",
        "              optimizer=optimizers.RMSprop(lr=0.01),\n",
        "              metrics=['accuracy'])"
      ],
      "execution_count": null,
      "outputs": [
        {
          "output_type": "stream",
          "name": "stderr",
          "text": [
            "/usr/local/lib/python3.7/dist-packages/keras/optimizer_v2/optimizer_v2.py:356: UserWarning: The `lr` argument is deprecated, use `learning_rate` instead.\n",
            "  \"The `lr` argument is deprecated, use `learning_rate` instead.\")\n"
          ]
        }
      ]
    },
    {
      "cell_type": "code",
      "metadata": {
        "colab": {
          "base_uri": "https://localhost:8080/"
        },
        "id": "qtTFIj4J2NSB",
        "outputId": "b8fcdfb9-8e90-47d2-a34a-df5eb398899c"
      },
      "source": [
        "history = model.fit(x_train,\n",
        "                    y_train,\n",
        "                    epochs=20,\n",
        "                    batch_size=10,\n",
        "                    validation_data=(x_val,y_val))"
      ],
      "execution_count": null,
      "outputs": [
        {
          "output_type": "stream",
          "name": "stdout",
          "text": [
            "Epoch 1/20\n",
            "9/9 [==============================] - 1s 22ms/step - loss: 0.7772 - accuracy: 0.5444 - val_loss: 0.6217 - val_accuracy: 0.5333\n",
            "Epoch 2/20\n",
            "9/9 [==============================] - 0s 5ms/step - loss: 0.6285 - accuracy: 0.5444 - val_loss: 0.5592 - val_accuracy: 0.5667\n",
            "Epoch 3/20\n",
            "9/9 [==============================] - 0s 8ms/step - loss: 0.5645 - accuracy: 0.6111 - val_loss: 0.5212 - val_accuracy: 0.5667\n",
            "Epoch 4/20\n",
            "9/9 [==============================] - 0s 4ms/step - loss: 0.5436 - accuracy: 0.5667 - val_loss: 0.5048 - val_accuracy: 0.5667\n",
            "Epoch 5/20\n",
            "9/9 [==============================] - 0s 6ms/step - loss: 0.5136 - accuracy: 0.6889 - val_loss: 0.5186 - val_accuracy: 0.5667\n",
            "Epoch 6/20\n",
            "9/9 [==============================] - 0s 5ms/step - loss: 0.4978 - accuracy: 0.6556 - val_loss: 0.4753 - val_accuracy: 0.5667\n",
            "Epoch 7/20\n",
            "9/9 [==============================] - 0s 4ms/step - loss: 0.4780 - accuracy: 0.7444 - val_loss: 0.4922 - val_accuracy: 0.5667\n",
            "Epoch 8/20\n",
            "9/9 [==============================] - 0s 4ms/step - loss: 0.4631 - accuracy: 0.7444 - val_loss: 0.4381 - val_accuracy: 0.6333\n",
            "Epoch 9/20\n",
            "9/9 [==============================] - 0s 4ms/step - loss: 0.4116 - accuracy: 0.8667 - val_loss: 0.3504 - val_accuracy: 0.9333\n",
            "Epoch 10/20\n",
            "9/9 [==============================] - 0s 4ms/step - loss: 0.3791 - accuracy: 0.9000 - val_loss: 0.3127 - val_accuracy: 0.9667\n",
            "Epoch 11/20\n",
            "9/9 [==============================] - 0s 4ms/step - loss: 0.3478 - accuracy: 0.9333 - val_loss: 0.2986 - val_accuracy: 0.9667\n",
            "Epoch 12/20\n",
            "9/9 [==============================] - 0s 4ms/step - loss: 0.3221 - accuracy: 0.9111 - val_loss: 0.2547 - val_accuracy: 0.9667\n",
            "Epoch 13/20\n",
            "9/9 [==============================] - 0s 6ms/step - loss: 0.2946 - accuracy: 0.9000 - val_loss: 0.2856 - val_accuracy: 0.9000\n",
            "Epoch 14/20\n",
            "9/9 [==============================] - 0s 6ms/step - loss: 0.2846 - accuracy: 0.8889 - val_loss: 0.2298 - val_accuracy: 0.9667\n",
            "Epoch 15/20\n",
            "9/9 [==============================] - 0s 5ms/step - loss: 0.2795 - accuracy: 0.9444 - val_loss: 0.2503 - val_accuracy: 0.9667\n",
            "Epoch 16/20\n",
            "9/9 [==============================] - 0s 4ms/step - loss: 0.2579 - accuracy: 0.9333 - val_loss: 0.2870 - val_accuracy: 0.8667\n",
            "Epoch 17/20\n",
            "9/9 [==============================] - 0s 6ms/step - loss: 0.2444 - accuracy: 0.9556 - val_loss: 0.1889 - val_accuracy: 0.9667\n",
            "Epoch 18/20\n",
            "9/9 [==============================] - 0s 4ms/step - loss: 0.2299 - accuracy: 0.9444 - val_loss: 0.1708 - val_accuracy: 0.9667\n",
            "Epoch 19/20\n",
            "9/9 [==============================] - 0s 4ms/step - loss: 0.2419 - accuracy: 0.9333 - val_loss: 0.1753 - val_accuracy: 1.0000\n",
            "Epoch 20/20\n",
            "9/9 [==============================] - 0s 7ms/step - loss: 0.2232 - accuracy: 0.9556 - val_loss: 0.1532 - val_accuracy: 0.9667\n"
          ]
        }
      ]
    },
    {
      "cell_type": "code",
      "metadata": {
        "colab": {
          "base_uri": "https://localhost:8080/"
        },
        "id": "adQQfczP4fK_",
        "outputId": "617b8d56-3b77-42da-f2be-e22bd416a2e4"
      },
      "source": [
        "history_dict = history.history\n",
        "history_dict.keys()"
      ],
      "execution_count": null,
      "outputs": [
        {
          "output_type": "execute_result",
          "data": {
            "text/plain": [
              "dict_keys(['loss', 'accuracy', 'val_loss', 'val_accuracy'])"
            ]
          },
          "metadata": {},
          "execution_count": 47
        }
      ]
    },
    {
      "cell_type": "code",
      "metadata": {
        "colab": {
          "base_uri": "https://localhost:8080/",
          "height": 295
        },
        "id": "PqUhavOQ39fj",
        "outputId": "4cc29ccf-067e-47ea-c888-37cda0b383c6"
      },
      "source": [
        "import matplotlib.pyplot as plt\n",
        "\n",
        "acc = history.history['accuracy']\n",
        "val_acc = history.history['val_accuracy']\n",
        "loss = history.history['loss']\n",
        "val_loss = history.history['val_loss']\n",
        "\n",
        "epochs = range(1, len(acc) + 1)\n",
        "\n",
        "plt.plot(epochs, loss, 'bo', label='Training loss')\n",
        "plt.plot(epochs, val_loss, 'b', label='Validation loss')\n",
        "plt.title('Training and validation loss')\n",
        "plt.xlabel('Epochs')\n",
        "plt.ylabel('Loss')\n",
        "plt.legend()\n",
        "\n",
        "plt.show()"
      ],
      "execution_count": null,
      "outputs": [
        {
          "output_type": "display_data",
          "data": {
            "image/png": "[encoded data removed]",
            "text/plain": [
              "<Figure size 432x288 with 1 Axes>"
            ]
          },
          "metadata": {
            "needs_background": "light"
          }
        }
      ]
    }
  ]
}