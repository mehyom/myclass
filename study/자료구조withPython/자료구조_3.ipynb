{
  "nbformat": 4,
  "nbformat_minor": 0,
  "metadata": {
    "colab": {
      "provenance": []
    },
    "kernelspec": {
      "name": "python3",
      "display_name": "Python 3"
    }
  },
  "cells": [
    {
      "cell_type": "code",
      "metadata": {
        "id": "jXcthqB6JwZY",
        "colab": {
          "base_uri": "https://localhost:8080/",
          "height": 71
        },
        "outputId": "ef4410fe-07b5-42ef-cdd3-ba9efed74079"
      },
      "source": [
        "class Symbol(object):\n",
        "    def __init__(self, value):\n",
        "        self.value = value\n",
        "\n",
        "\n",
        "if __name__ == \"__main__\":\n",
        "    x = Symbol(\"Py\")\n",
        "    y = Symbol(\"Py\")\n",
        "\n",
        "    symbols = set()\n",
        "    symbols.add(x)\n",
        "    symbols.add(y)\n",
        "\n",
        "    print(x is y)\n",
        "    print(x == y)\n",
        "    print(len(symbols))\n",
        "\n",
        "    # 두 변수 x y의 참조가 달라서 false가 나옴\n"
      ],
      "execution_count": null,
      "outputs": [
        {
          "output_type": "stream",
          "text": [
            "False\n",
            "False\n",
            "2\n"
          ],
          "name": "stdout"
        }
      ]
    },
    {
      "cell_type": "code",
      "metadata": {
        "id": "mOcj9yebJ_tK",
        "colab": {
          "base_uri": "https://localhost:8080/",
          "height": 244
        },
        "outputId": "2bde645d-aea9-4e76-b0dd-a03f85db9894"
      },
      "source": [
        "class Symbol(object):\n",
        "    def __init__(self, value):\n",
        "        self.value = value\n",
        "\n",
        "    def __eq__(self, other):\n",
        "        if isinstance(self, other.__class__):\n",
        "            return self.value == other.value\n",
        "        else:\n",
        "            return NotImplemented\n",
        "\n",
        "\n",
        "if __name__ == \"__main__\":\n",
        "    x = Symbol(\"Py\")\n",
        "    y = Symbol(\"Py\")\n",
        "\n",
        "    symbols = set()\n",
        "    symbols.add(x)\n",
        "    symbols.add(y)\n",
        "\n",
        "    print(x is y)\n",
        "    print(x == y)\n",
        "    print(len(symbols))\n",
        "\n",
        "     # 객체가 해시 가능하지 않다 = 가변객체"
      ],
      "execution_count": null,
      "outputs": [
        {
          "output_type": "error",
          "ename": "TypeError",
          "evalue": "ignored",
          "traceback": [
            "\u001b[0;31m---------------------------------------------------------------------------\u001b[0m",
            "\u001b[0;31mTypeError\u001b[0m                                 Traceback (most recent call last)",
            "\u001b[0;32m<ipython-input-7-0276e78c516c>\u001b[0m in \u001b[0;36m<module>\u001b[0;34m()\u001b[0m\n\u001b[1;32m     15\u001b[0m \u001b[0;34m\u001b[0m\u001b[0m\n\u001b[1;32m     16\u001b[0m     \u001b[0msymbols\u001b[0m \u001b[0;34m=\u001b[0m \u001b[0mset\u001b[0m\u001b[0;34m(\u001b[0m\u001b[0;34m)\u001b[0m\u001b[0;34m\u001b[0m\u001b[0;34m\u001b[0m\u001b[0m\n\u001b[0;32m---> 17\u001b[0;31m     \u001b[0msymbols\u001b[0m\u001b[0;34m.\u001b[0m\u001b[0madd\u001b[0m\u001b[0;34m(\u001b[0m\u001b[0mx\u001b[0m\u001b[0;34m)\u001b[0m\u001b[0;34m\u001b[0m\u001b[0;34m\u001b[0m\u001b[0m\n\u001b[0m\u001b[1;32m     18\u001b[0m     \u001b[0msymbols\u001b[0m\u001b[0;34m.\u001b[0m\u001b[0madd\u001b[0m\u001b[0;34m(\u001b[0m\u001b[0my\u001b[0m\u001b[0;34m)\u001b[0m\u001b[0;34m\u001b[0m\u001b[0;34m\u001b[0m\u001b[0m\n\u001b[1;32m     19\u001b[0m \u001b[0;34m\u001b[0m\u001b[0m\n",
            "\u001b[0;31mTypeError\u001b[0m: unhashable type: 'Symbol'"
          ]
        }
      ]
    },
    {
      "cell_type": "code",
      "metadata": {
        "id": "Ux3oV55yKFjw",
        "colab": {
          "base_uri": "https://localhost:8080/",
          "height": 71
        },
        "outputId": "a5ed06be-46de-4b5d-f6fa-41dd69e148b6"
      },
      "source": [
        "class Symbol(object):\n",
        "    def __init__(self, value):\n",
        "        self.value = value\n",
        "\n",
        "    def __eq__(self, other):\n",
        "        if isinstance(self, other.__class__):\n",
        "            return self.value == other.value\n",
        "        else:\n",
        "            return NotImplemented\n",
        "\n",
        "    def __hash__(self):\n",
        "        return hash(self.value)\n",
        "\n",
        "\n",
        "if __name__ == \"__main__\":\n",
        "    x = Symbol(\"Py\")\n",
        "    y = Symbol(\"Py\")\n",
        "\n",
        "    symbols = set()\n",
        "    symbols.add(x)\n",
        "    symbols.add(y)\n",
        "\n",
        "    print(x is y)\n",
        "    print(x == y)\n",
        "    print(len(symbols))\n",
        "\n",
        "    # 위의 에러를 고치기 위해 해시 메서드 입력"
      ],
      "execution_count": null,
      "outputs": [
        {
          "output_type": "stream",
          "text": [
            "False\n",
            "True\n",
            "1\n"
          ],
          "name": "stdout"
        }
      ]
    },
    {
      "cell_type": "code",
      "metadata": {
        "id": "GG2skdwyKVhF",
        "colab": {
          "base_uri": "https://localhost:8080/",
          "height": 377
        },
        "outputId": "e5300e8b-e6c6-4887-dac0-b9e4589e8d22"
      },
      "source": [
        "import queue\n",
        "import threading\n",
        "\n",
        "q = queue.Queue()\n",
        "\n",
        "\n",
        "def worker(num):\n",
        "    while True:\n",
        "        item = q.get()\n",
        "        if item is None:\n",
        "            break\n",
        "        # 작업을 처리한다.\n",
        "        print(\"스레드 {0} : 처리 완료 {1}\".format(num+1, item))\n",
        "        q.task_done()\n",
        "\n",
        "\n",
        "if __name__ == \"__main__\":\n",
        "    num_worker_threads = 5\n",
        "    threads = []\n",
        "    for i in range(num_worker_threads):\n",
        "        t = threading.Thread(target=worker, args=(i,))\n",
        "        t.start()\n",
        "        threads.append(t)\n",
        "\n",
        "    for item in range(20):\n",
        "        q.put(item)\n",
        "\n",
        "    # 모든 작업이 끝날 때까지 대기한다(block).\n",
        "    q.join()\n",
        "\n",
        "    # 워커 스레드를 종료한다(stop).\n",
        "    for i in range(num_worker_threads):\n",
        "        q.put(None)\n",
        "    for t in threads:\n",
        "        t.join()"
      ],
      "execution_count": null,
      "outputs": [
        {
          "output_type": "stream",
          "text": [
            "스레드 2 : 처리 완료 0\n",
            "스레드 5 : 처리 완료 1\n",
            "스레드 3 : 처리 완료 2스레드 2 : 처리 완료 3\n",
            "스레드 2 : 처리 완료 4\n",
            "스레드 2 : 처리 완료 5\n",
            "스레드 2 : 처리 완료 6\n",
            "스레드 2 : 처리 완료 7\n",
            "스레드 2 : 처리 완료 8\n",
            "스레드 2 : 처리 완료 9\n",
            "스레드 2 : 처리 완료 10\n",
            "스레드 1 : 처리 완료 11\n",
            "스레드 4 : 처리 완료 12\n",
            "스레드 4 : 처리 완료 13\n",
            "스레드 4 : 처리 완료 14\n",
            "스레드 4 : 처리 완료 15\n",
            "스레드 4 : 처리 완료 16\n",
            "스레드 4 : 처리 완료 17\n",
            "스레드 4 : 처리 완료 18\n",
            "스레드 4 : 처리 완료 19\n",
            "\n"
          ],
          "name": "stdout"
        }
      ]
    },
    {
      "cell_type": "code",
      "metadata": {
        "id": "VUdUZ38uQTQz",
        "colab": {
          "base_uri": "https://localhost:8080/",
          "height": 737
        },
        "outputId": "3414a8af-f9aa-4e48-fa2c-23b12334fa5b"
      },
      "source": [
        "# 뮤텍스는 1부터 시작하는 정수\n",
        "from threading import Thread, Lock\n",
        "import threading\n",
        "\n",
        "\n",
        "def worker(mutex, data, thread_safe):\n",
        "    if thread_safe:\n",
        "        mutex.acquire()\n",
        "    try:\n",
        "        print(\"스레드 {0}: {1}\\n\".format(threading.get_ident(), data))\n",
        "    finally:\n",
        "        if thread_safe:\n",
        "            mutex.release()\n",
        "\n",
        "\n",
        "if __name__ == \"__main__\":\n",
        "    threads = []\n",
        "    thread_safe = True\n",
        "    mutex = Lock()\n",
        "    for i in range(20):\n",
        "        t = Thread(target=worker, args=(mutex, i, thread_safe))\n",
        "        t.start()\n",
        "        threads.append(t)\n",
        "    for t in threads:\n",
        "        t.join()"
      ],
      "execution_count": null,
      "outputs": [
        {
          "output_type": "stream",
          "text": [
            "스레드 139752520263424: 0\n",
            "\n",
            "스레드 139752553834240: 1\n",
            "\n",
            "스레드 139752553834240: 2\n",
            "\n",
            "스레드 139752553834240: 3\n",
            "\n",
            "스레드 139752520263424: 4\n",
            "\n",
            "스레드 139752553834240: 5\n",
            "\n",
            "스레드 139752553834240: 6\n",
            "\n",
            "스레드 139752520263424: 7\n",
            "\n",
            "스레드 139752553834240: 8\n",
            "\n",
            "스레드 139752520263424: 9\n",
            "\n",
            "스레드 139752553834240: 10\n",
            "\n",
            "스레드 139752520263424: 11\n",
            "\n",
            "스레드 139752553834240: 12\n",
            "\n",
            "스레드 139752553834240: 13\n",
            "\n",
            "스레드 139752520263424: 14\n",
            "\n",
            "스레드 139752553834240: 15\n",
            "\n",
            "스레드 139752520263424: 16\n",
            "\n",
            "스레드 139752537048832: 17\n",
            "\n",
            "스레드 139752537048832: 18\n",
            "\n",
            "스레드 139752537048832: 19\n",
            "\n"
          ],
          "name": "stdout"
        }
      ]
    },
    {
      "cell_type": "code",
      "metadata": {
        "id": "tMTMxWcSQczB",
        "colab": {
          "base_uri": "https://localhost:8080/",
          "height": 377
        },
        "outputId": "a9db929a-b054-4417-e127-8920627f61e7"
      },
      "source": [
        "# 세마포어는 1보다 큰 수로 시작할 수 있다\n",
        "# 뮤텍스의 락 및 언락 작업과 유사한 작업을 지원한다\n",
        "import threading\n",
        "import time\n",
        "\n",
        "\n",
        "class ThreadPool(object):\n",
        "    def __init__(self):\n",
        "        self.active = []\n",
        "        self.lock = threading.Lock()\n",
        "\n",
        "    def acquire(self, name):\n",
        "        with self.lock:\n",
        "            self.active.append(name)\n",
        "            print(\"획득: {0} | 스레드 풀: {1}\".format(name, self.active))\n",
        "\n",
        "    def release(self, name):\n",
        "        with self.lock:\n",
        "            self.active.remove(name)\n",
        "            print(\"반환: {0} | 스레드 풀: {1}\".format(name, self.active))\n",
        "\n",
        "\n",
        "def worker(semaphore, pool):\n",
        "    with semaphore:\n",
        "        name = threading.currentThread().getName()\n",
        "        pool.acquire(name)\n",
        "        time.sleep(1)\n",
        "        pool.release(name)\n",
        "\n",
        "\n",
        "if __name__ == '__main__':\n",
        "    threads = []\n",
        "    pool = ThreadPool()\n",
        "    semaphore = threading.Semaphore(3)\n",
        "    for i in range(10):\n",
        "        t = threading.Thread(\n",
        "            target=worker, name=\"스레드 \" + str(i), args=(semaphore, pool))\n",
        "        t.start()\n",
        "        threads.append(t)\n",
        "    for t in threads:\n",
        "        t.join()\n"
      ],
      "execution_count": null,
      "outputs": [
        {
          "output_type": "stream",
          "text": [
            "획득: 스레드 0 | 스레드 풀: ['스레드 0']\n",
            "획득: 스레드 1 | 스레드 풀: ['스레드 0', '스레드 1']\n",
            "획득: 스레드 2 | 스레드 풀: ['스레드 0', '스레드 1', '스레드 2']\n",
            "반환: 스레드 0 | 스레드 풀: ['스레드 1', '스레드 2']\n",
            "반환: 스레드 1 | 스레드 풀: ['스레드 2']\n",
            "반환: 스레드 2 | 스레드 풀: []\n",
            "획득: 스레드 4 | 스레드 풀: ['스레드 4']\n",
            "획득: 스레드 5 | 스레드 풀: ['스레드 4', '스레드 5']\n",
            "획득: 스레드 3 | 스레드 풀: ['스레드 4', '스레드 5', '스레드 3']\n",
            "반환: 스레드 4 | 스레드 풀: ['스레드 5', '스레드 3']\n",
            "반환: 스레드 5 | 스레드 풀: ['스레드 3']\n",
            "획득: 스레드 7 | 스레드 풀: ['스레드 3', '스레드 7']\n",
            "획득: 스레드 6 | 스레드 풀: ['스레드 3', '스레드 7', '스레드 6']\n",
            "반환: 스레드 3 | 스레드 풀: ['스레드 7', '스레드 6']\n",
            "획득: 스레드 8 | 스레드 풀: ['스레드 7', '스레드 6', '스레드 8']\n",
            "반환: 스레드 7 | 스레드 풀: ['스레드 6', '스레드 8']\n",
            "반환: 스레드 6 | 스레드 풀: ['스레드 8']\n",
            "획득: 스레드 9 | 스레드 풀: ['스레드 8', '스레드 9']\n",
            "반환: 스레드 8 | 스레드 풀: ['스레드 9']\n",
            "반환: 스레드 9 | 스레드 풀: []\n"
          ],
          "name": "stdout"
        }
      ]
    },
    {
      "cell_type": "code",
      "metadata": {
        "id": "gqfkS3DdQ4En"
      },
      "source": [],
      "execution_count": null,
      "outputs": []
    }
  ]
}