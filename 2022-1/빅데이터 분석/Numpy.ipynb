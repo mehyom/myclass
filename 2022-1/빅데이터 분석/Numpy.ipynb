{
  "nbformat": 4,
  "nbformat_minor": 0,
  "metadata": {
    "colab": {
      "provenance": [],
      "collapsed_sections": []
    },
    "kernelspec": {
      "name": "python3",
      "display_name": "Python 3"
    },
    "language_info": {
      "name": "python"
    }
  },
  "cells": [
    {
      "cell_type": "code",
      "execution_count": null,
      "metadata": {
        "colab": {
          "base_uri": "https://localhost:8080/"
        },
        "id": "6kxhWsMrFhC8",
        "outputId": "c8b81893-d119-4fd9-9e45-cfb89fb28676"
      },
      "outputs": [
        {
          "output_type": "stream",
          "name": "stdout",
          "text": [
            "[0.  2.  5.5 7. ]\n",
            "[[1 2 3]\n",
            " [4 5 6]]\n"
          ]
        }
      ],
      "source": [
        "import numpy as np\n",
        "\n",
        "arr1 = np.array([0,2,5.5,7])\n",
        "print(arr1)\n",
        "\n",
        "arr2 = np.array([[1,2,3],[4,5,6]])\n",
        "print(arr2)"
      ]
    },
    {
      "cell_type": "code",
      "source": [
        "arr = np.zeros((5,2))\n",
        "print(type(arr))\n",
        "print(arr.shape)\n",
        "print(arr.dtype)\n",
        "print(arr)\n",
        "\n",
        "print(\"----------Start----------\")\n",
        "for i in range(5):\n",
        "    print(arr[i, 1])\n",
        "    arr[i, 1] = i\n",
        "    print(arr[i, 1])\n",
        "print(\"----------end----------\")\n",
        "print(arr)"
      ],
      "metadata": {
        "colab": {
          "base_uri": "https://localhost:8080/"
        },
        "id": "tgoWLDPWI2m2",
        "outputId": "2e9760e8-eaf4-4315-949a-d04b5cd3f420"
      },
      "execution_count": null,
      "outputs": [
        {
          "output_type": "stream",
          "name": "stdout",
          "text": [
            "<class 'numpy.ndarray'>\n",
            "(5, 2)\n",
            "float64\n",
            "[[0. 0.]\n",
            " [0. 0.]\n",
            " [0. 0.]\n",
            " [0. 0.]\n",
            " [0. 0.]]\n",
            "----------Start----------\n",
            "0.0\n",
            "0.0\n",
            "0.0\n",
            "1.0\n",
            "0.0\n",
            "2.0\n",
            "0.0\n",
            "3.0\n",
            "0.0\n",
            "4.0\n",
            "----------end----------\n",
            "[[0. 0.]\n",
            " [0. 1.]\n",
            " [0. 2.]\n",
            " [0. 3.]\n",
            " [0. 4.]]\n"
          ]
        }
      ]
    },
    {
      "cell_type": "code",
      "source": [
        "arr = np.empty((2,2), dtype=int)\n",
        "print(arr.dtype)\n",
        "\n",
        "arr = np.eye(3, k=-1)\n",
        "print(arr)"
      ],
      "metadata": {
        "colab": {
          "base_uri": "https://localhost:8080/"
        },
        "id": "EJhbwb2qKMr_",
        "outputId": "16e6945b-cecb-401f-859e-e7df034d4977"
      },
      "execution_count": null,
      "outputs": [
        {
          "output_type": "stream",
          "name": "stdout",
          "text": [
            "int64\n",
            "[[0. 0. 0.]\n",
            " [1. 0. 0.]\n",
            " [0. 1. 0.]]\n"
          ]
        }
      ]
    },
    {
      "cell_type": "code",
      "source": [
        "arr = np.arange(6)\n",
        "print(arr)\n",
        "arr1 = arr.reshape(3,2)\n",
        "#arr1 = np.array([[\"a\",\"c\"],[\"b\",\"d\"]])\n",
        "print(arr1)\n",
        "#print(arr1.ravel(\"A\"))\n",
        "print(arr1.reshape(-1))\n",
        "print(arr1.reshape(-1,1))\n",
        "print(arr1.reshape(1,-1))"
      ],
      "metadata": {
        "colab": {
          "base_uri": "https://localhost:8080/"
        },
        "id": "uxqjPI-MMdDa",
        "outputId": "d5a6fe55-2dee-4f05-fc77-94b54440b5f4"
      },
      "execution_count": null,
      "outputs": [
        {
          "output_type": "stream",
          "name": "stdout",
          "text": [
            "[0 1 2 3 4 5]\n",
            "[[0 1]\n",
            " [2 3]\n",
            " [4 5]]\n",
            "[0 1 2 3 4 5]\n",
            "[[0]\n",
            " [1]\n",
            " [2]\n",
            " [3]\n",
            " [4]\n",
            " [5]]\n",
            "[[0 1 2 3 4 5]]\n"
          ]
        }
      ]
    },
    {
      "cell_type": "code",
      "source": [
        "arr = np.arange(36).reshape(3,3,4)\n",
        "print(arr[0:2])\n",
        "\n",
        "arr = np.arange(12).reshape(3,4)\n",
        "print(arr)\n",
        "print(arr.ravel(\"C\"))\n",
        "print(arr.ravel(\"F\"))\n",
        "\n",
        "\n",
        "arr = np.arange(24).reshape(2,3,4)\n",
        "print(arr)\n",
        "print(arr.ndim)\n",
        "print(arr.size)\n",
        "print(arr.dtype)\n",
        "print(arr.itemsize)\n",
        "print(arr.strides)"
      ],
      "metadata": {
        "colab": {
          "base_uri": "https://localhost:8080/"
        },
        "id": "Gq9qxm5-gPEN",
        "outputId": "12210f2f-ab59-40be-826d-2ccf77d19866"
      },
      "execution_count": null,
      "outputs": [
        {
          "output_type": "stream",
          "name": "stdout",
          "text": [
            "[[[ 0  1  2  3]\n",
            "  [ 4  5  6  7]\n",
            "  [ 8  9 10 11]]\n",
            "\n",
            " [[12 13 14 15]\n",
            "  [16 17 18 19]\n",
            "  [20 21 22 23]]]\n",
            "[[ 0  1  2  3]\n",
            " [ 4  5  6  7]\n",
            " [ 8  9 10 11]]\n",
            "[ 0  1  2  3  4  5  6  7  8  9 10 11]\n",
            "[ 0  4  8  1  5  9  2  6 10  3  7 11]\n",
            "[[[ 0  1  2  3]\n",
            "  [ 4  5  6  7]\n",
            "  [ 8  9 10 11]]\n",
            "\n",
            " [[12 13 14 15]\n",
            "  [16 17 18 19]\n",
            "  [20 21 22 23]]]\n",
            "3\n",
            "24\n",
            "int64\n",
            "8\n",
            "(96, 32, 8)\n"
          ]
        }
      ]
    },
    {
      "cell_type": "code",
      "source": [
        "ex1 = np.dtype(np.int16)\n",
        "print(ex1)\n",
        "ex1 = np.dtype([('f1',np.int16)])\n",
        "print(ex1)\n",
        "ex1 = np.dtype([('f1',[('f1',np.int16)])])\n",
        "print(ex1)"
      ],
      "metadata": {
        "colab": {
          "base_uri": "https://localhost:8080/"
        },
        "id": "HB1T1t9QN_5G",
        "outputId": "45be99d8-a7a6-49fa-e2f9-b4aac07019a8"
      },
      "execution_count": null,
      "outputs": [
        {
          "output_type": "stream",
          "name": "stdout",
          "text": [
            "int16\n",
            "[('f1', '<i2')]\n",
            "[('f1', [('f1', '<i2')])]\n"
          ]
        }
      ]
    },
    {
      "cell_type": "code",
      "source": [
        "ex1 = np.dtype(np.int16)\n",
        "print(ex1)\n",
        "ex1 = np.dtype([('f1',np.int16)])\n",
        "print(ex1)\n",
        "ex1 = np.dtype([('f1',[('f1',np.int16)])])\n",
        "print(ex1)"
      ],
      "metadata": {
        "colab": {
          "base_uri": "https://localhost:8080/"
        },
        "id": "glgnsK48VP9A",
        "outputId": "8efe8384-ba02-47e1-ff21-58cfc865f4b7"
      },
      "execution_count": null,
      "outputs": [
        {
          "output_type": "stream",
          "name": "stdout",
          "text": [
            "int16\n",
            "[('f1', '<i2')]\n",
            "[('f1', [('f1', '<i2')])]\n"
          ]
        }
      ]
    },
    {
      "cell_type": "code",
      "source": [
        "ex1 = np.dtype(np.int16)\n",
        "print(ex1)\n",
        "ex1 = np.dtype([('f1',np.int16)])\n",
        "print(ex1)\n",
        "ex1 = np.dtype([('f1',[('f1',np.int16)])])\n",
        "print(ex1)\n",
        "ex1 = np.dtype([('f1',np.uint),('f2',np.int32)])\n",
        "print(ex1)\n",
        "ex1 = np.dtype([('a','f8'),('b','S10')])\n",
        "print(ex1)\n",
        "ex1 = np.dtype([('i4','(2,3)f8')])\n",
        "print(ex1)\n",
        "ex1 = np.dtype([('hello',(int,3)),('world',np.void,10)])\n",
        "print(ex1)\n",
        "ex1 = np.dtype((np.int16,{'x':(np.int8,0), 'y':(np.int8,1)}))\n",
        "print(ex1)\n",
        "ex1 = np.dtype({'names':['gender','age'],'formats':['S1',np.uint8]})"
      ],
      "metadata": {
        "colab": {
          "base_uri": "https://localhost:8080/"
        },
        "id": "RAXfPiH7W2Rw",
        "outputId": "4f0a6ac3-4df2-4422-a2eb-838dd7e29f98"
      },
      "execution_count": null,
      "outputs": [
        {
          "output_type": "stream",
          "name": "stdout",
          "text": [
            "int16\n",
            "[('f1', '<i2')]\n",
            "[('f1', [('f1', '<i2')])]\n",
            "[('f1', '<u8'), ('f2', '<i4')]\n",
            "[('a', '<f8'), ('b', 'S10')]\n",
            "[('i4', '<f8', (2, 3))]\n",
            "[('hello', '<i8', (3,)), ('world', 'V10')]\n",
            "(numpy.int16, [('x', 'i1'), ('y', 'i1')])\n"
          ]
        }
      ]
    },
    {
      "cell_type": "code",
      "source": [
        "a = np.float32(5.0)\n",
        "b = np.int_([1,2,3])\n",
        "c = np.arange(5, dtype=np.uint16)\n",
        "print(type(a))\n",
        "print(type(b))\n",
        "print(type(c))\n",
        "print(b.dtype)\n",
        "print(c.dtype)\n",
        "\n",
        "dt = np.dtype('>i4')\n",
        "print(dt.byteorder)\n",
        "print(dt.name)\n",
        "print(dt.itemsize)\n",
        "print(dt.type is np.int32)\n",
        "\n",
        "dt = np.dtype([('name',np.unicode_,16), ('grades', np.float64, (2,))])\n",
        "\n",
        "print(dt)\n",
        "print(dt['name'])\n",
        "print(dt['grades'])"
      ],
      "metadata": {
        "colab": {
          "base_uri": "https://localhost:8080/"
        },
        "id": "sp4ZXEuJXzEM",
        "outputId": "b4c7357f-8bb4-47d1-bf27-60aa159265ec"
      },
      "execution_count": null,
      "outputs": [
        {
          "output_type": "stream",
          "name": "stdout",
          "text": [
            "<class 'numpy.float32'>\n",
            "<class 'numpy.ndarray'>\n",
            "<class 'numpy.ndarray'>\n",
            "int64\n",
            "uint16\n",
            ">\n",
            "int32\n",
            "4\n",
            "True\n",
            "[('name', '<U16'), ('grades', '<f8', (2,))]\n",
            "<U16\n",
            "('<f8', (2,))\n"
          ]
        }
      ]
    },
    {
      "cell_type": "code",
      "source": [
        "arr = np.array([('jin', 25, 67), ('suho', 18, 77)],\n",
        "        dtype=[('name', 'U10'), ('age', 'i4'), ('weight', 'f4')])\n",
        "print(arr)\n",
        "print(arr.dtype)\n",
        "\n",
        "print(arr[1])\n",
        "print(arr['age'])"
      ],
      "metadata": {
        "colab": {
          "base_uri": "https://localhost:8080/"
        },
        "id": "frNj21B6YeNW",
        "outputId": "8fed15be-d0eb-4806-adf2-6e57137be181"
      },
      "execution_count": null,
      "outputs": [
        {
          "output_type": "stream",
          "name": "stdout",
          "text": [
            "[('jin', 25, 67.) ('suho', 18, 77.)]\n",
            "[('name', '<U10'), ('age', '<i4'), ('weight', '<f4')]\n",
            "('suho', 18, 77.)\n",
            "[25 18]\n"
          ]
        }
      ]
    },
    {
      "cell_type": "code",
      "source": [
        "arr = np.dtype('i8, f4, S3')\n",
        "print(arr)\n",
        "\n",
        "arr = np.dtype('3int8, float32, (2,3)float64')\n",
        "print(arr)\n",
        "\n",
        "arr = np.dtype({'names': ['col1', 'col2'], 'formats': ['i4', 'f4'],\n",
        "                 'offsets': [0, 4], 'itemsize': 12})\n",
        "\n",
        "print(arr)\n",
        "\n",
        "\n",
        "c = np.dtype([('a', 'i8'), ('b', 'f4')])\n",
        "print(c.names)\n",
        "print(c.fields)"
      ],
      "metadata": {
        "colab": {
          "base_uri": "https://localhost:8080/"
        },
        "id": "2STeAzVaaESy",
        "outputId": "f6585728-29b7-406e-9ca3-1a773582b1e3"
      },
      "execution_count": null,
      "outputs": [
        {
          "output_type": "stream",
          "name": "stdout",
          "text": [
            "[('f0', '<i8'), ('f1', '<f4'), ('f2', 'S3')]\n",
            "[('f0', 'i1', (3,)), ('f1', '<f4'), ('f2', '<f8', (2, 3))]\n",
            "{'names':['col1','col2'], 'formats':['<i4','<f4'], 'offsets':[0,4], 'itemsize':12}\n",
            "('a', 'b')\n",
            "{'a': (dtype('int64'), 0), 'b': (dtype('float32'), 8)}\n"
          ]
        }
      ]
    },
    {
      "cell_type": "code",
      "source": [
        "def print_offsets(d):\n",
        "    print(\"offsets:\", [d.fields[name][1] for name in d.names])\n",
        "    print(\"itemsize:\", d.itemsize)\n",
        "\n",
        "print_offsets(np.dtype('u1, u1, i4, u1, i8, u2'))\n",
        "d = np.dtype('u1, u1, i4, u1, i8, u2')\n",
        "print(d)\n",
        "print(d.itemsize)\n",
        "print(d.fields)\n",
        "print(d.names)\n",
        "print(d.fields['f0'])\n",
        "print(d.fields['f0'][1])\n",
        "print_offsets(np.dtype('u1, u1, i4, u1, i8, u2', align = True))\n",
        "\n",
        "x = np.dtype([(('my title', 'name'), 'f4')])\n",
        "print(x.fields)\n",
        "print(x.names)\n",
        "\n",
        "np.dtype({'name': ('i4', 0, 'my title')})\n",
        "\n",
        "x = np.dtype({'name': ('i4', 0, 'my title')})\n",
        "\n",
        "print(x.fields)\n",
        "print(x.names)"
      ],
      "metadata": {
        "colab": {
          "base_uri": "https://localhost:8080/"
        },
        "id": "y_G6-3unbb_q",
        "outputId": "f8ab3810-6706-48f1-b62d-c7372660d6c8"
      },
      "execution_count": null,
      "outputs": [
        {
          "output_type": "stream",
          "name": "stdout",
          "text": [
            "offsets: [0, 1, 2, 6, 7, 15]\n",
            "itemsize: 17\n",
            "[('f0', 'u1'), ('f1', 'u1'), ('f2', '<i4'), ('f3', 'u1'), ('f4', '<i8'), ('f5', '<u2')]\n",
            "17\n",
            "{'f0': (dtype('uint8'), 0), 'f1': (dtype('uint8'), 1), 'f2': (dtype('int32'), 2), 'f3': (dtype('uint8'), 6), 'f4': (dtype('int64'), 7), 'f5': (dtype('uint16'), 15)}\n",
            "('f0', 'f1', 'f2', 'f3', 'f4', 'f5')\n",
            "(dtype('uint8'), 0)\n",
            "0\n",
            "offsets: [0, 1, 4, 8, 16, 24]\n",
            "itemsize: 32\n",
            "{'name': (dtype('float32'), 0, 'my title'), 'my title': (dtype('float32'), 0, 'my title')}\n",
            "('name',)\n",
            "{'name': (dtype('int32'), 0, 'my title'), 'my title': (dtype('int32'), 0, 'my title')}\n",
            "('name',)\n"
          ]
        }
      ]
    },
    {
      "cell_type": "code",
      "source": [
        "a = np.array([(1, 2, 3), (4, 5, 6)], dtype='i8, f4, f8')\n",
        "a[1] = ((7, 8, 9))\n",
        "print(a)\n",
        "\n",
        "a = np.zeros(2, dtype='i8, f4, ?, S1')\n",
        "print(a)\n",
        "a[:] = 7\n",
        "print(a)\n",
        "a[:] = np.arange(2)\n",
        "print(a)\n",
        "\n",
        "a = np.zeros(3, dtype=[('a', 'i8'), ('b', 'f4'), ('c', 'S3')])\n",
        "b = np.ones(3, dtype=[('x', 'f4'), ('y', 'S3'), ('z', 'O')])\n",
        "print(b)\n",
        "b[:] = a\n",
        "print(b)\n",
        "print(a)"
      ],
      "metadata": {
        "colab": {
          "base_uri": "https://localhost:8080/"
        },
        "id": "WN6emQi6czBn",
        "outputId": "707a110d-2141-484a-8056-68dec8d212d2"
      },
      "execution_count": null,
      "outputs": [
        {
          "output_type": "stream",
          "name": "stdout",
          "text": [
            "[(1, 2., 3.) (7, 8., 9.)]\n",
            "[(0, 0., False, b'') (0, 0., False, b'')]\n",
            "[(7, 7.,  True, b'7') (7, 7.,  True, b'7')]\n",
            "[(0, 0., False, b'0') (1, 1.,  True, b'1')]\n",
            "[(1., b'1', 1) (1., b'1', 1) (1., b'1', 1)]\n",
            "[(0., b'0.0', b'') (0., b'0.0', b'') (0., b'0.0', b'')]\n",
            "[(0, 0., b'') (0, 0., b'') (0, 0., b'')]\n"
          ]
        }
      ]
    },
    {
      "cell_type": "code",
      "source": [
        "arr1 = np.arange(10)\n",
        "arr2 = np.arange(9).reshape(3,3)\n",
        "arr3 = np.reshape(np.arange(24),(2,3,4))\n",
        "\n",
        "print(arr1)\n",
        "print(arr1[1])\n",
        "print(arr2)\n",
        "print(arr2[2])\n",
        "print(arr2[2,1])\n",
        "print(arr3)\n",
        "print(arr3[1,1,2])\n",
        "print(arr3[1][2][3])"
      ],
      "metadata": {
        "colab": {
          "base_uri": "https://localhost:8080/"
        },
        "id": "3LuFErFGhRqL",
        "outputId": "e49e2940-799a-41a5-ec4a-ac095f4cb8ed"
      },
      "execution_count": null,
      "outputs": [
        {
          "output_type": "stream",
          "name": "stdout",
          "text": [
            "[0 1 2 3 4 5 6 7 8 9]\n",
            "1\n",
            "[[0 1 2]\n",
            " [3 4 5]\n",
            " [6 7 8]]\n",
            "[6 7 8]\n",
            "7\n",
            "[[[ 0  1  2  3]\n",
            "  [ 4  5  6  7]\n",
            "  [ 8  9 10 11]]\n",
            "\n",
            " [[12 13 14 15]\n",
            "  [16 17 18 19]\n",
            "  [20 21 22 23]]]\n",
            "18\n",
            "23\n"
          ]
        }
      ]
    },
    {
      "cell_type": "code",
      "source": [
        "print(arr1[1])\n",
        "print(arr1[:6])\n",
        "print(arr1[0:5])\n",
        "print(arr1[::2])\n",
        "print(arr1[1::2])\n",
        "print(arr1[1:7:2])\n",
        "\n",
        "\n",
        "\n",
        "#[0 1 2 3 4 5 6 7 8 9]\n",
        "\n",
        "\n",
        "print(arr1[-3:9])\n",
        "print(arr1[:-3])\n",
        "print(arr1[-3:2:-1])\n",
        "\n",
        "print(arr1[5:2])\n",
        "\n",
        "print(arr1[5:])\n",
        "print(arr2[1:])\n",
        "\n",
        "print(arr2)\n",
        "print(arr2[:2, :2])\n",
        "print(arr2[:, ::-1])\n",
        "\n",
        "print(arr2[:, :])\n",
        "print(arr2[1, :])\n",
        "print(arr2[1, 2])\n",
        "\n",
        "print(arr3[:2, 1:, :2])\n"
      ],
      "metadata": {
        "colab": {
          "base_uri": "https://localhost:8080/"
        },
        "id": "vroTmlAmj8PL",
        "outputId": "37607ff3-01c9-4442-98b5-f7ca8c57293c"
      },
      "execution_count": null,
      "outputs": [
        {
          "output_type": "stream",
          "name": "stdout",
          "text": [
            "1\n",
            "[0 1 2 3 4 5]\n",
            "[0 1 2 3 4]\n",
            "[0 2 4 6 8]\n",
            "[1 3 5 7 9]\n",
            "[1 3 5]\n",
            "[7 8]\n",
            "[0 1 2 3 4 5 6]\n",
            "[7 6 5 4 3]\n",
            "[]\n",
            "[5 6 7 8 9]\n",
            "[[3 4 5]\n",
            " [6 7 8]]\n",
            "[[0 1 2]\n",
            " [3 4 5]\n",
            " [6 7 8]]\n",
            "[[0 1]\n",
            " [3 4]]\n",
            "[[2 1 0]\n",
            " [5 4 3]\n",
            " [8 7 6]]\n",
            "[[0 1 2]\n",
            " [3 4 5]\n",
            " [6 7 8]]\n",
            "[3 4 5]\n",
            "5\n",
            "[[[ 4  5]\n",
            "  [ 8  9]]\n",
            "\n",
            " [[16 17]\n",
            "  [20 21]]]\n"
          ]
        }
      ]
    },
    {
      "cell_type": "code",
      "source": [
        "print(\"---------------------------\")\n",
        "\n",
        "arr = np.array([[1, 2], [3, 4], [5, 6]])\n",
        "print(arr)\n",
        "print(arr[[0, 1, 2], [0, 1, 0]])\n",
        "print(np.array([arr[0,0], arr[1,1], arr[2,0]]))\n",
        "\n",
        "arr = np.array([[0,   1,   2], [3,   4,   5], [6,   7,   8], [9,  10,  11]])\n",
        "rows = np.array([[0, 0], [3, 3]], dtype=np.intp)\n",
        "columns = np.array([[0, 2], [0, 2]], dtype=np.intp)\n",
        "print(arr)\n",
        "print(arr[rows, columns])"
      ],
      "metadata": {
        "colab": {
          "base_uri": "https://localhost:8080/"
        },
        "id": "eaBLLQ5FkH-T",
        "outputId": "1a2ff973-607e-4672-ddd1-c6d3cc469f3d"
      },
      "execution_count": null,
      "outputs": [
        {
          "output_type": "stream",
          "name": "stdout",
          "text": [
            "---------------------------\n",
            "[[1 2]\n",
            " [3 4]\n",
            " [5 6]]\n",
            "[1 4 5]\n",
            "[1 4 5]\n",
            "[[ 0  1  2]\n",
            " [ 3  4  5]\n",
            " [ 6  7  8]\n",
            " [ 9 10 11]]\n",
            "[[ 0  2]\n",
            " [ 9 11]]\n"
          ]
        }
      ]
    },
    {
      "cell_type": "code",
      "source": [
        "print(arr[rows[:, np.newaxis], columns])\n",
        "print(np.newaxis is None)\n",
        "arr = np.arange(25).reshape(5, 5)\n",
        "print(arr.shape)\n",
        "arr_3d = arr[np.newaxis]\n",
        "print(arr_3d.shape)\n",
        "\n",
        "arr = np.arange(10)\n",
        "print(arr.shape)\n",
        "arr_row = arr[np.newaxis, :]\n",
        "print(arr_row.shape)\n",
        "arr_col = arr[:, np.newaxis]\n",
        "print(arr_col.shape)\n",
        "\n",
        "\n",
        "arr = np.array([[0,   1,   2],\n",
        "                 [3,   4,   5],\n",
        "                 [6,   7,   8],\n",
        "                 [9,  10,  11]])\n",
        "rows = np.array([0, 3], dtype=np.intp)\n",
        "columns = np.array([0, 2], dtype=np.intp)\n",
        "print(rows[:, np.newaxis])\n",
        "print(arr[rows[:, np.newaxis], columns])\n",
        "print(rows[:, np.newaxis], columns)\n"
      ],
      "metadata": {
        "colab": {
          "base_uri": "https://localhost:8080/"
        },
        "id": "iyQcIzLblrGX",
        "outputId": "a6cc0e92-d1c1-4bc9-f3ea-dc3261a3e524"
      },
      "execution_count": null,
      "outputs": [
        {
          "output_type": "stream",
          "name": "stdout",
          "text": [
            "[[[ 0  2]\n",
            "  [ 0  2]]\n",
            "\n",
            " [[ 9 11]\n",
            "  [ 9 11]]]\n",
            "True\n",
            "(5, 5)\n",
            "(1, 5, 5)\n",
            "(10,)\n",
            "(1, 10)\n",
            "(10, 1)\n",
            "[[0]\n",
            " [3]]\n",
            "[[ 0  2]\n",
            " [ 9 11]]\n",
            "[[0]\n",
            " [3]] [0 2]\n"
          ]
        }
      ]
    },
    {
      "cell_type": "code",
      "source": [
        "arr1= np.array([1, 2, 3, 4, 5])\n",
        "arr2 = np.array([11, 12, 13])\n",
        "arr1_nx = arr1[:, np.newaxis]\n",
        "arr2_nx = arr2[:, np.newaxis]\n",
        "print(arr1_nx)\n",
        "print(arr2_nx)\n",
        "print(arr1_nx + arr2)\n",
        "print(arr2_nx + arr1)\n",
        "\n",
        "\n",
        "arr = np.arange(10).reshape(2, 5)\n",
        "print(arr)\n",
        "ix_ms = np.ix_([0, 1], [2, 4])\n",
        "print(ix_ms)\n",
        "print(ix_ms[0].shape, ix_ms[1].shape)\n",
        "print(arr[ix_ms])\n",
        "\n",
        "\n",
        "\n",
        "ix_ms = np.ix_([True, True], [2, 4])\n",
        "print(ix_ms)\n",
        "print(arr[ix_ms])\n",
        "ix_ms = np.ix_([True, True], [False, False, True, False, True])\n",
        "print(ix_ms)\n",
        "\n",
        "print(arr[ix_ms])"
      ],
      "metadata": {
        "colab": {
          "base_uri": "https://localhost:8080/"
        },
        "id": "TMvOHGNhnLhA",
        "outputId": "496c3a0f-62dd-4bee-a88e-ccd875c48c82"
      },
      "execution_count": null,
      "outputs": [
        {
          "output_type": "stream",
          "name": "stdout",
          "text": [
            "[[1]\n",
            " [2]\n",
            " [3]\n",
            " [4]\n",
            " [5]]\n",
            "[[11]\n",
            " [12]\n",
            " [13]]\n",
            "[[12 13 14]\n",
            " [13 14 15]\n",
            " [14 15 16]\n",
            " [15 16 17]\n",
            " [16 17 18]]\n",
            "[[12 13 14 15 16]\n",
            " [13 14 15 16 17]\n",
            " [14 15 16 17 18]]\n",
            "[[0 1 2 3 4]\n",
            " [5 6 7 8 9]]\n",
            "(array([[0],\n",
            "       [1]]), array([[2, 4]]))\n",
            "(2, 1) (1, 2)\n",
            "[[2 4]\n",
            " [7 9]]\n",
            "(array([[0],\n",
            "       [1]]), array([[2, 4]]))\n",
            "[[2 4]\n",
            " [7 9]]\n",
            "(array([[0],\n",
            "       [1]]), array([[2, 4]]))\n",
            "[[2 4]\n",
            " [7 9]]\n"
          ]
        }
      ]
    },
    {
      "cell_type": "code",
      "source": [
        "\n",
        "arr = np.arange(12).reshape(3,4)\n",
        "ind = arr>5\n",
        "print(ind)\n",
        "print(ind[:,1])\n",
        "print(arr[ind[:,1]])\n",
        "\n",
        "\n",
        "arr = np.array([[1, 0, 0], [0, 2, 0], [1, 1, 0]])\n",
        "print(arr)\n",
        "print(np.nonzero(arr))\n",
        "print(np.transpose(np.nonzero(arr)))\n",
        "print(arr[np.nonzero(arr)])\n",
        "\n",
        "arr = np.arange(9).reshape(3,3)\n",
        "print(arr > 3)\n",
        "print(np.nonzero(arr > 3))\n",
        "print((arr > 3).nonzero())\n",
        "\n",
        "\n",
        "arr = np.arange(4).reshape((2, 2))\n",
        "print(arr)\n",
        "print(np.transpose(arr))\n",
        "arr1 = np.ones((1, 2, 3))\n",
        "print(np.transpose(arr1, (1, 0, 2)).shape)\n",
        "\n",
        "a = [1, 2, 3]\n",
        "b = np.array(a)\n",
        "print(b)\n",
        "print(b.transpose())\n",
        "arr = np.array([a])\n",
        "print(arr.T)"
      ],
      "metadata": {
        "colab": {
          "base_uri": "https://localhost:8080/"
        },
        "id": "YuzFoI1Tpfu_",
        "outputId": "c38e7b58-adc7-4ce9-a1bb-5dc5000ef883"
      },
      "execution_count": null,
      "outputs": [
        {
          "output_type": "stream",
          "name": "stdout",
          "text": [
            "[[False False False False]\n",
            " [False False  True  True]\n",
            " [ True  True  True  True]]\n",
            "[False False  True]\n",
            "[[ 8  9 10 11]]\n",
            "[[1 0 0]\n",
            " [0 2 0]\n",
            " [1 1 0]]\n",
            "(array([0, 1, 2, 2]), array([0, 1, 0, 1]))\n",
            "[[0 0]\n",
            " [1 1]\n",
            " [2 0]\n",
            " [2 1]]\n",
            "[1 2 1 1]\n",
            "[[False False False]\n",
            " [False  True  True]\n",
            " [ True  True  True]]\n",
            "(array([1, 1, 2, 2, 2]), array([1, 2, 0, 1, 2]))\n",
            "(array([1, 1, 2, 2, 2]), array([1, 2, 0, 1, 2]))\n",
            "[[0 1]\n",
            " [2 3]]\n",
            "[[0 2]\n",
            " [1 3]]\n",
            "(2, 1, 3)\n",
            "[1 2 3]\n",
            "[1 2 3]\n",
            "[[1]\n",
            " [2]\n",
            " [3]]\n"
          ]
        }
      ]
    },
    {
      "cell_type": "code",
      "source": [],
      "metadata": {
        "id": "MjDT8I1vrfLA"
      },
      "execution_count": null,
      "outputs": []
    }
  ]
}