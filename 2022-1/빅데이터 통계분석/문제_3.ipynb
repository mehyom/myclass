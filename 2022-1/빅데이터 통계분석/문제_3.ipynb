{
  "nbformat": 4,
  "nbformat_minor": 0,
  "metadata": {
    "colab": {
      "provenance": [],
      "collapsed_sections": []
    },
    "kernelspec": {
      "name": "python3",
      "display_name": "Python 3"
    },
    "language_info": {
      "name": "python"
    }
  },
  "cells": [
    {
      "cell_type": "code",
      "execution_count": null,
      "metadata": {
        "colab": {
          "base_uri": "https://localhost:8080/"
        },
        "id": "fWJVTvF8PYi3",
        "outputId": "b3e8205b-3840-4eb6-8545-6656c33112ed"
      },
      "outputs": [
        {
          "output_type": "stream",
          "name": "stdout",
          "text": [
            "Mounted at /content/gdrive\n"
          ]
        }
      ],
      "source": [
        "from google.colab import drive\n",
        "drive.mount('/content/gdrive')"
      ]
    },
    {
      "cell_type": "code",
      "source": [
        "documents = []\n",
        "for i in range(10):\n",
        "    i = str(i+1)\n",
        "    r = open('/content/gdrive/My Drive/2022-1 빅데이터 통계분석/뉴스'+i+'.txt', mode='r')\n",
        "    text = r.read()\n",
        "    r.close()\n",
        "    documents.append(text)"
      ],
      "metadata": {
        "id": "JVT6BfYYPmRf"
      },
      "execution_count": null,
      "outputs": []
    },
    {
      "cell_type": "code",
      "source": [
        "from sklearn.feature_extraction.text import CountVectorizer\n",
        "from sklearn.decomposition import LatentDirichletAllocation\n",
        "import numpy as np\n",
        "import matplotlib.pyplot as plt\n",
        "plt.rc('font', family='NanumBarunGothic')\n",
        "!pip install konlpy \n",
        "from konlpy.tag import Komoran\n",
        "\n",
        "komoran = Komoran()\n",
        "documents_preprocessed = [' '.join(komoran.nouns(text)) for text in documents]"
      ],
      "metadata": {
        "colab": {
          "base_uri": "https://localhost:8080/"
        },
        "id": "7mgaJTBgPwgH",
        "outputId": "7a31e902-44e3-4105-ec30-31d2c5ad54d2"
      },
      "execution_count": null,
      "outputs": [
        {
          "output_type": "stream",
          "name": "stdout",
          "text": [
            "Looking in indexes: https://pypi.org/simple, https://us-python.pkg.dev/colab-wheels/public/simple/\n",
            "Collecting konlpy\n",
            "  Downloading konlpy-0.6.0-py2.py3-none-any.whl (19.4 MB)\n",
            "\u001b[K     |████████████████████████████████| 19.4 MB 4.9 MB/s \n",
            "\u001b[?25hCollecting JPype1>=0.7.0\n",
            "  Downloading JPype1-1.4.0-cp37-cp37m-manylinux_2_5_x86_64.manylinux1_x86_64.whl (453 kB)\n",
            "\u001b[K     |████████████████████████████████| 453 kB 57.7 MB/s \n",
            "\u001b[?25hRequirement already satisfied: numpy>=1.6 in /usr/local/lib/python3.7/dist-packages (from konlpy) (1.21.6)\n",
            "Requirement already satisfied: lxml>=4.1.0 in /usr/local/lib/python3.7/dist-packages (from konlpy) (4.2.6)\n",
            "Requirement already satisfied: typing-extensions in /usr/local/lib/python3.7/dist-packages (from JPype1>=0.7.0->konlpy) (4.1.1)\n",
            "Installing collected packages: JPype1, konlpy\n",
            "Successfully installed JPype1-1.4.0 konlpy-0.6.0\n"
          ]
        }
      ]
    },
    {
      "cell_type": "code",
      "source": [
        "nouns = [komoran.nouns(text) for text in documents]\n",
        "noun = []\n",
        "for i, v in enumerate(nouns):\n",
        "      for n in v:\n",
        "          if len(n)>1:\n",
        "              noun.append(n)\n",
        "print(noun)"
      ],
      "metadata": {
        "colab": {
          "base_uri": "https://localhost:8080/"
        },
        "id": "5mftlDEQRf4v",
        "outputId": "35f069b3-e122-4f5c-fa2d-384171f31bc8"
      },
      "execution_count": null,
      "outputs": [
        {
          "output_type": "stream",
          "name": "stdout",
          "text": [
            "['러시아 국방부', '우크라이나', '가담', '참전', '한국인', '러시아 국방부', '현지', '시간', '우크라이나', '외국', '용병', '현황', '자료', '한국', '국적', '우크라이나', '사망', '우크라이나', '우크라이나', '입출국', '자와', '사망자', '잔류', '숫자', '이상', '내용', '공개', '외교부', '러시아 국방부', '공개', '자료', '확보', '사실', '관계', '확인', '4월', '정부', '의용군', '참가', '국민', '사망자', '첩보', '입수', '현재', '사망자', '확인', '정부', '여행', '금지', '조치', '우크라이나', '무단', '출국', '현지', '의용군', '참여', '이근', '해군', '특수', '전단', '대위', '지난달', '귀국', '현재', '우크라이나', '국제', '용구', '개국', '추정', '외신', '현지', '시간', '존슨', '총리', '이우', '로디', '미르', '렌스', '우크라이나', '대통령', '회담', '공동', '기자회견', '우크라이나', '전폭', '의사', '재확인', '존슨', '총리', '이우', '방문', '2월', '러시아', '우크라이나', '침공', '이후', '4월', '이우', '렌스', '대통령', '거리', '걷기', '존슨', '총리', '오늘', '방문', '메시지', '궁극', '승리', '존슨', '총리', '보궐', '선거', '다음', '주인', '이날', '행사', '참석', '일정', '취소', '이우', '방문', '유럽', '출장', '귀국', '이재용', '삼성전자', '부회장', '현지', '우크라이나', '전쟁', '여파', '실감', '기술', '기술', '기술', '강조', '지정학', '위기', '봉쇄', '여파', '가중', '글로벌', '경기', '침체', '우려', '돌파', '근본', '해법', '격차', '기술', '경쟁력', '풀이', '이날', '오전', '전세기', '이용', '서울', '강서구', '서울', '김포', '비즈니스', '항공', '센터', '귀국', '부회장', '출장', '소감', '취재진', '질문', '말문', '부회장', '노타이', '짙은', '남색', '정장', '차림', '부회장', '이번', '유럽', '출장', '소감', '한국', '유럽', '러시', '아랑', '우크라이나', '전쟁', '시장', '가지', '혼동', '변화', '불확실성', '사람', '조직', '예측', '변화', '적응', '문화', '생각', '기술', '기술', '기술', '국내외', '환경', '변화', '격차', '기술', '경쟁력', '강조', '유럽연합', '집행부', '집행', '위원회', '우크라이나', '가입', '후보국', '지위', '부여', '추천', '우르', '줄라', '데어', '라이', '집행', '위원장', '현지', '시간', '벨기에', '브뤼셀', '기자회견', '집행위', '우크라이나', '가입', '신청', '검토', '결과', '결론', '데어', '라이', '집행', '위원장', '우크라이나', '유럽', '가치', '기준', '부응', '포부', '신념', '설명', '우크라이나인', '유럽', '시각', '목숨', '준비', '있다', '유럽', '강조', '우크라이나', '러시아', '침공', '이후', '나흘', '만인', '2월 28일', '가입', '신청', '정상', '회의', '회원국', '만장일치', '승인', '후보국', '지위', '부여', '정식', '가입', '협상', '시작', '대표', '가상화', '폐인', '비트코인', '가치', '12월', '이후', '처음', '달러', '아래', '블룸버그', '통신', '비트코인', '가격', '오후', '달러', '기록', '달러', '지선', '붕괴', '향후', '도세', '전망', '전문가', '비트코인', '가격', '급락', '원인', '글로벌', '경기', '침체', '우려', '지적', '투자', '업체', '오와', '선임', '시장', '분석가', '에드워드', '모야', '경기', '침체', '우려', '위험', '자산', '선호', '심리', '위축', '때문', '가상', '화폐', '거래자', '비트코인', '가격', '조심', '설명', '가상', '화폐', '거래소', '설립자', '바비', '블룸버그', '비트코인', '달러', '지선', '붕괴', '경우', '도세', '비트코인', '하락', '베팅', '투자자', '비트코인', '담보', '은행', '대출', '기업', '마진', '추가', '증거금', '요구', '사태', '직면', '위기', '국내', '가상', '화폐', '시장', '비트코인', '가격', '급락', '만원', '거래', '오후', '기준', '가상', '화폐', '거래소', '비트', '비트코인', '가격', '시간', '시간', '가상', '화폐', '시가총액', '하락', '만원', '비트코인', '가격', '미국', '5월', '소비자', '물가지수', '작년', '동월', '대비', '상승', '고치', '기록', '이후', '하락세', '미국', '물가', '충격', '미국', '연방준비제도', '연준', '긴축', '강도', '전망', '위험', '자산', '투자', '심리', '위축', '영향', '최근', '가상', '화폐', '시장', '발생', '가지', '악재', '엘살바도르', '정부', '암호화폐', '비트코인', '투자', '실패', '재정난', '심화', '지난해', '국가', '법정', '화폐', '비트코인', '채택', '가격', '폭락', '달러', '손실', '기록', '분석', '현지', '시간', '블룸버그', '엘살바도르', '정부', '국고', '매수', '비트코인', '가치', '토막', '보도', '엘살바도르', '지난해', '지금', '달러', '비트코인', '매수', '이날', '기준', '비트코인', '평가', '손실액', '달러', '추산', '투자', '손실', '나이', '이브', '부케', '엘살바도르', '대통령', '사진', '의치', '모습', '암호화폐', '전문', '매체', '비트코인', '매거진', '기사', '공유', '엘살바도르', '국가', '재정', '손실', '기록', '내용', '비트코인', '매수', '추경호', '부총리', '기획', '정부', '장관', '경제', '물가', '경기', '둔화', '우려', '확대', '복합', '위기', '상황', '직면', '있다', '부총리', '이날', '오후', '정부서울청사', '정부', '경제', '정책', '방향', '발표', '부총리', '우크라이나', '전쟁', '공급', '차질', '해외', '원자재', '가격', '급등', '국내', '물가', '전이', '확산', '가운데', '주요국', '통화', '긴축', '가속', '금융', '외환', '시장', '불안도', '고조', '있다', '수출', '둔화', '투자', '부진', '가시', '비상', '경제', '국면', '진입', '경제', '어려움', '이면', '대외', '요인', '과거', '누적', '경제', '근본', '문제', '작용', '있다', '정부', '주도', '재정', '경제', '운용', '과도', '규제', '기업', '국내', '투자가', '위축', '해외', '투자', '급증', '민간', '활력', '저하', '민간', '성장', '일자리', '출력', '약화', '평가', '재닛 옐런', '미국', '재무', '장관', '미국', '올해', '평균', '물가', '상승', '기존', '예상', '상회', '우려', '현지', '시간', '월스트리트저널', '파이낸셜타임스', '외신', '이날', '상원', '금융', '위원회', '출석', '내년', '예산안', '증언', '자리', '40년', '최고', '수준', '기록', '미국', '인플레이션', '수준', '계속', '유지', '인플레이션', '하강', '시작', '희망', '인플레이션', '계속', '수준', '지속', '예상', '있다', '행정부', '평균', '물가', '상승', '전망', '실제', '상회', '비관', '11월 8일', '중간', '선거', '가운데', '조 바이든', '행정부', '40년', '최고', '수준', '물가', '오름세', '고전', '6월 10일', '미국', '고용', '통계', '5월', '미국', '소비자', '물가지수', '전년', '동월', '대비', '발표', '지난달', '전문가', '인플레이션', '정점', '예상', '예상', '결과', '글로벌', '주가', '폭락', '인플레이션', '원인', '공급', '슈가', '러시아', '우크라이나', '침공', '무역', '기술', '분쟁', '수출', '길이', '제품', '생산', '필요', '부품', '공급', '문제', '코로나', '19', '사태', '글로벌', '플라이', '체인', '공급', '영향', '플라이', '체인', '제품', '시장', '공급', '슈가', '인플레이션', '영향', '수요', '주목', '물가', '가격', '가격', '수요와 공급', '결정', '공급', '부족', '수요', '물가', '상승', '견인']\n"
          ]
        }
      ]
    },
    {
      "cell_type": "code",
      "source": [
        "count_vectorizer = CountVectorizer(min_df=3)\n",
        "feat_vect = count_vectorizer.fit_transform(documents_preprocessed)\n",
        "feature_names = count_vectorizer.get_feature_names_out()\n",
        "print('단어 목록:', feature_names)\n",
        "print('문서단어행렬 모양 (문서의 수, 단어의 수):', feat_vect.shape)\n",
        "print(feat_vect.toarray())"
      ],
      "metadata": {
        "colab": {
          "base_uri": "https://localhost:8080/"
        },
        "id": "rIhC6-bNSDIg",
        "outputId": "19f5fbee-49ea-4412-e08a-df35badf8604"
      },
      "execution_count": null,
      "outputs": [
        {
          "output_type": "stream",
          "name": "stdout",
          "text": [
            "단어 목록: ['가격' '가치' '경기' '글로벌' '기록' '기준' '러시아' '물가' '미국' '비트코인' '상승' '시간' '시장' '오후'\n",
            " '우려' '우크라이나' '위기' '위축' '이날' '이후' '있다' '전망' '정부' '침공' '투자' '현지' '화폐']\n",
            "문서단어행렬 모양 (문서의 수, 단어의 수): (10, 27)\n",
            "[[0 0 0 0 0 0 3 0 0 0 0 1 0 0 0 7 0 0 0 0 0 0 2 0 0 2 0]\n",
            " [0 0 0 0 0 0 1 0 0 0 0 1 0 0 0 3 0 0 1 1 0 0 0 1 0 1 0]\n",
            " [0 0 1 1 0 0 0 0 0 0 0 0 1 0 1 2 1 0 1 0 0 0 0 0 0 1 0]\n",
            " [0 1 0 0 0 1 1 0 0 0 0 1 0 0 0 4 0 0 0 1 1 0 0 1 0 1 0]\n",
            " [3 1 2 1 1 0 0 0 0 7 0 0 1 1 2 0 1 1 0 1 0 1 0 0 1 0 2]\n",
            " [3 0 0 0 1 1 0 1 3 3 1 2 2 1 0 0 0 1 0 1 0 1 0 0 1 0 4]\n",
            " [1 1 0 0 2 1 0 0 0 7 0 1 0 0 0 0 0 0 1 0 0 0 2 0 2 1 1]\n",
            " [1 0 1 0 0 0 0 2 0 0 0 0 1 1 1 1 1 1 1 0 3 0 3 0 2 0 0]\n",
            " [0 0 0 0 1 0 0 3 3 0 2 1 0 0 1 0 0 0 1 0 1 1 0 0 0 1 0]\n",
            " [2 0 0 2 0 0 1 2 2 0 1 0 1 0 0 1 0 0 0 0 0 0 0 1 0 0 0]]\n"
          ]
        }
      ]
    },
    {
      "cell_type": "code",
      "source": [
        "lda = LatentDirichletAllocation(n_components=3)\n",
        "lda.fit(feat_vect)"
      ],
      "metadata": {
        "colab": {
          "base_uri": "https://localhost:8080/"
        },
        "id": "lqXGIRqJTC2g",
        "outputId": "86e46aef-8803-4fdb-e129-ea523d8014f4"
      },
      "execution_count": null,
      "outputs": [
        {
          "output_type": "execute_result",
          "data": {
            "text/plain": [
              "LatentDirichletAllocation(n_components=3)"
            ]
          },
          "metadata": {},
          "execution_count": 25
        }
      ]
    },
    {
      "cell_type": "code",
      "source": [
        "topic_word_dist = lda.components_ / lda.components_.sum(axis=1)[:, np.newaxis]\n",
        "doc_topic_dist = lda.transform(feat_vect)"
      ],
      "metadata": {
        "id": "lYX2lowWTWS4"
      },
      "execution_count": null,
      "outputs": []
    },
    {
      "cell_type": "code",
      "source": [
        "print(doc_topic_dist[2,:])"
      ],
      "metadata": {
        "colab": {
          "base_uri": "https://localhost:8080/"
        },
        "id": "DXoVF9dHWtdC",
        "outputId": "1b89e2cc-0a78-4418-d45f-7c69a048dd4f"
      },
      "execution_count": null,
      "outputs": [
        {
          "output_type": "stream",
          "name": "stdout",
          "text": [
            "[0.34287589 0.62002713 0.03709698]\n"
          ]
        }
      ]
    },
    {
      "cell_type": "code",
      "source": [
        "sorted_topic_dist = np.argsort(topic_word_dist[0,:])\n",
        "topic_words = np.array(feature_names)[sorted_topic_dist]\n",
        "topic_probs = np.array(topic_word_dist[0,:])[sorted_topic_dist]\n",
        "topic_words = topic_words[:-3:-1]\n",
        "topic_probs = topic_probs[:-3:-1]\n",
        "print('중요 단어 1: {}    중요 단어 1의 확률: {}\\n중요 단어 2: {}    중요 단어 2의 확률: {}\\n'.\n",
        "      format(topic_words[0], round(topic_probs[0],4), topic_words[1], round(topic_probs[1],4)))"
      ],
      "metadata": {
        "colab": {
          "base_uri": "https://localhost:8080/"
        },
        "id": "vXK-xNH1TdQo",
        "outputId": "fff2336d-2ded-447d-e87e-770ab062bbaa"
      },
      "execution_count": null,
      "outputs": [
        {
          "output_type": "stream",
          "name": "stdout",
          "text": [
            "중요 단어 1: 우크라이나    중요 단어 1의 확률: 0.3496\n",
            "중요 단어 2: 러시아    중요 단어 2의 확률: 0.1206\n",
            "\n"
          ]
        }
      ]
    },
    {
      "cell_type": "code",
      "source": [],
      "metadata": {
        "id": "GbQQR8D8UFGI"
      },
      "execution_count": null,
      "outputs": []
    }
  ]
}